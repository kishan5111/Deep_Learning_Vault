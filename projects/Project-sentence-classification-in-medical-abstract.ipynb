{
  "metadata": {
    "kernelspec": {
      "display_name": "Python 3",
      "name": "python3"
    },
    "language_info": {
      "pygments_lexer": "ipython3",
      "nbconvert_exporter": "python",
      "version": "3.6.4",
      "file_extension": ".py",
      "codemirror_mode": {
        "name": "ipython",
        "version": 3
      },
      "name": "python",
      "mimetype": "text/x-python"
    },
    "colab": {
      "provenance": [],
      "gpuType": "T4"
    },
    "accelerator": "GPU"
  },
  "nbformat_minor": 0,
  "nbformat": 4,
  "cells": [
    {
      "cell_type": "markdown",
      "source": [
        "# Project: SkimLit 📄🔥\n",
        "Skimming literature\n",
        "\n",
        "The purpose of this notebook is to build an NLP model to make reading medical abstracts easier.\n",
        "\n",
        "More specificially, we're going to be replicating the deep learning model behind the 2017 paper [PubMed 200k RCT: a Dataset for Sequenctial Sentence Classification in Medical Abstracts.](https://arxiv.org/abs/1710.06071)\n",
        "\n",
        "When it was released, the paper presented a new dataset called PubMed 200k RCT which consists of ~200,000 labelled Randomized Controlled Trial (RCT) abstracts.\n",
        "\n",
        "The goal of the dataset was to explore the ability for NLP models to classify sentences which appear in sequential order.\n",
        "\n",
        "The paper we're replicating(the source of the dataset that we'll be using) is available here: https://arxiv.org/abs/1710.06071\n",
        "\n",
        "And reading through the paper above, we see that the model architecture that they use to achieve their best reuslts is available at: https://arxiv.org/abs/1612.05251\n",
        "\n"
      ],
      "metadata": {
        "id": "bxwqLldZQ0s7"
      }
    },
    {
      "cell_type": "markdown",
      "source": [
        "## Confirm access to GPU\n"
      ],
      "metadata": {
        "id": "aRo6dkO5SZOq"
      }
    },
    {
      "cell_type": "code",
      "source": [
        "!nvidia -smi -L"
      ],
      "metadata": {
        "id": "6G6n7GQYSrCm",
        "execution": {
          "iopub.status.busy": "2023-08-05T05:19:06.912881Z",
          "iopub.execute_input": "2023-08-05T05:19:06.913289Z",
          "iopub.status.idle": "2023-08-05T05:19:07.942733Z",
          "shell.execute_reply.started": "2023-08-05T05:19:06.913250Z",
          "shell.execute_reply": "2023-08-05T05:19:07.941383Z"
        },
        "trusted": true
      },
      "execution_count": null,
      "outputs": []
    },
    {
      "cell_type": "markdown",
      "source": [
        "## Get data\n",
        "\n",
        "Since we'll be replicating the paper above(Pubmed 200k RCT). let's download the dataset they used.\n",
        "\n",
        "We can do so from the authors Github: https://github.com/Franck-Dernoncourt/pubmed-rct\n"
      ],
      "metadata": {
        "id": "6U8nxP58SuLJ"
      }
    },
    {
      "cell_type": "code",
      "source": [
        "!git clone https://github.com/Franck-Dernoncourt/pubmed-rct\n",
        "!ls pubmed-rct"
      ],
      "metadata": {
        "id": "po7dqZSWTlFz",
        "outputId": "ce5a075f-f56a-46ef-ff51-a62a659f6628",
        "execution": {
          "iopub.status.busy": "2023-08-05T05:19:07.945367Z",
          "iopub.execute_input": "2023-08-05T05:19:07.946090Z",
          "iopub.status.idle": "2023-08-05T05:19:09.837260Z",
          "shell.execute_reply.started": "2023-08-05T05:19:07.946045Z",
          "shell.execute_reply": "2023-08-05T05:19:09.836062Z"
        },
        "trusted": true,
        "colab": {
          "base_uri": "https://localhost:8080/"
        }
      },
      "execution_count": 1,
      "outputs": [
        {
          "output_type": "stream",
          "name": "stdout",
          "text": [
            "Cloning into 'pubmed-rct'...\n",
            "remote: Enumerating objects: 33, done.\u001b[K\n",
            "remote: Counting objects: 100% (8/8), done.\u001b[K\n",
            "remote: Compressing objects: 100% (3/3), done.\u001b[K\n",
            "remote: Total 33 (delta 5), reused 5 (delta 5), pack-reused 25\u001b[K\n",
            "Receiving objects: 100% (33/33), 177.08 MiB | 39.57 MiB/s, done.\n",
            "Resolving deltas: 100% (12/12), done.\n",
            "PubMed_200k_RCT\n",
            "PubMed_200k_RCT_numbers_replaced_with_at_sign\n",
            "PubMed_20k_RCT\n",
            "PubMed_20k_RCT_numbers_replaced_with_at_sign\n",
            "README.md\n"
          ]
        }
      ]
    },
    {
      "cell_type": "markdown",
      "source": [
        "To begin with, the dataset we're going to be focused on is `PubMed_20k_RCT_numbers_replaced_with_at_sign`.\n",
        "\n",
        "Why this one?\n",
        "\n",
        "Rather than working with the whole 200k dataset, we'll keep our experiments quick by starting with a smaller subset. We could've chosen the dataset with numbers instead of having them replaced with @ but we didn't.\n",
        "\n",
        "Let's check the file contents."
      ],
      "metadata": {
        "id": "EJ9rrXt5YWiI"
      }
    },
    {
      "cell_type": "code",
      "source": [
        "# Check what files are in the Pubmed_20k dataset\n",
        "!ls pubmed-rct/PubMed_20k_RCT_numbers_replaced_with_at_sign/"
      ],
      "metadata": {
        "id": "HbykhC4DUMJ_",
        "outputId": "7e41a65b-6ad7-4e06-a5af-e4408f1b02d6",
        "execution": {
          "iopub.status.busy": "2023-08-05T05:19:09.839093Z",
          "iopub.execute_input": "2023-08-05T05:19:09.839709Z",
          "iopub.status.idle": "2023-08-05T05:19:10.779555Z",
          "shell.execute_reply.started": "2023-08-05T05:19:09.839669Z",
          "shell.execute_reply": "2023-08-05T05:19:10.778241Z"
        },
        "trusted": true,
        "colab": {
          "base_uri": "https://localhost:8080/"
        }
      },
      "execution_count": 2,
      "outputs": [
        {
          "output_type": "stream",
          "name": "stdout",
          "text": [
            "dev.txt  test.txt  train.txt\n"
          ]
        }
      ]
    },
    {
      "cell_type": "markdown",
      "source": [
        "Beautiful, looks like we've got three separate text files:\n",
        "\n",
        "* `train.txt` - training samples.\n",
        "* `dev.txt` - dev is short for development set, which is another name for validation set (in our case, we'll be using and referring to this file as our validation set).\n",
        "* `test.txt` - test samples."
      ],
      "metadata": {
        "id": "G4wxncUeYfCO"
      }
    },
    {
      "cell_type": "markdown",
      "source": [
        "To save ourselves typing out the filepath to our target directory each time, let's turn it into a variable."
      ],
      "metadata": {
        "id": "Q4EHgf0EYrGb"
      }
    },
    {
      "cell_type": "code",
      "source": [
        "# Start our experiments using the 20k dataset with numbers replaced by \"@\" sign\n",
        "data_dir = \"pubmed-rct/PubMed_20k_RCT_numbers_replaced_with_at_sign/\""
      ],
      "metadata": {
        "id": "vNBwUv09VBFd",
        "execution": {
          "iopub.status.busy": "2023-08-05T05:21:08.634467Z",
          "iopub.execute_input": "2023-08-05T05:21:08.634835Z",
          "iopub.status.idle": "2023-08-05T05:21:08.639246Z",
          "shell.execute_reply.started": "2023-08-05T05:21:08.634804Z",
          "shell.execute_reply": "2023-08-05T05:21:08.638237Z"
        },
        "trusted": true
      },
      "execution_count": 13,
      "outputs": []
    },
    {
      "cell_type": "code",
      "source": [
        "# Check all of the filenames in the target directory\n",
        "import os\n",
        "filenames = [data_dir + filename for filename in os.listdir(data_dir)]\n",
        "filenames"
      ],
      "metadata": {
        "id": "Lj_fVWDPWOBU",
        "outputId": "dd711020-5142-4868-f201-d8061c065221",
        "execution": {
          "iopub.status.busy": "2023-08-05T05:21:09.180824Z",
          "iopub.execute_input": "2023-08-05T05:21:09.181244Z",
          "iopub.status.idle": "2023-08-05T05:21:09.189110Z",
          "shell.execute_reply.started": "2023-08-05T05:21:09.181205Z",
          "shell.execute_reply": "2023-08-05T05:21:09.188000Z"
        },
        "trusted": true,
        "colab": {
          "base_uri": "https://localhost:8080/"
        }
      },
      "execution_count": 14,
      "outputs": [
        {
          "output_type": "execute_result",
          "data": {
            "text/plain": [
              "['pubmed-rct/PubMed_20k_RCT_numbers_replaced_with_at_sign/dev.txt',\n",
              " 'pubmed-rct/PubMed_20k_RCT_numbers_replaced_with_at_sign/train.txt',\n",
              " 'pubmed-rct/PubMed_20k_RCT_numbers_replaced_with_at_sign/test.txt']"
            ]
          },
          "metadata": {},
          "execution_count": 14
        }
      ]
    },
    {
      "cell_type": "markdown",
      "source": [
        "## Preprocess the data\n",
        "\n",
        "Now we've got some text data, it's time to become one with it.\n",
        "\n",
        "And one the best ways to become one with the data is to..,\n",
        "> Visulize..Visualize..Visualize\n",
        "\n",
        "So with that in the mind, let's write a function to read in all of the lines of a target text file"
      ],
      "metadata": {
        "id": "BfSJ_qemWlf9"
      }
    },
    {
      "cell_type": "code",
      "source": [
        "# Create a function to read the lines of a document\n",
        "def get_lines(filename):\n",
        "  \"\"\"\n",
        "  Reads filename (a text filename) and returns the lines of text as a list.\n",
        "\n",
        "  Args:\n",
        "    filename: a string containing the target filepath.\n",
        "\n",
        "  Returns:\n",
        "    A list of strings with one string per line from the target filename.\n",
        "  \"\"\"\n",
        "  with open(filename, \"r\") as f:\n",
        "    return f.readlines()"
      ],
      "metadata": {
        "id": "UMK9ilpSXk_l",
        "execution": {
          "iopub.status.busy": "2023-08-05T05:21:11.623086Z",
          "iopub.execute_input": "2023-08-05T05:21:11.623815Z",
          "iopub.status.idle": "2023-08-05T05:21:11.631090Z",
          "shell.execute_reply.started": "2023-08-05T05:21:11.623781Z",
          "shell.execute_reply": "2023-08-05T05:21:11.628334Z"
        },
        "trusted": true
      },
      "execution_count": 15,
      "outputs": []
    },
    {
      "cell_type": "code",
      "source": [
        "#Let's read in the training lines\n",
        "train_lines = get_lines(data_dir+\"train.txt\") #Read the lines with the training files\n",
        "train_lines[:20]"
      ],
      "metadata": {
        "id": "g4QizVfSYaRE",
        "outputId": "93d159ce-2d1c-45da-b79c-8002e167af41",
        "execution": {
          "iopub.status.busy": "2023-08-05T05:21:12.610493Z",
          "iopub.execute_input": "2023-08-05T05:21:12.610850Z",
          "iopub.status.idle": "2023-08-05T05:21:12.681142Z",
          "shell.execute_reply.started": "2023-08-05T05:21:12.610821Z",
          "shell.execute_reply": "2023-08-05T05:21:12.680030Z"
        },
        "trusted": true,
        "colab": {
          "base_uri": "https://localhost:8080/"
        }
      },
      "execution_count": 16,
      "outputs": [
        {
          "output_type": "execute_result",
          "data": {
            "text/plain": [
              "['###24293578\\n',\n",
              " 'OBJECTIVE\\tTo investigate the efficacy of @ weeks of daily low-dose oral prednisolone in improving pain , mobility , and systemic low-grade inflammation in the short term and whether the effect would be sustained at @ weeks in older adults with moderate to severe knee osteoarthritis ( OA ) .\\n',\n",
              " 'METHODS\\tA total of @ patients with primary knee OA were randomized @:@ ; @ received @ mg/day of prednisolone and @ received placebo for @ weeks .\\n',\n",
              " 'METHODS\\tOutcome measures included pain reduction and improvement in function scores and systemic inflammation markers .\\n',\n",
              " 'METHODS\\tPain was assessed using the visual analog pain scale ( @-@ mm ) .\\n',\n",
              " 'METHODS\\tSecondary outcome measures included the Western Ontario and McMaster Universities Osteoarthritis Index scores , patient global assessment ( PGA ) of the severity of knee OA , and @-min walk distance ( @MWD ) .\\n',\n",
              " 'METHODS\\tSerum levels of interleukin @ ( IL-@ ) , IL-@ , tumor necrosis factor ( TNF ) - , and high-sensitivity C-reactive protein ( hsCRP ) were measured .\\n',\n",
              " 'RESULTS\\tThere was a clinically relevant reduction in the intervention group compared to the placebo group for knee pain , physical function , PGA , and @MWD at @ weeks .\\n',\n",
              " 'RESULTS\\tThe mean difference between treatment arms ( @ % CI ) was @ ( @-@ @ ) , p < @ ; @ ( @-@ @ ) , p < @ ; @ ( @-@ @ ) , p < @ ; and @ ( @-@ @ ) , p < @ , respectively .\\n',\n",
              " 'RESULTS\\tFurther , there was a clinically relevant reduction in the serum levels of IL-@ , IL-@ , TNF - , and hsCRP at @ weeks in the intervention group when compared to the placebo group .\\n',\n",
              " 'RESULTS\\tThese differences remained significant at @ weeks .\\n',\n",
              " 'RESULTS\\tThe Outcome Measures in Rheumatology Clinical Trials-Osteoarthritis Research Society International responder rate was @ % in the intervention group and @ % in the placebo group ( p < @ ) .\\n',\n",
              " 'CONCLUSIONS\\tLow-dose oral prednisolone had both a short-term and a longer sustained effect resulting in less knee pain , better physical function , and attenuation of systemic inflammation in older patients with knee OA ( ClinicalTrials.gov identifier NCT@ ) .\\n',\n",
              " '\\n',\n",
              " '###24854809\\n',\n",
              " 'BACKGROUND\\tEmotional eating is associated with overeating and the development of obesity .\\n',\n",
              " 'BACKGROUND\\tYet , empirical evidence for individual ( trait ) differences in emotional eating and cognitive mechanisms that contribute to eating during sad mood remain equivocal .\\n',\n",
              " 'OBJECTIVE\\tThe aim of this study was to test if attention bias for food moderates the effect of self-reported emotional eating during sad mood ( vs neutral mood ) on actual food intake .\\n',\n",
              " 'OBJECTIVE\\tIt was expected that emotional eating is predictive of elevated attention for food and higher food intake after an experimentally induced sad mood and that attentional maintenance on food predicts food intake during a sad versus a neutral mood .\\n',\n",
              " 'METHODS\\tParticipants ( N = @ ) were randomly assigned to one of the two experimental mood induction conditions ( sad/neutral ) .\\n']"
            ]
          },
          "metadata": {},
          "execution_count": 16
        }
      ]
    },
    {
      "cell_type": "code",
      "source": [
        "len(train_lines)"
      ],
      "metadata": {
        "id": "I7N68Z2CZCke",
        "outputId": "d9a9b19e-d0f8-426c-f6b0-eeae104e37f4",
        "execution": {
          "iopub.status.busy": "2023-08-05T05:21:15.366960Z",
          "iopub.execute_input": "2023-08-05T05:21:15.367350Z",
          "iopub.status.idle": "2023-08-05T05:21:15.374517Z",
          "shell.execute_reply.started": "2023-08-05T05:21:15.367318Z",
          "shell.execute_reply": "2023-08-05T05:21:15.373525Z"
        },
        "trusted": true,
        "colab": {
          "base_uri": "https://localhost:8080/"
        }
      },
      "execution_count": 17,
      "outputs": [
        {
          "output_type": "execute_result",
          "data": {
            "text/plain": [
              "210040"
            ]
          },
          "metadata": {},
          "execution_count": 17
        }
      ]
    },
    {
      "cell_type": "markdown",
      "source": [
        "Reading the lines from the training text file results in a list of strings containing different abstract samples, the sentences in a sample along with the role the sentence plays in the abstract.\n",
        "\n",
        "The role of each sentence is prefixed at the start of each line separated by a tab (`\\t`) and each sentence finishes with a new line (`\\n`).\n",
        "\n",
        "Different abstracts are separated by abstract ID's (lines beginning with `###`) and newlines (`\\n`).\n",
        "\n",
        "Knowing this, it looks like we've got a couple of steps to do to get our samples ready to pass as training data to our future machine learning model.\n",
        "Let's think about how we want our data to look...\n",
        "\n",
        "let's try thiss...\n",
        "```\n",
        "[{'line_number': 0,\n",
        "  'target': 'BACKGROUND',\n",
        "  'text': \"Emotional eating is associated with overeating and the development of obesity .\\n\",\n",
        "  'total_lines': 11},\n",
        "  ...]\n",
        "```"
      ],
      "metadata": {
        "id": "nNMGXKQweFUB"
      }
    },
    {
      "cell_type": "markdown",
      "source": [
        "Let's write a function which turns each of our datasets into the above format so we can continue to prepare our data for modelling."
      ],
      "metadata": {
        "id": "ArkKvM4Of_DU"
      }
    },
    {
      "cell_type": "code",
      "source": [
        "def preprocess_text_with_line_numbers(filename):\n",
        "  \"\"\"\n",
        "  Returns a list of dictionaries of abstract line data.\n",
        "\n",
        "  Takes in filename, reads it contents and sorts  through each line, extracting things\n",
        "  like the target label, the text of the sentence, how many sentences are in the current\n",
        "  abstract and what sentence number the target line is.\n",
        "  \"\"\"\n",
        "  input_lines = get_lines(filename) # get all lines from filename\n",
        "  abstract_lines = \"\"  # create an empty abstract\n",
        "  abstract_samples = [] # create an empty list of abstracts\n",
        "\n",
        "  # loop through each line in the target file\n",
        "  for line in input_lines:\n",
        "    if line.startswith(\"###\"): #check to see if the line is an ID line\n",
        "      abstract_id = line\n",
        "      abstract_lines = \"\" #reset the abstract string if the line is an id line\n",
        "    elif line.isspace(): # Check to see if line is a new line\n",
        "      abstract_line_split = abstract_lines.splitlines() #split abstract into separate lines\n",
        "\n",
        "      # Iterate through each line in a single abstract and count them at same time\n",
        "      for abstract_line_number , abstract_line in enumerate(abstract_line_split):\n",
        "        line_data = {} # creates a empty dictionary for each line\n",
        "        target_text_split = abstract_line.split(\"\\t\") # Split target labels from text\n",
        "        line_data[\"target\"] = target_text_split[0] # get the target label\n",
        "        line_data[\"text\"] = target_text_split[1].lower() #get the target text and lower it\n",
        "        line_data[\"line_number\"] = abstract_line_number # what number line does the line appear in the abstract\n",
        "        line_data[\"total_lines\"] = len(abstract_line_split) - 1 # how many total lines are there in the target abstract? (start from 0)\n",
        "        abstract_samples.append(line_data) # add line data to abstract samples list\n",
        "\n",
        "    else: #if the above conditions aren't fulfilled, the line contains a labelled sentence\n",
        "      abstract_lines += line\n",
        "\n",
        "  return abstract_samples"
      ],
      "metadata": {
        "id": "UrnW3cIrhMtH",
        "execution": {
          "iopub.status.busy": "2023-08-05T05:21:20.626624Z",
          "iopub.execute_input": "2023-08-05T05:21:20.626976Z",
          "iopub.status.idle": "2023-08-05T05:21:20.636651Z",
          "shell.execute_reply.started": "2023-08-05T05:21:20.626945Z",
          "shell.execute_reply": "2023-08-05T05:21:20.635601Z"
        },
        "trusted": true
      },
      "execution_count": 18,
      "outputs": []
    },
    {
      "cell_type": "code",
      "source": [
        "# Get data from file and preprocess it\n",
        "%time\n",
        "train_samples = preprocess_text_with_line_numbers(data_dir +\"train.txt\")\n",
        "val_samples = preprocess_text_with_line_numbers(data_dir +\"dev.txt\")\n",
        "test_samples = preprocess_text_with_line_numbers(data_dir + \"test.txt\")\n",
        "print(len(train_samples), len(test_samples), len(val_samples) )"
      ],
      "metadata": {
        "id": "qCuwwaNQl-Jc",
        "outputId": "f2e0f366-baf9-4742-948d-21bb5c46cd5e",
        "execution": {
          "iopub.status.busy": "2023-08-05T05:21:31.994099Z",
          "iopub.execute_input": "2023-08-05T05:21:31.994825Z",
          "iopub.status.idle": "2023-08-05T05:21:32.778953Z",
          "shell.execute_reply.started": "2023-08-05T05:21:31.994789Z",
          "shell.execute_reply": "2023-08-05T05:21:32.777966Z"
        },
        "trusted": true,
        "colab": {
          "base_uri": "https://localhost:8080/"
        }
      },
      "execution_count": 19,
      "outputs": [
        {
          "output_type": "stream",
          "name": "stdout",
          "text": [
            "CPU times: user 2 µs, sys: 1e+03 ns, total: 3 µs\n",
            "Wall time: 6.2 µs\n",
            "180040 30135 30212\n"
          ]
        }
      ]
    },
    {
      "cell_type": "code",
      "source": [
        "# Check the first abstract of our training data\n",
        "train_samples[:10]"
      ],
      "metadata": {
        "id": "eDdXLjDOoQuT",
        "outputId": "a477b2d4-b6d2-404f-8223-f49b19fb3988",
        "execution": {
          "iopub.status.busy": "2023-08-05T05:21:36.119416Z",
          "iopub.execute_input": "2023-08-05T05:21:36.119781Z",
          "iopub.status.idle": "2023-08-05T05:21:36.128123Z",
          "shell.execute_reply.started": "2023-08-05T05:21:36.119750Z",
          "shell.execute_reply": "2023-08-05T05:21:36.127189Z"
        },
        "trusted": true,
        "colab": {
          "base_uri": "https://localhost:8080/"
        }
      },
      "execution_count": 20,
      "outputs": [
        {
          "output_type": "execute_result",
          "data": {
            "text/plain": [
              "[{'target': 'OBJECTIVE',\n",
              "  'text': 'to investigate the efficacy of @ weeks of daily low-dose oral prednisolone in improving pain , mobility , and systemic low-grade inflammation in the short term and whether the effect would be sustained at @ weeks in older adults with moderate to severe knee osteoarthritis ( oa ) .',\n",
              "  'line_number': 0,\n",
              "  'total_lines': 11},\n",
              " {'target': 'METHODS',\n",
              "  'text': 'a total of @ patients with primary knee oa were randomized @:@ ; @ received @ mg/day of prednisolone and @ received placebo for @ weeks .',\n",
              "  'line_number': 1,\n",
              "  'total_lines': 11},\n",
              " {'target': 'METHODS',\n",
              "  'text': 'outcome measures included pain reduction and improvement in function scores and systemic inflammation markers .',\n",
              "  'line_number': 2,\n",
              "  'total_lines': 11},\n",
              " {'target': 'METHODS',\n",
              "  'text': 'pain was assessed using the visual analog pain scale ( @-@ mm ) .',\n",
              "  'line_number': 3,\n",
              "  'total_lines': 11},\n",
              " {'target': 'METHODS',\n",
              "  'text': 'secondary outcome measures included the western ontario and mcmaster universities osteoarthritis index scores , patient global assessment ( pga ) of the severity of knee oa , and @-min walk distance ( @mwd ) .',\n",
              "  'line_number': 4,\n",
              "  'total_lines': 11},\n",
              " {'target': 'METHODS',\n",
              "  'text': 'serum levels of interleukin @ ( il-@ ) , il-@ , tumor necrosis factor ( tnf ) - , and high-sensitivity c-reactive protein ( hscrp ) were measured .',\n",
              "  'line_number': 5,\n",
              "  'total_lines': 11},\n",
              " {'target': 'RESULTS',\n",
              "  'text': 'there was a clinically relevant reduction in the intervention group compared to the placebo group for knee pain , physical function , pga , and @mwd at @ weeks .',\n",
              "  'line_number': 6,\n",
              "  'total_lines': 11},\n",
              " {'target': 'RESULTS',\n",
              "  'text': 'the mean difference between treatment arms ( @ % ci ) was @ ( @-@ @ ) , p < @ ; @ ( @-@ @ ) , p < @ ; @ ( @-@ @ ) , p < @ ; and @ ( @-@ @ ) , p < @ , respectively .',\n",
              "  'line_number': 7,\n",
              "  'total_lines': 11},\n",
              " {'target': 'RESULTS',\n",
              "  'text': 'further , there was a clinically relevant reduction in the serum levels of il-@ , il-@ , tnf - , and hscrp at @ weeks in the intervention group when compared to the placebo group .',\n",
              "  'line_number': 8,\n",
              "  'total_lines': 11},\n",
              " {'target': 'RESULTS',\n",
              "  'text': 'these differences remained significant at @ weeks .',\n",
              "  'line_number': 9,\n",
              "  'total_lines': 11}]"
            ]
          },
          "metadata": {},
          "execution_count": 20
        }
      ]
    },
    {
      "cell_type": "markdown",
      "source": [
        "Fantastic! Looks like our `preprocess_text_with_line_numbers() `function worked great."
      ],
      "metadata": {
        "id": "_oR8gyPDZqyV"
      }
    },
    {
      "cell_type": "markdown",
      "source": [
        "Now that our data is the format of a list of dictionaries, how about we run it into\n",
        "a DataFrame to further visualize it."
      ],
      "metadata": {
        "id": "gsTf0ZLEo4KZ"
      }
    },
    {
      "cell_type": "code",
      "source": [
        "import pandas as pd\n",
        "train_df  = pd.DataFrame(train_samples)\n",
        "val_df = pd.DataFrame(val_samples)\n",
        "test_df = pd.DataFrame(test_samples)\n",
        "train_df.head(10)"
      ],
      "metadata": {
        "id": "m2DHyJ6If6OH",
        "outputId": "7d13f217-a82d-49f4-8403-f50cf29eefa3",
        "execution": {
          "iopub.status.busy": "2023-08-05T05:21:36.130033Z",
          "iopub.execute_input": "2023-08-05T05:21:36.130622Z",
          "iopub.status.idle": "2023-08-05T05:21:36.594126Z",
          "shell.execute_reply.started": "2023-08-05T05:21:36.130588Z",
          "shell.execute_reply": "2023-08-05T05:21:36.592088Z"
        },
        "trusted": true,
        "colab": {
          "base_uri": "https://localhost:8080/",
          "height": 432
        }
      },
      "execution_count": 21,
      "outputs": [
        {
          "output_type": "execute_result",
          "data": {
            "text/plain": [
              "      target                                               text  line_number  \\\n",
              "0  OBJECTIVE  to investigate the efficacy of @ weeks of dail...            0   \n",
              "1    METHODS  a total of @ patients with primary knee oa wer...            1   \n",
              "2    METHODS  outcome measures included pain reduction and i...            2   \n",
              "3    METHODS  pain was assessed using the visual analog pain...            3   \n",
              "4    METHODS  secondary outcome measures included the wester...            4   \n",
              "5    METHODS  serum levels of interleukin @ ( il-@ ) , il-@ ...            5   \n",
              "6    RESULTS  there was a clinically relevant reduction in t...            6   \n",
              "7    RESULTS  the mean difference between treatment arms ( @...            7   \n",
              "8    RESULTS  further , there was a clinically relevant redu...            8   \n",
              "9    RESULTS  these differences remained significant at @ we...            9   \n",
              "\n",
              "   total_lines  \n",
              "0           11  \n",
              "1           11  \n",
              "2           11  \n",
              "3           11  \n",
              "4           11  \n",
              "5           11  \n",
              "6           11  \n",
              "7           11  \n",
              "8           11  \n",
              "9           11  "
            ],
            "text/html": [
              "\n",
              "  <div id=\"df-bfd2b774-4495-4f68-ab85-404a6432ccfe\" class=\"colab-df-container\">\n",
              "    <div>\n",
              "<style scoped>\n",
              "    .dataframe tbody tr th:only-of-type {\n",
              "        vertical-align: middle;\n",
              "    }\n",
              "\n",
              "    .dataframe tbody tr th {\n",
              "        vertical-align: top;\n",
              "    }\n",
              "\n",
              "    .dataframe thead th {\n",
              "        text-align: right;\n",
              "    }\n",
              "</style>\n",
              "<table border=\"1\" class=\"dataframe\">\n",
              "  <thead>\n",
              "    <tr style=\"text-align: right;\">\n",
              "      <th></th>\n",
              "      <th>target</th>\n",
              "      <th>text</th>\n",
              "      <th>line_number</th>\n",
              "      <th>total_lines</th>\n",
              "    </tr>\n",
              "  </thead>\n",
              "  <tbody>\n",
              "    <tr>\n",
              "      <th>0</th>\n",
              "      <td>OBJECTIVE</td>\n",
              "      <td>to investigate the efficacy of @ weeks of dail...</td>\n",
              "      <td>0</td>\n",
              "      <td>11</td>\n",
              "    </tr>\n",
              "    <tr>\n",
              "      <th>1</th>\n",
              "      <td>METHODS</td>\n",
              "      <td>a total of @ patients with primary knee oa wer...</td>\n",
              "      <td>1</td>\n",
              "      <td>11</td>\n",
              "    </tr>\n",
              "    <tr>\n",
              "      <th>2</th>\n",
              "      <td>METHODS</td>\n",
              "      <td>outcome measures included pain reduction and i...</td>\n",
              "      <td>2</td>\n",
              "      <td>11</td>\n",
              "    </tr>\n",
              "    <tr>\n",
              "      <th>3</th>\n",
              "      <td>METHODS</td>\n",
              "      <td>pain was assessed using the visual analog pain...</td>\n",
              "      <td>3</td>\n",
              "      <td>11</td>\n",
              "    </tr>\n",
              "    <tr>\n",
              "      <th>4</th>\n",
              "      <td>METHODS</td>\n",
              "      <td>secondary outcome measures included the wester...</td>\n",
              "      <td>4</td>\n",
              "      <td>11</td>\n",
              "    </tr>\n",
              "    <tr>\n",
              "      <th>5</th>\n",
              "      <td>METHODS</td>\n",
              "      <td>serum levels of interleukin @ ( il-@ ) , il-@ ...</td>\n",
              "      <td>5</td>\n",
              "      <td>11</td>\n",
              "    </tr>\n",
              "    <tr>\n",
              "      <th>6</th>\n",
              "      <td>RESULTS</td>\n",
              "      <td>there was a clinically relevant reduction in t...</td>\n",
              "      <td>6</td>\n",
              "      <td>11</td>\n",
              "    </tr>\n",
              "    <tr>\n",
              "      <th>7</th>\n",
              "      <td>RESULTS</td>\n",
              "      <td>the mean difference between treatment arms ( @...</td>\n",
              "      <td>7</td>\n",
              "      <td>11</td>\n",
              "    </tr>\n",
              "    <tr>\n",
              "      <th>8</th>\n",
              "      <td>RESULTS</td>\n",
              "      <td>further , there was a clinically relevant redu...</td>\n",
              "      <td>8</td>\n",
              "      <td>11</td>\n",
              "    </tr>\n",
              "    <tr>\n",
              "      <th>9</th>\n",
              "      <td>RESULTS</td>\n",
              "      <td>these differences remained significant at @ we...</td>\n",
              "      <td>9</td>\n",
              "      <td>11</td>\n",
              "    </tr>\n",
              "  </tbody>\n",
              "</table>\n",
              "</div>\n",
              "    <div class=\"colab-df-buttons\">\n",
              "\n",
              "  <div class=\"colab-df-container\">\n",
              "    <button class=\"colab-df-convert\" onclick=\"convertToInteractive('df-bfd2b774-4495-4f68-ab85-404a6432ccfe')\"\n",
              "            title=\"Convert this dataframe to an interactive table.\"\n",
              "            style=\"display:none;\">\n",
              "\n",
              "  <svg xmlns=\"http://www.w3.org/2000/svg\" height=\"24px\" viewBox=\"0 -960 960 960\">\n",
              "    <path d=\"M120-120v-720h720v720H120Zm60-500h600v-160H180v160Zm220 220h160v-160H400v160Zm0 220h160v-160H400v160ZM180-400h160v-160H180v160Zm440 0h160v-160H620v160ZM180-180h160v-160H180v160Zm440 0h160v-160H620v160Z\"/>\n",
              "  </svg>\n",
              "    </button>\n",
              "\n",
              "  <style>\n",
              "    .colab-df-container {\n",
              "      display:flex;\n",
              "      gap: 12px;\n",
              "    }\n",
              "\n",
              "    .colab-df-convert {\n",
              "      background-color: #E8F0FE;\n",
              "      border: none;\n",
              "      border-radius: 50%;\n",
              "      cursor: pointer;\n",
              "      display: none;\n",
              "      fill: #1967D2;\n",
              "      height: 32px;\n",
              "      padding: 0 0 0 0;\n",
              "      width: 32px;\n",
              "    }\n",
              "\n",
              "    .colab-df-convert:hover {\n",
              "      background-color: #E2EBFA;\n",
              "      box-shadow: 0px 1px 2px rgba(60, 64, 67, 0.3), 0px 1px 3px 1px rgba(60, 64, 67, 0.15);\n",
              "      fill: #174EA6;\n",
              "    }\n",
              "\n",
              "    .colab-df-buttons div {\n",
              "      margin-bottom: 4px;\n",
              "    }\n",
              "\n",
              "    [theme=dark] .colab-df-convert {\n",
              "      background-color: #3B4455;\n",
              "      fill: #D2E3FC;\n",
              "    }\n",
              "\n",
              "    [theme=dark] .colab-df-convert:hover {\n",
              "      background-color: #434B5C;\n",
              "      box-shadow: 0px 1px 3px 1px rgba(0, 0, 0, 0.15);\n",
              "      filter: drop-shadow(0px 1px 2px rgba(0, 0, 0, 0.3));\n",
              "      fill: #FFFFFF;\n",
              "    }\n",
              "  </style>\n",
              "\n",
              "    <script>\n",
              "      const buttonEl =\n",
              "        document.querySelector('#df-bfd2b774-4495-4f68-ab85-404a6432ccfe button.colab-df-convert');\n",
              "      buttonEl.style.display =\n",
              "        google.colab.kernel.accessAllowed ? 'block' : 'none';\n",
              "\n",
              "      async function convertToInteractive(key) {\n",
              "        const element = document.querySelector('#df-bfd2b774-4495-4f68-ab85-404a6432ccfe');\n",
              "        const dataTable =\n",
              "          await google.colab.kernel.invokeFunction('convertToInteractive',\n",
              "                                                    [key], {});\n",
              "        if (!dataTable) return;\n",
              "\n",
              "        const docLinkHtml = 'Like what you see? Visit the ' +\n",
              "          '<a target=\"_blank\" href=https://colab.research.google.com/notebooks/data_table.ipynb>data table notebook</a>'\n",
              "          + ' to learn more about interactive tables.';\n",
              "        element.innerHTML = '';\n",
              "        dataTable['output_type'] = 'display_data';\n",
              "        await google.colab.output.renderOutput(dataTable, element);\n",
              "        const docLink = document.createElement('div');\n",
              "        docLink.innerHTML = docLinkHtml;\n",
              "        element.appendChild(docLink);\n",
              "      }\n",
              "    </script>\n",
              "  </div>\n",
              "\n",
              "\n",
              "<div id=\"df-9a7d8250-87ac-40a8-b197-aebe84f50e19\">\n",
              "  <button class=\"colab-df-quickchart\" onclick=\"quickchart('df-9a7d8250-87ac-40a8-b197-aebe84f50e19')\"\n",
              "            title=\"Suggest charts.\"\n",
              "            style=\"display:none;\">\n",
              "\n",
              "<svg xmlns=\"http://www.w3.org/2000/svg\" height=\"24px\"viewBox=\"0 0 24 24\"\n",
              "     width=\"24px\">\n",
              "    <g>\n",
              "        <path d=\"M19 3H5c-1.1 0-2 .9-2 2v14c0 1.1.9 2 2 2h14c1.1 0 2-.9 2-2V5c0-1.1-.9-2-2-2zM9 17H7v-7h2v7zm4 0h-2V7h2v10zm4 0h-2v-4h2v4z\"/>\n",
              "    </g>\n",
              "</svg>\n",
              "  </button>\n",
              "\n",
              "<style>\n",
              "  .colab-df-quickchart {\n",
              "      --bg-color: #E8F0FE;\n",
              "      --fill-color: #1967D2;\n",
              "      --hover-bg-color: #E2EBFA;\n",
              "      --hover-fill-color: #174EA6;\n",
              "      --disabled-fill-color: #AAA;\n",
              "      --disabled-bg-color: #DDD;\n",
              "  }\n",
              "\n",
              "  [theme=dark] .colab-df-quickchart {\n",
              "      --bg-color: #3B4455;\n",
              "      --fill-color: #D2E3FC;\n",
              "      --hover-bg-color: #434B5C;\n",
              "      --hover-fill-color: #FFFFFF;\n",
              "      --disabled-bg-color: #3B4455;\n",
              "      --disabled-fill-color: #666;\n",
              "  }\n",
              "\n",
              "  .colab-df-quickchart {\n",
              "    background-color: var(--bg-color);\n",
              "    border: none;\n",
              "    border-radius: 50%;\n",
              "    cursor: pointer;\n",
              "    display: none;\n",
              "    fill: var(--fill-color);\n",
              "    height: 32px;\n",
              "    padding: 0;\n",
              "    width: 32px;\n",
              "  }\n",
              "\n",
              "  .colab-df-quickchart:hover {\n",
              "    background-color: var(--hover-bg-color);\n",
              "    box-shadow: 0 1px 2px rgba(60, 64, 67, 0.3), 0 1px 3px 1px rgba(60, 64, 67, 0.15);\n",
              "    fill: var(--button-hover-fill-color);\n",
              "  }\n",
              "\n",
              "  .colab-df-quickchart-complete:disabled,\n",
              "  .colab-df-quickchart-complete:disabled:hover {\n",
              "    background-color: var(--disabled-bg-color);\n",
              "    fill: var(--disabled-fill-color);\n",
              "    box-shadow: none;\n",
              "  }\n",
              "\n",
              "  .colab-df-spinner {\n",
              "    border: 2px solid var(--fill-color);\n",
              "    border-color: transparent;\n",
              "    border-bottom-color: var(--fill-color);\n",
              "    animation:\n",
              "      spin 1s steps(1) infinite;\n",
              "  }\n",
              "\n",
              "  @keyframes spin {\n",
              "    0% {\n",
              "      border-color: transparent;\n",
              "      border-bottom-color: var(--fill-color);\n",
              "      border-left-color: var(--fill-color);\n",
              "    }\n",
              "    20% {\n",
              "      border-color: transparent;\n",
              "      border-left-color: var(--fill-color);\n",
              "      border-top-color: var(--fill-color);\n",
              "    }\n",
              "    30% {\n",
              "      border-color: transparent;\n",
              "      border-left-color: var(--fill-color);\n",
              "      border-top-color: var(--fill-color);\n",
              "      border-right-color: var(--fill-color);\n",
              "    }\n",
              "    40% {\n",
              "      border-color: transparent;\n",
              "      border-right-color: var(--fill-color);\n",
              "      border-top-color: var(--fill-color);\n",
              "    }\n",
              "    60% {\n",
              "      border-color: transparent;\n",
              "      border-right-color: var(--fill-color);\n",
              "    }\n",
              "    80% {\n",
              "      border-color: transparent;\n",
              "      border-right-color: var(--fill-color);\n",
              "      border-bottom-color: var(--fill-color);\n",
              "    }\n",
              "    90% {\n",
              "      border-color: transparent;\n",
              "      border-bottom-color: var(--fill-color);\n",
              "    }\n",
              "  }\n",
              "</style>\n",
              "\n",
              "  <script>\n",
              "    async function quickchart(key) {\n",
              "      const quickchartButtonEl =\n",
              "        document.querySelector('#' + key + ' button');\n",
              "      quickchartButtonEl.disabled = true;  // To prevent multiple clicks.\n",
              "      quickchartButtonEl.classList.add('colab-df-spinner');\n",
              "      try {\n",
              "        const charts = await google.colab.kernel.invokeFunction(\n",
              "            'suggestCharts', [key], {});\n",
              "      } catch (error) {\n",
              "        console.error('Error during call to suggestCharts:', error);\n",
              "      }\n",
              "      quickchartButtonEl.classList.remove('colab-df-spinner');\n",
              "      quickchartButtonEl.classList.add('colab-df-quickchart-complete');\n",
              "    }\n",
              "    (() => {\n",
              "      let quickchartButtonEl =\n",
              "        document.querySelector('#df-9a7d8250-87ac-40a8-b197-aebe84f50e19 button');\n",
              "      quickchartButtonEl.style.display =\n",
              "        google.colab.kernel.accessAllowed ? 'block' : 'none';\n",
              "    })();\n",
              "  </script>\n",
              "</div>\n",
              "    </div>\n",
              "  </div>\n"
            ]
          },
          "metadata": {},
          "execution_count": 21
        }
      ]
    },
    {
      "cell_type": "code",
      "source": [
        "# Distribution of labels in training data\n",
        "train_df.target.value_counts()"
      ],
      "metadata": {
        "id": "X6TvqXy6gO7o",
        "outputId": "047b1b9b-3d78-48e8-d912-4c97bdf678b7",
        "execution": {
          "iopub.status.busy": "2023-08-05T05:21:36.595895Z",
          "iopub.execute_input": "2023-08-05T05:21:36.596336Z",
          "iopub.status.idle": "2023-08-05T05:21:36.641288Z",
          "shell.execute_reply.started": "2023-08-05T05:21:36.596299Z",
          "shell.execute_reply": "2023-08-05T05:21:36.640183Z"
        },
        "trusted": true,
        "colab": {
          "base_uri": "https://localhost:8080/"
        }
      },
      "execution_count": 22,
      "outputs": [
        {
          "output_type": "execute_result",
          "data": {
            "text/plain": [
              "METHODS        59353\n",
              "RESULTS        57953\n",
              "CONCLUSIONS    27168\n",
              "BACKGROUND     21727\n",
              "OBJECTIVE      13839\n",
              "Name: target, dtype: int64"
            ]
          },
          "metadata": {},
          "execution_count": 22
        }
      ]
    },
    {
      "cell_type": "markdown",
      "source": [
        "Looks like sentences with the `OBJECTIVE `label are the least common.\n",
        "\n",
        "How about we check the distribution of our abstract lengths?"
      ],
      "metadata": {
        "id": "1ZR26DTMZ4dw"
      }
    },
    {
      "cell_type": "code",
      "source": [
        "# Let's check the length of different lines\n",
        "train_df.total_lines.plot.hist();"
      ],
      "metadata": {
        "id": "z2SwltvLgqEG",
        "outputId": "f9153fc7-516e-4df8-9b0d-36f14ba37709",
        "execution": {
          "iopub.status.busy": "2023-08-05T05:21:36.642829Z",
          "iopub.execute_input": "2023-08-05T05:21:36.643191Z",
          "iopub.status.idle": "2023-08-05T05:21:36.992524Z",
          "shell.execute_reply.started": "2023-08-05T05:21:36.643135Z",
          "shell.execute_reply": "2023-08-05T05:21:36.991592Z"
        },
        "trusted": true,
        "colab": {
          "base_uri": "https://localhost:8080/",
          "height": 431
        }
      },
      "execution_count": 23,
      "outputs": [
        {
          "output_type": "display_data",
          "data": {
            "text/plain": [
              "<Figure size 640x480 with 1 Axes>"
            ],
            "image/png": "[encoded data removed]"
          },
          "metadata": {}
        }
      ]
    },
    {
      "cell_type": "markdown",
      "source": [
        "Okay, looks like most of the abstracts are around 7 to 15 sentences in length.\n",
        "\n",
        "It's good to check these things out to make sure when we do train a model or test it on unseen samples, our results aren't outlandish."
      ],
      "metadata": {
        "id": "7obsNpAWaChw"
      }
    },
    {
      "cell_type": "markdown",
      "source": [
        "### Get lists of sentences\n",
        "When we build our deep learning model, one of its main inputs will be a list of strings (the lines of an abstract).\n",
        "\n",
        "We can get these easily from our DataFrames by calling the `tolist()` method on our `\"text\"` columns."
      ],
      "metadata": {
        "id": "47s7IUJgg3Ev"
      }
    },
    {
      "cell_type": "code",
      "source": [
        "# Convert abstract text lines into lists\n",
        "train_sentences = train_df[\"text\"].tolist()\n",
        "val_sentences = val_df[\"text\"].tolist()\n",
        "test_sentences = test_df[\"text\"].tolist()\n",
        "len(train_sentences), len(val_sentences), len(test_sentences)"
      ],
      "metadata": {
        "id": "iqfeLzsDhAMC",
        "outputId": "2bc593c4-8523-4d7e-e4dc-8dca3c1a2af9",
        "execution": {
          "iopub.status.busy": "2023-08-05T05:21:36.995305Z",
          "iopub.execute_input": "2023-08-05T05:21:36.995652Z",
          "iopub.status.idle": "2023-08-05T05:21:37.010361Z",
          "shell.execute_reply.started": "2023-08-05T05:21:36.995613Z",
          "shell.execute_reply": "2023-08-05T05:21:37.009446Z"
        },
        "trusted": true,
        "colab": {
          "base_uri": "https://localhost:8080/"
        }
      },
      "execution_count": 24,
      "outputs": [
        {
          "output_type": "execute_result",
          "data": {
            "text/plain": [
              "(180040, 30212, 30135)"
            ]
          },
          "metadata": {},
          "execution_count": 24
        }
      ]
    },
    {
      "cell_type": "code",
      "source": [
        "# View the 10 lines of training sentences\n",
        "train_sentences[:10]"
      ],
      "metadata": {
        "id": "3gMqvZm2hf2_",
        "outputId": "fe9d3dd8-29ba-4cc4-dd6a-ca9c71225d32",
        "execution": {
          "iopub.status.busy": "2023-08-05T05:21:37.011574Z",
          "iopub.execute_input": "2023-08-05T05:21:37.012558Z",
          "iopub.status.idle": "2023-08-05T05:21:37.022000Z",
          "shell.execute_reply.started": "2023-08-05T05:21:37.012518Z",
          "shell.execute_reply": "2023-08-05T05:21:37.020850Z"
        },
        "trusted": true,
        "colab": {
          "base_uri": "https://localhost:8080/"
        }
      },
      "execution_count": 25,
      "outputs": [
        {
          "output_type": "execute_result",
          "data": {
            "text/plain": [
              "['to investigate the efficacy of @ weeks of daily low-dose oral prednisolone in improving pain , mobility , and systemic low-grade inflammation in the short term and whether the effect would be sustained at @ weeks in older adults with moderate to severe knee osteoarthritis ( oa ) .',\n",
              " 'a total of @ patients with primary knee oa were randomized @:@ ; @ received @ mg/day of prednisolone and @ received placebo for @ weeks .',\n",
              " 'outcome measures included pain reduction and improvement in function scores and systemic inflammation markers .',\n",
              " 'pain was assessed using the visual analog pain scale ( @-@ mm ) .',\n",
              " 'secondary outcome measures included the western ontario and mcmaster universities osteoarthritis index scores , patient global assessment ( pga ) of the severity of knee oa , and @-min walk distance ( @mwd ) .',\n",
              " 'serum levels of interleukin @ ( il-@ ) , il-@ , tumor necrosis factor ( tnf ) - , and high-sensitivity c-reactive protein ( hscrp ) were measured .',\n",
              " 'there was a clinically relevant reduction in the intervention group compared to the placebo group for knee pain , physical function , pga , and @mwd at @ weeks .',\n",
              " 'the mean difference between treatment arms ( @ % ci ) was @ ( @-@ @ ) , p < @ ; @ ( @-@ @ ) , p < @ ; @ ( @-@ @ ) , p < @ ; and @ ( @-@ @ ) , p < @ , respectively .',\n",
              " 'further , there was a clinically relevant reduction in the serum levels of il-@ , il-@ , tnf - , and hscrp at @ weeks in the intervention group when compared to the placebo group .',\n",
              " 'these differences remained significant at @ weeks .']"
            ]
          },
          "metadata": {},
          "execution_count": 25
        }
      ]
    },
    {
      "cell_type": "markdown",
      "source": [
        "## Make numeric labels (ML models require numeric labels)"
      ],
      "metadata": {
        "id": "GZc5r184hpzY"
      }
    },
    {
      "cell_type": "markdown",
      "source": [
        "We're going to create one hot and label encoded labels.\n",
        "\n",
        "We could get away with just making label encoded labels, however, TensorFlow's CategoricalCrossentropy loss function likes to have one hot encoded labels (this will enable us to use label smoothing later on).\n",
        "\n",
        "To numerically encode labels we'll use Scikit-Learn's` OneHotEncoder` and `LabelEncoder` classes."
      ],
      "metadata": {
        "id": "0Ln9j6nRaTkG"
      }
    },
    {
      "cell_type": "code",
      "source": [
        "# One hot enode labels\n",
        "from sklearn.preprocessing import OneHotEncoder\n",
        "one_hot_encoder = OneHotEncoder(sparse=False)\n",
        "train_labels_one_hot = one_hot_encoder.fit_transform(train_df[\"target\"].to_numpy().reshape(-1,1))\n",
        "val_labels_one_hot = one_hot_encoder.transform(val_df[\"target\"].to_numpy().reshape(-1,1))\n",
        "test_labels_one_hot = one_hot_encoder.transform(test_df[\"target\"].to_numpy().reshape(-1,1))\n",
        "\n",
        "# Check what one hot encoded labels look like\n",
        "train_labels_one_hot"
      ],
      "metadata": {
        "id": "syTsjcx9iYVs",
        "outputId": "a5a8fd65-2415-4b53-c4a2-8249e092c5a7",
        "execution": {
          "iopub.status.busy": "2023-08-05T05:21:37.023513Z",
          "iopub.execute_input": "2023-08-05T05:21:37.023856Z",
          "iopub.status.idle": "2023-08-05T05:21:37.139098Z",
          "shell.execute_reply.started": "2023-08-05T05:21:37.023823Z",
          "shell.execute_reply": "2023-08-05T05:21:37.138011Z"
        },
        "trusted": true,
        "colab": {
          "base_uri": "https://localhost:8080/"
        }
      },
      "execution_count": 26,
      "outputs": [
        {
          "output_type": "stream",
          "name": "stderr",
          "text": [
            "/usr/local/lib/python3.10/dist-packages/sklearn/preprocessing/_encoders.py:868: FutureWarning: `sparse` was renamed to `sparse_output` in version 1.2 and will be removed in 1.4. `sparse_output` is ignored unless you leave `sparse` to its default value.\n",
            "  warnings.warn(\n"
          ]
        },
        {
          "output_type": "execute_result",
          "data": {
            "text/plain": [
              "array([[0., 0., 0., 1., 0.],\n",
              "       [0., 0., 1., 0., 0.],\n",
              "       [0., 0., 1., 0., 0.],\n",
              "       ...,\n",
              "       [0., 0., 0., 0., 1.],\n",
              "       [0., 1., 0., 0., 0.],\n",
              "       [0., 1., 0., 0., 0.]])"
            ]
          },
          "metadata": {},
          "execution_count": 26
        }
      ]
    },
    {
      "cell_type": "markdown",
      "source": [
        "### Label encode labels"
      ],
      "metadata": {
        "id": "sGH5BDdajOxJ"
      }
    },
    {
      "cell_type": "code",
      "source": [
        "# Extract labels (\"target\" columns) and encode them into integers\n",
        "from sklearn.preprocessing import LabelEncoder\n",
        "label_encoder = LabelEncoder()\n",
        "train_labels_encoded = label_encoder.fit_transform(train_df[\"target\"].to_numpy())\n",
        "val_labels_encoded = label_encoder.transform(val_df[\"target\"].to_numpy())\n",
        "test_labels_encoded = label_encoder.transform(test_df[\"target\"].to_numpy())"
      ],
      "metadata": {
        "id": "MYPjJOFRkXUX",
        "execution": {
          "iopub.status.busy": "2023-08-05T05:21:37.141274Z",
          "iopub.execute_input": "2023-08-05T05:21:37.142027Z",
          "iopub.status.idle": "2023-08-05T05:21:37.216619Z",
          "shell.execute_reply.started": "2023-08-05T05:21:37.141988Z",
          "shell.execute_reply": "2023-08-05T05:21:37.215688Z"
        },
        "trusted": true
      },
      "execution_count": 27,
      "outputs": []
    },
    {
      "cell_type": "code",
      "source": [
        "train_labels_encoded"
      ],
      "metadata": {
        "id": "obitXfnzkrE-",
        "outputId": "e4fddb6f-d323-430c-fe9f-353e18a83f8a",
        "execution": {
          "iopub.status.busy": "2023-08-05T05:21:37.218196Z",
          "iopub.execute_input": "2023-08-05T05:21:37.218552Z",
          "iopub.status.idle": "2023-08-05T05:21:37.226376Z",
          "shell.execute_reply.started": "2023-08-05T05:21:37.218518Z",
          "shell.execute_reply": "2023-08-05T05:21:37.225212Z"
        },
        "trusted": true,
        "colab": {
          "base_uri": "https://localhost:8080/"
        }
      },
      "execution_count": 28,
      "outputs": [
        {
          "output_type": "execute_result",
          "data": {
            "text/plain": [
              "array([3, 2, 2, ..., 4, 1, 1])"
            ]
          },
          "metadata": {},
          "execution_count": 28
        }
      ]
    },
    {
      "cell_type": "code",
      "source": [
        "# Get class names and number of classes from LabelEncoder instance\n",
        "num_classes = len(label_encoder.classes_)\n",
        "class_names = label_encoder.classes_\n",
        "num_classes, class_names"
      ],
      "metadata": {
        "id": "ew8eKZf-lWu5",
        "outputId": "fdf45747-3f80-4740-ac98-0e59ff2f3c22",
        "execution": {
          "iopub.status.busy": "2023-08-05T05:21:37.227801Z",
          "iopub.execute_input": "2023-08-05T05:21:37.228956Z",
          "iopub.status.idle": "2023-08-05T05:21:37.245187Z",
          "shell.execute_reply.started": "2023-08-05T05:21:37.228919Z",
          "shell.execute_reply": "2023-08-05T05:21:37.244232Z"
        },
        "trusted": true,
        "colab": {
          "base_uri": "https://localhost:8080/"
        }
      },
      "execution_count": 29,
      "outputs": [
        {
          "output_type": "execute_result",
          "data": {
            "text/plain": [
              "(5,\n",
              " array(['BACKGROUND', 'CONCLUSIONS', 'METHODS', 'OBJECTIVE', 'RESULTS'],\n",
              "       dtype=object))"
            ]
          },
          "metadata": {},
          "execution_count": 29
        }
      ]
    },
    {
      "cell_type": "markdown",
      "source": [
        "## Starting a series of modelling experiments...\n",
        "\n",
        "As usual, we're going to be trying out a bunch of different models and seeing which one works best. And as always, we're going to start with a baseline`(TF-IDF Multinomial Naive Bayes Classifier)`\n",
        "\n",
        "For each model, we'll train it on the training data and evaluate it on the validation data."
      ],
      "metadata": {
        "id": "F6zKW-u1mCI_"
      }
    },
    {
      "cell_type": "markdown",
      "source": [
        "## Model 0: Getting a baseline\n",
        "\n",
        "To create our baseline, we'll use Sklearn's Multinomial Naive Bayes using the TF-IDF(Term frequency - inverse document frequency, i.e. tf-idf = tf * idf) formula to convert our words to numbers.\n",
        "\n",
        "> **Note:** It's common practice to use non-Dl algorithms as a baseline because of their speed and then later using Dl to see if you can improve upon them."
      ],
      "metadata": {
        "id": "vgzyNyNdpHSH"
      }
    },
    {
      "cell_type": "code",
      "source": [
        "from sklearn.feature_extraction.text import  TfidfVectorizer\n",
        "from sklearn.naive_bayes import MultinomialNB\n",
        "from sklearn.pipeline import Pipeline"
      ],
      "metadata": {
        "id": "YoqC0Q-7pk1-",
        "execution": {
          "iopub.status.busy": "2023-08-05T05:21:37.251609Z",
          "iopub.execute_input": "2023-08-05T05:21:37.252257Z",
          "iopub.status.idle": "2023-08-05T05:21:37.288836Z",
          "shell.execute_reply.started": "2023-08-05T05:21:37.252223Z",
          "shell.execute_reply": "2023-08-05T05:21:37.287965Z"
        },
        "trusted": true
      },
      "execution_count": 30,
      "outputs": []
    },
    {
      "cell_type": "code",
      "source": [
        "# Create a tokenization and modelling pipeline\n",
        "model_0 = Pipeline([\n",
        "                    (\"tfidf\", TfidfVectorizer()), # convert words to numbers using tfidf\n",
        "                    (\"clf\", MultinomialNB()) #MOdel the text\n",
        "])\n",
        "\n",
        "# Fit the pipeline to the training data\n",
        "model_0.fit(train_sentences, train_labels_encoded)"
      ],
      "metadata": {
        "id": "LELwz7KHp5LM",
        "outputId": "077a9134-ee7d-4366-f68d-8d8d4b4c15fb",
        "execution": {
          "iopub.status.busy": "2023-08-05T05:21:37.290119Z",
          "iopub.execute_input": "2023-08-05T05:21:37.290491Z",
          "iopub.status.idle": "2023-08-05T05:21:44.970119Z",
          "shell.execute_reply.started": "2023-08-05T05:21:37.290458Z",
          "shell.execute_reply": "2023-08-05T05:21:44.969156Z"
        },
        "trusted": true,
        "colab": {
          "base_uri": "https://localhost:8080/",
          "height": 125
        }
      },
      "execution_count": 31,
      "outputs": [
        {
          "output_type": "execute_result",
          "data": {
            "text/plain": [
              "Pipeline(steps=[('tfidf', TfidfVectorizer()), ('clf', MultinomialNB())])"
            ],
            "text/html": [
              "<style>#sk-container-id-1 {color: black;background-color: white;}#sk-container-id-1 pre{padding: 0;}#sk-container-id-1 div.sk-toggleable {background-color: white;}#sk-container-id-1 label.sk-toggleable__label {cursor: pointer;display: block;width: 100%;margin-bottom: 0;padding: 0.3em;box-sizing: border-box;text-align: center;}#sk-container-id-1 label.sk-toggleable__label-arrow:before {content: \"▸\";float: left;margin-right: 0.25em;color: #696969;}#sk-container-id-1 label.sk-toggleable__label-arrow:hover:before {color: black;}#sk-container-id-1 div.sk-estimator:hover label.sk-toggleable__label-arrow:before {color: black;}#sk-container-id-1 div.sk-toggleable__content {max-height: 0;max-width: 0;overflow: hidden;text-align: left;background-color: #f0f8ff;}#sk-container-id-1 div.sk-toggleable__content pre {margin: 0.2em;color: black;border-radius: 0.25em;background-color: #f0f8ff;}#sk-container-id-1 input.sk-toggleable__control:checked~div.sk-toggleable__content {max-height: 200px;max-width: 100%;overflow: auto;}#sk-container-id-1 input.sk-toggleable__control:checked~label.sk-toggleable__label-arrow:before {content: \"▾\";}#sk-container-id-1 div.sk-estimator input.sk-toggleable__control:checked~label.sk-toggleable__label {background-color: #d4ebff;}#sk-container-id-1 div.sk-label input.sk-toggleable__control:checked~label.sk-toggleable__label {background-color: #d4ebff;}#sk-container-id-1 input.sk-hidden--visually {border: 0;clip: rect(1px 1px 1px 1px);clip: rect(1px, 1px, 1px, 1px);height: 1px;margin: -1px;overflow: hidden;padding: 0;position: absolute;width: 1px;}#sk-container-id-1 div.sk-estimator {font-family: monospace;background-color: #f0f8ff;border: 1px dotted black;border-radius: 0.25em;box-sizing: border-box;margin-bottom: 0.5em;}#sk-container-id-1 div.sk-estimator:hover {background-color: #d4ebff;}#sk-container-id-1 div.sk-parallel-item::after {content: \"\";width: 100%;border-bottom: 1px solid gray;flex-grow: 1;}#sk-container-id-1 div.sk-label:hover label.sk-toggleable__label {background-color: #d4ebff;}#sk-container-id-1 div.sk-serial::before {content: \"\";position: absolute;border-left: 1px solid gray;box-sizing: border-box;top: 0;bottom: 0;left: 50%;z-index: 0;}#sk-container-id-1 div.sk-serial {display: flex;flex-direction: column;align-items: center;background-color: white;padding-right: 0.2em;padding-left: 0.2em;position: relative;}#sk-container-id-1 div.sk-item {position: relative;z-index: 1;}#sk-container-id-1 div.sk-parallel {display: flex;align-items: stretch;justify-content: center;background-color: white;position: relative;}#sk-container-id-1 div.sk-item::before, #sk-container-id-1 div.sk-parallel-item::before {content: \"\";position: absolute;border-left: 1px solid gray;box-sizing: border-box;top: 0;bottom: 0;left: 50%;z-index: -1;}#sk-container-id-1 div.sk-parallel-item {display: flex;flex-direction: column;z-index: 1;position: relative;background-color: white;}#sk-container-id-1 div.sk-parallel-item:first-child::after {align-self: flex-end;width: 50%;}#sk-container-id-1 div.sk-parallel-item:last-child::after {align-self: flex-start;width: 50%;}#sk-container-id-1 div.sk-parallel-item:only-child::after {width: 0;}#sk-container-id-1 div.sk-dashed-wrapped {border: 1px dashed gray;margin: 0 0.4em 0.5em 0.4em;box-sizing: border-box;padding-bottom: 0.4em;background-color: white;}#sk-container-id-1 div.sk-label label {font-family: monospace;font-weight: bold;display: inline-block;line-height: 1.2em;}#sk-container-id-1 div.sk-label-container {text-align: center;}#sk-container-id-1 div.sk-container {/* jupyter's `normalize.less` sets `[hidden] { display: none; }` but bootstrap.min.css set `[hidden] { display: none !important; }` so we also need the `!important` here to be able to override the default hidden behavior on the sphinx rendered scikit-learn.org. See: https://github.com/scikit-learn/scikit-learn/issues/21755 */display: inline-block !important;position: relative;}#sk-container-id-1 div.sk-text-repr-fallback {display: none;}</style><div id=\"sk-container-id-1\" class=\"sk-top-container\"><div class=\"sk-text-repr-fallback\"><pre>Pipeline(steps=[(&#x27;tfidf&#x27;, TfidfVectorizer()), (&#x27;clf&#x27;, MultinomialNB())])</pre><b>In a Jupyter environment, please rerun this cell to show the HTML representation or trust the notebook. <br />On GitHub, the HTML representation is unable to render, please try loading this page with nbviewer.org.</b></div><div class=\"sk-container\" hidden><div class=\"sk-item sk-dashed-wrapped\"><div class=\"sk-label-container\"><div class=\"sk-label sk-toggleable\"><input class=\"sk-toggleable__control sk-hidden--visually\" id=\"sk-estimator-id-1\" type=\"checkbox\" ><label for=\"sk-estimator-id-1\" class=\"sk-toggleable__label sk-toggleable__label-arrow\">Pipeline</label><div class=\"sk-toggleable__content\"><pre>Pipeline(steps=[(&#x27;tfidf&#x27;, TfidfVectorizer()), (&#x27;clf&#x27;, MultinomialNB())])</pre></div></div></div><div class=\"sk-serial\"><div class=\"sk-item\"><div class=\"sk-estimator sk-toggleable\"><input class=\"sk-toggleable__control sk-hidden--visually\" id=\"sk-estimator-id-2\" type=\"checkbox\" ><label for=\"sk-estimator-id-2\" class=\"sk-toggleable__label sk-toggleable__label-arrow\">TfidfVectorizer</label><div class=\"sk-toggleable__content\"><pre>TfidfVectorizer()</pre></div></div></div><div class=\"sk-item\"><div class=\"sk-estimator sk-toggleable\"><input class=\"sk-toggleable__control sk-hidden--visually\" id=\"sk-estimator-id-3\" type=\"checkbox\" ><label for=\"sk-estimator-id-3\" class=\"sk-toggleable__label sk-toggleable__label-arrow\">MultinomialNB</label><div class=\"sk-toggleable__content\"><pre>MultinomialNB()</pre></div></div></div></div></div></div></div>"
            ]
          },
          "metadata": {},
          "execution_count": 31
        }
      ]
    },
    {
      "cell_type": "code",
      "source": [
        "# Evaluate the model\n",
        "model_0.score(val_sentences, val_labels_encoded)"
      ],
      "metadata": {
        "id": "7jnYyHsqqkrL",
        "outputId": "4de97482-b6a5-42f0-f9f0-792e1d9611d2",
        "execution": {
          "iopub.status.busy": "2023-08-05T05:21:44.974372Z",
          "iopub.execute_input": "2023-08-05T05:21:44.977071Z",
          "iopub.status.idle": "2023-08-05T05:21:45.910776Z",
          "shell.execute_reply.started": "2023-08-05T05:21:44.977034Z",
          "shell.execute_reply": "2023-08-05T05:21:45.909671Z"
        },
        "trusted": true,
        "colab": {
          "base_uri": "https://localhost:8080/"
        }
      },
      "execution_count": 32,
      "outputs": [
        {
          "output_type": "execute_result",
          "data": {
            "text/plain": [
              "0.7218323844829869"
            ]
          },
          "metadata": {},
          "execution_count": 32
        }
      ]
    },
    {
      "cell_type": "markdown",
      "source": [
        "Nice! Looks like 72.1% accuracy will be the number to beat with our deeper models.\n",
        "\n",
        "Now let's make some predictions with our baseline model to further evaluate it."
      ],
      "metadata": {
        "id": "04rxVIaxbtnF"
      }
    },
    {
      "cell_type": "code",
      "source": [
        "# Make predictions using our baseline model\n",
        "baseline_preds = model_0.predict(val_sentences)\n",
        "baseline_preds"
      ],
      "metadata": {
        "id": "MsgnqqHoqwiZ",
        "outputId": "fa99bbe7-c043-44cc-ece7-92e71e6953ae",
        "execution": {
          "iopub.status.busy": "2023-08-05T05:21:45.912392Z",
          "iopub.execute_input": "2023-08-05T05:21:45.912821Z",
          "iopub.status.idle": "2023-08-05T05:21:46.722839Z",
          "shell.execute_reply.started": "2023-08-05T05:21:45.912786Z",
          "shell.execute_reply": "2023-08-05T05:21:46.721754Z"
        },
        "trusted": true,
        "colab": {
          "base_uri": "https://localhost:8080/"
        }
      },
      "execution_count": 33,
      "outputs": [
        {
          "output_type": "execute_result",
          "data": {
            "text/plain": [
              "array([4, 1, 3, ..., 4, 4, 1])"
            ]
          },
          "metadata": {},
          "execution_count": 33
        }
      ]
    },
    {
      "cell_type": "markdown",
      "source": [
        "### Download helper functions script"
      ],
      "metadata": {
        "id": "8q8N5V1tsDoO"
      }
    },
    {
      "cell_type": "code",
      "source": [
        "!wget https://raw.githubusercontent.com/kishan5111/Deep_Learning_Vault/main/notebooks/tensorflow_course/helper_functions.py"
      ],
      "metadata": {
        "id": "5r78BRQ0sSLR",
        "outputId": "6b3cf9c5-6553-4b52-c9c6-79a6bbd279b5",
        "execution": {
          "iopub.status.busy": "2023-08-05T05:21:46.724465Z",
          "iopub.execute_input": "2023-08-05T05:21:46.724829Z",
          "iopub.status.idle": "2023-08-05T05:21:47.982135Z",
          "shell.execute_reply.started": "2023-08-05T05:21:46.724793Z",
          "shell.execute_reply": "2023-08-05T05:21:47.980935Z"
        },
        "trusted": true,
        "colab": {
          "base_uri": "https://localhost:8080/"
        }
      },
      "execution_count": 35,
      "outputs": [
        {
          "output_type": "stream",
          "name": "stdout",
          "text": [
            "--2023-09-22 05:47:18--  https://raw.githubusercontent.com/kishan5111/Deep_Learning_Vault/main/notebooks/tensorflow_course/helper_functions.py\n",
            "Resolving raw.githubusercontent.com (raw.githubusercontent.com)... 185.199.109.133, 185.199.110.133, 185.199.111.133, ...\n",
            "Connecting to raw.githubusercontent.com (raw.githubusercontent.com)|185.199.109.133|:443... connected.\n",
            "HTTP request sent, awaiting response... 200 OK\n",
            "Length: 10415 (10K) [text/plain]\n",
            "Saving to: ‘helper_functions.py’\n",
            "\n",
            "\rhelper_functions.py   0%[                    ]       0  --.-KB/s               \rhelper_functions.py 100%[===================>]  10.17K  --.-KB/s    in 0s      \n",
            "\n",
            "2023-09-22 05:47:18 (67.7 MB/s) - ‘helper_functions.py’ saved [10415/10415]\n",
            "\n"
          ]
        }
      ]
    },
    {
      "cell_type": "code",
      "source": [
        "from helper_functions import calculate_results"
      ],
      "metadata": {
        "id": "FYP7e7fXsiMm",
        "execution": {
          "iopub.status.busy": "2023-08-05T05:21:47.984016Z",
          "iopub.execute_input": "2023-08-05T05:21:47.984750Z",
          "iopub.status.idle": "2023-08-05T05:21:58.335004Z",
          "shell.execute_reply.started": "2023-08-05T05:21:47.984709Z",
          "shell.execute_reply": "2023-08-05T05:21:58.334024Z"
        },
        "trusted": true
      },
      "execution_count": 36,
      "outputs": []
    },
    {
      "cell_type": "code",
      "source": [
        "# calcluate baseline results\n",
        "baseline_results = calculate_results(y_true=val_labels_encoded,\n",
        "                                     y_pred = baseline_preds)"
      ],
      "metadata": {
        "id": "py5ixQFvsvEH",
        "execution": {
          "iopub.status.busy": "2023-08-05T05:21:58.337295Z",
          "iopub.execute_input": "2023-08-05T05:21:58.338512Z",
          "iopub.status.idle": "2023-08-05T05:21:58.357294Z",
          "shell.execute_reply.started": "2023-08-05T05:21:58.338470Z",
          "shell.execute_reply": "2023-08-05T05:21:58.356364Z"
        },
        "trusted": true
      },
      "execution_count": 37,
      "outputs": []
    },
    {
      "cell_type": "code",
      "source": [
        "baseline_results"
      ],
      "metadata": {
        "id": "NzkSyy7wtEHG",
        "outputId": "f62b6576-ace2-4dcc-ff46-fe19442c1058",
        "execution": {
          "iopub.status.busy": "2023-08-05T05:21:58.358935Z",
          "iopub.execute_input": "2023-08-05T05:21:58.359340Z",
          "iopub.status.idle": "2023-08-05T05:21:58.368263Z",
          "shell.execute_reply.started": "2023-08-05T05:21:58.359303Z",
          "shell.execute_reply": "2023-08-05T05:21:58.365201Z"
        },
        "trusted": true,
        "colab": {
          "base_uri": "https://localhost:8080/"
        }
      },
      "execution_count": 38,
      "outputs": [
        {
          "output_type": "execute_result",
          "data": {
            "text/plain": [
              "{'accuracy': 72.1832384482987,\n",
              " 'precision': 0.7186466952323352,\n",
              " 'recall': 0.7218323844829869,\n",
              " 'f1': 0.6989250353450294}"
            ]
          },
          "metadata": {},
          "execution_count": 38
        }
      ]
    },
    {
      "cell_type": "markdown",
      "source": [
        "## Preparing our data(the text) for deep sequence model\n",
        "\n",
        "Before we start building deeper models, we've got to create vectorization and embedding layers.  \n",
        "\n",
        "The vectorization layer will convert our text to numbers and the embedding layer will capture the relationships between those numbers.\n",
        "\n",
        "To start creating our vectorization and embedding layers, we'll need to import the appropriate libraries (namely TensorFlow and NumPy).\n"
      ],
      "metadata": {
        "id": "F54S4MdXtF5-"
      }
    },
    {
      "cell_type": "code",
      "source": [
        "import numpy as np\n",
        "import tensorflow as tf\n",
        "from tensorflow.keras import layers"
      ],
      "metadata": {
        "id": "DXKtMgOJWv5P",
        "execution": {
          "iopub.status.busy": "2023-08-05T05:21:58.369721Z",
          "iopub.execute_input": "2023-08-05T05:21:58.370759Z",
          "iopub.status.idle": "2023-08-05T05:21:58.376497Z",
          "shell.execute_reply.started": "2023-08-05T05:21:58.370724Z",
          "shell.execute_reply": "2023-08-05T05:21:58.375347Z"
        },
        "trusted": true
      },
      "execution_count": 39,
      "outputs": []
    },
    {
      "cell_type": "markdown",
      "source": [
        "Since we'll be turning our sentences into numbers, it's a good idea to figure out how many words are in each sentence.\n",
        "\n",
        "When our model goes through our sentences, it works best when they're all the same length (this is important for creating batches of the same size tensors).\n",
        "\n",
        "For example, if one sentence is eight words long and another is 29 words long, we want to pad the eight word sentence with zeros so it ends up being the same length as the 29 word sentence.\n",
        "\n",
        "Let's write some code to find the average length of sentences in the training set."
      ],
      "metadata": {
        "id": "gOqf7C4Zc28n"
      }
    },
    {
      "cell_type": "code",
      "source": [
        "# How long is each sentence on average?\n",
        "sent_lens = [len(sentence.split()) for sentence in train_sentences]\n",
        "avg_sent_len = np.mean(sent_lens)\n",
        "avg_sent_len"
      ],
      "metadata": {
        "id": "Q2ehkWkjZfhP",
        "outputId": "79eb2caa-bb3f-4624-8f0f-45c12b2c0bba",
        "execution": {
          "iopub.status.busy": "2023-08-05T05:21:58.377899Z",
          "iopub.execute_input": "2023-08-05T05:21:58.378609Z",
          "iopub.status.idle": "2023-08-05T05:21:58.757222Z",
          "shell.execute_reply.started": "2023-08-05T05:21:58.378572Z",
          "shell.execute_reply": "2023-08-05T05:21:58.756087Z"
        },
        "trusted": true,
        "colab": {
          "base_uri": "https://localhost:8080/"
        }
      },
      "execution_count": 40,
      "outputs": [
        {
          "output_type": "execute_result",
          "data": {
            "text/plain": [
              "26.338269273494777"
            ]
          },
          "metadata": {},
          "execution_count": 40
        }
      ]
    },
    {
      "cell_type": "code",
      "source": [
        "# What's the distribution look like?\n",
        "import matplotlib.pyplot as plt\n",
        "plt.hist(sent_lens, bins=7);"
      ],
      "metadata": {
        "id": "fCXEpWspZ1Jy",
        "outputId": "55203462-375d-431e-abf2-1878cb290c10",
        "execution": {
          "iopub.status.busy": "2023-08-05T05:21:58.758823Z",
          "iopub.execute_input": "2023-08-05T05:21:58.759208Z",
          "iopub.status.idle": "2023-08-05T05:21:59.940629Z",
          "shell.execute_reply.started": "2023-08-05T05:21:58.759150Z",
          "shell.execute_reply": "2023-08-05T05:21:59.939422Z"
        },
        "trusted": true,
        "colab": {
          "base_uri": "https://localhost:8080/",
          "height": 430
        }
      },
      "execution_count": 46,
      "outputs": [
        {
          "output_type": "display_data",
          "data": {
            "text/plain": [
              "<Figure size 640x480 with 1 Axes>"
            ],
            "image/png": "[encoded data removed]"
          },
          "metadata": {}
        }
      ]
    },
    {
      "cell_type": "markdown",
      "source": [
        "Looks like the vast majority of sentences are between 0 and 50 tokens in length.\n",
        "\n",
        "We can use NumPy's `percentile` to find the value which covers 95% of the sentence lengths."
      ],
      "metadata": {
        "id": "hF57XhB1c8Vi"
      }
    },
    {
      "cell_type": "code",
      "source": [
        "# How long of a sentence length covers 95% of examples?\n",
        "output_seq_len = int(np.percentile(sent_lens, 95))\n",
        "output_seq_len"
      ],
      "metadata": {
        "id": "7CLX507Gaffe",
        "outputId": "e8581350-c7ec-40c4-cca5-44ab7ce2417d",
        "execution": {
          "iopub.status.busy": "2023-08-05T05:21:59.945050Z",
          "iopub.execute_input": "2023-08-05T05:21:59.947958Z",
          "iopub.status.idle": "2023-08-05T05:22:00.000734Z",
          "shell.execute_reply.started": "2023-08-05T05:21:59.947920Z",
          "shell.execute_reply": "2023-08-05T05:21:59.999660Z"
        },
        "trusted": true,
        "colab": {
          "base_uri": "https://localhost:8080/"
        }
      },
      "execution_count": 47,
      "outputs": [
        {
          "output_type": "execute_result",
          "data": {
            "text/plain": [
              "55"
            ]
          },
          "metadata": {},
          "execution_count": 47
        }
      ]
    },
    {
      "cell_type": "markdown",
      "source": [
        "Wonderful! It looks like 95% of the sentences in our training set have a length of 55 tokens or less.\n",
        "\n",
        "When we create our tokenization layer, we'll use this value to turn all of our sentences into the same length. Meaning sentences with a length below 55 get padded with zeros and sentences with a length above 55 get truncated (words after 55 get cut off).\n",
        "\n",
        "We could use the max sentence length of the sentences in the training set."
      ],
      "metadata": {
        "id": "DjhYy_hOdFse"
      }
    },
    {
      "cell_type": "code",
      "source": [
        "# Maximum sequence length in the training set?\n",
        "max(sent_lens)"
      ],
      "metadata": {
        "id": "FPxcF2l0beXS",
        "outputId": "fd9eef60-b772-4a62-e5a5-1dc4a5123766",
        "execution": {
          "iopub.status.busy": "2023-08-05T05:22:00.005043Z",
          "iopub.execute_input": "2023-08-05T05:22:00.007735Z",
          "iopub.status.idle": "2023-08-05T05:22:00.023938Z",
          "shell.execute_reply.started": "2023-08-05T05:22:00.007697Z",
          "shell.execute_reply": "2023-08-05T05:22:00.022702Z"
        },
        "trusted": true,
        "colab": {
          "base_uri": "https://localhost:8080/"
        }
      },
      "execution_count": 48,
      "outputs": [
        {
          "output_type": "execute_result",
          "data": {
            "text/plain": [
              "296"
            ]
          },
          "metadata": {},
          "execution_count": 48
        }
      ]
    },
    {
      "cell_type": "markdown",
      "source": [
        "However, since hardly any sentences even come close to the max length, it would mean the majority of the data we pass to our model would be zeros (sinces all sentences below the max length would get padded with zeros)."
      ],
      "metadata": {
        "id": "CWp4sbtLdT8k"
      }
    },
    {
      "cell_type": "markdown",
      "source": [
        "### Create Text Vectorizer"
      ],
      "metadata": {
        "id": "XiMzLv6qb6zC"
      }
    },
    {
      "cell_type": "markdown",
      "source": [
        "Now we've got a little more information about our texts, let's create a way to turn it into numbers.\n",
        "\n",
        "To do so, we'll use the `TextVectorization `layer from TensorFlow.\n",
        "\n",
        "We'll keep all the parameters default except for` max_tokens` (the number of unique words in our dataset) and `output_sequence_length` (our desired output length for each vectorized sentence)."
      ],
      "metadata": {
        "id": "mohS01yidZyn"
      }
    },
    {
      "cell_type": "code",
      "source": [
        "import tensorflow as tf\n",
        "from tensorflow.keras.layers.experimental.preprocessing import TextVectorization\n",
        "\n",
        "# How many words are in our vocabulary? (taken from 3.2 in https://arxiv.org/pdf/1710.06071.pdf)\n",
        "max_tokens = 68000\n",
        "\n",
        "# Use the default TextVectorization parameters\n",
        "text_vectorizer = TextVectorization(max_tokens=max_tokens, #how many words in vocabulary(automatically add<OOV>)\n",
        "                                    output_sequence_length=55)"
      ],
      "metadata": {
        "id": "BT3Tfa8LcOjU",
        "execution": {
          "iopub.status.busy": "2023-08-05T05:22:00.028982Z",
          "iopub.execute_input": "2023-08-05T05:22:00.031530Z",
          "iopub.status.idle": "2023-08-05T05:22:05.042174Z",
          "shell.execute_reply.started": "2023-08-05T05:22:00.031494Z",
          "shell.execute_reply": "2023-08-05T05:22:05.041220Z"
        },
        "trusted": true
      },
      "execution_count": 50,
      "outputs": []
    },
    {
      "cell_type": "code",
      "source": [
        "# Adapt text vectorizer to training sentences\n",
        "text_vectorizer.adapt(train_sentences)"
      ],
      "metadata": {
        "id": "iDhlgxVBdePA",
        "execution": {
          "iopub.status.busy": "2023-08-05T05:22:05.043665Z",
          "iopub.execute_input": "2023-08-05T05:22:05.044011Z",
          "iopub.status.idle": "2023-08-05T05:22:27.856571Z",
          "shell.execute_reply.started": "2023-08-05T05:22:05.043976Z",
          "shell.execute_reply": "2023-08-05T05:22:27.855508Z"
        },
        "trusted": true
      },
      "execution_count": 51,
      "outputs": []
    },
    {
      "cell_type": "code",
      "source": [
        "# Test out text vectorizer on random sentences\n",
        "import random\n",
        "target_sentence = random.choice(train_sentences)\n",
        "print(f\"Text:\\n {target_sentence}\")\n",
        "print(f\"\\nLength of text: {len(target_sentence.split())}\")\n",
        "print(f\"\\nVectorized text: {text_vectorizer([target_sentence])}\")"
      ],
      "metadata": {
        "id": "MInR4Su3d0V6",
        "outputId": "b8f437a3-09a5-4f81-8537-e21a662af019",
        "execution": {
          "iopub.status.busy": "2023-08-05T05:22:27.858752Z",
          "iopub.execute_input": "2023-08-05T05:22:27.859237Z",
          "iopub.status.idle": "2023-08-05T05:22:27.961412Z",
          "shell.execute_reply.started": "2023-08-05T05:22:27.859200Z",
          "shell.execute_reply": "2023-08-05T05:22:27.960232Z"
        },
        "trusted": true,
        "colab": {
          "base_uri": "https://localhost:8080/"
        }
      },
      "execution_count": 52,
      "outputs": [
        {
          "output_type": "stream",
          "name": "stdout",
          "text": [
            "Text:\n",
            " recent symptoms stand as a major determinant of stroke risk in patients with carotid stenosis , likely reflective of atherosclerotic plaque destabilization .\n",
            "\n",
            "Length of text: 23\n",
            "\n",
            "Vectorized text: [[  968   144  7008    25     8   347  6417     4   276    73     5    12\n",
            "      7  1839  1484   532  7996     4  5457  1072 17308     0     0     0\n",
            "      0     0     0     0     0     0     0     0     0     0     0     0\n",
            "      0     0     0     0     0     0     0     0     0     0     0     0\n",
            "      0     0     0     0     0     0     0]]\n"
          ]
        }
      ]
    },
    {
      "cell_type": "markdown",
      "source": [
        "Cool, we've now got a way to turn our sequences into numbers."
      ],
      "metadata": {
        "id": "1asPpw6dd6K5"
      }
    },
    {
      "cell_type": "code",
      "source": [
        "# How many words in our training vocabulary\n",
        "rct_20k_text_vocab = text_vectorizer.get_vocabulary()\n",
        "print(f\"Number of words in vocab: {len(rct_20k_text_vocab)}\")\n",
        "print(f\"Most common words in the vocab: {rct_20k_text_vocab[:5]}\")\n",
        "print(f\"Least common words in the vocab: {rct_20k_text_vocab[-5:]}\")"
      ],
      "metadata": {
        "id": "9oaiJzypeg8K",
        "outputId": "fe7197f5-03d5-4762-deb7-77b8efbfa824",
        "execution": {
          "iopub.status.busy": "2023-08-05T05:22:27.962763Z",
          "iopub.execute_input": "2023-08-05T05:22:27.963132Z",
          "iopub.status.idle": "2023-08-05T05:22:28.179515Z",
          "shell.execute_reply.started": "2023-08-05T05:22:27.963085Z",
          "shell.execute_reply": "2023-08-05T05:22:28.178339Z"
        },
        "trusted": true,
        "colab": {
          "base_uri": "https://localhost:8080/"
        }
      },
      "execution_count": 53,
      "outputs": [
        {
          "output_type": "stream",
          "name": "stdout",
          "text": [
            "Number of words in vocab: 64841\n",
            "Most common words in the vocab: ['', '[UNK]', 'the', 'and', 'of']\n",
            "Least common words in the vocab: ['aainduced', 'aaigroup', 'aachener', 'aachen', 'aaacp']\n"
          ]
        }
      ]
    },
    {
      "cell_type": "markdown",
      "source": [
        "And if you wanted to figure out the configuration of text_vectorizer you can use the get_config() method."
      ],
      "metadata": {
        "id": "76AAlGLXeDCm"
      }
    },
    {
      "cell_type": "code",
      "source": [
        "# Get the config of our text vectorizer\n",
        "text_vectorizer.get_config()"
      ],
      "metadata": {
        "id": "AXccGGSCfrJ-",
        "outputId": "a6a8a4ec-8adb-493a-aabb-e370c14b5844",
        "execution": {
          "iopub.status.busy": "2023-08-05T05:22:28.180977Z",
          "iopub.execute_input": "2023-08-05T05:22:28.181350Z",
          "iopub.status.idle": "2023-08-05T05:22:28.188443Z",
          "shell.execute_reply.started": "2023-08-05T05:22:28.181305Z",
          "shell.execute_reply": "2023-08-05T05:22:28.187521Z"
        },
        "trusted": true,
        "colab": {
          "base_uri": "https://localhost:8080/"
        }
      },
      "execution_count": 54,
      "outputs": [
        {
          "output_type": "execute_result",
          "data": {
            "text/plain": [
              "{'name': 'text_vectorization_1',\n",
              " 'trainable': True,\n",
              " 'dtype': 'string',\n",
              " 'batch_input_shape': (None,),\n",
              " 'max_tokens': 68000,\n",
              " 'standardize': 'lower_and_strip_punctuation',\n",
              " 'split': 'whitespace',\n",
              " 'ngrams': None,\n",
              " 'output_mode': 'int',\n",
              " 'output_sequence_length': 55,\n",
              " 'pad_to_max_tokens': False,\n",
              " 'sparse': False,\n",
              " 'ragged': False,\n",
              " 'vocabulary': None,\n",
              " 'idf_weights': None,\n",
              " 'encoding': 'utf-8',\n",
              " 'vocabulary_size': 64841}"
            ]
          },
          "metadata": {},
          "execution_count": 54
        }
      ]
    },
    {
      "cell_type": "markdown",
      "source": [
        "### Create a custom text embedding\n",
        "\n",
        "Our `token_vectorization` layer maps the words in our text directly to numbers. However, this doesn't necessarily capture the relationships between those numbers.\n",
        "\n",
        "To create a richer numerical representation of our text, we can use an **embedding.**\n",
        "\n",
        "As our model learns (by going through many different examples of abstract sentences and their labels), it'll update its embedding to better represent the relationships between tokens in our corpus.\n",
        "\n",
        "We can create a trainable embedding layer using TensorFlow's `Embedding` layer.\n",
        "\n",
        "Once again, the main parameters we're concerned with here are the inputs and outputs of our `Embedding` layer.\n",
        "\n",
        "The `input_dim` parameter defines the size of our vocabulary. And the `output_dim `parameter defines the dimension of the embedding output.\n",
        "\n",
        "Once created, our embedding layer will take the integer outputs of our `text_vectorization` layer as inputs and convert them to feature vectors of size output_dim.\n",
        "\n",
        "Let's see it in action."
      ],
      "metadata": {
        "id": "yV2LBRQag4k2"
      }
    },
    {
      "cell_type": "code",
      "source": [
        "from tensorflow.keras  import layers\n",
        "\n",
        "embedding = layers.Embedding(input_dim = len(rct_20k_text_vocab), #set input length\n",
        "                             output_dim = 128, #output shape\n",
        "                             mask_zero=True, # use masking to handle variable sequence lengths(save space)\n",
        "                             input_length= 55, #how long is each input\n",
        "                             name=\"token_embedding\")\n",
        "embedding"
      ],
      "metadata": {
        "id": "WK4MZ2Pys2BK",
        "outputId": "b116ae24-c0e0-4207-cde8-3d3043f504d7",
        "execution": {
          "iopub.status.busy": "2023-08-05T05:22:28.201037Z",
          "iopub.execute_input": "2023-08-05T05:22:28.201598Z",
          "iopub.status.idle": "2023-08-05T05:22:28.211644Z",
          "shell.execute_reply.started": "2023-08-05T05:22:28.201561Z",
          "shell.execute_reply": "2023-08-05T05:22:28.210484Z"
        },
        "trusted": true,
        "colab": {
          "base_uri": "https://localhost:8080/"
        }
      },
      "execution_count": 55,
      "outputs": [
        {
          "output_type": "execute_result",
          "data": {
            "text/plain": [
              "<keras.src.layers.core.embedding.Embedding at 0x78b35e18a080>"
            ]
          },
          "metadata": {},
          "execution_count": 55
        }
      ]
    },
    {
      "cell_type": "code",
      "source": [
        "# Show example embedding\n",
        "print(f\"Sentence before vectorization: \\n {target_sentence}\\n\")\n",
        "vectorized_sentence = text_vectorizer([target_sentence])\n",
        "print(f\"Sentence after vectorization (before embedding): \\n {vectorized_sentence}\\n\")\n",
        "embedded_sentence = embedding(vectorized_sentence)\n",
        "print(f\"Sentence after embedding: \\n {embedded_sentence}\\n\")\n",
        "print(f\"Embedded sentence shape: {embedded_sentence.shape}\")"
      ],
      "metadata": {
        "id": "U54ulxt9gyXC",
        "outputId": "ea5b3dba-1f61-44e1-d3ca-9d00130f2d57",
        "execution": {
          "iopub.status.busy": "2023-08-05T05:22:28.213267Z",
          "iopub.execute_input": "2023-08-05T05:22:28.213678Z",
          "iopub.status.idle": "2023-08-05T05:22:28.271769Z",
          "shell.execute_reply.started": "2023-08-05T05:22:28.213644Z",
          "shell.execute_reply": "2023-08-05T05:22:28.270646Z"
        },
        "trusted": true,
        "colab": {
          "base_uri": "https://localhost:8080/"
        }
      },
      "execution_count": 56,
      "outputs": [
        {
          "output_type": "stream",
          "name": "stdout",
          "text": [
            "Sentence before vectorization: \n",
            " recent symptoms stand as a major determinant of stroke risk in patients with carotid stenosis , likely reflective of atherosclerotic plaque destabilization .\n",
            "\n",
            "Sentence after vectorization (before embedding): \n",
            " [[  968   144  7008    25     8   347  6417     4   276    73     5    12\n",
            "      7  1839  1484   532  7996     4  5457  1072 17308     0     0     0\n",
            "      0     0     0     0     0     0     0     0     0     0     0     0\n",
            "      0     0     0     0     0     0     0     0     0     0     0     0\n",
            "      0     0     0     0     0     0     0]]\n",
            "\n",
            "Sentence after embedding: \n",
            " [[[ 0.03838983 -0.01853728 -0.03442228 ...  0.04810632 -0.00823007\n",
            "    0.03244697]\n",
            "  [ 0.01145483  0.03878272 -0.01417998 ...  0.03004653 -0.04092328\n",
            "   -0.04843861]\n",
            "  [-0.03454005 -0.02721649  0.00252215 ...  0.03820414 -0.03793504\n",
            "   -0.02327253]\n",
            "  ...\n",
            "  [ 0.04485999 -0.00817966 -0.03765669 ... -0.03283616  0.02101305\n",
            "    0.04486391]\n",
            "  [ 0.04485999 -0.00817966 -0.03765669 ... -0.03283616  0.02101305\n",
            "    0.04486391]\n",
            "  [ 0.04485999 -0.00817966 -0.03765669 ... -0.03283616  0.02101305\n",
            "    0.04486391]]]\n",
            "\n",
            "Embedded sentence shape: (1, 55, 128)\n"
          ]
        }
      ]
    },
    {
      "cell_type": "markdown",
      "source": [
        "## Creating datasets (making sure our data loads as fast as possible)\n",
        "\n"
      ],
      "metadata": {
        "id": "vfalNMQyj-1a"
      }
    },
    {
      "cell_type": "markdown",
      "source": [
        "We've gone through all the trouble of preprocessing our datasets to be used with a machine learning model, however, there are still a few steps we can use to make them work faster with our models.\n",
        "\n",
        "Namely, the `tf.data `API provides methods which enable faster data loading."
      ],
      "metadata": {
        "id": "bi78ajtkerBQ"
      }
    },
    {
      "cell_type": "code",
      "source": [
        "# Turn our data into TensorFlow Datasets\n",
        "train_dataset =  tf.data.Dataset.from_tensor_slices((train_sentences, train_labels_one_hot))\n",
        "valid_dataset = tf.data.Dataset.from_tensor_slices((val_sentences, val_labels_one_hot))\n",
        "test_dataset = tf.data.Dataset.from_tensor_slices((test_sentences, test_labels_one_hot))\n",
        "\n",
        "train_dataset"
      ],
      "metadata": {
        "id": "VJExrMi-lGlj",
        "outputId": "7f2f61b4-a7cd-4563-f4cf-27ccb0b1f593",
        "execution": {
          "iopub.status.busy": "2023-08-05T05:22:28.273986Z",
          "iopub.execute_input": "2023-08-05T05:22:28.275088Z",
          "iopub.status.idle": "2023-08-05T05:22:29.257240Z",
          "shell.execute_reply.started": "2023-08-05T05:22:28.275052Z",
          "shell.execute_reply": "2023-08-05T05:22:29.256204Z"
        },
        "trusted": true,
        "colab": {
          "base_uri": "https://localhost:8080/"
        }
      },
      "execution_count": 57,
      "outputs": [
        {
          "output_type": "execute_result",
          "data": {
            "text/plain": [
              "<_TensorSliceDataset element_spec=(TensorSpec(shape=(), dtype=tf.string, name=None), TensorSpec(shape=(5,), dtype=tf.float64, name=None))>"
            ]
          },
          "metadata": {},
          "execution_count": 57
        }
      ]
    },
    {
      "cell_type": "code",
      "source": [
        "# Take the TensorSliceDataset's and turn them into prefetch dataset\n",
        "train_dataset = train_dataset.batch(32).prefetch(tf.data.AUTOTUNE)\n",
        "valid_dataset = valid_dataset.batch(32).prefetch(tf.data.AUTOTUNE)\n",
        "test_dataset = test_dataset.batch(32).prefetch(tf.data.AUTOTUNE)"
      ],
      "metadata": {
        "id": "koNe9Uu7mm7q",
        "execution": {
          "iopub.status.busy": "2023-08-05T05:22:29.258690Z",
          "iopub.execute_input": "2023-08-05T05:22:29.259037Z",
          "iopub.status.idle": "2023-08-05T05:22:29.272464Z",
          "shell.execute_reply.started": "2023-08-05T05:22:29.259008Z",
          "shell.execute_reply": "2023-08-05T05:22:29.271532Z"
        },
        "trusted": true
      },
      "execution_count": 58,
      "outputs": []
    },
    {
      "cell_type": "code",
      "source": [
        "train_dataset"
      ],
      "metadata": {
        "id": "prsjkHlLnuC7",
        "outputId": "ade8c2a9-2c2e-4c60-e0c7-99c1539509cf",
        "execution": {
          "iopub.status.busy": "2023-08-05T05:22:29.275224Z",
          "iopub.execute_input": "2023-08-05T05:22:29.276121Z",
          "iopub.status.idle": "2023-08-05T05:22:29.283623Z",
          "shell.execute_reply.started": "2023-08-05T05:22:29.276087Z",
          "shell.execute_reply": "2023-08-05T05:22:29.282644Z"
        },
        "trusted": true,
        "colab": {
          "base_uri": "https://localhost:8080/"
        }
      },
      "execution_count": 59,
      "outputs": [
        {
          "output_type": "execute_result",
          "data": {
            "text/plain": [
              "<_PrefetchDataset element_spec=(TensorSpec(shape=(None,), dtype=tf.string, name=None), TensorSpec(shape=(None, 5), dtype=tf.float64, name=None))>"
            ]
          },
          "metadata": {},
          "execution_count": 59
        }
      ]
    },
    {
      "cell_type": "markdown",
      "source": [
        "## Model 1: Conv1D with token embeddings"
      ],
      "metadata": {
        "id": "zgDJ3xlfn1O-"
      }
    },
    {
      "cell_type": "markdown",
      "source": [
        "Alright, we've now got a way to numerically represent our text and labels, time to build a series of deep models to try and improve upon our baseline.\n",
        "\n",
        "All of our deep models will follow a similar structure:\n",
        "\n",
        "> Input (text) -> Tokenize -> Embedding -> Layers -> Output (label probability)\n",
        "\n",
        "The main component we'll be changing throughout is the Layers component. Because any modern deep NLP model requires text to be converted into an embedding before meaningful patterns can be discovered within.\n",
        "\n",
        "The first model we're going to build is a 1-dimensional Convolutional Neural Network.\n",
        "\n",
        "We're also going to be following the standard machine learning workflow of:\n",
        "\n",
        " * Build model\n",
        " * Train model\n",
        " * Evaluate model (make predictions and compare to ground truth)\n"
      ],
      "metadata": {
        "id": "ZxBvxDDBew2D"
      }
    },
    {
      "cell_type": "code",
      "source": [
        "from tensorflow.keras import layers\n",
        "\n",
        "# Build the model\n",
        "inputs = layers.Input(shape=(1, ), dtype=tf.string)\n",
        "x = text_vectorizer(inputs)\n",
        "x = embedding(x)\n",
        "x = layers.Conv1D(filters=64, kernel_size=5,  activation=\"relu\", padding =\"same\")(x)\n",
        "x = layers.GlobalMaxPool1D()(x)\n",
        "outputs = layers.Dense(5, activation=\"softmax\")(x)\n",
        "\n",
        "model_1 = tf.keras.Model(inputs, outputs, name=\"model_1_Conv1D\")\n",
        "\n",
        "# Compile the model\n",
        "model_1.compile(loss=tf.keras.losses.categorical_crossentropy,\n",
        "                metrics=[\"accuracy\"],\n",
        "                optimizer=tf.keras.optimizers.Adam())"
      ],
      "metadata": {
        "id": "K1Kk3piaoQH8",
        "execution": {
          "iopub.status.busy": "2023-08-05T05:22:29.285464Z",
          "iopub.execute_input": "2023-08-05T05:22:29.285724Z",
          "iopub.status.idle": "2023-08-05T05:22:29.384138Z",
          "shell.execute_reply.started": "2023-08-05T05:22:29.285701Z",
          "shell.execute_reply": "2023-08-05T05:22:29.383106Z"
        },
        "trusted": true
      },
      "execution_count": 60,
      "outputs": []
    },
    {
      "cell_type": "code",
      "source": [
        "model_1.summary()"
      ],
      "metadata": {
        "id": "cfpTIe5Mp0cQ",
        "outputId": "c0d88559-a707-4289-b63a-e2ce708faf2f",
        "execution": {
          "iopub.status.busy": "2023-08-05T05:22:29.386236Z",
          "iopub.execute_input": "2023-08-05T05:22:29.386819Z",
          "iopub.status.idle": "2023-08-05T05:22:29.413897Z",
          "shell.execute_reply.started": "2023-08-05T05:22:29.386773Z",
          "shell.execute_reply": "2023-08-05T05:22:29.413099Z"
        },
        "trusted": true,
        "colab": {
          "base_uri": "https://localhost:8080/"
        }
      },
      "execution_count": 61,
      "outputs": [
        {
          "output_type": "stream",
          "name": "stdout",
          "text": [
            "Model: \"model_1_Conv1D\"\n",
            "_________________________________________________________________\n",
            " Layer (type)                Output Shape              Param #   \n",
            "=================================================================\n",
            " input_1 (InputLayer)        [(None, 1)]               0         \n",
            "                                                                 \n",
            " text_vectorization_1 (Text  (None, 55)                0         \n",
            " Vectorization)                                                  \n",
            "                                                                 \n",
            " token_embedding (Embedding  (None, 55, 128)           8299648   \n",
            " )                                                               \n",
            "                                                                 \n",
            " conv1d (Conv1D)             (None, 55, 64)            41024     \n",
            "                                                                 \n",
            " global_max_pooling1d (Glob  (None, 64)                0         \n",
            " alMaxPooling1D)                                                 \n",
            "                                                                 \n",
            " dense (Dense)               (None, 5)                 325       \n",
            "                                                                 \n",
            "=================================================================\n",
            "Total params: 8340997 (31.82 MB)\n",
            "Trainable params: 8340997 (31.82 MB)\n",
            "Non-trainable params: 0 (0.00 Byte)\n",
            "_________________________________________________________________\n"
          ]
        }
      ]
    },
    {
      "cell_type": "markdown",
      "source": [
        "Wonderful! We've got our first deep sequence model built and ready to go.\n",
        "\n",
        "Checking out the model summary, you'll notice the majority of the trainable parameters are within the embedding layer. If we were to increase the size of the embedding (by increasing the `output_dim `parameter of the` Embedding` layer), the number of trainable parameters would increase dramatically.\n",
        "\n",
        "It's time to fit our model to the training data but we're going to make a mindful change.\n",
        "\n",
        "Since our training data contains nearly 200,000 sentences, fitting a deep model may take a while even with a GPU. So to keep our experiments swift, we're going to run them on a subset of the training dataset.\n",
        "\n",
        "More specifically, we'll only use the first 10% of batches (about 18,000 samples) of the training set to train on and the first 10% of batches from the validation set to validate on."
      ],
      "metadata": {
        "id": "lJs-0D0NfNwl"
      }
    },
    {
      "cell_type": "code",
      "source": [
        "history_model_1 = model_1.fit(train_dataset,\n",
        "                              validation_data=(valid_dataset),\n",
        "                              epochs=3,\n",
        "                              steps_per_epoch=int(0.1 * len(train_dataset)),\n",
        "                              validation_steps=int(len(valid_dataset) * 0.10))"
      ],
      "metadata": {
        "id": "whrL8CMxp4rS",
        "outputId": "8271e295-bbbb-4552-d58a-b76eb596cf93",
        "execution": {
          "iopub.status.busy": "2023-08-05T05:22:29.414879Z",
          "iopub.execute_input": "2023-08-05T05:22:29.415413Z",
          "iopub.status.idle": "2023-08-05T05:23:52.118915Z",
          "shell.execute_reply.started": "2023-08-05T05:22:29.415385Z",
          "shell.execute_reply": "2023-08-05T05:23:52.117759Z"
        },
        "trusted": true,
        "colab": {
          "base_uri": "https://localhost:8080/"
        }
      },
      "execution_count": 62,
      "outputs": [
        {
          "output_type": "stream",
          "name": "stdout",
          "text": [
            "Epoch 1/3\n",
            "562/562 [==============================] - 66s 115ms/step - loss: 0.8351 - accuracy: 0.6839 - val_loss: 0.5846 - val_accuracy: 0.7822\n",
            "Epoch 2/3\n",
            "562/562 [==============================] - 65s 115ms/step - loss: 0.5799 - accuracy: 0.7874 - val_loss: 0.5404 - val_accuracy: 0.8009\n",
            "Epoch 3/3\n",
            "562/562 [==============================] - 65s 116ms/step - loss: 0.5418 - accuracy: 0.8005 - val_loss: 0.5134 - val_accuracy: 0.8191\n"
          ]
        }
      ]
    },
    {
      "cell_type": "markdown",
      "source": [
        "Brilliant! We've got our first trained deep sequence model, and it didn't take too long (and if we didn't prefetch our batched data, it would've taken longer).\n",
        "\n",
        "Time to make some predictions with our model and then evaluate them."
      ],
      "metadata": {
        "id": "ThZl2mFLfXcG"
      }
    },
    {
      "cell_type": "code",
      "source": [
        "# Evaluate on validation data\n",
        "model_1.evaluate(valid_dataset)"
      ],
      "metadata": {
        "id": "_6rig1r7qUrC",
        "execution": {
          "iopub.status.busy": "2023-08-05T05:23:52.120809Z",
          "iopub.execute_input": "2023-08-05T05:23:52.121207Z",
          "iopub.status.idle": "2023-08-05T05:23:57.243212Z",
          "shell.execute_reply.started": "2023-08-05T05:23:52.121151Z",
          "shell.execute_reply": "2023-08-05T05:23:57.242211Z"
        },
        "trusted": true
      },
      "execution_count": null,
      "outputs": []
    },
    {
      "cell_type": "code",
      "source": [
        "# Make prediction(model_predicts prediction probabilities for each class)\n",
        "model_1_pred_probs =  model_1.predict(valid_dataset)\n",
        "model_1_preds = tf.argmax(model_1_pred_probs, axis=1)\n",
        "model_1_preds"
      ],
      "metadata": {
        "id": "C2RKM635tJav",
        "execution": {
          "iopub.status.busy": "2023-08-05T05:23:57.244890Z",
          "iopub.execute_input": "2023-08-05T05:23:57.245278Z",
          "iopub.status.idle": "2023-08-05T05:24:00.157362Z",
          "shell.execute_reply.started": "2023-08-05T05:23:57.245235Z",
          "shell.execute_reply": "2023-08-05T05:24:00.156162Z"
        },
        "trusted": true
      },
      "execution_count": null,
      "outputs": []
    },
    {
      "cell_type": "code",
      "source": [
        "model_1_preds[:10]"
      ],
      "metadata": {
        "id": "LOT23cHzt3fY",
        "execution": {
          "iopub.status.busy": "2023-08-05T05:24:00.158741Z",
          "iopub.execute_input": "2023-08-05T05:24:00.159153Z",
          "iopub.status.idle": "2023-08-05T05:24:00.170478Z",
          "shell.execute_reply.started": "2023-08-05T05:24:00.159113Z",
          "shell.execute_reply": "2023-08-05T05:24:00.169246Z"
        },
        "trusted": true
      },
      "execution_count": null,
      "outputs": []
    },
    {
      "cell_type": "code",
      "source": [
        "# Calculate model_1 results\n",
        "model_1_results= calculate_results(y_pred=model_1_preds,\n",
        "                                   y_true=val_labels_encoded)"
      ],
      "metadata": {
        "id": "1PAvSKkiuBOq",
        "execution": {
          "iopub.status.busy": "2023-08-05T05:24:00.172573Z",
          "iopub.execute_input": "2023-08-05T05:24:00.172875Z",
          "iopub.status.idle": "2023-08-05T05:24:00.194538Z",
          "shell.execute_reply.started": "2023-08-05T05:24:00.172839Z",
          "shell.execute_reply": "2023-08-05T05:24:00.193602Z"
        },
        "trusted": true
      },
      "execution_count": null,
      "outputs": []
    },
    {
      "cell_type": "code",
      "source": [
        "model_1_results, baseline_results\n"
      ],
      "metadata": {
        "id": "R1YN-R1GuTxi",
        "execution": {
          "iopub.status.busy": "2023-08-05T05:24:00.195830Z",
          "iopub.execute_input": "2023-08-05T05:24:00.196286Z",
          "iopub.status.idle": "2023-08-05T05:24:00.204335Z",
          "shell.execute_reply.started": "2023-08-05T05:24:00.196249Z",
          "shell.execute_reply": "2023-08-05T05:24:00.203225Z"
        },
        "trusted": true
      },
      "execution_count": null,
      "outputs": []
    },
    {
      "cell_type": "markdown",
      "source": [
        "## Model 2: Feature extraction with pretrained  token embedding\n",
        "Now let's use pretrained word embeddings from TensorFlow Hub, more specifically the universal sentence encoder: https://tfhub.dev/google/universal-sentence-encoder/4\n",
        "\n",
        "The model structure will look like:\n",
        "\n",
        "> Inputs (string) -> Pretrained embeddings from TensorFlow Hub (Universal Sentence Encoder) -> Layers -> Output (prediction probabilities)\n",
        "\n",
        "You'll notice the lack of tokenization layer we've used in a previous model. This is because the Universal Sentence Encoder (USE) takes care of tokenization for us.\n",
        "\n",
        "This type of model is called transfer learning, or more specifically, **feature extraction transfer learning**. In other words, taking the patterns a model has learned elsewhere and applying it to our own problem."
      ],
      "metadata": {
        "id": "eKjNnYbnurgS"
      }
    },
    {
      "cell_type": "code",
      "source": [
        "import tensorflow_hub as hub\n",
        "# Create a Keras layer using the USE pretrained layer from tensorflowhub\n",
        "sentence_encoder_layer = hub.KerasLayer(\"https://tfhub.dev/google/universal-sentence-encoder-large/5\",\n",
        "                                        input_shape=[],\n",
        "                                        dtype=tf.string,\n",
        "                                        trainable= False,\n",
        "                                        name=\"USE-large\")"
      ],
      "metadata": {
        "id": "wcbiupCYvrlq",
        "execution": {
          "iopub.status.busy": "2023-08-05T05:24:00.206012Z",
          "iopub.execute_input": "2023-08-05T05:24:00.206758Z",
          "iopub.status.idle": "2023-08-05T05:24:21.196144Z",
          "shell.execute_reply.started": "2023-08-05T05:24:00.206721Z",
          "shell.execute_reply": "2023-08-05T05:24:21.195115Z"
        },
        "trusted": true
      },
      "execution_count": null,
      "outputs": []
    },
    {
      "cell_type": "code",
      "source": [
        "# Test out the embedding on a random sentence\n",
        "random_training_sentence = random.choice(train_sentences)\n",
        "print(f\"Random training sentence:\\n{random_training_sentence}\\n\")\n",
        "use_embedded_sentence = tf_hub_embedding_layer([random_training_sentence])\n",
        "print(f\"Sentence after embedding:\\n{use_embedded_sentence[0][:30]} (truncated output)...\\n\")\n",
        "print(f\"Length of sentence embedding:\\n{len(use_embedded_sentence[0])}\")\n",
        ""
      ],
      "metadata": {
        "id": "pO249uC_f4ii"
      },
      "execution_count": null,
      "outputs": []
    },
    {
      "cell_type": "code",
      "source": [
        "# Building the model\n",
        "model_2 = tf.keras.Sequential([\n",
        "    sentence_encoder_layer,\n",
        "    tf.keras.layers.Dense(128, activation=\"relu\"),\n",
        "    tf.keras.layers.Dense(5, activation=\"softmax\")\n",
        "])\n",
        "\n",
        "model_2.compile(loss=\"categorical_crossentropy\",\n",
        "                optimizer=\"adam\",\n",
        "                metrics=[\"accuracy\"])\n",
        "\n",
        "model_2.summary()"
      ],
      "metadata": {
        "id": "QaXFdO2PxpV8",
        "execution": {
          "iopub.status.busy": "2023-08-05T05:24:21.197481Z",
          "iopub.execute_input": "2023-08-05T05:24:21.197842Z",
          "iopub.status.idle": "2023-08-05T05:24:24.188512Z",
          "shell.execute_reply.started": "2023-08-05T05:24:21.197809Z",
          "shell.execute_reply": "2023-08-05T05:24:24.187513Z"
        },
        "trusted": true
      },
      "execution_count": null,
      "outputs": []
    },
    {
      "cell_type": "code",
      "source": [
        "history_model_2 = model_2.fit(train_dataset,\n",
        "                              epochs=3,\n",
        "                              validation_data=(valid_dataset),\n",
        "                              steps_per_epoch=int(0.1 * len(train_dataset)),\n",
        "                              validation_steps=int(0.1 * len(valid_dataset)))"
      ],
      "metadata": {
        "id": "051sf8G5yk3L",
        "execution": {
          "iopub.status.busy": "2023-08-05T05:24:24.190132Z",
          "iopub.execute_input": "2023-08-05T05:24:24.190995Z",
          "iopub.status.idle": "2023-08-05T05:27:15.139889Z",
          "shell.execute_reply.started": "2023-08-05T05:24:24.190958Z",
          "shell.execute_reply": "2023-08-05T05:27:15.138780Z"
        },
        "trusted": true
      },
      "execution_count": null,
      "outputs": []
    },
    {
      "cell_type": "code",
      "source": [
        "model_2.evaluate(valid_dataset)"
      ],
      "metadata": {
        "id": "dW_MGxoUzZ11",
        "execution": {
          "iopub.status.busy": "2023-08-05T05:27:15.141589Z",
          "iopub.execute_input": "2023-08-05T05:27:15.142063Z",
          "iopub.status.idle": "2023-08-05T05:27:59.631248Z",
          "shell.execute_reply.started": "2023-08-05T05:27:15.142024Z",
          "shell.execute_reply": "2023-08-05T05:27:59.630090Z"
        },
        "trusted": true
      },
      "execution_count": null,
      "outputs": []
    },
    {
      "cell_type": "code",
      "source": [
        "# Make predictions with feature extraction model\n",
        "model_2_pred_probs = model_2.predict(valid_dataset)\n",
        "model_2_preds = tf.argmax(model_2_pred_probs, axis=1)\n",
        "model_2_preds[:10]"
      ],
      "metadata": {
        "id": "Q5DRSV5U1SbA",
        "execution": {
          "iopub.status.busy": "2023-08-05T05:27:59.633038Z",
          "iopub.execute_input": "2023-08-05T05:27:59.633461Z",
          "iopub.status.idle": "2023-08-05T05:28:53.288237Z",
          "shell.execute_reply.started": "2023-08-05T05:27:59.633422Z",
          "shell.execute_reply": "2023-08-05T05:28:53.287117Z"
        },
        "trusted": true
      },
      "execution_count": null,
      "outputs": []
    },
    {
      "cell_type": "code",
      "source": [
        "# Calulate results Tfhub pretrained embeddings results on val set\n",
        "model_2_results = calculate_results(y_true=val_labels_encoded,\n",
        "                                    y_pred=model_2_preds)\n",
        "model_2_results"
      ],
      "metadata": {
        "id": "ezVcHm-d1256",
        "execution": {
          "iopub.status.busy": "2023-08-05T05:28:53.289759Z",
          "iopub.execute_input": "2023-08-05T05:28:53.290238Z",
          "iopub.status.idle": "2023-08-05T05:28:53.314495Z",
          "shell.execute_reply.started": "2023-08-05T05:28:53.290203Z",
          "shell.execute_reply": "2023-08-05T05:28:53.313380Z"
        },
        "trusted": true
      },
      "execution_count": null,
      "outputs": []
    },
    {
      "cell_type": "markdown",
      "source": [
        "## Model 3: Conv1D with character embeddings\n",
        "The paper which we're replicating states they used a combination of token and character-level embeddings.\n",
        "\n",
        "Previously we've token-level embeddings but we'll need to do similar steps for characters if we want to use char-level embeddings."
      ],
      "metadata": {
        "id": "vaLKzFUR2OsD"
      }
    },
    {
      "cell_type": "markdown",
      "source": [
        "### Creating a character-level tokenizer"
      ],
      "metadata": {
        "id": "cDGRSVWV3Vos"
      }
    },
    {
      "cell_type": "code",
      "source": [
        "train_sentences[:5]"
      ],
      "metadata": {
        "id": "1kccHy5V38bs",
        "execution": {
          "iopub.status.busy": "2023-08-05T05:28:53.315969Z",
          "iopub.execute_input": "2023-08-05T05:28:53.317425Z",
          "iopub.status.idle": "2023-08-05T05:28:53.324519Z",
          "shell.execute_reply.started": "2023-08-05T05:28:53.317388Z",
          "shell.execute_reply": "2023-08-05T05:28:53.323394Z"
        },
        "trusted": true
      },
      "execution_count": null,
      "outputs": []
    },
    {
      "cell_type": "code",
      "source": [
        "# Make function to split sentences into characters\n",
        "def split_chars(text):\n",
        "  return \" \".join(list(text))"
      ],
      "metadata": {
        "id": "ymeNfv9p3_SS",
        "execution": {
          "iopub.status.busy": "2023-08-05T05:28:53.326113Z",
          "iopub.execute_input": "2023-08-05T05:28:53.326478Z",
          "iopub.status.idle": "2023-08-05T05:28:53.333955Z",
          "shell.execute_reply.started": "2023-08-05T05:28:53.326444Z",
          "shell.execute_reply": "2023-08-05T05:28:53.333005Z"
        },
        "trusted": true
      },
      "execution_count": null,
      "outputs": []
    },
    {
      "cell_type": "markdown",
      "source": [
        "Great! Looks like our character-splitting function works. Let's create character-level datasets by splitting our sequence datasets into characters."
      ],
      "metadata": {
        "id": "Td-iD4HSgMX1"
      }
    },
    {
      "cell_type": "code",
      "source": [
        "# Text splitting non-character-level sequence into characters\n",
        "split_chars(train_sentences[0])"
      ],
      "metadata": {
        "id": "Kwsamyuo4ZDk",
        "execution": {
          "iopub.status.busy": "2023-08-05T05:28:53.335445Z",
          "iopub.execute_input": "2023-08-05T05:28:53.335784Z",
          "iopub.status.idle": "2023-08-05T05:28:53.345440Z",
          "shell.execute_reply.started": "2023-08-05T05:28:53.335750Z",
          "shell.execute_reply": "2023-08-05T05:28:53.344292Z"
        },
        "trusted": true
      },
      "execution_count": null,
      "outputs": []
    },
    {
      "cell_type": "code",
      "source": [
        "# Split sequence level data splits into character level data splits\n",
        "train_chars = [split_chars(sentence) for sentence in train_sentences]\n",
        "valid_chars = [split_chars(sentence) for sentence in val_sentences]\n",
        "test_chars = [split_chars(sentence)for sentence in test_sentences]\n",
        "train_chars[:5]"
      ],
      "metadata": {
        "id": "23igsHUq4sys",
        "execution": {
          "iopub.status.busy": "2023-08-05T05:28:53.346935Z",
          "iopub.execute_input": "2023-08-05T05:28:53.347447Z",
          "iopub.status.idle": "2023-08-05T05:28:55.070307Z",
          "shell.execute_reply.started": "2023-08-05T05:28:53.347414Z",
          "shell.execute_reply": "2023-08-05T05:28:55.069141Z"
        },
        "trusted": true
      },
      "execution_count": null,
      "outputs": []
    },
    {
      "cell_type": "code",
      "source": [
        "# What's the average character length?\n",
        "chars_length = [len(sentence) for sentence in train_sentences]\n",
        "mean_char_len = np.mean(chars_length)\n",
        "mean_char_len"
      ],
      "metadata": {
        "id": "LwSEt_XC5b9O",
        "execution": {
          "iopub.status.busy": "2023-08-05T05:28:55.071619Z",
          "iopub.execute_input": "2023-08-05T05:28:55.072059Z",
          "iopub.status.idle": "2023-08-05T05:28:55.136531Z",
          "shell.execute_reply.started": "2023-08-05T05:28:55.072024Z",
          "shell.execute_reply": "2023-08-05T05:28:55.135473Z"
        },
        "trusted": true
      },
      "execution_count": null,
      "outputs": []
    },
    {
      "cell_type": "code",
      "source": [
        "# Check the distribution of our sentence ar a character level\n",
        "import matplotlib.pyplot as plt\n",
        "plt.hist(chars_length, bins=7)"
      ],
      "metadata": {
        "id": "n5c60iwn5xYb",
        "execution": {
          "iopub.status.busy": "2023-08-05T05:28:55.138235Z",
          "iopub.execute_input": "2023-08-05T05:28:55.138584Z",
          "iopub.status.idle": "2023-08-05T05:28:56.269210Z",
          "shell.execute_reply.started": "2023-08-05T05:28:55.138551Z",
          "shell.execute_reply": "2023-08-05T05:28:56.268115Z"
        },
        "trusted": true
      },
      "execution_count": null,
      "outputs": []
    },
    {
      "cell_type": "code",
      "source": [
        "# Find what character length cover 95% of sequences\n",
        "output_seq_char_len = int(np.percentile(chars_length, 95))\n",
        "output_seq_char_len"
      ],
      "metadata": {
        "id": "Az8iV4U76BgV",
        "execution": {
          "iopub.status.busy": "2023-08-05T05:28:56.270770Z",
          "iopub.execute_input": "2023-08-05T05:28:56.271117Z",
          "iopub.status.idle": "2023-08-05T05:28:56.303051Z",
          "shell.execute_reply.started": "2023-08-05T05:28:56.271084Z",
          "shell.execute_reply": "2023-08-05T05:28:56.301979Z"
        },
        "trusted": true
      },
      "execution_count": null,
      "outputs": []
    },
    {
      "cell_type": "code",
      "source": [
        "# Get all keyboard characters\n",
        "import string\n",
        "alphabet = string.ascii_lowercase + string.digits + string.punctuation\n",
        "print(len(alphabet), alphabet)"
      ],
      "metadata": {
        "id": "puvcSSfJ6Yh0",
        "execution": {
          "iopub.status.busy": "2023-08-05T05:28:56.304489Z",
          "iopub.execute_input": "2023-08-05T05:28:56.304916Z",
          "iopub.status.idle": "2023-08-05T05:28:56.323392Z",
          "shell.execute_reply.started": "2023-08-05T05:28:56.304882Z",
          "shell.execute_reply": "2023-08-05T05:28:56.322104Z"
        },
        "trusted": true
      },
      "execution_count": null,
      "outputs": []
    },
    {
      "cell_type": "code",
      "source": [
        "# Create char-level tokenvectorier instance\n",
        "NUM_CHAR_TOKENS = len(alphabet) + 2 #add 3 for space and OOV token(OOV = out of vocab)\n",
        "char_vectorizer = TextVectorization(max_tokens=NUM_CHAR_TOKENS,\n",
        "                                    output_sequence_length = output_seq_char_len,\n",
        "                                    # standardize=None,\n",
        "                                    name=\"char_vectorizer\")"
      ],
      "metadata": {
        "id": "zYMkWNaB7euU",
        "execution": {
          "iopub.status.busy": "2023-08-05T05:28:56.324951Z",
          "iopub.execute_input": "2023-08-05T05:28:56.325337Z",
          "iopub.status.idle": "2023-08-05T05:28:56.339139Z",
          "shell.execute_reply.started": "2023-08-05T05:28:56.325303Z",
          "shell.execute_reply": "2023-08-05T05:28:56.338209Z"
        },
        "trusted": true
      },
      "execution_count": null,
      "outputs": []
    },
    {
      "cell_type": "code",
      "source": [
        "# Adapt to training chars\n",
        "char_vectorizer.adapt(train_chars)"
      ],
      "metadata": {
        "id": "KNf9F-IO8lU_",
        "execution": {
          "iopub.status.busy": "2023-08-05T05:28:56.340697Z",
          "iopub.execute_input": "2023-08-05T05:28:56.341093Z",
          "iopub.status.idle": "2023-08-05T05:29:19.982800Z",
          "shell.execute_reply.started": "2023-08-05T05:28:56.341034Z",
          "shell.execute_reply": "2023-08-05T05:29:19.981771Z"
        },
        "trusted": true
      },
      "execution_count": null,
      "outputs": []
    },
    {
      "cell_type": "code",
      "source": [
        "# Check character vocab stats\n",
        "char_vocab = char_vectorizer.get_vocabulary()\n",
        "print(f\"Number of different characters in character vocab: {len(char_vocab)}\")\n",
        "print(f\"5 Most common characters: {char_vocab[:5]}\")\n",
        "print(f\"5 least common characters: {char_vocab[-5:]}\")"
      ],
      "metadata": {
        "id": "2-aQV3A98tPD",
        "execution": {
          "iopub.status.busy": "2023-08-05T05:29:19.984868Z",
          "iopub.execute_input": "2023-08-05T05:29:19.985278Z",
          "iopub.status.idle": "2023-08-05T05:29:19.992838Z",
          "shell.execute_reply.started": "2023-08-05T05:29:19.985232Z",
          "shell.execute_reply": "2023-08-05T05:29:19.991903Z"
        },
        "trusted": true
      },
      "execution_count": null,
      "outputs": []
    },
    {
      "cell_type": "code",
      "source": [
        "# Test out character vectorizer\n",
        "random_train_chars = random.choice(train_chars)\n",
        "print(f\"Charified text:\\n {random_train_chars}\")\n",
        "print(f\"\\nLength of random_train_chars: {len(random_train_chars.split())}\")\n",
        "vectorized_chars = char_vectorizer([random_train_chars])\n",
        "print(f\"\\nVectorized chars:\\n {vectorized_chars}\")\n",
        "print(f\"\\nLength of Vectorized chars: {len(vectorized_chars[0])}\")"
      ],
      "metadata": {
        "id": "ZEaitie49gvV",
        "execution": {
          "iopub.status.busy": "2023-08-05T05:29:19.994057Z",
          "iopub.execute_input": "2023-08-05T05:29:19.994976Z",
          "iopub.status.idle": "2023-08-05T05:29:20.018631Z",
          "shell.execute_reply.started": "2023-08-05T05:29:19.994940Z",
          "shell.execute_reply": "2023-08-05T05:29:20.017666Z"
        },
        "trusted": true
      },
      "execution_count": null,
      "outputs": []
    },
    {
      "cell_type": "markdown",
      "source": [
        "### Create a  Character level embedding\n",
        "We've got a way to vectorize our character-level sequences, now's time to create a character-level embedding.\n",
        "\n",
        "Just like our custom token embedding, we can do so using the `tensorflow.keras.layers.Embedding class.`\n",
        "\n",
        "Our character-level embedding layer requires an input dimension and output dimension."
      ],
      "metadata": {
        "id": "brZtkVFNkXgm"
      }
    },
    {
      "cell_type": "code",
      "source": [
        "from tensorflow.keras import layers\n",
        "\n",
        "char_embedding = layers.Embedding(input_dim = len(char_vocab),\n",
        "                                  output_dim = 25, #this is size of the char embed in paper\n",
        "                                  mask_zero=True,\n",
        "                                  name = \"character_embedding\")"
      ],
      "metadata": {
        "id": "YRfa-KCblFKh",
        "execution": {
          "iopub.status.busy": "2023-08-05T05:29:20.020469Z",
          "iopub.execute_input": "2023-08-05T05:29:20.020755Z",
          "iopub.status.idle": "2023-08-05T05:29:20.026645Z",
          "shell.execute_reply.started": "2023-08-05T05:29:20.020731Z",
          "shell.execute_reply": "2023-08-05T05:29:20.025643Z"
        },
        "trusted": true
      },
      "execution_count": null,
      "outputs": []
    },
    {
      "cell_type": "code",
      "source": [
        "# Show sample char embedding\n",
        "print(f\"Sentence before vectorization: \\n {random_train_chars}\\n\")\n",
        "vectorized_chars = char_vectorizer([random_train_chars])\n",
        "print(f\"Sentence after vectorization(before embedding):\\n {vectorized_chars}\\n\")\n",
        "char_embedded = char_embedding(vectorized_chars)\n",
        "print(f\"Sentence after embedding:\\n{char_embedded}\\n\")\n",
        "print(f\"Embedded char sentence shape:{char_embedded.shape}\")"
      ],
      "metadata": {
        "id": "YFCfkpfWkn6H",
        "execution": {
          "iopub.status.busy": "2023-08-05T05:29:20.028027Z",
          "iopub.execute_input": "2023-08-05T05:29:20.028605Z",
          "iopub.status.idle": "2023-08-05T05:29:20.058304Z",
          "shell.execute_reply.started": "2023-08-05T05:29:20.028571Z",
          "shell.execute_reply": "2023-08-05T05:29:20.057236Z"
        },
        "trusted": true
      },
      "execution_count": null,
      "outputs": []
    },
    {
      "cell_type": "markdown",
      "source": [
        "### Building a Conv1D model to fit on character embeddings"
      ],
      "metadata": {
        "id": "Yqu6mnusnGWk"
      }
    },
    {
      "cell_type": "code",
      "source": [
        "# Make Conv1D on char embedding\n",
        "from tensorflow.keras import layers\n",
        "\n",
        "inputs = layers.Input(shape=(1,), dtype=tf.string)\n",
        "char_vectors = char_vectorizer(inputs)\n",
        "char_embeddings = char_embedding(char_vectors)\n",
        "x = layers.Conv1D(64, kernel_size=5, padding=\"same\", activation=\"relu\")(char_embeddings)\n",
        "x = layers.GlobalMaxPool1D()(x)\n",
        "outputs = layers.Dense(num_classes, activation=\"softmax\")(x)\n",
        "model_3 = tf.keras.Model(inputs=inputs,\n",
        "                         outputs=outputs,\n",
        "                         name=\"model_3_conv1D_char_embedding\")\n",
        "\n",
        "# Compile model\n",
        "model_3.compile(loss=\"categorical_crossentropy\",\n",
        "                optimizer=tf.keras.optimizers.Adam(),\n",
        "                metrics=[\"accuracy\"])"
      ],
      "metadata": {
        "id": "hfL2H1cpoyAH",
        "execution": {
          "iopub.status.busy": "2023-08-05T05:29:20.060161Z",
          "iopub.execute_input": "2023-08-05T05:29:20.060832Z",
          "iopub.status.idle": "2023-08-05T05:29:20.154950Z",
          "shell.execute_reply.started": "2023-08-05T05:29:20.060793Z",
          "shell.execute_reply": "2023-08-05T05:29:20.154147Z"
        },
        "trusted": true
      },
      "execution_count": null,
      "outputs": []
    },
    {
      "cell_type": "code",
      "source": [
        "model_3.summary()"
      ],
      "metadata": {
        "id": "Q_ZQ2NygqeN4",
        "execution": {
          "iopub.status.busy": "2023-08-05T05:29:20.156014Z",
          "iopub.execute_input": "2023-08-05T05:29:20.156352Z",
          "iopub.status.idle": "2023-08-05T05:29:20.176565Z",
          "shell.execute_reply.started": "2023-08-05T05:29:20.156318Z",
          "shell.execute_reply": "2023-08-05T05:29:20.175478Z"
        },
        "trusted": true
      },
      "execution_count": null,
      "outputs": []
    },
    {
      "cell_type": "code",
      "source": [
        "#Create char level datasets\n",
        "train_char_dataset = tf.data.Dataset.from_tensor_slices((train_chars, train_labels_one_hot)).batch(32).prefetch(tf.data.AUTOTUNE)\n",
        "val_char_dataset = tf.data.Dataset.from_tensor_slices((valid_chars, val_labels_one_hot)).batch(32).prefetch(tf.data.AUTOTUNE)\n",
        "test_char_dataset = tf.data.Dataset.from_tensor_slices((test_chars, test_labels_one_hot)).batch(32).prefetch(tf.data.AUTOTUNE)"
      ],
      "metadata": {
        "id": "ttK7u-LdskKC",
        "execution": {
          "iopub.status.busy": "2023-08-05T05:29:20.178153Z",
          "iopub.execute_input": "2023-08-05T05:29:20.178761Z",
          "iopub.status.idle": "2023-08-05T05:29:21.368498Z",
          "shell.execute_reply.started": "2023-08-05T05:29:20.178725Z",
          "shell.execute_reply": "2023-08-05T05:29:21.367458Z"
        },
        "trusted": true
      },
      "execution_count": null,
      "outputs": []
    },
    {
      "cell_type": "code",
      "source": [
        "history_model_3 = model_3.fit(train_char_dataset,\n",
        "                              steps_per_epoch = int(0.1 * len(train_char_dataset)),\n",
        "                              epochs=3,\n",
        "                              validation_data=val_char_dataset,\n",
        "                              validation_steps=int(0.1 * len(val_char_dataset)))"
      ],
      "metadata": {
        "id": "Kz13WaSit8gW",
        "execution": {
          "iopub.status.busy": "2023-08-05T05:29:21.370098Z",
          "iopub.execute_input": "2023-08-05T05:29:21.370486Z",
          "iopub.status.idle": "2023-08-05T05:29:33.424656Z",
          "shell.execute_reply.started": "2023-08-05T05:29:21.370450Z",
          "shell.execute_reply": "2023-08-05T05:29:33.423625Z"
        },
        "trusted": true
      },
      "execution_count": null,
      "outputs": []
    },
    {
      "cell_type": "code",
      "source": [
        "# Make prediction character model\n",
        "model_3_pred_probs = model_3.predict(val_char_dataset)\n",
        "model_3_preds = tf.argmax(model_3_pred_probs, axis=1)"
      ],
      "metadata": {
        "id": "84An6eW0ulIg",
        "execution": {
          "iopub.status.busy": "2023-08-05T05:29:33.426279Z",
          "iopub.execute_input": "2023-08-05T05:29:33.426676Z",
          "iopub.status.idle": "2023-08-05T05:29:36.386229Z",
          "shell.execute_reply.started": "2023-08-05T05:29:33.426640Z",
          "shell.execute_reply": "2023-08-05T05:29:36.385150Z"
        },
        "trusted": true
      },
      "execution_count": null,
      "outputs": []
    },
    {
      "cell_type": "code",
      "source": [
        "# calculate results foe connv1d model\n",
        "model_3_results = calculate_results(y_true=val_labels_encoded,\n",
        "                                    y_pred= model_3_preds)"
      ],
      "metadata": {
        "id": "A_XjcDoUvKZR",
        "execution": {
          "iopub.status.busy": "2023-08-05T05:29:36.387901Z",
          "iopub.execute_input": "2023-08-05T05:29:36.388278Z",
          "iopub.status.idle": "2023-08-05T05:29:36.408022Z",
          "shell.execute_reply.started": "2023-08-05T05:29:36.388242Z",
          "shell.execute_reply": "2023-08-05T05:29:36.407037Z"
        },
        "trusted": true
      },
      "execution_count": null,
      "outputs": []
    },
    {
      "cell_type": "code",
      "source": [
        "model_3_results"
      ],
      "metadata": {
        "id": "4h620GxzvfbV",
        "execution": {
          "iopub.status.busy": "2023-08-05T05:29:36.409435Z",
          "iopub.execute_input": "2023-08-05T05:29:36.410044Z",
          "iopub.status.idle": "2023-08-05T05:29:36.416655Z",
          "shell.execute_reply.started": "2023-08-05T05:29:36.410009Z",
          "shell.execute_reply": "2023-08-05T05:29:36.415577Z"
        },
        "trusted": true
      },
      "execution_count": null,
      "outputs": []
    },
    {
      "cell_type": "markdown",
      "source": [
        "## Model 4: Combining pretrained token embeddings + character embeddings(hybrid embedding layer)\n",
        "\n",
        "1. Create a token-level embedding(similar `model_1`)\n",
        "2. Create a character-level model(similar to `model_3` with slight modification)\n",
        "3. Combine 1 & 2 with concatenate(`layers.Concatenate`)\n",
        "4. Build a series of output layers on top of 3 similar to Figure 1 and section 4.2 of https://arxiv.org/pdf/1612.05251.pdf\n",
        "5. Construct a model which takes token and character-level sequences as input and produces sequence label probabilities as output"
      ],
      "metadata": {
        "id": "0QR_fpvFvhOL"
      }
    },
    {
      "cell_type": "code",
      "source": [
        "# 1. Setup token inputs/model\n",
        "token_inputs = layers.Input(shape=[], dtype=tf.string, name=\"token_input\")\n",
        "token_embeddings = sentence_encoder_layer(token_inputs)\n",
        "token_outputs = layers.Dense(128, activation=\"relu\")(token_embeddings)\n",
        "token_model = tf.keras.Model(inputs=token_inputs,\n",
        "                             outputs=token_outputs)\n",
        "\n",
        "# 2. Setup char inputs/model\n",
        "char_inputs = layers.Input(shape=(1,), dtype=tf.string, name=\"char_input\")\n",
        "char_vectors = char_vectorizer(char_inputs)\n",
        "char_embeddings = char_embedding(char_vectors)\n",
        "char_bi_lstm= layers.Bidirectional(layers.LSTM(24))(char_embeddings)\n",
        "char_model = tf.keras.Model(inputs=char_inputs,\n",
        "                            outputs=char_bi_lstm)\n",
        "\n",
        "# 3. Concatenate token and char inputs(create hybrid token embedding)\n",
        "token_char_concat = layers.Concatenate(name=\"token_char_hybrid\")([token_model.output,\n",
        "                                                                  char_model.output])\n",
        "\n",
        "# 4. Create output layers - adding in Dropout in section of paper\n",
        "combined_dropout = layers.Dropout(0.5)(token_char_concat)\n",
        "combined_dense = layers.Dense(128, activation=\"relu\")(combined_dropout)\n",
        "final_dropout = layers.Dropout(0.5)(combined_dense)\n",
        "output_layer = layers.Dense(num_classes, activation=\"softmax\")(final_dropout)\n",
        "\n",
        "# 5. Construct model with char and token inputs\n",
        "model_4 = tf.keras.Model(inputs=[token_model.input, char_model.input],\n",
        "                         outputs=output_layer)\n"
      ],
      "metadata": {
        "id": "T7nW50pAyK5p",
        "execution": {
          "iopub.status.busy": "2023-08-05T05:29:36.418050Z",
          "iopub.execute_input": "2023-08-05T05:29:36.418952Z",
          "iopub.status.idle": "2023-08-05T05:29:39.871721Z",
          "shell.execute_reply.started": "2023-08-05T05:29:36.418915Z",
          "shell.execute_reply": "2023-08-05T05:29:39.870678Z"
        },
        "trusted": true
      },
      "execution_count": null,
      "outputs": []
    },
    {
      "cell_type": "code",
      "source": [
        "# Get summary\n",
        "model_4.summary()"
      ],
      "metadata": {
        "id": "LThYBeB_4g-F",
        "execution": {
          "iopub.status.busy": "2023-08-05T05:29:39.873030Z",
          "iopub.execute_input": "2023-08-05T05:29:39.873388Z",
          "iopub.status.idle": "2023-08-05T05:29:39.992990Z",
          "shell.execute_reply.started": "2023-08-05T05:29:39.873353Z",
          "shell.execute_reply": "2023-08-05T05:29:39.992020Z"
        },
        "trusted": true
      },
      "execution_count": null,
      "outputs": []
    },
    {
      "cell_type": "code",
      "source": [
        "# Plot hybrid token and character model\n",
        "from keras.utils import plot_model\n",
        "plot_model(model_4, show_shapes=True)"
      ],
      "metadata": {
        "id": "B-jM8hWa49J8",
        "execution": {
          "iopub.status.busy": "2023-08-05T05:29:39.994498Z",
          "iopub.execute_input": "2023-08-05T05:29:39.995090Z",
          "iopub.status.idle": "2023-08-05T05:29:40.321238Z",
          "shell.execute_reply.started": "2023-08-05T05:29:39.995053Z",
          "shell.execute_reply": "2023-08-05T05:29:40.320274Z"
        },
        "trusted": true
      },
      "execution_count": null,
      "outputs": []
    },
    {
      "cell_type": "code",
      "source": [
        "# Compile token char model\n",
        "model_4.compile(loss=\"categorical_crossentropy\",\n",
        "                optimizer=\"adam\",\n",
        "                metrics=[\"accuracy\"])"
      ],
      "metadata": {
        "id": "jDpSQCqj5wd0",
        "execution": {
          "iopub.status.busy": "2023-08-05T05:29:40.322633Z",
          "iopub.execute_input": "2023-08-05T05:29:40.323002Z",
          "iopub.status.idle": "2023-08-05T05:29:40.338836Z",
          "shell.execute_reply.started": "2023-08-05T05:29:40.322967Z",
          "shell.execute_reply": "2023-08-05T05:29:40.337501Z"
        },
        "trusted": true
      },
      "execution_count": null,
      "outputs": []
    },
    {
      "cell_type": "markdown",
      "source": [
        "### Combining token and character data into a tf.data Dataset"
      ],
      "metadata": {
        "id": "trIKs9KF2oYr"
      }
    },
    {
      "cell_type": "code",
      "source": [
        "# Combine chars and tokens into a dataset\n",
        "train_char_token_data = tf.data.Dataset.from_tensor_slices((train_sentences,train_chars))\n",
        "train_char_token_labels = tf.data.Dataset.from_tensor_slices(train_labels_one_hot)\n",
        "train_char_token_dataset = tf.data.Dataset.zip((train_char_token_data, train_char_token_labels))\n",
        "\n",
        "# Prefetch and batch train data\n",
        "train_char_token_dataset = train_char_token_dataset.batch(32).prefetch(tf.data.AUTOTUNE)"
      ],
      "metadata": {
        "id": "NX783YkC3J4l",
        "execution": {
          "iopub.status.busy": "2023-08-05T05:29:40.340922Z",
          "iopub.execute_input": "2023-08-05T05:29:40.341848Z",
          "iopub.status.idle": "2023-08-05T05:29:41.951882Z",
          "shell.execute_reply.started": "2023-08-05T05:29:40.341814Z",
          "shell.execute_reply": "2023-08-05T05:29:41.950863Z"
        },
        "trusted": true
      },
      "execution_count": null,
      "outputs": []
    },
    {
      "cell_type": "code",
      "source": [
        "# Combine chars and tokens into a dataset\n",
        "val_char_token_data = tf.data.Dataset.from_tensor_slices((val_sentences,valid_chars))\n",
        "val_char_token_labels = tf.data.Dataset.from_tensor_slices(val_labels_one_hot)\n",
        "val_char_token_dataset = tf.data.Dataset.zip((val_char_token_data, val_char_token_labels))\n",
        "\n",
        "# Prefetch and batch val data\n",
        "val_char_token_dataset = val_char_token_dataset.batch(32).prefetch(tf.data.AUTOTUNE)"
      ],
      "metadata": {
        "id": "2Q0TXimH40Go",
        "execution": {
          "iopub.status.busy": "2023-08-05T05:29:41.953200Z",
          "iopub.execute_input": "2023-08-05T05:29:41.953551Z",
          "iopub.status.idle": "2023-08-05T05:29:42.256976Z",
          "shell.execute_reply.started": "2023-08-05T05:29:41.953518Z",
          "shell.execute_reply": "2023-08-05T05:29:42.255994Z"
        },
        "trusted": true
      },
      "execution_count": null,
      "outputs": []
    },
    {
      "cell_type": "code",
      "source": [
        "# Check out training char and token embedding dataset\n",
        "train_char_token_dataset, val_char_token_dataset"
      ],
      "metadata": {
        "id": "Fxy5F_0K5HUu",
        "execution": {
          "iopub.status.busy": "2023-08-05T05:29:42.258225Z",
          "iopub.execute_input": "2023-08-05T05:29:42.258579Z",
          "iopub.status.idle": "2023-08-05T05:29:42.265199Z",
          "shell.execute_reply.started": "2023-08-05T05:29:42.258544Z",
          "shell.execute_reply": "2023-08-05T05:29:42.264036Z"
        },
        "trusted": true
      },
      "execution_count": null,
      "outputs": []
    },
    {
      "cell_type": "markdown",
      "source": [
        "### Fitting a model on token and character-level sequences"
      ],
      "metadata": {
        "id": "zE-P8nlE5kRy"
      }
    },
    {
      "cell_type": "code",
      "source": [
        "# Fit the model on tokens and chars\n",
        "history_model_4 = model_4.fit(train_char_token_dataset,\n",
        "                              steps_per_epoch=int(0.1 * len(train_char_token_dataset)),\n",
        "                              epochs=3,\n",
        "                              validation_data=val_char_token_dataset,\n",
        "                              validation_steps=int(0.1 * len(val_char_token_dataset)))"
      ],
      "metadata": {
        "id": "uQPB3MJv6J3e",
        "execution": {
          "iopub.status.busy": "2023-08-05T05:29:42.266809Z",
          "iopub.execute_input": "2023-08-05T05:29:42.267758Z",
          "iopub.status.idle": "2023-08-05T05:33:20.154521Z",
          "shell.execute_reply.started": "2023-08-05T05:29:42.267722Z",
          "shell.execute_reply": "2023-08-05T05:33:20.153065Z"
        },
        "trusted": true
      },
      "execution_count": null,
      "outputs": []
    },
    {
      "cell_type": "code",
      "source": [
        "# Evaluating the model\n",
        "model_4.evaluate(val_char_token_dataset)"
      ],
      "metadata": {
        "id": "UYDrpAk762tr",
        "execution": {
          "iopub.status.busy": "2023-08-05T05:33:20.156050Z",
          "iopub.execute_input": "2023-08-05T05:33:20.156378Z",
          "iopub.status.idle": "2023-08-05T05:34:16.662225Z",
          "shell.execute_reply.started": "2023-08-05T05:33:20.156350Z",
          "shell.execute_reply": "2023-08-05T05:34:16.661108Z"
        },
        "trusted": true
      },
      "execution_count": null,
      "outputs": []
    },
    {
      "cell_type": "code",
      "source": [
        "# Get the predictions\n",
        "model_4_preds_probs = model_4.predict(val_char_token_dataset)"
      ],
      "metadata": {
        "id": "f4mSgFBo6Amu",
        "execution": {
          "iopub.status.busy": "2023-08-05T05:34:16.663978Z",
          "iopub.execute_input": "2023-08-05T05:34:16.664347Z",
          "iopub.status.idle": "2023-08-05T05:35:15.935630Z",
          "shell.execute_reply.started": "2023-08-05T05:34:16.664307Z",
          "shell.execute_reply": "2023-08-05T05:35:15.934446Z"
        },
        "trusted": true
      },
      "execution_count": null,
      "outputs": []
    },
    {
      "cell_type": "code",
      "source": [
        "# Round the preds\n",
        "preds_model_4 = tf.argmax(model_4_preds_probs, axis=1)\n",
        "preds_model_4"
      ],
      "metadata": {
        "id": "auXkgacI8rc5",
        "execution": {
          "iopub.status.busy": "2023-08-05T05:35:15.937023Z",
          "iopub.execute_input": "2023-08-05T05:35:15.937411Z",
          "iopub.status.idle": "2023-08-05T05:35:15.950836Z",
          "shell.execute_reply.started": "2023-08-05T05:35:15.937375Z",
          "shell.execute_reply": "2023-08-05T05:35:15.949752Z"
        },
        "trusted": true
      },
      "execution_count": null,
      "outputs": []
    },
    {
      "cell_type": "code",
      "source": [
        "# Calulate the evaluation matrix\n",
        "model_4_results = calculate_results(y_pred=preds_model_4,\n",
        "                                    y_true=val_labels_encoded)\n",
        "model_4_results"
      ],
      "metadata": {
        "id": "cy6L1D_S9BpL",
        "execution": {
          "iopub.status.busy": "2023-08-05T05:35:15.952826Z",
          "iopub.execute_input": "2023-08-05T05:35:15.953244Z",
          "iopub.status.idle": "2023-08-05T05:35:15.984116Z",
          "shell.execute_reply.started": "2023-08-05T05:35:15.953185Z",
          "shell.execute_reply": "2023-08-05T05:35:15.983122Z"
        },
        "trusted": true
      },
      "execution_count": null,
      "outputs": []
    },
    {
      "cell_type": "markdown",
      "source": [
        ">**Note**: Any engineered features used to train a model need to be available at test time. In our case, line numbers and total lines are available."
      ],
      "metadata": {
        "id": "IwGq6qcF_q9x"
      }
    },
    {
      "cell_type": "markdown",
      "source": [
        "## Model 5: Transfer Learning with pretrained token embeddings + character embeddings + positional embeddings"
      ],
      "metadata": {
        "id": "q9UTjiRthNFy"
      }
    },
    {
      "cell_type": "markdown",
      "source": [
        "It seems like combining token embeddings and character embeddings gave our model a little performance boost.\n",
        "\n",
        "But there's one more piece of the puzzle we can add in.\n",
        "\n",
        "What if we engineered our own features into the model?\n",
        "\n",
        "Meaning, what if we took our own knowledge about the data and encoded it in a numerical way to give our model more information about our samples?\n",
        "\n",
        "The process of applying your own knowledge to build features as input to a model is called `feature engineering.`"
      ],
      "metadata": {
        "id": "IMDFjurKhYgi"
      }
    },
    {
      "cell_type": "markdown",
      "source": [
        "### Create positional embeddings"
      ],
      "metadata": {
        "id": "WjPmi0K0B2gh"
      }
    },
    {
      "cell_type": "markdown",
      "source": [
        "Since our `\"line_number\" `and `\"total_line\" `columns are already numerical, we could pass them as they are to our model.\n",
        "\n",
        "But to avoid our model thinking a line with `\"line_number\"=5` is five times greater than a line with `\"line_number\"=1`, we'll use one-hot-encoding to encode our `\"line_number\"` and `\"total_lines\"` features.\n",
        "\n",
        "To do this, we can use the `tf.one_hot `utility.\n",
        "\n",
        "`tf.one_hot` returns a one-hot-encoded tensor. It accepts an array (or tensor) as input and the `depth` parameter determines the dimension of the returned tensor.\n",
        "\n",
        "To figure out what we should set the depth parameter to, let's investigate the distribution of the `\"line_number\"` column.\n",
        "\n",
        ">**🔑 Note:**When it comes to one-hot-encoding our features, Scikit-Learn's OneHotEncoder class is another viable option here."
      ],
      "metadata": {
        "id": "79dKBHyEhc69"
      }
    },
    {
      "cell_type": "code",
      "source": [
        "# How many different line numbers are there?\n",
        "train_df[\"line_number\"].value_counts()"
      ],
      "metadata": {
        "id": "kHCZeLFuCBfQ",
        "execution": {
          "iopub.status.busy": "2023-08-05T05:35:15.985470Z",
          "iopub.execute_input": "2023-08-05T05:35:15.986098Z",
          "iopub.status.idle": "2023-08-05T05:35:15.998142Z",
          "shell.execute_reply.started": "2023-08-05T05:35:15.986057Z",
          "shell.execute_reply": "2023-08-05T05:35:15.997108Z"
        },
        "trusted": true
      },
      "execution_count": null,
      "outputs": []
    },
    {
      "cell_type": "code",
      "source": [
        "# Check the distribution of \"line_number\" column\n",
        "train_df.line_number.plot.hist()"
      ],
      "metadata": {
        "id": "EsoI4WGOCNQ_",
        "execution": {
          "iopub.status.busy": "2023-08-05T05:35:15.999630Z",
          "iopub.execute_input": "2023-08-05T05:35:16.000222Z",
          "iopub.status.idle": "2023-08-05T05:35:16.288625Z",
          "shell.execute_reply.started": "2023-08-05T05:35:16.000187Z",
          "shell.execute_reply": "2023-08-05T05:35:16.287632Z"
        },
        "trusted": true
      },
      "execution_count": null,
      "outputs": []
    },
    {
      "cell_type": "code",
      "source": [
        "# Use TensorFlow to create one-hot-encoded tensors of our \"line_number\" column\n",
        "train_line_numbers_one_hot = tf.one_hot(train_df[\"line_number\"].to_numpy(),depth=15)\n",
        "val_line_numbers_one_hot = tf.one_hot(val_df[\"line_number\"].to_numpy(),depth=15)\n",
        "test_line_numbers_one_hot = tf.one_hot(test_df[\"line_number\"].to_numpy(),depth=15)\n",
        "train_line_numbers_one_hot[:10], train_line_numbers_one_hot.shape"
      ],
      "metadata": {
        "id": "J7YNr7R-C2ps",
        "execution": {
          "iopub.status.busy": "2023-08-05T05:35:16.300628Z",
          "iopub.execute_input": "2023-08-05T05:35:16.301445Z",
          "iopub.status.idle": "2023-08-05T05:35:16.323964Z",
          "shell.execute_reply.started": "2023-08-05T05:35:16.301415Z",
          "shell.execute_reply": "2023-08-05T05:35:16.322956Z"
        },
        "trusted": true
      },
      "execution_count": null,
      "outputs": []
    },
    {
      "cell_type": "code",
      "source": [
        "train_df.head()"
      ],
      "metadata": {
        "id": "b00T0nSLFc_E",
        "execution": {
          "iopub.status.busy": "2023-08-05T05:35:16.326435Z",
          "iopub.execute_input": "2023-08-05T05:35:16.327082Z",
          "iopub.status.idle": "2023-08-05T05:35:16.339633Z",
          "shell.execute_reply.started": "2023-08-05T05:35:16.327046Z",
          "shell.execute_reply": "2023-08-05T05:35:16.338328Z"
        },
        "trusted": true
      },
      "execution_count": null,
      "outputs": []
    },
    {
      "cell_type": "code",
      "source": [
        "# How many total lines are there?\n",
        "train_df[\"total_lines\"].value_counts().sort_index()"
      ],
      "metadata": {
        "id": "92T1Vu3OEIq5",
        "execution": {
          "iopub.status.busy": "2023-08-05T05:35:16.342764Z",
          "iopub.execute_input": "2023-08-05T05:35:16.343428Z",
          "iopub.status.idle": "2023-08-05T05:35:16.358349Z",
          "shell.execute_reply.started": "2023-08-05T05:35:16.343390Z",
          "shell.execute_reply": "2023-08-05T05:35:16.357412Z"
        },
        "trusted": true
      },
      "execution_count": null,
      "outputs": []
    },
    {
      "cell_type": "code",
      "source": [
        "# Check the distribution of \"line_number\" column\n",
        "train_df.total_lines.plot.hist()"
      ],
      "metadata": {
        "id": "mRcfH5fGFjWk",
        "execution": {
          "iopub.status.busy": "2023-08-05T05:35:16.359770Z",
          "iopub.execute_input": "2023-08-05T05:35:16.360350Z",
          "iopub.status.idle": "2023-08-05T05:35:16.660205Z",
          "shell.execute_reply.started": "2023-08-05T05:35:16.360162Z",
          "shell.execute_reply": "2023-08-05T05:35:16.659230Z"
        },
        "trusted": true
      },
      "execution_count": null,
      "outputs": []
    },
    {
      "cell_type": "code",
      "source": [
        "# Check teh coverage of a total line value of 20\n",
        "np.percentile(train_df.total_lines, 98)"
      ],
      "metadata": {
        "id": "on0ewpgmHaOj",
        "execution": {
          "iopub.status.busy": "2023-08-05T05:35:16.661775Z",
          "iopub.execute_input": "2023-08-05T05:35:16.662453Z",
          "iopub.status.idle": "2023-08-05T05:35:16.671591Z",
          "shell.execute_reply.started": "2023-08-05T05:35:16.662412Z",
          "shell.execute_reply": "2023-08-05T05:35:16.670423Z"
        },
        "trusted": true
      },
      "execution_count": null,
      "outputs": []
    },
    {
      "cell_type": "code",
      "source": [
        "# Use TensorFlow to create one-hot-encoded tensors of our \"total_lines\" column\n",
        "train_total_lines_one_hot = tf.one_hot(train_df[\"total_lines\"].to_numpy(),depth=20)\n",
        "val_total_lines_one_hot = tf.one_hot(val_df[\"total_lines\"].to_numpy(),depth=20)\n",
        "test_total_lines_one_hot = tf.one_hot(test_df[\"total_lines\"].to_numpy(),depth=20)\n",
        "train_total_lines_one_hot[:10], train_total_lines_one_hot.shape"
      ],
      "metadata": {
        "id": "sVkdQQH_GMuA",
        "execution": {
          "iopub.status.busy": "2023-08-05T05:35:16.673531Z",
          "iopub.execute_input": "2023-08-05T05:35:16.673955Z",
          "iopub.status.idle": "2023-08-05T05:35:16.690485Z",
          "shell.execute_reply.started": "2023-08-05T05:35:16.673919Z",
          "shell.execute_reply": "2023-08-05T05:35:16.689233Z"
        },
        "trusted": true
      },
      "execution_count": null,
      "outputs": []
    },
    {
      "cell_type": "markdown",
      "source": [
        "## Building a tribrid embedding model\n",
        "\n",
        "1. Create a token-level model\n",
        "2. Create a character-level model\n",
        "3. Create a model for the \"line_number\" feature\n",
        "4. Create a model for the \"total_lines\"\n",
        "feature\n",
        "5. Combine the outputs of 1 & 2 using tf.keras.layers.Concatenate\n",
        "6. Combine the outputs of 3, 4, 5 using tf.keras.layers.Concatenate\n",
        "7. Create an output layer to accept the tribrid embedding and output label probabilities\n",
        "8. Combine the inputs of 1,2,3,4 and outputs of into a tf.keras.Model"
      ],
      "metadata": {
        "id": "_WSdeH4lGhRF"
      }
    },
    {
      "cell_type": "code",
      "source": [
        "# 1. Token inputs\n",
        "token_inputs = layers.Input(shape=[], dtype=\"string\", name=\"token_inputs\")\n",
        "token_embeddings = sentence_encoder_layer(token_inputs)\n",
        "token_outputs = layers.Dense(128, activation=\"relu\")(token_embeddings)\n",
        "token_model = tf.keras.Model(inputs=token_inputs,\n",
        "                             outputs=token_outputs)\n",
        "\n",
        "# 2. Char inputs\n",
        "char_inputs = layers.Input(shape=(1,), dtype=\"string\", name=\"char_inputs\")\n",
        "char_vectors = char_vectorizer(char_inputs)\n",
        "char_embeddings = char_embedding(char_vectors)\n",
        "char_bi_lstm = layers.Bidirectional(layers.LSTM(24))(char_embeddings)\n",
        "char_model = tf.keras.Model(inputs=char_inputs,\n",
        "                            outputs=char_bi_lstm)\n",
        "\n",
        "# 3. line numbers model\n",
        "line_inputs = layers.Input(shape=(15,) , dtype=tf.float32, name=\"line_numbers_inputs\")\n",
        "x = layers.Dense(32, activation=\"relu\")(line_inputs)\n",
        "line_number_model = tf.keras.Model(line_inputs, x)\n",
        "\n",
        "# 4. Total lines model\n",
        "total_lines_inputs = layers.Input(shape=(20,), dtype=tf.float32, name=\"total_line_inputs\")\n",
        "y = layers.Dense(32, activation=\"relu\")(total_lines_inputs)\n",
        "total_line_model = tf.keras.Model(total_lines_inputs, y)\n",
        "\n",
        "# 5. Concatenate token and char inputs(create hybrid token embedding)\n",
        "combined_embeddings = layers.Concatenate(name=\"char_token_hybrid_embedding\")([token_model.output,\n",
        "                                                                              char_model.output])\n",
        "\n",
        "z = layers.Dense(256, activation=\"relu\")(combined_embeddings)\n",
        "z = layers.Dropout(0.5)(z)\n",
        "\n",
        "# 6. Combine the positional embedding with combined token and char embedings\n",
        "tribrid_embeddings = layers.Concatenate(name=\"char_token_positional_embedding\")([line_number_model.output,\n",
        "                                                                                 total_line_model.output,\n",
        "                                                                                 z])\n",
        "\n",
        "# 7. Create output layer\n",
        "output_layer = layers.Dense(5, activation=\"softmax\", name=\"output_layer\")(tribrid_embeddings)\n",
        "\n",
        "# 8. Put together model with all kinds of inputs\n",
        "model_5 = tf.keras.Model(inputs=[line_number_model.input,\n",
        "                                 total_line_model.input,\n",
        "                                 token_model.input,\n",
        "                                 char_model.input],\n",
        "                         outputs=output_layer,\n",
        "                         name=\"model_5_tribrid_embedding_model\")"
      ],
      "metadata": {
        "id": "_lC3luC_JGXg",
        "execution": {
          "iopub.status.busy": "2023-08-05T05:35:16.693027Z",
          "iopub.execute_input": "2023-08-05T05:35:16.693305Z",
          "iopub.status.idle": "2023-08-05T05:35:20.706691Z",
          "shell.execute_reply.started": "2023-08-05T05:35:16.693280Z",
          "shell.execute_reply": "2023-08-05T05:35:20.705671Z"
        },
        "trusted": true
      },
      "execution_count": null,
      "outputs": []
    },
    {
      "cell_type": "code",
      "source": [
        "model_5.summary()"
      ],
      "metadata": {
        "id": "oHtC-TJDR4GB",
        "execution": {
          "iopub.status.busy": "2023-08-05T05:35:20.707869Z",
          "iopub.execute_input": "2023-08-05T05:35:20.708230Z",
          "iopub.status.idle": "2023-08-05T05:35:20.845389Z",
          "shell.execute_reply.started": "2023-08-05T05:35:20.708193Z",
          "shell.execute_reply": "2023-08-05T05:35:20.844362Z"
        },
        "trusted": true
      },
      "execution_count": null,
      "outputs": []
    },
    {
      "cell_type": "code",
      "source": [
        "# plot model_5\n",
        "from tensorflow.keras.utils import plot_model\n",
        "plot_model(model_5, show_shapes=True )"
      ],
      "metadata": {
        "id": "ysU5hLsdQy8Y",
        "execution": {
          "iopub.status.busy": "2023-08-05T05:35:20.847000Z",
          "iopub.execute_input": "2023-08-05T05:35:20.847611Z",
          "iopub.status.idle": "2023-08-05T05:35:21.025117Z",
          "shell.execute_reply.started": "2023-08-05T05:35:20.847574Z",
          "shell.execute_reply": "2023-08-05T05:35:21.024117Z"
        },
        "trusted": true
      },
      "execution_count": null,
      "outputs": []
    },
    {
      "cell_type": "markdown",
      "source": [
        "Visualizing the model makes it much easier to understand.\n",
        "\n",
        "Essentially what we're doing is trying to encode as much information about our sequences as possible into various embeddings (the inputs to our model) so our model has the best chance to figure out what label belongs to a sequence (the outputs of our model)."
      ],
      "metadata": {
        "id": "HN2z8tHJiHOM"
      }
    },
    {
      "cell_type": "code",
      "source": [
        "# Check which layers of our model are trainable or not\n",
        "for layer in model_5.layers:\n",
        "  print(layer, layer.trainable)"
      ],
      "metadata": {
        "id": "ZvBiujDViUgi"
      },
      "execution_count": null,
      "outputs": []
    },
    {
      "cell_type": "markdown",
      "source": [
        "What is label smoothing?\n",
        "\n",
        "For example, if our model gets too confident on a single class (e.g. its prediction probability is really high), it may get stuck on that class and not consider other classes...\n",
        "\n",
        "Really confident: `[0.0, 0.0, 1.0, 0.0, 0.0]`\n",
        "\n",
        "What label smoothing does is it assigns some of the value from the highest pred prob to other classes, in turn, hopefully improving generalization: `[0.02, 0.01, 0.96, 0.01, 0.01]`"
      ],
      "metadata": {
        "id": "Ww5Y0wEM94s4"
      }
    },
    {
      "cell_type": "code",
      "source": [
        "# Compile token, char, and positional embedding model\n",
        "model_5.compile(loss=tf.keras.losses.CategoricalCrossentropy(label_smoothing=0.2), #helps to prevent overfitting\n",
        "                optimizer= \"adam\",\n",
        "                metrics=[\"accuracy\"])"
      ],
      "metadata": {
        "id": "5E_AqdHlRocl",
        "execution": {
          "iopub.status.busy": "2023-08-05T05:35:21.026507Z",
          "iopub.execute_input": "2023-08-05T05:35:21.026957Z",
          "iopub.status.idle": "2023-08-05T05:35:21.045416Z",
          "shell.execute_reply.started": "2023-08-05T05:35:21.026922Z",
          "shell.execute_reply": "2023-08-05T05:35:21.044503Z"
        },
        "trusted": true
      },
      "execution_count": null,
      "outputs": []
    },
    {
      "cell_type": "markdown",
      "source": [
        "### Create tribrid embedding datasets using `tf.data`\n",
        "\n",
        "Model compiled!\n",
        "\n",
        "Again, to keep our experiments swift, let's fit on 20,000 examples for 3 epochs.\n",
        "\n",
        "This time our model requires four feature inputs:\n",
        "\n",
        " 1. Train line numbers one-hot tensor (`train_line_numbers_one_hot`)\n",
        " 2. Train total lines one-hot tensor (`train_total_lines_one_hot`)\n",
        " 3. Token-level sequences tensor (`train_sentences`)\n",
        " 4. Char-level sequences tensor (`train_chars`)\n",
        "\n",
        "We can pass these as tuples to our `tf.data.Dataset.from_tensor_slices()` method to create appropriately shaped and batched `PrefetchedDataset's.`"
      ],
      "metadata": {
        "id": "VhdTiHmRDwr6"
      }
    },
    {
      "cell_type": "code",
      "source": [
        "train_data = tf.data.Dataset.from_tensor_slices((train_line_numbers_one_hot, train_total_lines_one_hot, train_sentences, train_chars))\n",
        "train_labels = tf.data.Dataset.from_tensor_slices(train_labels_one_hot)\n",
        "train_dataset = tf.data.Dataset.zip((train_data, train_labels))\n",
        "\n",
        "val_data = tf.data.Dataset.from_tensor_slices((val_line_numbers_one_hot,val_total_lines_one_hot,val_sentences,valid_chars))\n",
        "val_labels = tf.data.Dataset.from_tensor_slices(val_labels_one_hot)\n",
        "val_dataset = tf.data.Dataset.zip((val_data, val_labels))\n",
        "\n",
        "test_data = tf.data.Dataset.from_tensor_slices((test_line_numbers_one_hot, test_total_lines_one_hot, test_sentences, test_chars))\n",
        "test_labels = tf.data.Dataset.from_tensor_slices(test_labels_one_hot)\n",
        "test_dataset = tf.data.Dataset.zip((test_data, test_labels))\n",
        "\n",
        "# Prefetch and batch data\n",
        "train_dataset = train_dataset.batch(32).prefetch(tf.data.AUTOTUNE)\n",
        "val_dataset = val_dataset.batch(32).prefetch(tf.data.AUTOTUNE)\n",
        "test_dataset = test_dataset.batch(32).prefetch(tf.data.AUTOTUNE)"
      ],
      "metadata": {
        "id": "7OT78J0UD5rg",
        "execution": {
          "iopub.status.busy": "2023-08-05T05:35:21.046990Z",
          "iopub.execute_input": "2023-08-05T05:35:21.047382Z",
          "iopub.status.idle": "2023-08-05T05:35:23.273175Z",
          "shell.execute_reply.started": "2023-08-05T05:35:21.047348Z",
          "shell.execute_reply": "2023-08-05T05:35:23.272121Z"
        },
        "trusted": true
      },
      "execution_count": null,
      "outputs": []
    },
    {
      "cell_type": "code",
      "source": [
        "train_dataset, val_dataset"
      ],
      "metadata": {
        "id": "UDodP6TnHS4s",
        "execution": {
          "iopub.status.busy": "2023-08-05T05:35:23.274766Z",
          "iopub.execute_input": "2023-08-05T05:35:23.275120Z",
          "iopub.status.idle": "2023-08-05T05:35:23.285835Z",
          "shell.execute_reply.started": "2023-08-05T05:35:23.275084Z",
          "shell.execute_reply": "2023-08-05T05:35:23.284835Z"
        },
        "trusted": true
      },
      "execution_count": null,
      "outputs": []
    },
    {
      "cell_type": "markdown",
      "source": [
        "### Fitting, evaluating and making prediction with tribrid model"
      ],
      "metadata": {
        "id": "qL_cE2LiHqcD"
      }
    },
    {
      "cell_type": "code",
      "source": [
        "history_model_5 =  model_5.fit(train_dataset,\n",
        "                               epochs=3,\n",
        "                               steps_per_epoch= int(0.1* len(train_dataset)),\n",
        "                               validation_data=(val_dataset),\n",
        "                               validation_steps=int(0.1 * len(val_dataset)))"
      ],
      "metadata": {
        "id": "URrSZycGI06U",
        "execution": {
          "iopub.status.busy": "2023-08-05T05:35:23.287481Z",
          "iopub.execute_input": "2023-08-05T05:35:23.288161Z",
          "iopub.status.idle": "2023-08-05T05:38:35.047461Z",
          "shell.execute_reply.started": "2023-08-05T05:35:23.288122Z",
          "shell.execute_reply": "2023-08-05T05:38:35.046302Z"
        },
        "trusted": true
      },
      "execution_count": null,
      "outputs": []
    },
    {
      "cell_type": "code",
      "source": [
        "# Make prediction with the char token pos model\n",
        "model_5_pred_probs = model_5.predict(val_dataset, verbose=1)\n",
        "# Conver pred probs to pred labels\n",
        "model_5_preds = tf.argmax(model_5_pred_probs, axis=1)\n",
        "model_5_preds"
      ],
      "metadata": {
        "id": "4wsTHt-VJREc",
        "execution": {
          "iopub.status.busy": "2023-08-05T05:38:35.049157Z",
          "iopub.execute_input": "2023-08-05T05:38:35.049668Z",
          "iopub.status.idle": "2023-08-05T05:39:35.986117Z",
          "shell.execute_reply.started": "2023-08-05T05:38:35.049629Z",
          "shell.execute_reply": "2023-08-05T05:39:35.984919Z"
        },
        "trusted": true
      },
      "execution_count": null,
      "outputs": []
    },
    {
      "cell_type": "code",
      "source": [
        "# Calculate the results of char token pos model\n",
        "model_5_results = calculate_results(y_true=val_labels_encoded,\n",
        "                                    y_pred=model_5_preds)\n",
        "model_5_results"
      ],
      "metadata": {
        "id": "VRc9foMRK_FO",
        "execution": {
          "iopub.status.busy": "2023-08-05T05:39:35.987966Z",
          "iopub.execute_input": "2023-08-05T05:39:35.988357Z",
          "iopub.status.idle": "2023-08-05T05:39:36.012989Z",
          "shell.execute_reply.started": "2023-08-05T05:39:35.988318Z",
          "shell.execute_reply": "2023-08-05T05:39:36.011823Z"
        },
        "trusted": true
      },
      "execution_count": null,
      "outputs": []
    },
    {
      "cell_type": "markdown",
      "source": [
        "## Compare model results\n",
        "Far out, we've come a long way. From a baseline model to training a model containing three different kinds of embeddings.\n",
        "\n",
        "Now it's time to compare each model's performance against each other.\n",
        "\n",
        "We'll also be able to compare our model's to the PubMed 200k RCT: a Dataset for Sequential Sentence Classification in Medical Abstracts paper.\n",
        "\n",
        "Since all of our model results are in dictionaries, let's combine them into a pandas DataFrame to visualize them."
      ],
      "metadata": {
        "id": "Skz5a_Z3cUHo"
      }
    },
    {
      "cell_type": "code",
      "source": [
        "# Combine model results into a dataframe\n",
        "all_model_results = pd.DataFrame({\"model_0_baseline\": baseline_results,\n",
        "                                 \"model_1_custom_token_embedding\": model_1_results,\n",
        "                                 \"model_2_pretrained_token_embedding\": model_2_results,\n",
        "                                 \"model_3_custom_char_embedding\": model_3_results,\n",
        "                                 \"model_4_hybrid_char_token_embedding\": model_4_results,\n",
        "                                 \"model_5_pos_char_token_embedding\": model_5_results})\n",
        "\n",
        "all_model_results = all_model_results.transpose()\n",
        "all_model_results"
      ],
      "metadata": {
        "execution": {
          "iopub.status.busy": "2023-08-05T05:52:19.331696Z",
          "iopub.execute_input": "2023-08-05T05:52:19.332085Z",
          "iopub.status.idle": "2023-08-05T05:52:19.349684Z",
          "shell.execute_reply.started": "2023-08-05T05:52:19.332052Z",
          "shell.execute_reply": "2023-08-05T05:52:19.348425Z"
        },
        "trusted": true,
        "id": "qXNgYRUAWZkS"
      },
      "execution_count": null,
      "outputs": []
    },
    {
      "cell_type": "code",
      "source": [
        "# Reduce the accuracy to same scale as other metrics\n",
        "all_model_results[\"accuracy\"] = all_model_results[\"accuracy\"]/100"
      ],
      "metadata": {
        "execution": {
          "iopub.status.busy": "2023-08-05T05:54:45.801305Z",
          "iopub.execute_input": "2023-08-05T05:54:45.801747Z",
          "iopub.status.idle": "2023-08-05T05:54:45.808168Z",
          "shell.execute_reply.started": "2023-08-05T05:54:45.801713Z",
          "shell.execute_reply": "2023-08-05T05:54:45.807042Z"
        },
        "trusted": true,
        "id": "AYuhhftFWZkS"
      },
      "execution_count": null,
      "outputs": []
    },
    {
      "cell_type": "code",
      "source": [
        "# Plot and compare all model results\n",
        "all_model_results.plot(kind=\"bar\", figsize=(10,7)).legend(bbox_to_anchor=(1.0,1.0));"
      ],
      "metadata": {
        "execution": {
          "iopub.status.busy": "2023-08-05T05:56:57.248073Z",
          "iopub.execute_input": "2023-08-05T05:56:57.248485Z",
          "iopub.status.idle": "2023-08-05T05:56:57.688034Z",
          "shell.execute_reply.started": "2023-08-05T05:56:57.248451Z",
          "shell.execute_reply": "2023-08-05T05:56:57.687105Z"
        },
        "trusted": true,
        "id": "OfsqYBEOWZkS"
      },
      "execution_count": null,
      "outputs": []
    },
    {
      "cell_type": "code",
      "source": [
        "# Sort model results by f1_score\n",
        "all_model_results.sort_values(\"f1\", ascending=True)[\"f1\"].plot(kind=\"bar\", figsize=(10,7))"
      ],
      "metadata": {
        "execution": {
          "iopub.status.busy": "2023-08-05T06:00:45.007090Z",
          "iopub.execute_input": "2023-08-05T06:00:45.008141Z",
          "iopub.status.idle": "2023-08-05T06:00:45.398683Z",
          "shell.execute_reply.started": "2023-08-05T06:00:45.008102Z",
          "shell.execute_reply": "2023-08-05T06:00:45.397699Z"
        },
        "trusted": true,
        "id": "yE2QOSfrWZkS"
      },
      "execution_count": null,
      "outputs": []
    },
    {
      "cell_type": "markdown",
      "source": [
        "## Save and load model\n",
        "Since we've been through a fair few experiments, it's a good idea to save our best performing model so we can reuse it without having to retrain"
      ],
      "metadata": {
        "id": "dRZT3Z99WZkT"
      }
    },
    {
      "cell_type": "code",
      "source": [
        "# Save the best performing model to SaveModel format (default)\n",
        "model_5.save(\"skimlit_tribrid_model\")"
      ],
      "metadata": {
        "execution": {
          "iopub.status.busy": "2023-08-05T06:06:09.548053Z",
          "iopub.execute_input": "2023-08-05T06:06:09.548457Z",
          "iopub.status.idle": "2023-08-05T06:08:06.235361Z",
          "shell.execute_reply.started": "2023-08-05T06:06:09.548425Z",
          "shell.execute_reply": "2023-08-05T06:08:06.234188Z"
        },
        "trusted": true,
        "id": "QEp0DDq6WZkT"
      },
      "execution_count": null,
      "outputs": []
    },
    {
      "cell_type": "code",
      "source": [
        "# Download pretrained model from Google Storage\n",
        "!wget https://storage.googleapis.com/ztm_tf_course/skimlit/skimlit_tribrid_model.zip\n",
        "!mkdir skimlit_gs_model\n",
        "!unzip skimlit_tribrid_model.zip -d skimlit_gs_model"
      ],
      "metadata": {
        "id": "I1YvKtkAjd4G"
      },
      "execution_count": null,
      "outputs": []
    },
    {
      "cell_type": "code",
      "source": [
        "import tensorflow_hub as hub\n",
        "import tensorflow as tf\n",
        "from tensorflow.keras.layers import TextVectorization\n",
        "\n",
        "model_path = \"skimlit_gs_model/skimlit_tribrid_model/\"\n",
        "\n",
        "# Load downloaded model from Google Storage\n",
        "loaded_model = tf.keras.models.load_model(model_path)"
      ],
      "metadata": {
        "execution": {
          "iopub.status.busy": "2023-08-05T06:08:06.478371Z",
          "iopub.execute_input": "2023-08-05T06:08:06.478738Z",
          "iopub.status.idle": "2023-08-05T06:09:04.225949Z",
          "shell.execute_reply.started": "2023-08-05T06:08:06.478701Z",
          "shell.execute_reply": "2023-08-05T06:09:04.224725Z"
        },
        "trusted": true,
        "id": "MfI1Q43kWZkT"
      },
      "execution_count": null,
      "outputs": []
    },
    {
      "cell_type": "markdown",
      "source": [
        "## Make predictions and evalaute them against the truth labels\n",
        "To make sure our model saved and loaded correctly, let's make predictions with it, evaluate them and then compare them to the prediction results we calculated earlier."
      ],
      "metadata": {
        "id": "tKEpMwm5jwGs"
      }
    },
    {
      "cell_type": "code",
      "source": [
        "# Make predictions with the loaded model on the validation set\n",
        "loaded_model_preds_probs = loaded_model.predict(val_dataset)\n",
        "loaded_preds = tf.argmax(loaded_model_preds_probs, axis=1)\n",
        "loaded_preds[:10]"
      ],
      "metadata": {
        "execution": {
          "iopub.status.busy": "2023-08-05T06:19:10.192865Z",
          "iopub.execute_input": "2023-08-05T06:19:10.193360Z",
          "iopub.status.idle": "2023-08-05T06:20:18.457632Z",
          "shell.execute_reply.started": "2023-08-05T06:19:10.193319Z",
          "shell.execute_reply": "2023-08-05T06:20:18.456214Z"
        },
        "trusted": true,
        "id": "HdGBjtu3WZkT"
      },
      "execution_count": null,
      "outputs": []
    },
    {
      "cell_type": "code",
      "source": [
        "# calculate the loaded model results\n",
        "loaded_model_results = calculate_results(y_true=val_labels_encoded,\n",
        "                                        y_pred=loaded_preds)\n",
        "loaded_model_results"
      ],
      "metadata": {
        "execution": {
          "iopub.status.busy": "2023-08-05T06:21:15.793688Z",
          "iopub.execute_input": "2023-08-05T06:21:15.794260Z",
          "iopub.status.idle": "2023-08-05T06:21:15.830888Z",
          "shell.execute_reply.started": "2023-08-05T06:21:15.794204Z",
          "shell.execute_reply": "2023-08-05T06:21:15.829628Z"
        },
        "trusted": true,
        "id": "9gfy3z7TWZkT"
      },
      "execution_count": null,
      "outputs": []
    },
    {
      "cell_type": "code",
      "source": [
        "model_5_results"
      ],
      "metadata": {
        "execution": {
          "iopub.status.busy": "2023-08-05T06:23:03.960841Z",
          "iopub.execute_input": "2023-08-05T06:23:03.961333Z",
          "iopub.status.idle": "2023-08-05T06:23:03.975911Z",
          "shell.execute_reply.started": "2023-08-05T06:23:03.961291Z",
          "shell.execute_reply": "2023-08-05T06:23:03.974729Z"
        },
        "trusted": true,
        "id": "ajCDRI1ZWZkT"
      },
      "execution_count": null,
      "outputs": []
    },
    {
      "cell_type": "code",
      "source": [
        "# Compare loaded model results with original trained model results (should be quite close)\n",
        "np.isclose(list(model_5_results.values()), list(loaded_model_results.values()), rtol=1e-02)"
      ],
      "metadata": {
        "id": "J38VL3CZj5f7"
      },
      "execution_count": null,
      "outputs": []
    },
    {
      "cell_type": "code",
      "source": [
        "loaded_model.summary()"
      ],
      "metadata": {
        "execution": {
          "iopub.status.busy": "2023-08-05T06:24:11.271331Z",
          "iopub.execute_input": "2023-08-05T06:24:11.272165Z",
          "iopub.status.idle": "2023-08-05T06:24:11.450283Z",
          "shell.execute_reply.started": "2023-08-05T06:24:11.272117Z",
          "shell.execute_reply": "2023-08-05T06:24:11.449259Z"
        },
        "trusted": true,
        "id": "4MwZFchiWZkU"
      },
      "execution_count": null,
      "outputs": []
    },
    {
      "cell_type": "markdown",
      "source": [
        "## Evaluate model on test dataset"
      ],
      "metadata": {
        "id": "hnVxLYRGj9Xy"
      }
    },
    {
      "cell_type": "code",
      "source": [
        "# Make predictions on the test dataset\n",
        "test_pred_probs = loaded_model.predict(test_dataset,\n",
        "                                       verbose=1)\n",
        "test_preds = tf.argmax(test_pred_probs, axis=1)\n",
        "test_preds[:10]"
      ],
      "metadata": {
        "id": "hxGZpdhGj_eI"
      },
      "execution_count": null,
      "outputs": []
    },
    {
      "cell_type": "code",
      "source": [
        "# Evaluate loaded model test predictions\n",
        "loaded_model_test_results = calculate_results(y_true=test_labels_encoded,\n",
        "                                              y_pred=test_preds)\n",
        "loaded_model_test_results\n",
        ""
      ],
      "metadata": {
        "id": "OY1IO7h8kNxx"
      },
      "execution_count": null,
      "outputs": []
    },
    {
      "cell_type": "markdown",
      "source": [
        "It seems our best model (so far) still has some ways to go to match the performance of the results in the paper (their model gets 90.0 F1-score on the test dataset, where as ours gets ~82.1 F1-score).\n",
        "\n",
        "However, as we discussed before our model has only been trained on 20,000 out of the total ~180,000 sequences in the RCT 20k dataset. We also haven't fine-tuned our pretrained embeddings (the paper fine-tunes GloVe embeddings). So there's a couple of extensions we could try to improve our results."
      ],
      "metadata": {
        "id": "73Zsx_tikRI0"
      }
    },
    {
      "cell_type": "markdown",
      "source": [
        "## Find most wrong\n",
        "One of the best ways to investigate where your model is going wrong (or potentially where your data is wrong) is to visualize the \"most wrong\" predictions.\n",
        "\n",
        "The most wrong predictions are samples where the model has made a prediction with a high probability but has gotten it wrong (the model's prediction disagreess with the ground truth label).\n",
        "\n",
        "Looking at the most wrong predictions can give us valuable information on how to improve further models or fix the labels in our data.\n",
        "\n",
        "Let's write some code to help us visualize the most wrong predictions from the test dataset.\n",
        "\n",
        "First we'll convert all of our integer-based test predictions into their string-based class names."
      ],
      "metadata": {
        "id": "aHh97UKxkR8f"
      }
    },
    {
      "cell_type": "code",
      "source": [
        "%%time\n",
        "# Get list of class names of test predictions\n",
        "test_pred_classes = [label_encoder.classes_[pred] for pred in test_preds]\n",
        "test_pred_classes"
      ],
      "metadata": {
        "id": "3tKpFW3mkXbn"
      },
      "execution_count": null,
      "outputs": []
    },
    {
      "cell_type": "markdown",
      "source": [
        "Now we'll enrich our test DataFame with a few values:\n",
        "\n",
        "* A \"`prediction`\" (string) column containing our model's prediction for a given sample.\n",
        "* A \"`pred_prob`\" (float) column containing the model's maximum prediction probabiliy for a given sample.\n",
        "* A \"`correct`\" (bool) column to indicate whether or not the model's prediction matches the sample's target label."
      ],
      "metadata": {
        "id": "7gQmucWUkgdC"
      }
    },
    {
      "cell_type": "code",
      "source": [
        "# Create prediction-enriched test dataframe\n",
        "test_df[\"prediction\"] = test_pred_classes # create column with test prediction class names\n",
        "test_df[\"pred_prob\"] = tf.reduce_max(test_pred_probs, axis=1).numpy() # get the maximum prediction probability\n",
        "test_df[\"correct\"] = test_df[\"prediction\"] == test_df[\"target\"] # create binary column for whether the prediction is right or not\n",
        "test_df.head(20)"
      ],
      "metadata": {
        "id": "VlXc6-EpkchE"
      },
      "execution_count": null,
      "outputs": []
    },
    {
      "cell_type": "markdown",
      "source": [
        "Great (or not so great)! Now we've got a subset of our model's most wrong predictions, let's write some code to visualize them."
      ],
      "metadata": {
        "id": "U6li6Rgcks1j"
      }
    },
    {
      "cell_type": "code",
      "source": [
        "# Investigate top wrong preds\n",
        "for row in top_100_wrong[0:10].itertuples(): # adjust indexes to view different samples\n",
        "  _, target, text, line_number, total_lines, prediction, pred_prob, _ = row\n",
        "  print(f\"Target: {target}, Pred: {prediction}, Prob: {pred_prob}, Line number: {line_number}, Total lines: {total_lines}\\n\")\n",
        "  print(f\"Text:\\n{text}\\n\")\n",
        "  print(\"-----\\n\")\n",
        ""
      ],
      "metadata": {
        "id": "Ny_3RNwXktlB"
      },
      "execution_count": null,
      "outputs": []
    },
    {
      "cell_type": "markdown",
      "source": [
        "A next step here would be if there are a fair few samples with inconsistent labels, you could go through your training dataset, update the labels and then retrain a model. The process of using a model to help improve/investigate your dataset's labels is often referred to as **active learning**."
      ],
      "metadata": {
        "id": "xnQcpApmky6o"
      }
    },
    {
      "cell_type": "markdown",
      "source": [
        "## Make example predictions\n",
        "we've made some predictions on the test dataset, now's time to really test our model out.\n",
        "\n",
        "To do so, we're going to get some data from the wild and see how our model performs.\n",
        "\n",
        "In other words, were going to find an RCT abstract from PubMed, preprocess the text so it works with our model, then pass each sequence in the wild abstract through our model to see what label it predicts.\n",
        "\n",
        "For an appropriate sample, we'll need to search PubMed for RCT's (randomized controlled trials) without abstracts which have been split up (on exploring PubMed you'll notice many of the abstracts are already preformatted into separate sections, this helps dramatically with readability).\n",
        "\n",
        "We'll use the below from https://pubmed.ncbi.nlm.nih.gov/20232240/:\n",
        "> This RCT examined the efficacy of a manualized social intervention for children with HFASDs. Participants were randomly assigned to treatment or wait-list conditions. Treatment included instruction and therapeutic activities targeting social skills, face-emotion recognition, interest expansion, and interpretation of non-literal language. A response-cost program was applied to reduce problem behaviors and foster skills acquisition. Significant treatment effects were found for five of seven primary outcome measures (parent ratings and direct child measures). Secondary measures based on staff ratings (treatment group only) corroborated gains reported by parents. High levels of parent, child and staff satisfaction were reported, along with high levels of treatment fidelity. Standardized effect size estimates were primarily in the medium and large ranges and favored the treatment group.\n",
        "\n",
        "Looking at the large chunk of text can seem quite intimidating. Now imagine you're a medical researcher trying to skim through the literature to find a study relevant to your work.\n",
        "\n",
        "Sounds like quite the challenge right?\n",
        "\n",
        "Enter SkimLit 🤓🔥!\n",
        "\n",
        "Let's see what our best model so far (model_5) makes of the above abstract.\n",
        "\n",
        "But wait...\n",
        "\n",
        "As you might've guessed the above abstract hasn't been formatted in the same structure as the data our model has been trained on. Therefore, before we can make a prediction on it, we need to preprocess it just as we have our other sequences.\n",
        "\n",
        "More specifically, for each abstract, we'll need to:\n",
        "\n",
        " 1. Split it into sentences (lines).\n",
        " 2. Split it into characters.\n",
        " 3. Find the number of each line.\n",
        " 4. Find the total number of lines."
      ],
      "metadata": {
        "id": "ODj-gvOck0uy"
      }
    },
    {
      "cell_type": "code",
      "source": [
        "\n",
        "import json\n",
        "# Download and open example abstracts (copy and pasted from PubMed)\n",
        "!wget https://raw.githubusercontent.com/mrdbourke/tensorflow-deep-learning/main/extras/skimlit_example_abstracts.json\n",
        "\n",
        "with open(\"skimlit_example_abstracts.json\", \"r\") as f:\n",
        "  example_abstracts = json.load(f)\n",
        "\n",
        "example_abstracts"
      ],
      "metadata": {
        "id": "IcM9M8X2lWM_"
      },
      "execution_count": null,
      "outputs": []
    },
    {
      "cell_type": "code",
      "source": [
        "# See what our example abstracts look like\n",
        "abstracts = pd.DataFrame(example_abstracts)\n",
        "abstracts"
      ],
      "metadata": {
        "id": "8CbJD56Ylq0e"
      },
      "execution_count": null,
      "outputs": []
    },
    {
      "cell_type": "markdown",
      "source": [
        "Now we've downloaded some example abstracts, let's see how one of them goes with our trained model.\n",
        "\n",
        "First, we'll need to parse it using spaCy to turn it from a big chunk of text into sentences."
      ],
      "metadata": {
        "id": "P-95nyAslu56"
      }
    },
    {
      "cell_type": "code",
      "source": [
        "# Create sentencizer - Source: https://spacy.io/usage/linguistic-features#sbd\n",
        "from spacy.lang.en import English\n",
        "nlp = English() # setup English sentence parser\n",
        "\n",
        "# New version of spaCy\n",
        "sentencizer = nlp.add_pipe(\"sentencizer\") # create sentence splitting pipeline object\n",
        "\n",
        "# Old version of spaCy\n",
        "# sentencizer = nlp.create_pipe(\"sentencizer\") # create sentence splitting pipeline object\n",
        "# nlp.add_pipe(sentencizer) # add sentence splitting pipeline object to sentence parser\n",
        "\n",
        "# Create \"doc\" of parsed sequences, change index for a different abstract\n",
        "doc = nlp(example_abstracts[0][\"abstract\"])\n",
        "abstract_lines = [str(sent) for sent in list(doc.sents)] # return detected sentences from doc in string type (not spaCy token type)\n",
        "abstract_lines"
      ],
      "metadata": {
        "id": "ajPj_RJilvic"
      },
      "execution_count": null,
      "outputs": []
    },
    {
      "cell_type": "markdown",
      "source": [
        "Beautiful! It looks like spaCy has split the sentences in the abstract correctly. However, it should be noted, there may be more complex abstracts which don't get split perfectly into separate sentences (such as the example in [Baclofen promotes alcohol abstinence in alcohol dependent cirrhotic patients with hepatitis C virus (HCV) infection](https://pubmed.ncbi.nlm.nih.gov/22244707/)), in this case, more custom splitting techniques would have to be investigated.\n",
        "\n",
        "Now our abstract has been split into sentences, how about we write some code to count line numbers as well as total lines.\n",
        "\n",
        "To do so, we can leverage some of the functionality of our `preprocess_text_with_line_numbers()` function."
      ],
      "metadata": {
        "id": "3NLrZyOSl3U0"
      }
    },
    {
      "cell_type": "code",
      "source": [
        "\n",
        "# Get total number of lines\n",
        "total_lines_in_sample = len(abstract_lines)\n",
        "\n",
        "# Go through each line in abstract and create a list of dictionaries containing features for each line\n",
        "sample_lines = []\n",
        "for i, line in enumerate(abstract_lines):\n",
        "  sample_dict = {}\n",
        "  sample_dict[\"text\"] = str(line)\n",
        "  sample_dict[\"line_number\"] = i\n",
        "  sample_dict[\"total_lines\"] = total_lines_in_sample - 1\n",
        "  sample_lines.append(sample_dict)\n",
        "sample_lines"
      ],
      "metadata": {
        "id": "_lZf-FfYmAj_"
      },
      "execution_count": null,
      "outputs": []
    },
    {
      "cell_type": "code",
      "source": [
        "# Get all line_number values from sample abstract\n",
        "test_abstract_line_numbers = [line[\"line_number\"] for line in sample_lines]\n",
        "# One-hot encode to same depth as training data, so model accepts right input shape\n",
        "test_abstract_line_numbers_one_hot = tf.one_hot(test_abstract_line_numbers, depth=15)\n",
        "test_abstract_line_numbers_one_hot"
      ],
      "metadata": {
        "id": "TiRzVEu1mEYB"
      },
      "execution_count": null,
      "outputs": []
    },
    {
      "cell_type": "code",
      "source": [
        "# Get all total_lines values from sample abstract\n",
        "test_abstract_total_lines = [line[\"total_lines\"] for line in sample_lines]\n",
        "# One-hot encode to same depth as training data, so model accepts right input shape\n",
        "test_abstract_total_lines_one_hot = tf.one_hot(test_abstract_total_lines, depth=20)\n",
        "test_abstract_total_lines_one_hot"
      ],
      "metadata": {
        "id": "MfoUVI5amFyE"
      },
      "execution_count": null,
      "outputs": []
    },
    {
      "cell_type": "code",
      "source": [
        "# Split abstract lines into characters\n",
        "abstract_chars = [split_chars(sentence) for sentence in abstract_lines]\n",
        "abstract_chars"
      ],
      "metadata": {
        "id": "AukxlaXimJuk"
      },
      "execution_count": null,
      "outputs": []
    },
    {
      "cell_type": "markdown",
      "source": [
        "Alright, now we've preprocessed our wild RCT abstract into all of the same features our model was trained on, we can pass these features to our model and make sequence label predictions!"
      ],
      "metadata": {
        "id": "sgHaHM0WmMsT"
      }
    },
    {
      "cell_type": "code",
      "source": [
        "# Make predictions on sample abstract features\n",
        "%%time\n",
        "test_abstract_pred_probs = loaded_model.predict(x=(test_abstract_line_numbers_one_hot,\n",
        "                                                   test_abstract_total_lines_one_hot,\n",
        "                                                   tf.constant(abstract_lines),\n",
        "                                                   tf.constant(abstract_chars)))\n",
        "test_abstract_pred_probs"
      ],
      "metadata": {
        "id": "yR3vpCvImNiX"
      },
      "execution_count": null,
      "outputs": []
    },
    {
      "cell_type": "code",
      "source": [
        "# Turn prediction probabilities into prediction classes\n",
        "test_abstract_preds = tf.argmax(test_abstract_pred_probs, axis=1)\n",
        "test_abstract_preds"
      ],
      "metadata": {
        "id": "jQObaXLJmQ7o"
      },
      "execution_count": null,
      "outputs": []
    },
    {
      "cell_type": "markdown",
      "source": [
        "Now we've got the predicted sequence label for each line in our sample abstract, let's write some code to visualize each sentence with its predicted label."
      ],
      "metadata": {
        "id": "YvPH6wjimScH"
      }
    },
    {
      "cell_type": "code",
      "source": [
        "# Turn prediction class integers into string class names\n",
        "test_abstract_pred_classes = [label_encoder.classes_[i] for i in test_abstract_preds]\n",
        "test_abstract_pred_classes"
      ],
      "metadata": {
        "id": "-vEzVxf3mUo8"
      },
      "execution_count": null,
      "outputs": []
    },
    {
      "cell_type": "code",
      "source": [
        "# Visualize abstract lines and predicted sequence labels\n",
        "for i, line in enumerate(abstract_lines):\n",
        "  print(f\"{test_abstract_pred_classes[i]}: {line}\")"
      ],
      "metadata": {
        "id": "zb-4ilVAmXJ2"
      },
      "execution_count": null,
      "outputs": []
    },
    {
      "cell_type": "markdown",
      "source": [
        "Nice! Isn't that much easier to read? and how cool is that?"
      ],
      "metadata": {
        "id": "M47XxuU_mep7"
      }
    }
  ]
}