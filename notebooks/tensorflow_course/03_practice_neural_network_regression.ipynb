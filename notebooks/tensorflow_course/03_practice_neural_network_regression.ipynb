{
  "nbformat": 4,
  "nbformat_minor": 0,
  "metadata": {
    "colab": {
      "provenance": [],
      "toc_visible": true,
      "gpuType": "T4",
      "authorship_tag": "ABX9TyOu2sC+02ly6nzhMqDs08yl"
    },
    "kernelspec": {
      "name": "python3",
      "display_name": "Python 3"
    },
    "language_info": {
      "name": "python"
    },
    "accelerator": "GPU"
  },
  "cells": [
    {
      "cell_type": "markdown",
      "source": [
        "# Neural network regression with TensorFlow Exercises"
      ],
      "metadata": {
        "id": "497t7ST5Wd4U"
      }
    },
    {
      "cell_type": "markdown",
      "source": [
        "##  1. Create own regression data and build a model on it."
      ],
      "metadata": {
        "id": "23kGEEqnXLkh"
      }
    },
    {
      "cell_type": "code",
      "source": [
        "import tensorflow as tf\n",
        "import pandas as pd\n",
        "import matplotlib.pyplot as plt\n",
        "\n",
        "\n",
        "X = tf.range(-200 , 200, 4)\n",
        "y = X + 20\n",
        "\n",
        "# visualize it\n",
        "plt.scatter(X, y)"
      ],
      "metadata": {
        "colab": {
          "base_uri": "https://localhost:8080/",
          "height": 448
        },
        "id": "lfSRwzGYXgcY",
        "outputId": "226d96fc-554e-4c15-8c59-7aa26b3ba8a6"
      },
      "execution_count": 1,
      "outputs": [
        {
          "output_type": "execute_result",
          "data": {
            "text/plain": [
              "<matplotlib.collections.PathCollection at 0x7d9c48320340>"
            ]
          },
          "metadata": {},
          "execution_count": 1
        },
        {
          "output_type": "display_data",
          "data": {
            "text/plain": [
              "<Figure size 640x480 with 1 Axes>"
            ],
            "image/png": "[encoded data removed]"
          },
          "metadata": {}
        }
      ]
    },
    {
      "cell_type": "code",
      "source": [
        "# check the length of data\n",
        "len(X)"
      ],
      "metadata": {
        "colab": {
          "base_uri": "https://localhost:8080/"
        },
        "id": "8365JgQjc1Oy",
        "outputId": "be123d9e-1602-4348-dbe2-4674421b4605"
      },
      "execution_count": 2,
      "outputs": [
        {
          "output_type": "execute_result",
          "data": {
            "text/plain": [
              "100"
            ]
          },
          "metadata": {},
          "execution_count": 2
        }
      ]
    },
    {
      "cell_type": "code",
      "source": [
        "# splitting data into training and test\n",
        "X_train = X[:80]\n",
        "X_test = X[80:]\n",
        "y_train = y[:80]\n",
        "y_test = y[80:]\n"
      ],
      "metadata": {
        "id": "TpoVleCHdk42"
      },
      "execution_count": 3,
      "outputs": []
    },
    {
      "cell_type": "markdown",
      "source": [
        "## Building 3 models:\n",
        " * Model-1 : 1 layer with sgd optimizer 100 epochs\n",
        " * Model-2 : 2 layer with sgd optimizer 100 epochs\n",
        " * Model-3 : 1 layer with adam optimizer 100 epochs\n",
        " * Model-4 : 2 layer with adam/sgd optimizer 300 epochs"
      ],
      "metadata": {
        "id": "AhwDPhq-eVju"
      }
    },
    {
      "cell_type": "markdown",
      "source": [
        "### **Model - 1** Build and Train\n",
        " * 1 Dense layer\n",
        " * SGD optimizer\n",
        " * 100 Epochs traning"
      ],
      "metadata": {
        "id": "ufZOgW9-k3iN"
      }
    },
    {
      "cell_type": "code",
      "source": [
        "\n",
        "# random seed\n",
        "tf.random.set_seed(42)\n",
        "\n",
        "# create a model\n",
        "model_1 = tf.keras.Sequential([\n",
        "    tf.keras.layers.Dense(1, name=\"input-output_layer\")\n",
        "],name=\"model_1\")\n",
        "\n",
        "# compile the model\n",
        "model_1.compile(\n",
        "    loss=tf.keras.losses.mae,\n",
        "    optimizer= tf.keras.optimizers.SGD(),\n",
        "    metrics=[\"mae\"]\n",
        ")\n",
        "\n",
        "# fit the model\n",
        "history_1 = model_1.fit(tf.expand_dims(X_train, axis=1), y_train, epochs=100)\n"
      ],
      "metadata": {
        "colab": {
          "base_uri": "https://localhost:8080/"
        },
        "id": "AhOB0kAyfZNQ",
        "outputId": "fe818ba1-32f1-4c4d-9929-0478cf895615"
      },
      "execution_count": 4,
      "outputs": [
        {
          "output_type": "stream",
          "name": "stdout",
          "text": [
            "Epoch 1/100\n",
            "3/3 [==============================] - 4s 14ms/step - loss: 97.4366 - mae: 97.4366\n",
            "Epoch 2/100\n",
            "3/3 [==============================] - 0s 8ms/step - loss: 24.7431 - mae: 24.7431\n",
            "Epoch 3/100\n",
            "3/3 [==============================] - 0s 6ms/step - loss: 35.9631 - mae: 35.9631\n",
            "Epoch 4/100\n",
            "3/3 [==============================] - 0s 6ms/step - loss: 40.1096 - mae: 40.1096\n",
            "Epoch 5/100\n",
            "3/3 [==============================] - 0s 6ms/step - loss: 36.2276 - mae: 36.2276\n",
            "Epoch 6/100\n",
            "3/3 [==============================] - 0s 7ms/step - loss: 28.0082 - mae: 28.0082\n",
            "Epoch 7/100\n",
            "3/3 [==============================] - 0s 6ms/step - loss: 35.8820 - mae: 35.8820\n",
            "Epoch 8/100\n",
            "3/3 [==============================] - 0s 6ms/step - loss: 38.3140 - mae: 38.3140\n",
            "Epoch 9/100\n",
            "3/3 [==============================] - 0s 6ms/step - loss: 31.8978 - mae: 31.8978\n",
            "Epoch 10/100\n",
            "3/3 [==============================] - 0s 6ms/step - loss: 41.3821 - mae: 41.3821\n",
            "Epoch 11/100\n",
            "3/3 [==============================] - 0s 7ms/step - loss: 32.2845 - mae: 32.2845\n",
            "Epoch 12/100\n",
            "3/3 [==============================] - 0s 6ms/step - loss: 36.5456 - mae: 36.5456\n",
            "Epoch 13/100\n",
            "3/3 [==============================] - 0s 6ms/step - loss: 38.6026 - mae: 38.6026\n",
            "Epoch 14/100\n",
            "3/3 [==============================] - 0s 6ms/step - loss: 28.7247 - mae: 28.7247\n",
            "Epoch 15/100\n",
            "3/3 [==============================] - 0s 7ms/step - loss: 38.5590 - mae: 38.5590\n",
            "Epoch 16/100\n",
            "3/3 [==============================] - 0s 6ms/step - loss: 24.5948 - mae: 24.5948\n",
            "Epoch 17/100\n",
            "3/3 [==============================] - 0s 6ms/step - loss: 27.2807 - mae: 27.2807\n",
            "Epoch 18/100\n",
            "3/3 [==============================] - 0s 7ms/step - loss: 41.6902 - mae: 41.6902\n",
            "Epoch 19/100\n",
            "3/3 [==============================] - 0s 6ms/step - loss: 37.2489 - mae: 37.2489\n",
            "Epoch 20/100\n",
            "3/3 [==============================] - 0s 6ms/step - loss: 37.1756 - mae: 37.1756\n",
            "Epoch 21/100\n",
            "3/3 [==============================] - 0s 6ms/step - loss: 35.9702 - mae: 35.9702\n",
            "Epoch 22/100\n",
            "3/3 [==============================] - 0s 6ms/step - loss: 35.9064 - mae: 35.9064\n",
            "Epoch 23/100\n",
            "3/3 [==============================] - 0s 6ms/step - loss: 39.0587 - mae: 39.0587\n",
            "Epoch 24/100\n",
            "3/3 [==============================] - 0s 6ms/step - loss: 37.8193 - mae: 37.8193\n",
            "Epoch 25/100\n",
            "3/3 [==============================] - 0s 6ms/step - loss: 28.4470 - mae: 28.4470\n",
            "Epoch 26/100\n",
            "3/3 [==============================] - 0s 6ms/step - loss: 34.3628 - mae: 34.3628\n",
            "Epoch 27/100\n",
            "3/3 [==============================] - 0s 7ms/step - loss: 35.0516 - mae: 35.0516\n",
            "Epoch 28/100\n",
            "3/3 [==============================] - 0s 8ms/step - loss: 36.5981 - mae: 36.5981\n",
            "Epoch 29/100\n",
            "3/3 [==============================] - 0s 7ms/step - loss: 36.0648 - mae: 36.0648\n",
            "Epoch 30/100\n",
            "3/3 [==============================] - 0s 6ms/step - loss: 39.7774 - mae: 39.7774\n",
            "Epoch 31/100\n",
            "3/3 [==============================] - 0s 6ms/step - loss: 34.7751 - mae: 34.7751\n",
            "Epoch 32/100\n",
            "3/3 [==============================] - 0s 6ms/step - loss: 22.5167 - mae: 22.5167\n",
            "Epoch 33/100\n",
            "3/3 [==============================] - 0s 6ms/step - loss: 32.8927 - mae: 32.8927\n",
            "Epoch 34/100\n",
            "3/3 [==============================] - 0s 6ms/step - loss: 29.2222 - mae: 29.2222\n",
            "Epoch 35/100\n",
            "3/3 [==============================] - 0s 6ms/step - loss: 34.8209 - mae: 34.8209\n",
            "Epoch 36/100\n",
            "3/3 [==============================] - 0s 5ms/step - loss: 37.7134 - mae: 37.7134\n",
            "Epoch 37/100\n",
            "3/3 [==============================] - 0s 6ms/step - loss: 28.2937 - mae: 28.2937\n",
            "Epoch 38/100\n",
            "3/3 [==============================] - 0s 6ms/step - loss: 36.7131 - mae: 36.7131\n",
            "Epoch 39/100\n",
            "3/3 [==============================] - 0s 6ms/step - loss: 41.4153 - mae: 41.4153\n",
            "Epoch 40/100\n",
            "3/3 [==============================] - 0s 5ms/step - loss: 34.8494 - mae: 34.8494\n",
            "Epoch 41/100\n",
            "3/3 [==============================] - 0s 5ms/step - loss: 32.6894 - mae: 32.6894\n",
            "Epoch 42/100\n",
            "3/3 [==============================] - 0s 5ms/step - loss: 34.6250 - mae: 34.6250\n",
            "Epoch 43/100\n",
            "3/3 [==============================] - 0s 4ms/step - loss: 38.6301 - mae: 38.6301\n",
            "Epoch 44/100\n",
            "3/3 [==============================] - 0s 5ms/step - loss: 30.2800 - mae: 30.2800\n",
            "Epoch 45/100\n",
            "3/3 [==============================] - 0s 6ms/step - loss: 26.6331 - mae: 26.6331\n",
            "Epoch 46/100\n",
            "3/3 [==============================] - 0s 7ms/step - loss: 38.5548 - mae: 38.5548\n",
            "Epoch 47/100\n",
            "3/3 [==============================] - 0s 6ms/step - loss: 38.1243 - mae: 38.1243\n",
            "Epoch 48/100\n",
            "3/3 [==============================] - 0s 5ms/step - loss: 31.1558 - mae: 31.1558\n",
            "Epoch 49/100\n",
            "3/3 [==============================] - 0s 5ms/step - loss: 43.7713 - mae: 43.7713\n",
            "Epoch 50/100\n",
            "3/3 [==============================] - 0s 5ms/step - loss: 36.8042 - mae: 36.8042\n",
            "Epoch 51/100\n",
            "3/3 [==============================] - 0s 5ms/step - loss: 30.7611 - mae: 30.7611\n",
            "Epoch 52/100\n",
            "3/3 [==============================] - 0s 5ms/step - loss: 36.6598 - mae: 36.6598\n",
            "Epoch 53/100\n",
            "3/3 [==============================] - 0s 6ms/step - loss: 33.5479 - mae: 33.5479\n",
            "Epoch 54/100\n",
            "3/3 [==============================] - 0s 6ms/step - loss: 37.4857 - mae: 37.4857\n",
            "Epoch 55/100\n",
            "3/3 [==============================] - 0s 6ms/step - loss: 34.6650 - mae: 34.6650\n",
            "Epoch 56/100\n",
            "3/3 [==============================] - 0s 5ms/step - loss: 34.7454 - mae: 34.7454\n",
            "Epoch 57/100\n",
            "3/3 [==============================] - 0s 5ms/step - loss: 28.0682 - mae: 28.0682\n",
            "Epoch 58/100\n",
            "3/3 [==============================] - 0s 5ms/step - loss: 24.9280 - mae: 24.9280\n",
            "Epoch 59/100\n",
            "3/3 [==============================] - 0s 5ms/step - loss: 28.5418 - mae: 28.5418\n",
            "Epoch 60/100\n",
            "3/3 [==============================] - 0s 5ms/step - loss: 37.1190 - mae: 37.1190\n",
            "Epoch 61/100\n",
            "3/3 [==============================] - 0s 5ms/step - loss: 38.4103 - mae: 38.4103\n",
            "Epoch 62/100\n",
            "3/3 [==============================] - 0s 9ms/step - loss: 37.0877 - mae: 37.0877\n",
            "Epoch 63/100\n",
            "3/3 [==============================] - 0s 4ms/step - loss: 41.9382 - mae: 41.9382\n",
            "Epoch 64/100\n",
            "3/3 [==============================] - 0s 5ms/step - loss: 26.9558 - mae: 26.9558\n",
            "Epoch 65/100\n",
            "3/3 [==============================] - 0s 5ms/step - loss: 35.4042 - mae: 35.4042\n",
            "Epoch 66/100\n",
            "3/3 [==============================] - 0s 5ms/step - loss: 38.4743 - mae: 38.4743\n",
            "Epoch 67/100\n",
            "3/3 [==============================] - 0s 5ms/step - loss: 34.0578 - mae: 34.0578\n",
            "Epoch 68/100\n",
            "3/3 [==============================] - 0s 9ms/step - loss: 43.7614 - mae: 43.7614\n",
            "Epoch 69/100\n",
            "3/3 [==============================] - 0s 5ms/step - loss: 33.4630 - mae: 33.4630\n",
            "Epoch 70/100\n",
            "3/3 [==============================] - 0s 5ms/step - loss: 35.3809 - mae: 35.3809\n",
            "Epoch 71/100\n",
            "3/3 [==============================] - 0s 5ms/step - loss: 31.6796 - mae: 31.6796\n",
            "Epoch 72/100\n",
            "3/3 [==============================] - 0s 5ms/step - loss: 36.3166 - mae: 36.3166\n",
            "Epoch 73/100\n",
            "3/3 [==============================] - 0s 6ms/step - loss: 33.6390 - mae: 33.6390\n",
            "Epoch 74/100\n",
            "3/3 [==============================] - 0s 6ms/step - loss: 37.5311 - mae: 37.5311\n",
            "Epoch 75/100\n",
            "3/3 [==============================] - 0s 6ms/step - loss: 34.8683 - mae: 34.8683\n",
            "Epoch 76/100\n",
            "3/3 [==============================] - 0s 6ms/step - loss: 39.8098 - mae: 39.8098\n",
            "Epoch 77/100\n",
            "3/3 [==============================] - 0s 5ms/step - loss: 31.2530 - mae: 31.2530\n",
            "Epoch 78/100\n",
            "3/3 [==============================] - 0s 6ms/step - loss: 38.3735 - mae: 38.3735\n",
            "Epoch 79/100\n",
            "3/3 [==============================] - 0s 7ms/step - loss: 37.7729 - mae: 37.7729\n",
            "Epoch 80/100\n",
            "3/3 [==============================] - 0s 5ms/step - loss: 32.0929 - mae: 32.0929\n",
            "Epoch 81/100\n",
            "3/3 [==============================] - 0s 5ms/step - loss: 37.4492 - mae: 37.4492\n",
            "Epoch 82/100\n",
            "3/3 [==============================] - 0s 5ms/step - loss: 35.7075 - mae: 35.7075\n",
            "Epoch 83/100\n",
            "3/3 [==============================] - 0s 6ms/step - loss: 31.9549 - mae: 31.9549\n",
            "Epoch 84/100\n",
            "3/3 [==============================] - 0s 5ms/step - loss: 44.6777 - mae: 44.6777\n",
            "Epoch 85/100\n",
            "3/3 [==============================] - 0s 5ms/step - loss: 33.0960 - mae: 33.0960\n",
            "Epoch 86/100\n",
            "3/3 [==============================] - 0s 6ms/step - loss: 38.9668 - mae: 38.9668\n",
            "Epoch 87/100\n",
            "3/3 [==============================] - 0s 5ms/step - loss: 17.0050 - mae: 17.0050\n",
            "Epoch 88/100\n",
            "3/3 [==============================] - 0s 5ms/step - loss: 33.6360 - mae: 33.6360\n",
            "Epoch 89/100\n",
            "3/3 [==============================] - 0s 6ms/step - loss: 32.9080 - mae: 32.9080\n",
            "Epoch 90/100\n",
            "3/3 [==============================] - 0s 5ms/step - loss: 46.1592 - mae: 46.1592\n",
            "Epoch 91/100\n",
            "3/3 [==============================] - 0s 6ms/step - loss: 31.0112 - mae: 31.0112\n",
            "Epoch 92/100\n",
            "3/3 [==============================] - 0s 5ms/step - loss: 34.8774 - mae: 34.8774\n",
            "Epoch 93/100\n",
            "3/3 [==============================] - 0s 5ms/step - loss: 32.2441 - mae: 32.2441\n",
            "Epoch 94/100\n",
            "3/3 [==============================] - 0s 5ms/step - loss: 35.3630 - mae: 35.3630\n",
            "Epoch 95/100\n",
            "3/3 [==============================] - 0s 5ms/step - loss: 36.1416 - mae: 36.1416\n",
            "Epoch 96/100\n",
            "3/3 [==============================] - 0s 5ms/step - loss: 39.3892 - mae: 39.3892\n",
            "Epoch 97/100\n",
            "3/3 [==============================] - 0s 5ms/step - loss: 35.0838 - mae: 35.0838\n",
            "Epoch 98/100\n",
            "3/3 [==============================] - 0s 5ms/step - loss: 28.2978 - mae: 28.2978\n",
            "Epoch 99/100\n",
            "3/3 [==============================] - 0s 6ms/step - loss: 37.6205 - mae: 37.6205\n",
            "Epoch 100/100\n",
            "3/3 [==============================] - 0s 4ms/step - loss: 23.4130 - mae: 23.4130\n"
          ]
        }
      ]
    },
    {
      "cell_type": "markdown",
      "source": [
        "#### Visualize model, data and prediction"
      ],
      "metadata": {
        "id": "CUtt6zYxr3Df"
      }
    },
    {
      "cell_type": "code",
      "source": [
        "# creating function to check performance\n",
        "def performance(history):\n",
        "  return pd.DataFrame(history.history).plot()\n",
        "  return plt.ylabel(\"loss\")\n",
        "  return plt.xlabel(\"epochs\")"
      ],
      "metadata": {
        "id": "KpTfQzzVDNLG"
      },
      "execution_count": 5,
      "outputs": []
    },
    {
      "cell_type": "code",
      "source": [
        "# visualize model\n",
        "from tensorflow.keras.utils import plot_model\n",
        "\n",
        "plot_model(model=model_1, show_shapes=True)"
      ],
      "metadata": {
        "colab": {
          "base_uri": "https://localhost:8080/",
          "height": 201
        },
        "id": "qRGwCqc1v__T",
        "outputId": "ccb54202-de77-4b92-9b3c-773920d55701"
      },
      "execution_count": 6,
      "outputs": [
        {
          "output_type": "execute_result",
          "data": {
            "image/png": "[encoded data removed]",
            "text/plain": [
              "<IPython.core.display.Image object>"
            ]
          },
          "metadata": {},
          "execution_count": 6
        }
      ]
    },
    {
      "cell_type": "code",
      "source": [
        "history1 = performance(history_1)"
      ],
      "metadata": {
        "colab": {
          "base_uri": "https://localhost:8080/",
          "height": 430
        },
        "id": "mxpnfJZ4DV4t",
        "outputId": "d1b4ba82-5cce-403a-f1e6-fd2e942a9c9a"
      },
      "execution_count": 7,
      "outputs": [
        {
          "output_type": "display_data",
          "data": {
            "text/plain": [
              "<Figure size 640x480 with 1 Axes>"
            ],
            "image/png": "[encoded data removed]"
          },
          "metadata": {}
        }
      ]
    },
    {
      "cell_type": "code",
      "source": [
        "# summarize model\n",
        "model_1.summary()"
      ],
      "metadata": {
        "colab": {
          "base_uri": "https://localhost:8080/"
        },
        "id": "pPew8TcQwE7q",
        "outputId": "04b0dae6-321e-43a3-b749-cc784632c7cb"
      },
      "execution_count": 8,
      "outputs": [
        {
          "output_type": "stream",
          "name": "stdout",
          "text": [
            "Model: \"model_1\"\n",
            "_________________________________________________________________\n",
            " Layer (type)                Output Shape              Param #   \n",
            "=================================================================\n",
            " input-output_layer (Dense)  (None, 1)                 2         \n",
            "                                                                 \n",
            "=================================================================\n",
            "Total params: 2 (8.00 Byte)\n",
            "Trainable params: 2 (8.00 Byte)\n",
            "Non-trainable params: 0 (0.00 Byte)\n",
            "_________________________________________________________________\n"
          ]
        }
      ]
    },
    {
      "cell_type": "code",
      "source": [
        "# Visualizing data\n",
        "plt.figure(figsize=(10,7))\n",
        "\n",
        "# Plotting train and test data\n",
        "plt.scatter( X_train , y_train,  c=\"b\", label=\"Training data\")\n",
        "plt.scatter(X_test, y_test, c=\"g\", label=\"Testing data\")\n",
        "plt.legend()"
      ],
      "metadata": {
        "colab": {
          "base_uri": "https://localhost:8080/",
          "height": 617
        },
        "id": "QYiTeYXlr25T",
        "outputId": "ac61412c-753b-4c2c-824f-12db8f6e0fbd"
      },
      "execution_count": 9,
      "outputs": [
        {
          "output_type": "execute_result",
          "data": {
            "text/plain": [
              "<matplotlib.legend.Legend at 0x7d9c406da3e0>"
            ]
          },
          "metadata": {},
          "execution_count": 9
        },
        {
          "output_type": "display_data",
          "data": {
            "text/plain": [
              "<Figure size 1000x700 with 1 Axes>"
            ],
            "image/png": "[encoded data removed]"
          },
          "metadata": {}
        }
      ]
    },
    {
      "cell_type": "code",
      "source": [
        "# predict from model\n",
        "y_pred = model_1.predict(X_test)\n",
        "y_pred"
      ],
      "metadata": {
        "colab": {
          "base_uri": "https://localhost:8080/"
        },
        "id": "EDYIF2X2vM4f",
        "outputId": "aeaa4a2a-e80c-4c16-ab4f-533dd50eb8bf"
      },
      "execution_count": 10,
      "outputs": [
        {
          "output_type": "stream",
          "name": "stdout",
          "text": [
            "1/1 [==============================] - 0s 66ms/step\n"
          ]
        },
        {
          "output_type": "execute_result",
          "data": {
            "text/plain": [
              "array([[ 68.63365 ],\n",
              "       [ 70.88371 ],\n",
              "       [ 73.13377 ],\n",
              "       [ 75.383835],\n",
              "       [ 77.633896],\n",
              "       [ 79.88395 ],\n",
              "       [ 82.13401 ],\n",
              "       [ 84.38407 ],\n",
              "       [ 86.63413 ],\n",
              "       [ 88.884186],\n",
              "       [ 91.13425 ],\n",
              "       [ 93.38431 ],\n",
              "       [ 95.63437 ],\n",
              "       [ 97.88443 ],\n",
              "       [100.13448 ],\n",
              "       [102.384544],\n",
              "       [104.634605],\n",
              "       [106.88467 ],\n",
              "       [109.13473 ],\n",
              "       [111.38478 ]], dtype=float32)"
            ]
          },
          "metadata": {},
          "execution_count": 10
        }
      ]
    },
    {
      "cell_type": "code",
      "source": [
        "# creating plotting function\n",
        "def plot_predictions(train_data=X_train,\n",
        "                     train_label= y_train,\n",
        "                     test_data= X_test,\n",
        "                     test_labels= y_test,\n",
        "                     predictions= y_pred):\n",
        "  \"\"\"\n",
        "  Plots training data , test data and compares predictions to ground truth\n",
        "  \"\"\"\n",
        "  plt.figure(figsize=(10,7))\n",
        "  # plot training data in blue\n",
        "  plt.scatter(train_data, train_label, c=\"b\", label=\"Training data\")\n",
        "  # plot testing data in green\n",
        "  plt.scatter(test_data, test_labels, c=\"g\", label=\"Testing data\")\n",
        "  # plot predcitions in red\n",
        "  plt.scatter(test_data, predictions, c=\"r\", label=\"Predictions\")\n",
        "  # show the legends\n",
        "  plt.legend();"
      ],
      "metadata": {
        "id": "VUheQIarr2rA"
      },
      "execution_count": 11,
      "outputs": []
    },
    {
      "cell_type": "code",
      "source": [
        "# visualize testing and predicted data\n",
        "visualize1 = plot_predictions(predictions =y_pred)\n",
        "visualize1\n"
      ],
      "metadata": {
        "colab": {
          "base_uri": "https://localhost:8080/",
          "height": 599
        },
        "id": "oYWZuzN6rqNJ",
        "outputId": "92d2ff6d-b228-4865-cbbd-13527b6115d5"
      },
      "execution_count": 12,
      "outputs": [
        {
          "output_type": "display_data",
          "data": {
            "text/plain": [
              "<Figure size 1000x700 with 1 Axes>"
            ],
            "image/png": "[encoded data removed]"
          },
          "metadata": {}
        }
      ]
    },
    {
      "cell_type": "markdown",
      "source": [
        "#### Evaluate model-1"
      ],
      "metadata": {
        "id": "deGWbFJwlpdX"
      }
    },
    {
      "cell_type": "code",
      "source": [
        "# Evaluate model\n",
        "evalute_model_1 = model_1.evaluate(X_test, y_test)\n",
        "evalute_model_1"
      ],
      "metadata": {
        "colab": {
          "base_uri": "https://localhost:8080/"
        },
        "id": "YWhB3zJugeUy",
        "outputId": "387892c4-ed55-494e-f27b-d4c7e1021d7e"
      },
      "execution_count": 14,
      "outputs": [
        {
          "output_type": "stream",
          "name": "stdout",
          "text": [
            "1/1 [==============================] - 0s 25ms/step - loss: 87.9908 - mae: 87.9908\n"
          ]
        },
        {
          "output_type": "execute_result",
          "data": {
            "text/plain": [
              "[87.99078369140625, 87.99078369140625]"
            ]
          },
          "metadata": {},
          "execution_count": 14
        }
      ]
    },
    {
      "cell_type": "markdown",
      "source": [
        " Since we're working on a regression, two of the main metrics:\n",
        " * MAE - mean absolute error, \"on average, how wrong is each of model's predictions\"\n",
        " * MSE - mean square error, \"square the average errors\""
      ],
      "metadata": {
        "id": "jLpQcvLGl3PE"
      }
    },
    {
      "cell_type": "code",
      "source": [
        "# creating MAE and MSE function\n",
        "def mae(y_true, y_pred):\n",
        "  return tf.metrics.mean_absolute_error(y_true=y_true, y_pred= tf.squeeze(y_pred))\n",
        "\n",
        "def mse(y_true, y_pred):\n",
        "  return tf.metrics.mean_squared_error(y_true=y_true, y_pred= tf.squeeze(y_pred))\n"
      ],
      "metadata": {
        "id": "6QuTduFHxnDC"
      },
      "execution_count": 15,
      "outputs": []
    },
    {
      "cell_type": "code",
      "source": [
        "# mse and mae for first model\n",
        "mae1 = mae(y_test, y_pred)\n",
        "mse1 = mse(y_test, y_pred)\n",
        "mae1 , mse1"
      ],
      "metadata": {
        "colab": {
          "base_uri": "https://localhost:8080/"
        },
        "id": "dxlA4y0nyhOM",
        "outputId": "c464a8dc-1518-4d32-ea4d-99c9bd393611"
      },
      "execution_count": 16,
      "outputs": [
        {
          "output_type": "execute_result",
          "data": {
            "text/plain": [
              "(<tf.Tensor: shape=(), dtype=float32, numpy=87.99078>,\n",
              " <tf.Tensor: shape=(), dtype=float32, numpy=7844.199>)"
            ]
          },
          "metadata": {},
          "execution_count": 16
        }
      ]
    },
    {
      "cell_type": "markdown",
      "source": [
        "### **Model - 2** : Building and Train\n",
        " * 2 Dense layer\n",
        " * SGD optimizer\n",
        " * 100 epochs training"
      ],
      "metadata": {
        "id": "8ckID-wu0C9l"
      }
    },
    {
      "cell_type": "code",
      "source": [
        "# create model\n",
        "tf.random.set_seed(42)\n",
        "\n",
        "model_2 = tf.keras.Sequential([\n",
        "    tf.keras.layers.Dense(100, name=\"input_layer\"),\n",
        "    tf.keras.layers.Dense(1, name=\"output_layer\")\n",
        "], name=\"Model_2\")\n",
        "\n",
        "model_2.compile(\n",
        "    loss=tf.keras.losses.mae,\n",
        "    optimizer=tf.keras.optimizers.Adam(),\n",
        "    metrics=[\"mae\"]\n",
        ")\n",
        "\n",
        "history_2 = model_2.fit(tf.expand_dims(X_train, axis=1), y_train, epochs=100)"
      ],
      "metadata": {
        "colab": {
          "base_uri": "https://localhost:8080/"
        },
        "id": "6yosb3-Y0ydp",
        "outputId": "91fd54b3-4221-4b60-d5a6-f8ef5bb1c158"
      },
      "execution_count": 17,
      "outputs": [
        {
          "output_type": "stream",
          "name": "stdout",
          "text": [
            "Epoch 1/100\n",
            "3/3 [==============================] - 1s 7ms/step - loss: 74.9627 - mae: 74.9627\n",
            "Epoch 2/100\n",
            "3/3 [==============================] - 0s 5ms/step - loss: 69.1233 - mae: 69.1233\n",
            "Epoch 3/100\n",
            "3/3 [==============================] - 0s 5ms/step - loss: 63.8510 - mae: 63.8510\n",
            "Epoch 4/100\n",
            "3/3 [==============================] - 0s 5ms/step - loss: 58.2934 - mae: 58.2934\n",
            "Epoch 5/100\n",
            "3/3 [==============================] - 0s 5ms/step - loss: 52.8916 - mae: 52.8916\n",
            "Epoch 6/100\n",
            "3/3 [==============================] - 0s 5ms/step - loss: 47.1931 - mae: 47.1931\n",
            "Epoch 7/100\n",
            "3/3 [==============================] - 0s 5ms/step - loss: 41.7453 - mae: 41.7453\n",
            "Epoch 8/100\n",
            "3/3 [==============================] - 0s 5ms/step - loss: 36.4297 - mae: 36.4297\n",
            "Epoch 9/100\n",
            "3/3 [==============================] - 0s 5ms/step - loss: 30.8300 - mae: 30.8300\n",
            "Epoch 10/100\n",
            "3/3 [==============================] - 0s 5ms/step - loss: 25.7302 - mae: 25.7302\n",
            "Epoch 11/100\n",
            "3/3 [==============================] - 0s 5ms/step - loss: 20.7238 - mae: 20.7238\n",
            "Epoch 12/100\n",
            "3/3 [==============================] - 0s 4ms/step - loss: 16.7814 - mae: 16.7814\n",
            "Epoch 13/100\n",
            "3/3 [==============================] - 0s 5ms/step - loss: 15.4873 - mae: 15.4873\n",
            "Epoch 14/100\n",
            "3/3 [==============================] - 0s 5ms/step - loss: 17.1947 - mae: 17.1947\n",
            "Epoch 15/100\n",
            "3/3 [==============================] - 0s 5ms/step - loss: 18.0397 - mae: 18.0397\n",
            "Epoch 16/100\n",
            "3/3 [==============================] - 0s 5ms/step - loss: 18.1934 - mae: 18.1934\n",
            "Epoch 17/100\n",
            "3/3 [==============================] - 0s 5ms/step - loss: 17.7747 - mae: 17.7747\n",
            "Epoch 18/100\n",
            "3/3 [==============================] - 0s 5ms/step - loss: 16.9291 - mae: 16.9291\n",
            "Epoch 19/100\n",
            "3/3 [==============================] - 0s 5ms/step - loss: 15.7273 - mae: 15.7273\n",
            "Epoch 20/100\n",
            "3/3 [==============================] - 0s 6ms/step - loss: 15.2622 - mae: 15.2622\n",
            "Epoch 21/100\n",
            "3/3 [==============================] - 0s 5ms/step - loss: 15.4746 - mae: 15.4746\n",
            "Epoch 22/100\n",
            "3/3 [==============================] - 0s 5ms/step - loss: 15.4667 - mae: 15.4667\n",
            "Epoch 23/100\n",
            "3/3 [==============================] - 0s 5ms/step - loss: 15.2881 - mae: 15.2881\n",
            "Epoch 24/100\n",
            "3/3 [==============================] - 0s 5ms/step - loss: 15.0453 - mae: 15.0453\n",
            "Epoch 25/100\n",
            "3/3 [==============================] - 0s 5ms/step - loss: 15.0029 - mae: 15.0029\n",
            "Epoch 26/100\n",
            "3/3 [==============================] - 0s 5ms/step - loss: 15.0332 - mae: 15.0332\n",
            "Epoch 27/100\n",
            "3/3 [==============================] - 0s 6ms/step - loss: 14.9893 - mae: 14.9893\n",
            "Epoch 28/100\n",
            "3/3 [==============================] - 0s 5ms/step - loss: 14.9098 - mae: 14.9098\n",
            "Epoch 29/100\n",
            "3/3 [==============================] - 0s 5ms/step - loss: 14.8243 - mae: 14.8243\n",
            "Epoch 30/100\n",
            "3/3 [==============================] - 0s 4ms/step - loss: 14.7841 - mae: 14.7841\n",
            "Epoch 31/100\n",
            "3/3 [==============================] - 0s 5ms/step - loss: 14.7535 - mae: 14.7535\n",
            "Epoch 32/100\n",
            "3/3 [==============================] - 0s 5ms/step - loss: 14.7311 - mae: 14.7311\n",
            "Epoch 33/100\n",
            "3/3 [==============================] - 0s 5ms/step - loss: 14.6902 - mae: 14.6902\n",
            "Epoch 34/100\n",
            "3/3 [==============================] - 0s 5ms/step - loss: 14.6460 - mae: 14.6460\n",
            "Epoch 35/100\n",
            "3/3 [==============================] - 0s 5ms/step - loss: 14.6161 - mae: 14.6161\n",
            "Epoch 36/100\n",
            "3/3 [==============================] - 0s 5ms/step - loss: 14.5759 - mae: 14.5759\n",
            "Epoch 37/100\n",
            "3/3 [==============================] - 0s 5ms/step - loss: 14.5343 - mae: 14.5343\n",
            "Epoch 38/100\n",
            "3/3 [==============================] - 0s 5ms/step - loss: 14.4932 - mae: 14.4932\n",
            "Epoch 39/100\n",
            "3/3 [==============================] - 0s 6ms/step - loss: 14.4582 - mae: 14.4582\n",
            "Epoch 40/100\n",
            "3/3 [==============================] - 0s 10ms/step - loss: 14.4355 - mae: 14.4355\n",
            "Epoch 41/100\n",
            "3/3 [==============================] - 0s 5ms/step - loss: 14.4017 - mae: 14.4017\n",
            "Epoch 42/100\n",
            "3/3 [==============================] - 0s 6ms/step - loss: 14.4167 - mae: 14.4167\n",
            "Epoch 43/100\n",
            "3/3 [==============================] - 0s 6ms/step - loss: 14.3298 - mae: 14.3298\n",
            "Epoch 44/100\n",
            "3/3 [==============================] - 0s 6ms/step - loss: 14.3132 - mae: 14.3132\n",
            "Epoch 45/100\n",
            "3/3 [==============================] - 0s 5ms/step - loss: 14.2486 - mae: 14.2486\n",
            "Epoch 46/100\n",
            "3/3 [==============================] - 0s 5ms/step - loss: 14.2199 - mae: 14.2199\n",
            "Epoch 47/100\n",
            "3/3 [==============================] - 0s 5ms/step - loss: 14.1770 - mae: 14.1770\n",
            "Epoch 48/100\n",
            "3/3 [==============================] - 0s 9ms/step - loss: 14.1520 - mae: 14.1520\n",
            "Epoch 49/100\n",
            "3/3 [==============================] - 0s 7ms/step - loss: 14.1127 - mae: 14.1127\n",
            "Epoch 50/100\n",
            "3/3 [==============================] - 0s 7ms/step - loss: 14.0746 - mae: 14.0746\n",
            "Epoch 51/100\n",
            "3/3 [==============================] - 0s 6ms/step - loss: 14.0309 - mae: 14.0309\n",
            "Epoch 52/100\n",
            "3/3 [==============================] - 0s 9ms/step - loss: 13.9906 - mae: 13.9906\n",
            "Epoch 53/100\n",
            "3/3 [==============================] - 0s 8ms/step - loss: 13.9553 - mae: 13.9553\n",
            "Epoch 54/100\n",
            "3/3 [==============================] - 0s 7ms/step - loss: 13.9243 - mae: 13.9243\n",
            "Epoch 55/100\n",
            "3/3 [==============================] - 0s 8ms/step - loss: 13.8883 - mae: 13.8883\n",
            "Epoch 56/100\n",
            "3/3 [==============================] - 0s 7ms/step - loss: 13.8490 - mae: 13.8490\n",
            "Epoch 57/100\n",
            "3/3 [==============================] - 0s 7ms/step - loss: 13.8093 - mae: 13.8093\n",
            "Epoch 58/100\n",
            "3/3 [==============================] - 0s 7ms/step - loss: 13.7750 - mae: 13.7750\n",
            "Epoch 59/100\n",
            "3/3 [==============================] - 0s 10ms/step - loss: 13.7420 - mae: 13.7420\n",
            "Epoch 60/100\n",
            "3/3 [==============================] - 0s 7ms/step - loss: 13.7334 - mae: 13.7334\n",
            "Epoch 61/100\n",
            "3/3 [==============================] - 0s 7ms/step - loss: 13.6700 - mae: 13.6700\n",
            "Epoch 62/100\n",
            "3/3 [==============================] - 0s 8ms/step - loss: 13.6245 - mae: 13.6245\n",
            "Epoch 63/100\n",
            "3/3 [==============================] - 0s 7ms/step - loss: 13.5901 - mae: 13.5901\n",
            "Epoch 64/100\n",
            "3/3 [==============================] - 0s 6ms/step - loss: 13.5761 - mae: 13.5761\n",
            "Epoch 65/100\n",
            "3/3 [==============================] - 0s 6ms/step - loss: 13.5234 - mae: 13.5234\n",
            "Epoch 66/100\n",
            "3/3 [==============================] - 0s 7ms/step - loss: 13.5042 - mae: 13.5042\n",
            "Epoch 67/100\n",
            "3/3 [==============================] - 0s 7ms/step - loss: 13.4379 - mae: 13.4379\n",
            "Epoch 68/100\n",
            "3/3 [==============================] - 0s 7ms/step - loss: 13.4264 - mae: 13.4264\n",
            "Epoch 69/100\n",
            "3/3 [==============================] - 0s 7ms/step - loss: 13.3830 - mae: 13.3830\n",
            "Epoch 70/100\n",
            "3/3 [==============================] - 0s 7ms/step - loss: 13.3198 - mae: 13.3198\n",
            "Epoch 71/100\n",
            "3/3 [==============================] - 0s 6ms/step - loss: 13.3019 - mae: 13.3019\n",
            "Epoch 72/100\n",
            "3/3 [==============================] - 0s 6ms/step - loss: 13.2670 - mae: 13.2670\n",
            "Epoch 73/100\n",
            "3/3 [==============================] - 0s 6ms/step - loss: 13.2135 - mae: 13.2135\n",
            "Epoch 74/100\n",
            "3/3 [==============================] - 0s 6ms/step - loss: 13.2018 - mae: 13.2018\n",
            "Epoch 75/100\n",
            "3/3 [==============================] - 0s 6ms/step - loss: 13.1651 - mae: 13.1651\n",
            "Epoch 76/100\n",
            "3/3 [==============================] - 0s 6ms/step - loss: 13.0791 - mae: 13.0791\n",
            "Epoch 77/100\n",
            "3/3 [==============================] - 0s 6ms/step - loss: 13.0631 - mae: 13.0631\n",
            "Epoch 78/100\n",
            "3/3 [==============================] - 0s 6ms/step - loss: 13.0575 - mae: 13.0575\n",
            "Epoch 79/100\n",
            "3/3 [==============================] - 0s 6ms/step - loss: 12.9962 - mae: 12.9962\n",
            "Epoch 80/100\n",
            "3/3 [==============================] - 0s 7ms/step - loss: 12.9977 - mae: 12.9977\n",
            "Epoch 81/100\n",
            "3/3 [==============================] - 0s 8ms/step - loss: 12.9408 - mae: 12.9408\n",
            "Epoch 82/100\n",
            "3/3 [==============================] - 0s 6ms/step - loss: 12.8650 - mae: 12.8650\n",
            "Epoch 83/100\n",
            "3/3 [==============================] - 0s 6ms/step - loss: 12.8871 - mae: 12.8871\n",
            "Epoch 84/100\n",
            "3/3 [==============================] - 0s 5ms/step - loss: 12.8149 - mae: 12.8149\n",
            "Epoch 85/100\n",
            "3/3 [==============================] - 0s 5ms/step - loss: 12.7191 - mae: 12.7191\n",
            "Epoch 86/100\n",
            "3/3 [==============================] - 0s 6ms/step - loss: 12.7221 - mae: 12.7221\n",
            "Epoch 87/100\n",
            "3/3 [==============================] - 0s 6ms/step - loss: 12.7200 - mae: 12.7200\n",
            "Epoch 88/100\n",
            "3/3 [==============================] - 0s 6ms/step - loss: 12.6388 - mae: 12.6388\n",
            "Epoch 89/100\n",
            "3/3 [==============================] - 0s 6ms/step - loss: 12.6020 - mae: 12.6020\n",
            "Epoch 90/100\n",
            "3/3 [==============================] - 0s 6ms/step - loss: 12.5101 - mae: 12.5101\n",
            "Epoch 91/100\n",
            "3/3 [==============================] - 0s 6ms/step - loss: 12.5130 - mae: 12.5130\n",
            "Epoch 92/100\n",
            "3/3 [==============================] - 0s 5ms/step - loss: 12.5094 - mae: 12.5094\n",
            "Epoch 93/100\n",
            "3/3 [==============================] - 0s 8ms/step - loss: 12.3988 - mae: 12.3988\n",
            "Epoch 94/100\n",
            "3/3 [==============================] - 0s 6ms/step - loss: 12.3916 - mae: 12.3916\n",
            "Epoch 95/100\n",
            "3/3 [==============================] - 0s 6ms/step - loss: 12.3607 - mae: 12.3607\n",
            "Epoch 96/100\n",
            "3/3 [==============================] - 0s 6ms/step - loss: 12.2863 - mae: 12.2863\n",
            "Epoch 97/100\n",
            "3/3 [==============================] - 0s 6ms/step - loss: 12.2816 - mae: 12.2816\n",
            "Epoch 98/100\n",
            "3/3 [==============================] - 0s 6ms/step - loss: 12.2254 - mae: 12.2254\n",
            "Epoch 99/100\n",
            "3/3 [==============================] - 0s 8ms/step - loss: 12.1340 - mae: 12.1340\n",
            "Epoch 100/100\n",
            "3/3 [==============================] - 0s 6ms/step - loss: 12.1393 - mae: 12.1393\n"
          ]
        }
      ]
    },
    {
      "cell_type": "markdown",
      "source": [
        "#### Visualize Model and prediction"
      ],
      "metadata": {
        "id": "cv07Uvbu2j6z"
      }
    },
    {
      "cell_type": "code",
      "source": [
        "# visualize performance\n",
        "performance(history_2)"
      ],
      "metadata": {
        "colab": {
          "base_uri": "https://localhost:8080/",
          "height": 448
        },
        "id": "O4jqg2guDmjN",
        "outputId": "cbc40785-51c6-457f-d177-336676cdc610"
      },
      "execution_count": 18,
      "outputs": [
        {
          "output_type": "execute_result",
          "data": {
            "text/plain": [
              "<Axes: >"
            ]
          },
          "metadata": {},
          "execution_count": 18
        },
        {
          "output_type": "display_data",
          "data": {
            "text/plain": [
              "<Figure size 640x480 with 1 Axes>"
            ],
            "image/png": "[encoded data removed]"
          },
          "metadata": {}
        }
      ]
    },
    {
      "cell_type": "code",
      "source": [
        "model_2.summary()"
      ],
      "metadata": {
        "colab": {
          "base_uri": "https://localhost:8080/"
        },
        "id": "ioTsgl_O4XLo",
        "outputId": "ec573331-b1b3-4b2a-9fac-c2d734f5488d"
      },
      "execution_count": 19,
      "outputs": [
        {
          "output_type": "stream",
          "name": "stdout",
          "text": [
            "Model: \"Model_2\"\n",
            "_________________________________________________________________\n",
            " Layer (type)                Output Shape              Param #   \n",
            "=================================================================\n",
            " input_layer (Dense)         (None, 100)               200       \n",
            "                                                                 \n",
            " output_layer (Dense)        (None, 1)                 101       \n",
            "                                                                 \n",
            "=================================================================\n",
            "Total params: 301 (1.18 KB)\n",
            "Trainable params: 301 (1.18 KB)\n",
            "Non-trainable params: 0 (0.00 Byte)\n",
            "_________________________________________________________________\n"
          ]
        }
      ]
    },
    {
      "cell_type": "code",
      "source": [
        "# visualize model\n",
        "plot_model(model= model_2, show_shapes=True)"
      ],
      "metadata": {
        "colab": {
          "base_uri": "https://localhost:8080/",
          "height": 312
        },
        "id": "zTucVyPG4b5z",
        "outputId": "881cc506-3f54-4abc-8e30-fdee37e9499a"
      },
      "execution_count": 20,
      "outputs": [
        {
          "output_type": "execute_result",
          "data": {
            "image/png": "[encoded data removed]",
            "text/plain": [
              "<IPython.core.display.Image object>"
            ]
          },
          "metadata": {},
          "execution_count": 20
        }
      ]
    },
    {
      "cell_type": "code",
      "source": [
        "predict_2 = model_2.predict(X_test)\n",
        "predict_2"
      ],
      "metadata": {
        "colab": {
          "base_uri": "https://localhost:8080/"
        },
        "id": "RpbFgBPj46Zk",
        "outputId": "73a2f716-4010-4804-fd19-1db31e023b5b"
      },
      "execution_count": 21,
      "outputs": [
        {
          "output_type": "stream",
          "name": "stdout",
          "text": [
            "1/1 [==============================] - 0s 43ms/step\n"
          ]
        },
        {
          "output_type": "execute_result",
          "data": {
            "text/plain": [
              "array([[113.772026],\n",
              "       [117.418304],\n",
              "       [121.06458 ],\n",
              "       [124.710884],\n",
              "       [128.35713 ],\n",
              "       [132.00342 ],\n",
              "       [135.6497  ],\n",
              "       [139.29599 ],\n",
              "       [142.94228 ],\n",
              "       [146.58856 ],\n",
              "       [150.23482 ],\n",
              "       [153.8811  ],\n",
              "       [157.52739 ],\n",
              "       [161.17368 ],\n",
              "       [164.81996 ],\n",
              "       [168.46623 ],\n",
              "       [172.1125  ],\n",
              "       [175.75877 ],\n",
              "       [179.40509 ],\n",
              "       [183.05136 ]], dtype=float32)"
            ]
          },
          "metadata": {},
          "execution_count": 21
        }
      ]
    },
    {
      "cell_type": "code",
      "source": [
        "# plot data, prediction\n",
        "visualize2 = plot_predictions(predictions=predict_2)"
      ],
      "metadata": {
        "colab": {
          "base_uri": "https://localhost:8080/",
          "height": 599
        },
        "id": "7y6IiiZG5QcM",
        "outputId": "eaaacb28-7f40-42dd-c78c-cda6697fd0be"
      },
      "execution_count": 22,
      "outputs": [
        {
          "output_type": "display_data",
          "data": {
            "text/plain": [
              "<Figure size 1000x700 with 1 Axes>"
            ],
            "image/png": "[encoded data removed]"
          },
          "metadata": {}
        }
      ]
    },
    {
      "cell_type": "markdown",
      "source": [
        "#### Evaluate model-2"
      ],
      "metadata": {
        "id": "w6Eg-JlQ5eUG"
      }
    },
    {
      "cell_type": "code",
      "source": [
        "# evaluate\n",
        "evaluate_model2 = model_2.evaluate(X_test, y_test)"
      ],
      "metadata": {
        "colab": {
          "base_uri": "https://localhost:8080/"
        },
        "id": "LWP90QTX55XS",
        "outputId": "ac1d3ce2-8d15-4b81-8a3e-4f400838c16e"
      },
      "execution_count": 23,
      "outputs": [
        {
          "output_type": "stream",
          "name": "stdout",
          "text": [
            "1/1 [==============================] - 0s 98ms/step - loss: 29.5883 - mae: 29.5883\n"
          ]
        }
      ]
    },
    {
      "cell_type": "code",
      "source": [
        "# mse and mae\n",
        "mae2 = mae(y_test, predict_2)\n",
        "mse2 = mse(y_test, predict_2)\n",
        "mse2, mae2"
      ],
      "metadata": {
        "colab": {
          "base_uri": "https://localhost:8080/"
        },
        "id": "XB8RfanY6AeP",
        "outputId": "cba66732-d2be-41a7-b7d5-e97c6f8922fd"
      },
      "execution_count": 24,
      "outputs": [
        {
          "output_type": "execute_result",
          "data": {
            "text/plain": [
              "(<tf.Tensor: shape=(), dtype=float32, numpy=879.62823>,\n",
              " <tf.Tensor: shape=(), dtype=float32, numpy=29.588312>)"
            ]
          },
          "metadata": {},
          "execution_count": 24
        }
      ]
    },
    {
      "cell_type": "markdown",
      "source": [
        "### **Model - 3**: Build and Train\n",
        " * 1 Dense layer\n",
        " * Adam optimizer\n",
        " * 100 epochs training"
      ],
      "metadata": {
        "id": "xrTyLQv_6mND"
      }
    },
    {
      "cell_type": "code",
      "source": [
        "# create model\n",
        "# set random seed\n",
        "tf.random.set_seed(42)\n",
        "\n",
        "# model\n",
        "model_3 = tf.keras.Sequential([\n",
        "    tf.keras.layers.Dense(1,name=\"hidden_layer\")\n",
        "], name=\"model_3\")\n",
        "\n",
        "# compile model\n",
        "model_3.compile(\n",
        "    loss=tf.keras.losses.mae,\n",
        "    optimizer= tf.keras.optimizers.legacy.Adam(),\n",
        "    metrics=[\"mae\"]\n",
        ")\n",
        "\n",
        "# fit model\n",
        "history_3 = model_3.fit(tf.expand_dims(X_train, axis=1), y_train, epochs=100)"
      ],
      "metadata": {
        "colab": {
          "base_uri": "https://localhost:8080/"
        },
        "id": "Rp0JMwrY7Eyn",
        "outputId": "f8063f95-6f36-412b-cf6c-6d6159eda2a7"
      },
      "execution_count": 25,
      "outputs": [
        {
          "output_type": "stream",
          "name": "stdout",
          "text": [
            "Epoch 1/100\n",
            "3/3 [==============================] - 0s 7ms/step - loss: 26.9898 - mae: 26.9898\n",
            "Epoch 2/100\n",
            "3/3 [==============================] - 0s 5ms/step - loss: 26.7592 - mae: 26.7592\n",
            "Epoch 3/100\n",
            "3/3 [==============================] - 0s 5ms/step - loss: 26.5549 - mae: 26.5549\n",
            "Epoch 4/100\n",
            "3/3 [==============================] - 0s 5ms/step - loss: 26.3348 - mae: 26.3348\n",
            "Epoch 5/100\n",
            "3/3 [==============================] - 0s 5ms/step - loss: 26.1254 - mae: 26.1254\n",
            "Epoch 6/100\n",
            "3/3 [==============================] - 0s 4ms/step - loss: 25.8949 - mae: 25.8949\n",
            "Epoch 7/100\n",
            "3/3 [==============================] - 0s 5ms/step - loss: 25.6803 - mae: 25.6803\n",
            "Epoch 8/100\n",
            "3/3 [==============================] - 0s 4ms/step - loss: 25.4676 - mae: 25.4676\n",
            "Epoch 9/100\n",
            "3/3 [==============================] - 0s 5ms/step - loss: 25.2413 - mae: 25.2413\n",
            "Epoch 10/100\n",
            "3/3 [==============================] - 0s 4ms/step - loss: 25.0304 - mae: 25.0304\n",
            "Epoch 11/100\n",
            "3/3 [==============================] - 0s 5ms/step - loss: 24.8071 - mae: 24.8071\n",
            "Epoch 12/100\n",
            "3/3 [==============================] - 0s 4ms/step - loss: 24.5911 - mae: 24.5911\n",
            "Epoch 13/100\n",
            "3/3 [==============================] - 0s 4ms/step - loss: 24.3927 - mae: 24.3927\n",
            "Epoch 14/100\n",
            "3/3 [==============================] - 0s 5ms/step - loss: 24.1726 - mae: 24.1726\n",
            "Epoch 15/100\n",
            "3/3 [==============================] - 0s 4ms/step - loss: 23.9700 - mae: 23.9700\n",
            "Epoch 16/100\n",
            "3/3 [==============================] - 0s 5ms/step - loss: 23.7553 - mae: 23.7553\n",
            "Epoch 17/100\n",
            "3/3 [==============================] - 0s 4ms/step - loss: 23.5585 - mae: 23.5585\n",
            "Epoch 18/100\n",
            "3/3 [==============================] - 0s 4ms/step - loss: 23.3500 - mae: 23.3500\n",
            "Epoch 19/100\n",
            "3/3 [==============================] - 0s 4ms/step - loss: 23.1452 - mae: 23.1452\n",
            "Epoch 20/100\n",
            "3/3 [==============================] - 0s 4ms/step - loss: 22.9443 - mae: 22.9443\n",
            "Epoch 21/100\n",
            "3/3 [==============================] - 0s 5ms/step - loss: 22.7422 - mae: 22.7422\n",
            "Epoch 22/100\n",
            "3/3 [==============================] - 0s 5ms/step - loss: 22.5505 - mae: 22.5505\n",
            "Epoch 23/100\n",
            "3/3 [==============================] - 0s 5ms/step - loss: 22.3544 - mae: 22.3544\n",
            "Epoch 24/100\n",
            "3/3 [==============================] - 0s 5ms/step - loss: 22.1648 - mae: 22.1648\n",
            "Epoch 25/100\n",
            "3/3 [==============================] - 0s 5ms/step - loss: 21.9624 - mae: 21.9624\n",
            "Epoch 26/100\n",
            "3/3 [==============================] - 0s 5ms/step - loss: 21.7672 - mae: 21.7672\n",
            "Epoch 27/100\n",
            "3/3 [==============================] - 0s 4ms/step - loss: 21.5822 - mae: 21.5822\n",
            "Epoch 28/100\n",
            "3/3 [==============================] - 0s 5ms/step - loss: 21.3988 - mae: 21.3988\n",
            "Epoch 29/100\n",
            "3/3 [==============================] - 0s 5ms/step - loss: 21.2063 - mae: 21.2063\n",
            "Epoch 30/100\n",
            "3/3 [==============================] - 0s 5ms/step - loss: 21.0365 - mae: 21.0365\n",
            "Epoch 31/100\n",
            "3/3 [==============================] - 0s 7ms/step - loss: 20.8411 - mae: 20.8411\n",
            "Epoch 32/100\n",
            "3/3 [==============================] - 0s 4ms/step - loss: 20.6575 - mae: 20.6575\n",
            "Epoch 33/100\n",
            "3/3 [==============================] - 0s 4ms/step - loss: 20.4857 - mae: 20.4857\n",
            "Epoch 34/100\n",
            "3/3 [==============================] - 0s 5ms/step - loss: 20.3075 - mae: 20.3075\n",
            "Epoch 35/100\n",
            "3/3 [==============================] - 0s 5ms/step - loss: 20.1310 - mae: 20.1310\n",
            "Epoch 36/100\n",
            "3/3 [==============================] - 0s 5ms/step - loss: 19.9670 - mae: 19.9670\n",
            "Epoch 37/100\n",
            "3/3 [==============================] - 0s 6ms/step - loss: 19.7885 - mae: 19.7885\n",
            "Epoch 38/100\n",
            "3/3 [==============================] - 0s 5ms/step - loss: 19.6234 - mae: 19.6234\n",
            "Epoch 39/100\n",
            "3/3 [==============================] - 0s 4ms/step - loss: 19.4622 - mae: 19.4622\n",
            "Epoch 40/100\n",
            "3/3 [==============================] - 0s 4ms/step - loss: 19.2889 - mae: 19.2889\n",
            "Epoch 41/100\n",
            "3/3 [==============================] - 0s 4ms/step - loss: 19.1302 - mae: 19.1302\n",
            "Epoch 42/100\n",
            "3/3 [==============================] - 0s 4ms/step - loss: 18.9753 - mae: 18.9753\n",
            "Epoch 43/100\n",
            "3/3 [==============================] - 0s 5ms/step - loss: 18.8160 - mae: 18.8160\n",
            "Epoch 44/100\n",
            "3/3 [==============================] - 0s 5ms/step - loss: 18.6587 - mae: 18.6587\n",
            "Epoch 45/100\n",
            "3/3 [==============================] - 0s 9ms/step - loss: 18.5131 - mae: 18.5131\n",
            "Epoch 46/100\n",
            "3/3 [==============================] - 0s 5ms/step - loss: 18.3696 - mae: 18.3696\n",
            "Epoch 47/100\n",
            "3/3 [==============================] - 0s 5ms/step - loss: 18.2265 - mae: 18.2265\n",
            "Epoch 48/100\n",
            "3/3 [==============================] - 0s 4ms/step - loss: 18.0755 - mae: 18.0755\n",
            "Epoch 49/100\n",
            "3/3 [==============================] - 0s 4ms/step - loss: 17.9534 - mae: 17.9534\n",
            "Epoch 50/100\n",
            "3/3 [==============================] - 0s 5ms/step - loss: 17.8129 - mae: 17.8129\n",
            "Epoch 51/100\n",
            "3/3 [==============================] - 0s 4ms/step - loss: 17.6841 - mae: 17.6841\n",
            "Epoch 52/100\n",
            "3/3 [==============================] - 0s 5ms/step - loss: 17.5580 - mae: 17.5580\n",
            "Epoch 53/100\n",
            "3/3 [==============================] - 0s 4ms/step - loss: 17.4213 - mae: 17.4213\n",
            "Epoch 54/100\n",
            "3/3 [==============================] - 0s 5ms/step - loss: 17.3198 - mae: 17.3198\n",
            "Epoch 55/100\n",
            "3/3 [==============================] - 0s 7ms/step - loss: 17.1836 - mae: 17.1836\n",
            "Epoch 56/100\n",
            "3/3 [==============================] - 0s 4ms/step - loss: 17.0810 - mae: 17.0810\n",
            "Epoch 57/100\n",
            "3/3 [==============================] - 0s 4ms/step - loss: 16.9751 - mae: 16.9751\n",
            "Epoch 58/100\n",
            "3/3 [==============================] - 0s 5ms/step - loss: 16.8549 - mae: 16.8549\n",
            "Epoch 59/100\n",
            "3/3 [==============================] - 0s 4ms/step - loss: 16.7564 - mae: 16.7564\n",
            "Epoch 60/100\n",
            "3/3 [==============================] - 0s 4ms/step - loss: 16.6623 - mae: 16.6623\n",
            "Epoch 61/100\n",
            "3/3 [==============================] - 0s 4ms/step - loss: 16.5700 - mae: 16.5700\n",
            "Epoch 62/100\n",
            "3/3 [==============================] - 0s 5ms/step - loss: 16.4834 - mae: 16.4834\n",
            "Epoch 63/100\n",
            "3/3 [==============================] - 0s 5ms/step - loss: 16.3952 - mae: 16.3952\n",
            "Epoch 64/100\n",
            "3/3 [==============================] - 0s 5ms/step - loss: 16.3038 - mae: 16.3038\n",
            "Epoch 65/100\n",
            "3/3 [==============================] - 0s 6ms/step - loss: 16.2342 - mae: 16.2342\n",
            "Epoch 66/100\n",
            "3/3 [==============================] - 0s 5ms/step - loss: 16.1594 - mae: 16.1594\n",
            "Epoch 67/100\n",
            "3/3 [==============================] - 0s 5ms/step - loss: 16.0786 - mae: 16.0786\n",
            "Epoch 68/100\n",
            "3/3 [==============================] - 0s 5ms/step - loss: 16.0099 - mae: 16.0099\n",
            "Epoch 69/100\n",
            "3/3 [==============================] - 0s 9ms/step - loss: 15.9467 - mae: 15.9467\n",
            "Epoch 70/100\n",
            "3/3 [==============================] - 0s 5ms/step - loss: 15.8834 - mae: 15.8834\n",
            "Epoch 71/100\n",
            "3/3 [==============================] - 0s 5ms/step - loss: 15.8236 - mae: 15.8236\n",
            "Epoch 72/100\n",
            "3/3 [==============================] - 0s 5ms/step - loss: 15.7698 - mae: 15.7698\n",
            "Epoch 73/100\n",
            "3/3 [==============================] - 0s 9ms/step - loss: 15.7213 - mae: 15.7213\n",
            "Epoch 74/100\n",
            "3/3 [==============================] - 0s 5ms/step - loss: 15.6680 - mae: 15.6680\n",
            "Epoch 75/100\n",
            "3/3 [==============================] - 0s 5ms/step - loss: 15.6293 - mae: 15.6293\n",
            "Epoch 76/100\n",
            "3/3 [==============================] - 0s 5ms/step - loss: 15.5746 - mae: 15.5746\n",
            "Epoch 77/100\n",
            "3/3 [==============================] - 0s 5ms/step - loss: 15.5359 - mae: 15.5359\n",
            "Epoch 78/100\n",
            "3/3 [==============================] - 0s 4ms/step - loss: 15.5053 - mae: 15.5053\n",
            "Epoch 79/100\n",
            "3/3 [==============================] - 0s 5ms/step - loss: 15.4706 - mae: 15.4706\n",
            "Epoch 80/100\n",
            "3/3 [==============================] - 0s 5ms/step - loss: 15.4340 - mae: 15.4340\n",
            "Epoch 81/100\n",
            "3/3 [==============================] - 0s 5ms/step - loss: 15.4047 - mae: 15.4047\n",
            "Epoch 82/100\n",
            "3/3 [==============================] - 0s 5ms/step - loss: 15.3806 - mae: 15.3806\n",
            "Epoch 83/100\n",
            "3/3 [==============================] - 0s 5ms/step - loss: 15.3534 - mae: 15.3534\n",
            "Epoch 84/100\n",
            "3/3 [==============================] - 0s 4ms/step - loss: 15.3353 - mae: 15.3353\n",
            "Epoch 85/100\n",
            "3/3 [==============================] - 0s 5ms/step - loss: 15.3162 - mae: 15.3162\n",
            "Epoch 86/100\n",
            "3/3 [==============================] - 0s 7ms/step - loss: 15.2949 - mae: 15.2949\n",
            "Epoch 87/100\n",
            "3/3 [==============================] - 0s 5ms/step - loss: 15.2784 - mae: 15.2784\n",
            "Epoch 88/100\n",
            "3/3 [==============================] - 0s 5ms/step - loss: 15.2672 - mae: 15.2672\n",
            "Epoch 89/100\n",
            "3/3 [==============================] - 0s 5ms/step - loss: 15.2566 - mae: 15.2566\n",
            "Epoch 90/100\n",
            "3/3 [==============================] - 0s 5ms/step - loss: 15.2447 - mae: 15.2447\n",
            "Epoch 91/100\n",
            "3/3 [==============================] - 0s 5ms/step - loss: 15.2331 - mae: 15.2331\n",
            "Epoch 92/100\n",
            "3/3 [==============================] - 0s 5ms/step - loss: 15.2251 - mae: 15.2251\n",
            "Epoch 93/100\n",
            "3/3 [==============================] - 0s 5ms/step - loss: 15.2172 - mae: 15.2172\n",
            "Epoch 94/100\n",
            "3/3 [==============================] - 0s 5ms/step - loss: 15.2109 - mae: 15.2109\n",
            "Epoch 95/100\n",
            "3/3 [==============================] - 0s 5ms/step - loss: 15.2031 - mae: 15.2031\n",
            "Epoch 96/100\n",
            "3/3 [==============================] - 0s 4ms/step - loss: 15.2002 - mae: 15.2002\n",
            "Epoch 97/100\n",
            "3/3 [==============================] - 0s 5ms/step - loss: 15.1897 - mae: 15.1897\n",
            "Epoch 98/100\n",
            "3/3 [==============================] - 0s 5ms/step - loss: 15.1861 - mae: 15.1861\n",
            "Epoch 99/100\n",
            "3/3 [==============================] - 0s 6ms/step - loss: 15.1801 - mae: 15.1801\n",
            "Epoch 100/100\n",
            "3/3 [==============================] - 0s 4ms/step - loss: 15.1752 - mae: 15.1752\n"
          ]
        }
      ]
    },
    {
      "cell_type": "markdown",
      "source": [
        "#### Visualize Model and prediction\n"
      ],
      "metadata": {
        "id": "gepeH-VM8BvD"
      }
    },
    {
      "cell_type": "code",
      "source": [
        "# visualize model\n",
        "performance(history_3)"
      ],
      "metadata": {
        "colab": {
          "base_uri": "https://localhost:8080/",
          "height": 448
        },
        "id": "nzJtApgqCObu",
        "outputId": "d012b0ec-1857-499e-fca8-0d9a9558bb43"
      },
      "execution_count": 26,
      "outputs": [
        {
          "output_type": "execute_result",
          "data": {
            "text/plain": [
              "<Axes: >"
            ]
          },
          "metadata": {},
          "execution_count": 26
        },
        {
          "output_type": "display_data",
          "data": {
            "text/plain": [
              "<Figure size 640x480 with 1 Axes>"
            ],
            "image/png": "[encoded data removed]"
          },
          "metadata": {}
        }
      ]
    },
    {
      "cell_type": "code",
      "source": [
        "plot_model(model=model_3, show_shapes=True )"
      ],
      "metadata": {
        "colab": {
          "base_uri": "https://localhost:8080/",
          "height": 201
        },
        "id": "50KpXnzJ8KtL",
        "outputId": "3c4d6ba6-7e0f-4214-a32c-b899957e5013"
      },
      "execution_count": 27,
      "outputs": [
        {
          "output_type": "execute_result",
          "data": {
            "image/png": "[encoded data removed]",
            "text/plain": [
              "<IPython.core.display.Image object>"
            ]
          },
          "metadata": {},
          "execution_count": 27
        }
      ]
    },
    {
      "cell_type": "code",
      "source": [
        "model_3.summary()"
      ],
      "metadata": {
        "colab": {
          "base_uri": "https://localhost:8080/"
        },
        "id": "LjlyWBXa8j72",
        "outputId": "e64c13f4-42b2-445f-d18b-8ff4a5a463df"
      },
      "execution_count": 28,
      "outputs": [
        {
          "output_type": "stream",
          "name": "stdout",
          "text": [
            "Model: \"model_3\"\n",
            "_________________________________________________________________\n",
            " Layer (type)                Output Shape              Param #   \n",
            "=================================================================\n",
            " hidden_layer (Dense)        (None, 1)                 2         \n",
            "                                                                 \n",
            "=================================================================\n",
            "Total params: 2 (8.00 Byte)\n",
            "Trainable params: 2 (8.00 Byte)\n",
            "Non-trainable params: 0 (0.00 Byte)\n",
            "_________________________________________________________________\n"
          ]
        }
      ]
    },
    {
      "cell_type": "code",
      "source": [
        "predict_3= model_3.predict(X_test)\n",
        "predict_3"
      ],
      "metadata": {
        "colab": {
          "base_uri": "https://localhost:8080/"
        },
        "id": "k2M2FqwI8-FU",
        "outputId": "eab9768b-922e-4b56-96f1-6e77c59b7b87"
      },
      "execution_count": 30,
      "outputs": [
        {
          "output_type": "stream",
          "name": "stdout",
          "text": [
            "1/1 [==============================] - 0s 20ms/step\n"
          ]
        },
        {
          "output_type": "execute_result",
          "data": {
            "text/plain": [
              "array([[105.72397 ],\n",
              "       [109.23681 ],\n",
              "       [112.74964 ],\n",
              "       [116.262474],\n",
              "       [119.775314],\n",
              "       [123.28815 ],\n",
              "       [126.80099 ],\n",
              "       [130.31383 ],\n",
              "       [133.82666 ],\n",
              "       [137.3395  ],\n",
              "       [140.85233 ],\n",
              "       [144.36517 ],\n",
              "       [147.878   ],\n",
              "       [151.39084 ],\n",
              "       [154.90367 ],\n",
              "       [158.41652 ],\n",
              "       [161.92935 ],\n",
              "       [165.44218 ],\n",
              "       [168.95502 ],\n",
              "       [172.46785 ]], dtype=float32)"
            ]
          },
          "metadata": {},
          "execution_count": 30
        }
      ]
    },
    {
      "cell_type": "code",
      "source": [
        "visualize_3 = plot_predictions(predictions=predict_3)"
      ],
      "metadata": {
        "colab": {
          "base_uri": "https://localhost:8080/",
          "height": 599
        },
        "id": "92V2PUtX9JrF",
        "outputId": "f7aeafd9-59b7-42b9-8bef-a5dd4ee62309"
      },
      "execution_count": 32,
      "outputs": [
        {
          "output_type": "display_data",
          "data": {
            "text/plain": [
              "<Figure size 1000x700 with 1 Axes>"
            ],
            "image/png": "[encoded data removed]"
          },
          "metadata": {}
        }
      ]
    },
    {
      "cell_type": "markdown",
      "source": [
        "#### Evaluate model-3"
      ],
      "metadata": {
        "id": "iFIiy4r-9n5D"
      }
    },
    {
      "cell_type": "code",
      "source": [
        "evaluate_model3= model_3.evaluate(X_test, y_test)"
      ],
      "metadata": {
        "colab": {
          "base_uri": "https://localhost:8080/"
        },
        "id": "f5clj-819vjT",
        "outputId": "5ce6845c-d5e1-4436-88f8-189c94585823"
      },
      "execution_count": 33,
      "outputs": [
        {
          "output_type": "stream",
          "name": "stdout",
          "text": [
            "1/1 [==============================] - 0s 99ms/step - loss: 38.9041 - mae: 38.9041\n"
          ]
        }
      ]
    },
    {
      "cell_type": "code",
      "source": [
        "mse3 = mse(y_test, predict3)\n",
        "mae3 = mae(y_test, predict3)\n",
        "mse3, mae3"
      ],
      "metadata": {
        "colab": {
          "base_uri": "https://localhost:8080/"
        },
        "id": "TsEQUNUD-Ngc",
        "outputId": "fea53fdc-e35c-4e7b-c43e-d481c23e42f4"
      },
      "execution_count": 34,
      "outputs": [
        {
          "output_type": "execute_result",
          "data": {
            "text/plain": [
              "(<tf.Tensor: shape=(), dtype=float32, numpy=1521.4192>,\n",
              " <tf.Tensor: shape=(), dtype=float32, numpy=38.904083>)"
            ]
          },
          "metadata": {},
          "execution_count": 34
        }
      ]
    },
    {
      "cell_type": "markdown",
      "source": [
        "### **Model - 4**  : Build and Train\n",
        " * 2 Dense layer\n",
        " * Adam optimizer\n",
        " * 300 epochs training"
      ],
      "metadata": {
        "id": "iMGL31F8-cdK"
      }
    },
    {
      "cell_type": "code",
      "source": [
        "\n",
        "tf.random.set_seed(42)\n",
        "\n",
        "model_4 = tf.keras.Sequential([\n",
        "    tf.keras.layers.Dense(100, name=\"hidden_layer1\"),\n",
        "    tf.keras.layers.Dense(50, name=\"hidden_layer2\"),\n",
        "    tf.keras.layers.Dense(1, name=\"last_layer\")\n",
        "],name=\"model_4\")\n",
        "\n",
        "model_4.compile(\n",
        "    loss=\"mae\",\n",
        "    optimizer= tf.keras.optimizers.legacy.Adam(),\n",
        "    metrics=\"mae\"\n",
        ")\n",
        "\n",
        "history_4 = model_4.fit(tf.expand_dims(X_train, axis=1), y_train, epochs=100)"
      ],
      "metadata": {
        "colab": {
          "base_uri": "https://localhost:8080/"
        },
        "id": "YR9Imr7K-o9T",
        "outputId": "eb8bf6e6-ff63-4f11-d6fe-fd926d6e0691"
      },
      "execution_count": 35,
      "outputs": [
        {
          "output_type": "stream",
          "name": "stdout",
          "text": [
            "Epoch 1/100\n",
            "3/3 [==============================] - 0s 7ms/step - loss: 92.9025 - mae: 92.9025\n",
            "Epoch 2/100\n",
            "3/3 [==============================] - 0s 5ms/step - loss: 59.2884 - mae: 59.2884\n",
            "Epoch 3/100\n",
            "3/3 [==============================] - 0s 4ms/step - loss: 29.6943 - mae: 29.6943\n",
            "Epoch 4/100\n",
            "3/3 [==============================] - 0s 5ms/step - loss: 19.5820 - mae: 19.5820\n",
            "Epoch 5/100\n",
            "3/3 [==============================] - 0s 5ms/step - loss: 27.1933 - mae: 27.1933\n",
            "Epoch 6/100\n",
            "3/3 [==============================] - 0s 5ms/step - loss: 28.9099 - mae: 28.9099\n",
            "Epoch 7/100\n",
            "3/3 [==============================] - 0s 5ms/step - loss: 25.1962 - mae: 25.1962\n",
            "Epoch 8/100\n",
            "3/3 [==============================] - 0s 5ms/step - loss: 19.7111 - mae: 19.7111\n",
            "Epoch 9/100\n",
            "3/3 [==============================] - 0s 5ms/step - loss: 16.9438 - mae: 16.9438\n",
            "Epoch 10/100\n",
            "3/3 [==============================] - 0s 5ms/step - loss: 19.4236 - mae: 19.4236\n",
            "Epoch 11/100\n",
            "3/3 [==============================] - 0s 5ms/step - loss: 15.7500 - mae: 15.7500\n",
            "Epoch 12/100\n",
            "3/3 [==============================] - 0s 5ms/step - loss: 17.4714 - mae: 17.4714\n",
            "Epoch 13/100\n",
            "3/3 [==============================] - 0s 5ms/step - loss: 18.0438 - mae: 18.0438\n",
            "Epoch 14/100\n",
            "3/3 [==============================] - 0s 5ms/step - loss: 15.6034 - mae: 15.6034\n",
            "Epoch 15/100\n",
            "3/3 [==============================] - 0s 4ms/step - loss: 16.1270 - mae: 16.1270\n",
            "Epoch 16/100\n",
            "3/3 [==============================] - 0s 4ms/step - loss: 15.3441 - mae: 15.3441\n",
            "Epoch 17/100\n",
            "3/3 [==============================] - 0s 4ms/step - loss: 15.3902 - mae: 15.3902\n",
            "Epoch 18/100\n",
            "3/3 [==============================] - 0s 4ms/step - loss: 15.2416 - mae: 15.2416\n",
            "Epoch 19/100\n",
            "3/3 [==============================] - 0s 4ms/step - loss: 15.1242 - mae: 15.1242\n",
            "Epoch 20/100\n",
            "3/3 [==============================] - 0s 5ms/step - loss: 14.6783 - mae: 14.6783\n",
            "Epoch 21/100\n",
            "3/3 [==============================] - 0s 4ms/step - loss: 14.7924 - mae: 14.7924\n",
            "Epoch 22/100\n",
            "3/3 [==============================] - 0s 4ms/step - loss: 14.5623 - mae: 14.5623\n",
            "Epoch 23/100\n",
            "3/3 [==============================] - 0s 5ms/step - loss: 14.7272 - mae: 14.7272\n",
            "Epoch 24/100\n",
            "3/3 [==============================] - 0s 4ms/step - loss: 14.5153 - mae: 14.5153\n",
            "Epoch 25/100\n",
            "3/3 [==============================] - 0s 6ms/step - loss: 14.6144 - mae: 14.6144\n",
            "Epoch 26/100\n",
            "3/3 [==============================] - 0s 5ms/step - loss: 14.6648 - mae: 14.6648\n",
            "Epoch 27/100\n",
            "3/3 [==============================] - 0s 5ms/step - loss: 14.4363 - mae: 14.4363\n",
            "Epoch 28/100\n",
            "3/3 [==============================] - 0s 5ms/step - loss: 14.5363 - mae: 14.5363\n",
            "Epoch 29/100\n",
            "3/3 [==============================] - 0s 5ms/step - loss: 14.3528 - mae: 14.3528\n",
            "Epoch 30/100\n",
            "3/3 [==============================] - 0s 5ms/step - loss: 14.1967 - mae: 14.1967\n",
            "Epoch 31/100\n",
            "3/3 [==============================] - 0s 5ms/step - loss: 14.1731 - mae: 14.1731\n",
            "Epoch 32/100\n",
            "3/3 [==============================] - 0s 5ms/step - loss: 14.2374 - mae: 14.2374\n",
            "Epoch 33/100\n",
            "3/3 [==============================] - 0s 5ms/step - loss: 14.1045 - mae: 14.1045\n",
            "Epoch 34/100\n",
            "3/3 [==============================] - 0s 5ms/step - loss: 14.0734 - mae: 14.0734\n",
            "Epoch 35/100\n",
            "3/3 [==============================] - 0s 5ms/step - loss: 13.9331 - mae: 13.9331\n",
            "Epoch 36/100\n",
            "3/3 [==============================] - 0s 5ms/step - loss: 13.8816 - mae: 13.8816\n",
            "Epoch 37/100\n",
            "3/3 [==============================] - 0s 9ms/step - loss: 13.8084 - mae: 13.8084\n",
            "Epoch 38/100\n",
            "3/3 [==============================] - 0s 4ms/step - loss: 13.7457 - mae: 13.7457\n",
            "Epoch 39/100\n",
            "3/3 [==============================] - 0s 4ms/step - loss: 13.6769 - mae: 13.6769\n",
            "Epoch 40/100\n",
            "3/3 [==============================] - 0s 5ms/step - loss: 13.6829 - mae: 13.6829\n",
            "Epoch 41/100\n",
            "3/3 [==============================] - 0s 5ms/step - loss: 13.7157 - mae: 13.7157\n",
            "Epoch 42/100\n",
            "3/3 [==============================] - 0s 5ms/step - loss: 13.6378 - mae: 13.6378\n",
            "Epoch 43/100\n",
            "3/3 [==============================] - 0s 4ms/step - loss: 14.1668 - mae: 14.1668\n",
            "Epoch 44/100\n",
            "3/3 [==============================] - 0s 4ms/step - loss: 13.6895 - mae: 13.6895\n",
            "Epoch 45/100\n",
            "3/3 [==============================] - 0s 4ms/step - loss: 14.5191 - mae: 14.5191\n",
            "Epoch 46/100\n",
            "3/3 [==============================] - 0s 5ms/step - loss: 13.2980 - mae: 13.2980\n",
            "Epoch 47/100\n",
            "3/3 [==============================] - 0s 9ms/step - loss: 14.1839 - mae: 14.1839\n",
            "Epoch 48/100\n",
            "3/3 [==============================] - 0s 6ms/step - loss: 13.8453 - mae: 13.8453\n",
            "Epoch 49/100\n",
            "3/3 [==============================] - 0s 6ms/step - loss: 13.1735 - mae: 13.1735\n",
            "Epoch 50/100\n",
            "3/3 [==============================] - 0s 5ms/step - loss: 14.2252 - mae: 14.2252\n",
            "Epoch 51/100\n",
            "3/3 [==============================] - 0s 4ms/step - loss: 13.3404 - mae: 13.3404\n",
            "Epoch 52/100\n",
            "3/3 [==============================] - 0s 5ms/step - loss: 13.3540 - mae: 13.3540\n",
            "Epoch 53/100\n",
            "3/3 [==============================] - 0s 5ms/step - loss: 13.4849 - mae: 13.4849\n",
            "Epoch 54/100\n",
            "3/3 [==============================] - 0s 5ms/step - loss: 12.9155 - mae: 12.9155\n",
            "Epoch 55/100\n",
            "3/3 [==============================] - 0s 5ms/step - loss: 13.0792 - mae: 13.0792\n",
            "Epoch 56/100\n",
            "3/3 [==============================] - 0s 5ms/step - loss: 13.1623 - mae: 13.1623\n",
            "Epoch 57/100\n",
            "3/3 [==============================] - 0s 5ms/step - loss: 12.5614 - mae: 12.5614\n",
            "Epoch 58/100\n",
            "3/3 [==============================] - 0s 5ms/step - loss: 12.7324 - mae: 12.7324\n",
            "Epoch 59/100\n",
            "3/3 [==============================] - 0s 4ms/step - loss: 12.9619 - mae: 12.9619\n",
            "Epoch 60/100\n",
            "3/3 [==============================] - 0s 5ms/step - loss: 12.1878 - mae: 12.1878\n",
            "Epoch 61/100\n",
            "3/3 [==============================] - 0s 5ms/step - loss: 12.7472 - mae: 12.7472\n",
            "Epoch 62/100\n",
            "3/3 [==============================] - 0s 5ms/step - loss: 12.6423 - mae: 12.6423\n",
            "Epoch 63/100\n",
            "3/3 [==============================] - 0s 5ms/step - loss: 12.3228 - mae: 12.3228\n",
            "Epoch 64/100\n",
            "3/3 [==============================] - 0s 5ms/step - loss: 13.3488 - mae: 13.3488\n",
            "Epoch 65/100\n",
            "3/3 [==============================] - 0s 5ms/step - loss: 12.0783 - mae: 12.0783\n",
            "Epoch 66/100\n",
            "3/3 [==============================] - 0s 5ms/step - loss: 12.9212 - mae: 12.9212\n",
            "Epoch 67/100\n",
            "3/3 [==============================] - 0s 5ms/step - loss: 12.3385 - mae: 12.3385\n",
            "Epoch 68/100\n",
            "3/3 [==============================] - 0s 5ms/step - loss: 12.1540 - mae: 12.1540\n",
            "Epoch 69/100\n",
            "3/3 [==============================] - 0s 5ms/step - loss: 11.7784 - mae: 11.7784\n",
            "Epoch 70/100\n",
            "3/3 [==============================] - 0s 5ms/step - loss: 12.2667 - mae: 12.2667\n",
            "Epoch 71/100\n",
            "3/3 [==============================] - 0s 7ms/step - loss: 12.0976 - mae: 12.0976\n",
            "Epoch 72/100\n",
            "3/3 [==============================] - 0s 5ms/step - loss: 11.5634 - mae: 11.5634\n",
            "Epoch 73/100\n",
            "3/3 [==============================] - 0s 5ms/step - loss: 11.3261 - mae: 11.3261\n",
            "Epoch 74/100\n",
            "3/3 [==============================] - 0s 5ms/step - loss: 11.2240 - mae: 11.2240\n",
            "Epoch 75/100\n",
            "3/3 [==============================] - 0s 5ms/step - loss: 11.2552 - mae: 11.2552\n",
            "Epoch 76/100\n",
            "3/3 [==============================] - 0s 5ms/step - loss: 11.1581 - mae: 11.1581\n",
            "Epoch 77/100\n",
            "3/3 [==============================] - 0s 5ms/step - loss: 10.6792 - mae: 10.6792\n",
            "Epoch 78/100\n",
            "3/3 [==============================] - 0s 4ms/step - loss: 10.5141 - mae: 10.5141\n",
            "Epoch 79/100\n",
            "3/3 [==============================] - 0s 5ms/step - loss: 10.5312 - mae: 10.5312\n",
            "Epoch 80/100\n",
            "3/3 [==============================] - 0s 5ms/step - loss: 10.5974 - mae: 10.5974\n",
            "Epoch 81/100\n",
            "3/3 [==============================] - 0s 5ms/step - loss: 10.3563 - mae: 10.3563\n",
            "Epoch 82/100\n",
            "3/3 [==============================] - 0s 4ms/step - loss: 10.3826 - mae: 10.3826\n",
            "Epoch 83/100\n",
            "3/3 [==============================] - 0s 5ms/step - loss: 10.4778 - mae: 10.4778\n",
            "Epoch 84/100\n",
            "3/3 [==============================] - 0s 5ms/step - loss: 10.1761 - mae: 10.1761\n",
            "Epoch 85/100\n",
            "3/3 [==============================] - 0s 5ms/step - loss: 9.6239 - mae: 9.6239\n",
            "Epoch 86/100\n",
            "3/3 [==============================] - 0s 5ms/step - loss: 9.7260 - mae: 9.7260\n",
            "Epoch 87/100\n",
            "3/3 [==============================] - 0s 5ms/step - loss: 9.6857 - mae: 9.6857\n",
            "Epoch 88/100\n",
            "3/3 [==============================] - 0s 5ms/step - loss: 10.0094 - mae: 10.0094\n",
            "Epoch 89/100\n",
            "3/3 [==============================] - 0s 5ms/step - loss: 10.3475 - mae: 10.3475\n",
            "Epoch 90/100\n",
            "3/3 [==============================] - 0s 5ms/step - loss: 9.3730 - mae: 9.3730\n",
            "Epoch 91/100\n",
            "3/3 [==============================] - 0s 5ms/step - loss: 9.6382 - mae: 9.6382\n",
            "Epoch 92/100\n",
            "3/3 [==============================] - 0s 5ms/step - loss: 9.7827 - mae: 9.7827\n",
            "Epoch 93/100\n",
            "3/3 [==============================] - 0s 5ms/step - loss: 9.0228 - mae: 9.0228\n",
            "Epoch 94/100\n",
            "3/3 [==============================] - 0s 5ms/step - loss: 9.5461 - mae: 9.5461\n",
            "Epoch 95/100\n",
            "3/3 [==============================] - 0s 5ms/step - loss: 8.6879 - mae: 8.6879\n",
            "Epoch 96/100\n",
            "3/3 [==============================] - 0s 7ms/step - loss: 8.0871 - mae: 8.0871\n",
            "Epoch 97/100\n",
            "3/3 [==============================] - 0s 7ms/step - loss: 7.9413 - mae: 7.9413\n",
            "Epoch 98/100\n",
            "3/3 [==============================] - 0s 6ms/step - loss: 8.0925 - mae: 8.0925\n",
            "Epoch 99/100\n",
            "3/3 [==============================] - 0s 6ms/step - loss: 8.2365 - mae: 8.2365\n",
            "Epoch 100/100\n",
            "3/3 [==============================] - 0s 6ms/step - loss: 7.4551 - mae: 7.4551\n"
          ]
        }
      ]
    },
    {
      "cell_type": "markdown",
      "source": [
        "#### Visualize model and predictions"
      ],
      "metadata": {
        "id": "DQvU_iRp_zIV"
      }
    },
    {
      "cell_type": "code",
      "source": [
        "# visualizing model\n",
        "performance(history_4)"
      ],
      "metadata": {
        "colab": {
          "base_uri": "https://localhost:8080/",
          "height": 448
        },
        "id": "Eyd5RjJEAe8L",
        "outputId": "65714444-0eb3-4cd6-a4b6-d974d7342ba1"
      },
      "execution_count": 36,
      "outputs": [
        {
          "output_type": "execute_result",
          "data": {
            "text/plain": [
              "<Axes: >"
            ]
          },
          "metadata": {},
          "execution_count": 36
        },
        {
          "output_type": "display_data",
          "data": {
            "text/plain": [
              "<Figure size 640x480 with 1 Axes>"
            ],
            "image/png": "[encoded data removed]"
          },
          "metadata": {}
        }
      ]
    },
    {
      "cell_type": "code",
      "source": [
        "plot_model(model=model_4, show_shapes=True)"
      ],
      "metadata": {
        "colab": {
          "base_uri": "https://localhost:8080/",
          "height": 422
        },
        "id": "E0vO_68J_6bz",
        "outputId": "431c3d47-79fb-4d88-8980-2a8f7adedba6"
      },
      "execution_count": 37,
      "outputs": [
        {
          "output_type": "execute_result",
          "data": {
            "image/png": "[encoded data removed]",
            "text/plain": [
              "<IPython.core.display.Image object>"
            ]
          },
          "metadata": {},
          "execution_count": 37
        }
      ]
    },
    {
      "cell_type": "code",
      "source": [
        "predict4 = model_4.predict(X_test)\n",
        "predict4"
      ],
      "metadata": {
        "colab": {
          "base_uri": "https://localhost:8080/"
        },
        "id": "-TxPneFPADr6",
        "outputId": "d80bdf2c-00f8-4be7-c1da-f4eaf3b9b4d2"
      },
      "execution_count": 38,
      "outputs": [
        {
          "output_type": "stream",
          "name": "stdout",
          "text": [
            "1/1 [==============================] - 0s 51ms/step\n"
          ]
        },
        {
          "output_type": "execute_result",
          "data": {
            "text/plain": [
              "array([[123.83908],\n",
              "       [127.60386],\n",
              "       [131.36862],\n",
              "       [135.1334 ],\n",
              "       [138.89818],\n",
              "       [142.66296],\n",
              "       [146.42775],\n",
              "       [150.19254],\n",
              "       [153.95729],\n",
              "       [157.72209],\n",
              "       [161.48685],\n",
              "       [165.25166],\n",
              "       [169.0164 ],\n",
              "       [172.78119],\n",
              "       [176.54596],\n",
              "       [180.31075],\n",
              "       [184.07553],\n",
              "       [187.8403 ],\n",
              "       [191.60509],\n",
              "       [195.36987]], dtype=float32)"
            ]
          },
          "metadata": {},
          "execution_count": 38
        }
      ]
    },
    {
      "cell_type": "code",
      "source": [
        "# visualize prediction\n",
        "plot_predictions(predictions=predict4)"
      ],
      "metadata": {
        "colab": {
          "base_uri": "https://localhost:8080/",
          "height": 599
        },
        "id": "pB-oLVAXARLL",
        "outputId": "81f5ca1c-b21d-477d-f2b7-9397675fea09"
      },
      "execution_count": 39,
      "outputs": [
        {
          "output_type": "display_data",
          "data": {
            "text/plain": [
              "<Figure size 1000x700 with 1 Axes>"
            ],
            "image/png": "[encoded data removed]"
          },
          "metadata": {}
        }
      ]
    },
    {
      "cell_type": "markdown",
      "source": [
        "#### Evaluate model-4"
      ],
      "metadata": {
        "id": "f9NRgYZQAa7s"
      }
    },
    {
      "cell_type": "code",
      "source": [
        "evaluate_model4 = model_4.evaluate(X_test, y_test)"
      ],
      "metadata": {
        "colab": {
          "base_uri": "https://localhost:8080/"
        },
        "id": "vkfZLCrCBwDt",
        "outputId": "9e34e9aa-abb6-43bb-c882-b9ee3cd20663"
      },
      "execution_count": 40,
      "outputs": [
        {
          "output_type": "stream",
          "name": "stdout",
          "text": [
            "1/1 [==============================] - 0s 113ms/step - loss: 18.3955 - mae: 18.3955\n"
          ]
        }
      ]
    },
    {
      "cell_type": "code",
      "source": [
        "#mae and mse\n",
        "mae4 = mae(y_test, predict4)\n",
        "mse4 = mse(y_test, predict4)\n",
        "mae4, mse4"
      ],
      "metadata": {
        "colab": {
          "base_uri": "https://localhost:8080/"
        },
        "id": "-4I6i30rB2GM",
        "outputId": "953a9f02-f1a5-4be7-c5c4-c8674468db84"
      },
      "execution_count": 41,
      "outputs": [
        {
          "output_type": "execute_result",
          "data": {
            "text/plain": [
              "(<tf.Tensor: shape=(), dtype=float32, numpy=18.395529>,\n",
              " <tf.Tensor: shape=(), dtype=float32, numpy=340.2353>)"
            ]
          },
          "metadata": {},
          "execution_count": 41
        }
      ]
    },
    {
      "cell_type": "markdown",
      "source": [
        "### **Comparing Model**\n",
        " * comapare visuals and mae/mse"
      ],
      "metadata": {
        "id": "yXYhrX7qCJ7o"
      }
    },
    {
      "cell_type": "code",
      "source": [
        "# compare visuals\n",
        "performance(history_1) , performance(history_2), performance(history_3), performance(history_4)"
      ],
      "metadata": {
        "colab": {
          "base_uri": "https://localhost:8080/",
          "height": 1000
        },
        "id": "FtE2bOGKs5ba",
        "outputId": "a265cd69-744d-4036-9fab-4ae884ad9376"
      },
      "execution_count": 42,
      "outputs": [
        {
          "output_type": "execute_result",
          "data": {
            "text/plain": [
              "(<Axes: >, <Axes: >, <Axes: >, <Axes: >)"
            ]
          },
          "metadata": {},
          "execution_count": 42
        },
        {
          "output_type": "display_data",
          "data": {
            "text/plain": [
              "<Figure size 640x480 with 1 Axes>"
            ],
            "image/png": "[encoded data removed]"
          },
          "metadata": {}
        },
        {
          "output_type": "display_data",
          "data": {
            "text/plain": [
              "<Figure size 640x480 with 1 Axes>"
            ],
            "image/png": "[encoded data removed]"
          },
          "metadata": {}
        },
        {
          "output_type": "display_data",
          "data": {
            "text/plain": [
              "<Figure size 640x480 with 1 Axes>"
            ],
            "image/png": "[encoded data removed]"
          },
          "metadata": {}
        },
        {
          "output_type": "display_data",
          "data": {
            "text/plain": [
              "<Figure size 640x480 with 1 Axes>"
            ],
            "image/png": "[encoded data removed]"
          },
          "metadata": {}
        }
      ]
    },
    {
      "cell_type": "code",
      "source": [
        "model_results = [[\"model_1\", mae1.numpy(), mse1.numpy()],\n",
        "                 [\"model_2\",  mae2.numpy(), mse2.numpy()],\n",
        "                 [\"model_3\",  mae3.numpy(), mse3.numpy()],\n",
        "                 [\"model_4\",  mae4.numpy(), mse4.numpy()]]\n",
        "\n",
        "results = pd.DataFrame(model_results, columns=[\"Model\", \"MAE\", \"MSE\"])\n",
        "results"
      ],
      "metadata": {
        "colab": {
          "base_uri": "https://localhost:8080/",
          "height": 175
        },
        "id": "vUQXfK9TvLqH",
        "outputId": "7487c2fe-4b2b-4c20-cfa8-40992b537465"
      },
      "execution_count": 43,
      "outputs": [
        {
          "output_type": "execute_result",
          "data": {
            "text/plain": [
              "     Model        MAE          MSE\n",
              "0  model_1  87.990784  7844.199219\n",
              "1  model_2  29.588312   879.628235\n",
              "2  model_3  38.904083  1521.419189\n",
              "3  model_4  18.395529   340.235291"
            ],
            "text/html": [
              "\n",
              "  <div id=\"df-ebae1835-1435-4214-ab15-e769ae169b5c\" class=\"colab-df-container\">\n",
              "    <div>\n",
              "<style scoped>\n",
              "    .dataframe tbody tr th:only-of-type {\n",
              "        vertical-align: middle;\n",
              "    }\n",
              "\n",
              "    .dataframe tbody tr th {\n",
              "        vertical-align: top;\n",
              "    }\n",
              "\n",
              "    .dataframe thead th {\n",
              "        text-align: right;\n",
              "    }\n",
              "</style>\n",
              "<table border=\"1\" class=\"dataframe\">\n",
              "  <thead>\n",
              "    <tr style=\"text-align: right;\">\n",
              "      <th></th>\n",
              "      <th>Model</th>\n",
              "      <th>MAE</th>\n",
              "      <th>MSE</th>\n",
              "    </tr>\n",
              "  </thead>\n",
              "  <tbody>\n",
              "    <tr>\n",
              "      <th>0</th>\n",
              "      <td>model_1</td>\n",
              "      <td>87.990784</td>\n",
              "      <td>7844.199219</td>\n",
              "    </tr>\n",
              "    <tr>\n",
              "      <th>1</th>\n",
              "      <td>model_2</td>\n",
              "      <td>29.588312</td>\n",
              "      <td>879.628235</td>\n",
              "    </tr>\n",
              "    <tr>\n",
              "      <th>2</th>\n",
              "      <td>model_3</td>\n",
              "      <td>38.904083</td>\n",
              "      <td>1521.419189</td>\n",
              "    </tr>\n",
              "    <tr>\n",
              "      <th>3</th>\n",
              "      <td>model_4</td>\n",
              "      <td>18.395529</td>\n",
              "      <td>340.235291</td>\n",
              "    </tr>\n",
              "  </tbody>\n",
              "</table>\n",
              "</div>\n",
              "    <div class=\"colab-df-buttons\">\n",
              "\n",
              "  <div class=\"colab-df-container\">\n",
              "    <button class=\"colab-df-convert\" onclick=\"convertToInteractive('df-ebae1835-1435-4214-ab15-e769ae169b5c')\"\n",
              "            title=\"Convert this dataframe to an interactive table.\"\n",
              "            style=\"display:none;\">\n",
              "\n",
              "  <svg xmlns=\"http://www.w3.org/2000/svg\" height=\"24px\" viewBox=\"0 -960 960 960\">\n",
              "    <path d=\"M120-120v-720h720v720H120Zm60-500h600v-160H180v160Zm220 220h160v-160H400v160Zm0 220h160v-160H400v160ZM180-400h160v-160H180v160Zm440 0h160v-160H620v160ZM180-180h160v-160H180v160Zm440 0h160v-160H620v160Z\"/>\n",
              "  </svg>\n",
              "    </button>\n",
              "\n",
              "  <style>\n",
              "    .colab-df-container {\n",
              "      display:flex;\n",
              "      gap: 12px;\n",
              "    }\n",
              "\n",
              "    .colab-df-convert {\n",
              "      background-color: #E8F0FE;\n",
              "      border: none;\n",
              "      border-radius: 50%;\n",
              "      cursor: pointer;\n",
              "      display: none;\n",
              "      fill: #1967D2;\n",
              "      height: 32px;\n",
              "      padding: 0 0 0 0;\n",
              "      width: 32px;\n",
              "    }\n",
              "\n",
              "    .colab-df-convert:hover {\n",
              "      background-color: #E2EBFA;\n",
              "      box-shadow: 0px 1px 2px rgba(60, 64, 67, 0.3), 0px 1px 3px 1px rgba(60, 64, 67, 0.15);\n",
              "      fill: #174EA6;\n",
              "    }\n",
              "\n",
              "    .colab-df-buttons div {\n",
              "      margin-bottom: 4px;\n",
              "    }\n",
              "\n",
              "    [theme=dark] .colab-df-convert {\n",
              "      background-color: #3B4455;\n",
              "      fill: #D2E3FC;\n",
              "    }\n",
              "\n",
              "    [theme=dark] .colab-df-convert:hover {\n",
              "      background-color: #434B5C;\n",
              "      box-shadow: 0px 1px 3px 1px rgba(0, 0, 0, 0.15);\n",
              "      filter: drop-shadow(0px 1px 2px rgba(0, 0, 0, 0.3));\n",
              "      fill: #FFFFFF;\n",
              "    }\n",
              "  </style>\n",
              "\n",
              "    <script>\n",
              "      const buttonEl =\n",
              "        document.querySelector('#df-ebae1835-1435-4214-ab15-e769ae169b5c button.colab-df-convert');\n",
              "      buttonEl.style.display =\n",
              "        google.colab.kernel.accessAllowed ? 'block' : 'none';\n",
              "\n",
              "      async function convertToInteractive(key) {\n",
              "        const element = document.querySelector('#df-ebae1835-1435-4214-ab15-e769ae169b5c');\n",
              "        const dataTable =\n",
              "          await google.colab.kernel.invokeFunction('convertToInteractive',\n",
              "                                                    [key], {});\n",
              "        if (!dataTable) return;\n",
              "\n",
              "        const docLinkHtml = 'Like what you see? Visit the ' +\n",
              "          '<a target=\"_blank\" href=https://colab.research.google.com/notebooks/data_table.ipynb>data table notebook</a>'\n",
              "          + ' to learn more about interactive tables.';\n",
              "        element.innerHTML = '';\n",
              "        dataTable['output_type'] = 'display_data';\n",
              "        await google.colab.output.renderOutput(dataTable, element);\n",
              "        const docLink = document.createElement('div');\n",
              "        docLink.innerHTML = docLinkHtml;\n",
              "        element.appendChild(docLink);\n",
              "      }\n",
              "    </script>\n",
              "  </div>\n",
              "\n",
              "\n",
              "<div id=\"df-ac998d54-140f-4f8c-b183-01a4a68a970f\">\n",
              "  <button class=\"colab-df-quickchart\" onclick=\"quickchart('df-ac998d54-140f-4f8c-b183-01a4a68a970f')\"\n",
              "            title=\"Suggest charts.\"\n",
              "            style=\"display:none;\">\n",
              "\n",
              "<svg xmlns=\"http://www.w3.org/2000/svg\" height=\"24px\"viewBox=\"0 0 24 24\"\n",
              "     width=\"24px\">\n",
              "    <g>\n",
              "        <path d=\"M19 3H5c-1.1 0-2 .9-2 2v14c0 1.1.9 2 2 2h14c1.1 0 2-.9 2-2V5c0-1.1-.9-2-2-2zM9 17H7v-7h2v7zm4 0h-2V7h2v10zm4 0h-2v-4h2v4z\"/>\n",
              "    </g>\n",
              "</svg>\n",
              "  </button>\n",
              "\n",
              "<style>\n",
              "  .colab-df-quickchart {\n",
              "      --bg-color: #E8F0FE;\n",
              "      --fill-color: #1967D2;\n",
              "      --hover-bg-color: #E2EBFA;\n",
              "      --hover-fill-color: #174EA6;\n",
              "      --disabled-fill-color: #AAA;\n",
              "      --disabled-bg-color: #DDD;\n",
              "  }\n",
              "\n",
              "  [theme=dark] .colab-df-quickchart {\n",
              "      --bg-color: #3B4455;\n",
              "      --fill-color: #D2E3FC;\n",
              "      --hover-bg-color: #434B5C;\n",
              "      --hover-fill-color: #FFFFFF;\n",
              "      --disabled-bg-color: #3B4455;\n",
              "      --disabled-fill-color: #666;\n",
              "  }\n",
              "\n",
              "  .colab-df-quickchart {\n",
              "    background-color: var(--bg-color);\n",
              "    border: none;\n",
              "    border-radius: 50%;\n",
              "    cursor: pointer;\n",
              "    display: none;\n",
              "    fill: var(--fill-color);\n",
              "    height: 32px;\n",
              "    padding: 0;\n",
              "    width: 32px;\n",
              "  }\n",
              "\n",
              "  .colab-df-quickchart:hover {\n",
              "    background-color: var(--hover-bg-color);\n",
              "    box-shadow: 0 1px 2px rgba(60, 64, 67, 0.3), 0 1px 3px 1px rgba(60, 64, 67, 0.15);\n",
              "    fill: var(--button-hover-fill-color);\n",
              "  }\n",
              "\n",
              "  .colab-df-quickchart-complete:disabled,\n",
              "  .colab-df-quickchart-complete:disabled:hover {\n",
              "    background-color: var(--disabled-bg-color);\n",
              "    fill: var(--disabled-fill-color);\n",
              "    box-shadow: none;\n",
              "  }\n",
              "\n",
              "  .colab-df-spinner {\n",
              "    border: 2px solid var(--fill-color);\n",
              "    border-color: transparent;\n",
              "    border-bottom-color: var(--fill-color);\n",
              "    animation:\n",
              "      spin 1s steps(1) infinite;\n",
              "  }\n",
              "\n",
              "  @keyframes spin {\n",
              "    0% {\n",
              "      border-color: transparent;\n",
              "      border-bottom-color: var(--fill-color);\n",
              "      border-left-color: var(--fill-color);\n",
              "    }\n",
              "    20% {\n",
              "      border-color: transparent;\n",
              "      border-left-color: var(--fill-color);\n",
              "      border-top-color: var(--fill-color);\n",
              "    }\n",
              "    30% {\n",
              "      border-color: transparent;\n",
              "      border-left-color: var(--fill-color);\n",
              "      border-top-color: var(--fill-color);\n",
              "      border-right-color: var(--fill-color);\n",
              "    }\n",
              "    40% {\n",
              "      border-color: transparent;\n",
              "      border-right-color: var(--fill-color);\n",
              "      border-top-color: var(--fill-color);\n",
              "    }\n",
              "    60% {\n",
              "      border-color: transparent;\n",
              "      border-right-color: var(--fill-color);\n",
              "    }\n",
              "    80% {\n",
              "      border-color: transparent;\n",
              "      border-right-color: var(--fill-color);\n",
              "      border-bottom-color: var(--fill-color);\n",
              "    }\n",
              "    90% {\n",
              "      border-color: transparent;\n",
              "      border-bottom-color: var(--fill-color);\n",
              "    }\n",
              "  }\n",
              "</style>\n",
              "\n",
              "  <script>\n",
              "    async function quickchart(key) {\n",
              "      const quickchartButtonEl =\n",
              "        document.querySelector('#' + key + ' button');\n",
              "      quickchartButtonEl.disabled = true;  // To prevent multiple clicks.\n",
              "      quickchartButtonEl.classList.add('colab-df-spinner');\n",
              "      try {\n",
              "        const charts = await google.colab.kernel.invokeFunction(\n",
              "            'suggestCharts', [key], {});\n",
              "      } catch (error) {\n",
              "        console.error('Error during call to suggestCharts:', error);\n",
              "      }\n",
              "      quickchartButtonEl.classList.remove('colab-df-spinner');\n",
              "      quickchartButtonEl.classList.add('colab-df-quickchart-complete');\n",
              "    }\n",
              "    (() => {\n",
              "      let quickchartButtonEl =\n",
              "        document.querySelector('#df-ac998d54-140f-4f8c-b183-01a4a68a970f button');\n",
              "      quickchartButtonEl.style.display =\n",
              "        google.colab.kernel.accessAllowed ? 'block' : 'none';\n",
              "    })();\n",
              "  </script>\n",
              "</div>\n",
              "    </div>\n",
              "  </div>\n"
            ]
          },
          "metadata": {},
          "execution_count": 43
        }
      ]
    },
    {
      "cell_type": "code",
      "source": [
        "\"\"\"\n",
        "   Plots training data , test data and compares predictions to ground truth\n",
        "\"\"\"\n",
        "\n",
        "plt.figure(figsize=(10,7))\n",
        "# plot training data in blue\n",
        "plt.scatter(X_train, y_train, c=\"b\", label=\"Training data\")\n",
        "# plot testing data in green\n",
        "plt.scatter(X_test, y_test, c=\"g\", label=\"Testing data\")\n",
        "# plot predcitions of model1 in yellow\n",
        "plt.scatter(X_test, y_pred, c=\"y\", label=\"model_1\")\n",
        "# plot prediction of model2 in cyan\n",
        "plt.scatter(X_test, predict_2, c=\"c\", label=\"model_2\" )\n",
        "# plot predction of model3 in black\n",
        "plt.scatter(X_test, predict3, c=\"k\", label=\"model_3\")\n",
        "# plot predcition of model4 in red\n",
        "plt.scatter(X_test, predict4, c=\"r\", label=\"model_4\")\n",
        "# show the legends\n",
        "plt.legend()"
      ],
      "metadata": {
        "colab": {
          "base_uri": "https://localhost:8080/",
          "height": 617
        },
        "id": "3_deYUxqzLDv",
        "outputId": "9975eb13-c467-4bf3-cba3-438a23fa81cb"
      },
      "execution_count": 44,
      "outputs": [
        {
          "output_type": "execute_result",
          "data": {
            "text/plain": [
              "<matplotlib.legend.Legend at 0x7d9c422a0b80>"
            ]
          },
          "metadata": {},
          "execution_count": 44
        },
        {
          "output_type": "display_data",
          "data": {
            "text/plain": [
              "<Figure size 1000x700 with 1 Axes>"
            ],
            "image/png": "[encoded data removed]"
          },
          "metadata": {}
        }
      ]
    },
    {
      "cell_type": "markdown",
      "source": [
        "# 2. Building a larger model .\n",
        "  * Increasing layer\n",
        "  * Increasing neurons in layer\n",
        "  * Optimizing through optimizers\n",
        "  * Increasing epochs"
      ],
      "metadata": {
        "id": "r-_SXXjC4Nyj"
      }
    },
    {
      "cell_type": "markdown",
      "source": [
        "Importing Insurance Data and libraries"
      ],
      "metadata": {
        "id": "dpxqJbXY2VYr"
      }
    },
    {
      "cell_type": "markdown",
      "source": [
        "## Get the data"
      ],
      "metadata": {
        "id": "LPfZqoZ9NsnI"
      }
    },
    {
      "cell_type": "code",
      "source": [
        "import tensorflow as tf\n",
        "import pandas as pd\n",
        "import matplotlib.pyplot as plt\n",
        "from sklearn.model_selection import train_test_split\n",
        "from sklearn.compose import make_column_transformer\n",
        "from sklearn.preprocessing import MinMaxScaler, OneHotEncoder\n",
        "\n",
        "# read data and see\n",
        "insurance =  pd.read_csv(\"https://raw.githubusercontent.com/stedy/Machine-Learning-with-R-datasets/master/insurance.csv\")\n",
        "insurance"
      ],
      "metadata": {
        "colab": {
          "base_uri": "https://localhost:8080/",
          "height": 423
        },
        "id": "rCx8dyf45vdk",
        "outputId": "8bbf65ca-2d90-4588-8be0-60f54f01dee3"
      },
      "execution_count": 46,
      "outputs": [
        {
          "output_type": "execute_result",
          "data": {
            "text/plain": [
              "      age     sex     bmi  children smoker     region      charges\n",
              "0      19  female  27.900         0    yes  southwest  16884.92400\n",
              "1      18    male  33.770         1     no  southeast   1725.55230\n",
              "2      28    male  33.000         3     no  southeast   4449.46200\n",
              "3      33    male  22.705         0     no  northwest  21984.47061\n",
              "4      32    male  28.880         0     no  northwest   3866.85520\n",
              "...   ...     ...     ...       ...    ...        ...          ...\n",
              "1333   50    male  30.970         3     no  northwest  10600.54830\n",
              "1334   18  female  31.920         0     no  northeast   2205.98080\n",
              "1335   18  female  36.850         0     no  southeast   1629.83350\n",
              "1336   21  female  25.800         0     no  southwest   2007.94500\n",
              "1337   61  female  29.070         0    yes  northwest  29141.36030\n",
              "\n",
              "[1338 rows x 7 columns]"
            ],
            "text/html": [
              "\n",
              "  <div id=\"df-26727d4d-9a32-4333-9a40-0e020a57b9f0\" class=\"colab-df-container\">\n",
              "    <div>\n",
              "<style scoped>\n",
              "    .dataframe tbody tr th:only-of-type {\n",
              "        vertical-align: middle;\n",
              "    }\n",
              "\n",
              "    .dataframe tbody tr th {\n",
              "        vertical-align: top;\n",
              "    }\n",
              "\n",
              "    .dataframe thead th {\n",
              "        text-align: right;\n",
              "    }\n",
              "</style>\n",
              "<table border=\"1\" class=\"dataframe\">\n",
              "  <thead>\n",
              "    <tr style=\"text-align: right;\">\n",
              "      <th></th>\n",
              "      <th>age</th>\n",
              "      <th>sex</th>\n",
              "      <th>bmi</th>\n",
              "      <th>children</th>\n",
              "      <th>smoker</th>\n",
              "      <th>region</th>\n",
              "      <th>charges</th>\n",
              "    </tr>\n",
              "  </thead>\n",
              "  <tbody>\n",
              "    <tr>\n",
              "      <th>0</th>\n",
              "      <td>19</td>\n",
              "      <td>female</td>\n",
              "      <td>27.900</td>\n",
              "      <td>0</td>\n",
              "      <td>yes</td>\n",
              "      <td>southwest</td>\n",
              "      <td>16884.92400</td>\n",
              "    </tr>\n",
              "    <tr>\n",
              "      <th>1</th>\n",
              "      <td>18</td>\n",
              "      <td>male</td>\n",
              "      <td>33.770</td>\n",
              "      <td>1</td>\n",
              "      <td>no</td>\n",
              "      <td>southeast</td>\n",
              "      <td>1725.55230</td>\n",
              "    </tr>\n",
              "    <tr>\n",
              "      <th>2</th>\n",
              "      <td>28</td>\n",
              "      <td>male</td>\n",
              "      <td>33.000</td>\n",
              "      <td>3</td>\n",
              "      <td>no</td>\n",
              "      <td>southeast</td>\n",
              "      <td>4449.46200</td>\n",
              "    </tr>\n",
              "    <tr>\n",
              "      <th>3</th>\n",
              "      <td>33</td>\n",
              "      <td>male</td>\n",
              "      <td>22.705</td>\n",
              "      <td>0</td>\n",
              "      <td>no</td>\n",
              "      <td>northwest</td>\n",
              "      <td>21984.47061</td>\n",
              "    </tr>\n",
              "    <tr>\n",
              "      <th>4</th>\n",
              "      <td>32</td>\n",
              "      <td>male</td>\n",
              "      <td>28.880</td>\n",
              "      <td>0</td>\n",
              "      <td>no</td>\n",
              "      <td>northwest</td>\n",
              "      <td>3866.85520</td>\n",
              "    </tr>\n",
              "    <tr>\n",
              "      <th>...</th>\n",
              "      <td>...</td>\n",
              "      <td>...</td>\n",
              "      <td>...</td>\n",
              "      <td>...</td>\n",
              "      <td>...</td>\n",
              "      <td>...</td>\n",
              "      <td>...</td>\n",
              "    </tr>\n",
              "    <tr>\n",
              "      <th>1333</th>\n",
              "      <td>50</td>\n",
              "      <td>male</td>\n",
              "      <td>30.970</td>\n",
              "      <td>3</td>\n",
              "      <td>no</td>\n",
              "      <td>northwest</td>\n",
              "      <td>10600.54830</td>\n",
              "    </tr>\n",
              "    <tr>\n",
              "      <th>1334</th>\n",
              "      <td>18</td>\n",
              "      <td>female</td>\n",
              "      <td>31.920</td>\n",
              "      <td>0</td>\n",
              "      <td>no</td>\n",
              "      <td>northeast</td>\n",
              "      <td>2205.98080</td>\n",
              "    </tr>\n",
              "    <tr>\n",
              "      <th>1335</th>\n",
              "      <td>18</td>\n",
              "      <td>female</td>\n",
              "      <td>36.850</td>\n",
              "      <td>0</td>\n",
              "      <td>no</td>\n",
              "      <td>southeast</td>\n",
              "      <td>1629.83350</td>\n",
              "    </tr>\n",
              "    <tr>\n",
              "      <th>1336</th>\n",
              "      <td>21</td>\n",
              "      <td>female</td>\n",
              "      <td>25.800</td>\n",
              "      <td>0</td>\n",
              "      <td>no</td>\n",
              "      <td>southwest</td>\n",
              "      <td>2007.94500</td>\n",
              "    </tr>\n",
              "    <tr>\n",
              "      <th>1337</th>\n",
              "      <td>61</td>\n",
              "      <td>female</td>\n",
              "      <td>29.070</td>\n",
              "      <td>0</td>\n",
              "      <td>yes</td>\n",
              "      <td>northwest</td>\n",
              "      <td>29141.36030</td>\n",
              "    </tr>\n",
              "  </tbody>\n",
              "</table>\n",
              "<p>1338 rows × 7 columns</p>\n",
              "</div>\n",
              "    <div class=\"colab-df-buttons\">\n",
              "\n",
              "  <div class=\"colab-df-container\">\n",
              "    <button class=\"colab-df-convert\" onclick=\"convertToInteractive('df-26727d4d-9a32-4333-9a40-0e020a57b9f0')\"\n",
              "            title=\"Convert this dataframe to an interactive table.\"\n",
              "            style=\"display:none;\">\n",
              "\n",
              "  <svg xmlns=\"http://www.w3.org/2000/svg\" height=\"24px\" viewBox=\"0 -960 960 960\">\n",
              "    <path d=\"M120-120v-720h720v720H120Zm60-500h600v-160H180v160Zm220 220h160v-160H400v160Zm0 220h160v-160H400v160ZM180-400h160v-160H180v160Zm440 0h160v-160H620v160ZM180-180h160v-160H180v160Zm440 0h160v-160H620v160Z\"/>\n",
              "  </svg>\n",
              "    </button>\n",
              "\n",
              "  <style>\n",
              "    .colab-df-container {\n",
              "      display:flex;\n",
              "      gap: 12px;\n",
              "    }\n",
              "\n",
              "    .colab-df-convert {\n",
              "      background-color: #E8F0FE;\n",
              "      border: none;\n",
              "      border-radius: 50%;\n",
              "      cursor: pointer;\n",
              "      display: none;\n",
              "      fill: #1967D2;\n",
              "      height: 32px;\n",
              "      padding: 0 0 0 0;\n",
              "      width: 32px;\n",
              "    }\n",
              "\n",
              "    .colab-df-convert:hover {\n",
              "      background-color: #E2EBFA;\n",
              "      box-shadow: 0px 1px 2px rgba(60, 64, 67, 0.3), 0px 1px 3px 1px rgba(60, 64, 67, 0.15);\n",
              "      fill: #174EA6;\n",
              "    }\n",
              "\n",
              "    .colab-df-buttons div {\n",
              "      margin-bottom: 4px;\n",
              "    }\n",
              "\n",
              "    [theme=dark] .colab-df-convert {\n",
              "      background-color: #3B4455;\n",
              "      fill: #D2E3FC;\n",
              "    }\n",
              "\n",
              "    [theme=dark] .colab-df-convert:hover {\n",
              "      background-color: #434B5C;\n",
              "      box-shadow: 0px 1px 3px 1px rgba(0, 0, 0, 0.15);\n",
              "      filter: drop-shadow(0px 1px 2px rgba(0, 0, 0, 0.3));\n",
              "      fill: #FFFFFF;\n",
              "    }\n",
              "  </style>\n",
              "\n",
              "    <script>\n",
              "      const buttonEl =\n",
              "        document.querySelector('#df-26727d4d-9a32-4333-9a40-0e020a57b9f0 button.colab-df-convert');\n",
              "      buttonEl.style.display =\n",
              "        google.colab.kernel.accessAllowed ? 'block' : 'none';\n",
              "\n",
              "      async function convertToInteractive(key) {\n",
              "        const element = document.querySelector('#df-26727d4d-9a32-4333-9a40-0e020a57b9f0');\n",
              "        const dataTable =\n",
              "          await google.colab.kernel.invokeFunction('convertToInteractive',\n",
              "                                                    [key], {});\n",
              "        if (!dataTable) return;\n",
              "\n",
              "        const docLinkHtml = 'Like what you see? Visit the ' +\n",
              "          '<a target=\"_blank\" href=https://colab.research.google.com/notebooks/data_table.ipynb>data table notebook</a>'\n",
              "          + ' to learn more about interactive tables.';\n",
              "        element.innerHTML = '';\n",
              "        dataTable['output_type'] = 'display_data';\n",
              "        await google.colab.output.renderOutput(dataTable, element);\n",
              "        const docLink = document.createElement('div');\n",
              "        docLink.innerHTML = docLinkHtml;\n",
              "        element.appendChild(docLink);\n",
              "      }\n",
              "    </script>\n",
              "  </div>\n",
              "\n",
              "\n",
              "<div id=\"df-aaf855d4-c7f6-4de3-b1cd-8ccb760f4645\">\n",
              "  <button class=\"colab-df-quickchart\" onclick=\"quickchart('df-aaf855d4-c7f6-4de3-b1cd-8ccb760f4645')\"\n",
              "            title=\"Suggest charts.\"\n",
              "            style=\"display:none;\">\n",
              "\n",
              "<svg xmlns=\"http://www.w3.org/2000/svg\" height=\"24px\"viewBox=\"0 0 24 24\"\n",
              "     width=\"24px\">\n",
              "    <g>\n",
              "        <path d=\"M19 3H5c-1.1 0-2 .9-2 2v14c0 1.1.9 2 2 2h14c1.1 0 2-.9 2-2V5c0-1.1-.9-2-2-2zM9 17H7v-7h2v7zm4 0h-2V7h2v10zm4 0h-2v-4h2v4z\"/>\n",
              "    </g>\n",
              "</svg>\n",
              "  </button>\n",
              "\n",
              "<style>\n",
              "  .colab-df-quickchart {\n",
              "      --bg-color: #E8F0FE;\n",
              "      --fill-color: #1967D2;\n",
              "      --hover-bg-color: #E2EBFA;\n",
              "      --hover-fill-color: #174EA6;\n",
              "      --disabled-fill-color: #AAA;\n",
              "      --disabled-bg-color: #DDD;\n",
              "  }\n",
              "\n",
              "  [theme=dark] .colab-df-quickchart {\n",
              "      --bg-color: #3B4455;\n",
              "      --fill-color: #D2E3FC;\n",
              "      --hover-bg-color: #434B5C;\n",
              "      --hover-fill-color: #FFFFFF;\n",
              "      --disabled-bg-color: #3B4455;\n",
              "      --disabled-fill-color: #666;\n",
              "  }\n",
              "\n",
              "  .colab-df-quickchart {\n",
              "    background-color: var(--bg-color);\n",
              "    border: none;\n",
              "    border-radius: 50%;\n",
              "    cursor: pointer;\n",
              "    display: none;\n",
              "    fill: var(--fill-color);\n",
              "    height: 32px;\n",
              "    padding: 0;\n",
              "    width: 32px;\n",
              "  }\n",
              "\n",
              "  .colab-df-quickchart:hover {\n",
              "    background-color: var(--hover-bg-color);\n",
              "    box-shadow: 0 1px 2px rgba(60, 64, 67, 0.3), 0 1px 3px 1px rgba(60, 64, 67, 0.15);\n",
              "    fill: var(--button-hover-fill-color);\n",
              "  }\n",
              "\n",
              "  .colab-df-quickchart-complete:disabled,\n",
              "  .colab-df-quickchart-complete:disabled:hover {\n",
              "    background-color: var(--disabled-bg-color);\n",
              "    fill: var(--disabled-fill-color);\n",
              "    box-shadow: none;\n",
              "  }\n",
              "\n",
              "  .colab-df-spinner {\n",
              "    border: 2px solid var(--fill-color);\n",
              "    border-color: transparent;\n",
              "    border-bottom-color: var(--fill-color);\n",
              "    animation:\n",
              "      spin 1s steps(1) infinite;\n",
              "  }\n",
              "\n",
              "  @keyframes spin {\n",
              "    0% {\n",
              "      border-color: transparent;\n",
              "      border-bottom-color: var(--fill-color);\n",
              "      border-left-color: var(--fill-color);\n",
              "    }\n",
              "    20% {\n",
              "      border-color: transparent;\n",
              "      border-left-color: var(--fill-color);\n",
              "      border-top-color: var(--fill-color);\n",
              "    }\n",
              "    30% {\n",
              "      border-color: transparent;\n",
              "      border-left-color: var(--fill-color);\n",
              "      border-top-color: var(--fill-color);\n",
              "      border-right-color: var(--fill-color);\n",
              "    }\n",
              "    40% {\n",
              "      border-color: transparent;\n",
              "      border-right-color: var(--fill-color);\n",
              "      border-top-color: var(--fill-color);\n",
              "    }\n",
              "    60% {\n",
              "      border-color: transparent;\n",
              "      border-right-color: var(--fill-color);\n",
              "    }\n",
              "    80% {\n",
              "      border-color: transparent;\n",
              "      border-right-color: var(--fill-color);\n",
              "      border-bottom-color: var(--fill-color);\n",
              "    }\n",
              "    90% {\n",
              "      border-color: transparent;\n",
              "      border-bottom-color: var(--fill-color);\n",
              "    }\n",
              "  }\n",
              "</style>\n",
              "\n",
              "  <script>\n",
              "    async function quickchart(key) {\n",
              "      const quickchartButtonEl =\n",
              "        document.querySelector('#' + key + ' button');\n",
              "      quickchartButtonEl.disabled = true;  // To prevent multiple clicks.\n",
              "      quickchartButtonEl.classList.add('colab-df-spinner');\n",
              "      try {\n",
              "        const charts = await google.colab.kernel.invokeFunction(\n",
              "            'suggestCharts', [key], {});\n",
              "      } catch (error) {\n",
              "        console.error('Error during call to suggestCharts:', error);\n",
              "      }\n",
              "      quickchartButtonEl.classList.remove('colab-df-spinner');\n",
              "      quickchartButtonEl.classList.add('colab-df-quickchart-complete');\n",
              "    }\n",
              "    (() => {\n",
              "      let quickchartButtonEl =\n",
              "        document.querySelector('#df-aaf855d4-c7f6-4de3-b1cd-8ccb760f4645 button');\n",
              "      quickchartButtonEl.style.display =\n",
              "        google.colab.kernel.accessAllowed ? 'block' : 'none';\n",
              "    })();\n",
              "  </script>\n",
              "</div>\n",
              "    </div>\n",
              "  </div>\n"
            ]
          },
          "metadata": {},
          "execution_count": 46
        }
      ]
    },
    {
      "cell_type": "code",
      "source": [
        "insurance.head(10)"
      ],
      "metadata": {
        "colab": {
          "base_uri": "https://localhost:8080/",
          "height": 363
        },
        "id": "yi_DJWAO7A5X",
        "outputId": "d47fa8ef-9b12-45e2-c574-0d7409afcaa7"
      },
      "execution_count": 47,
      "outputs": [
        {
          "output_type": "execute_result",
          "data": {
            "text/plain": [
              "   age     sex     bmi  children smoker     region      charges\n",
              "0   19  female  27.900         0    yes  southwest  16884.92400\n",
              "1   18    male  33.770         1     no  southeast   1725.55230\n",
              "2   28    male  33.000         3     no  southeast   4449.46200\n",
              "3   33    male  22.705         0     no  northwest  21984.47061\n",
              "4   32    male  28.880         0     no  northwest   3866.85520\n",
              "5   31  female  25.740         0     no  southeast   3756.62160\n",
              "6   46  female  33.440         1     no  southeast   8240.58960\n",
              "7   37  female  27.740         3     no  northwest   7281.50560\n",
              "8   37    male  29.830         2     no  northeast   6406.41070\n",
              "9   60  female  25.840         0     no  northwest  28923.13692"
            ],
            "text/html": [
              "\n",
              "  <div id=\"df-0ae139e0-acf9-4221-96c4-b40b8f3e9b14\" class=\"colab-df-container\">\n",
              "    <div>\n",
              "<style scoped>\n",
              "    .dataframe tbody tr th:only-of-type {\n",
              "        vertical-align: middle;\n",
              "    }\n",
              "\n",
              "    .dataframe tbody tr th {\n",
              "        vertical-align: top;\n",
              "    }\n",
              "\n",
              "    .dataframe thead th {\n",
              "        text-align: right;\n",
              "    }\n",
              "</style>\n",
              "<table border=\"1\" class=\"dataframe\">\n",
              "  <thead>\n",
              "    <tr style=\"text-align: right;\">\n",
              "      <th></th>\n",
              "      <th>age</th>\n",
              "      <th>sex</th>\n",
              "      <th>bmi</th>\n",
              "      <th>children</th>\n",
              "      <th>smoker</th>\n",
              "      <th>region</th>\n",
              "      <th>charges</th>\n",
              "    </tr>\n",
              "  </thead>\n",
              "  <tbody>\n",
              "    <tr>\n",
              "      <th>0</th>\n",
              "      <td>19</td>\n",
              "      <td>female</td>\n",
              "      <td>27.900</td>\n",
              "      <td>0</td>\n",
              "      <td>yes</td>\n",
              "      <td>southwest</td>\n",
              "      <td>16884.92400</td>\n",
              "    </tr>\n",
              "    <tr>\n",
              "      <th>1</th>\n",
              "      <td>18</td>\n",
              "      <td>male</td>\n",
              "      <td>33.770</td>\n",
              "      <td>1</td>\n",
              "      <td>no</td>\n",
              "      <td>southeast</td>\n",
              "      <td>1725.55230</td>\n",
              "    </tr>\n",
              "    <tr>\n",
              "      <th>2</th>\n",
              "      <td>28</td>\n",
              "      <td>male</td>\n",
              "      <td>33.000</td>\n",
              "      <td>3</td>\n",
              "      <td>no</td>\n",
              "      <td>southeast</td>\n",
              "      <td>4449.46200</td>\n",
              "    </tr>\n",
              "    <tr>\n",
              "      <th>3</th>\n",
              "      <td>33</td>\n",
              "      <td>male</td>\n",
              "      <td>22.705</td>\n",
              "      <td>0</td>\n",
              "      <td>no</td>\n",
              "      <td>northwest</td>\n",
              "      <td>21984.47061</td>\n",
              "    </tr>\n",
              "    <tr>\n",
              "      <th>4</th>\n",
              "      <td>32</td>\n",
              "      <td>male</td>\n",
              "      <td>28.880</td>\n",
              "      <td>0</td>\n",
              "      <td>no</td>\n",
              "      <td>northwest</td>\n",
              "      <td>3866.85520</td>\n",
              "    </tr>\n",
              "    <tr>\n",
              "      <th>5</th>\n",
              "      <td>31</td>\n",
              "      <td>female</td>\n",
              "      <td>25.740</td>\n",
              "      <td>0</td>\n",
              "      <td>no</td>\n",
              "      <td>southeast</td>\n",
              "      <td>3756.62160</td>\n",
              "    </tr>\n",
              "    <tr>\n",
              "      <th>6</th>\n",
              "      <td>46</td>\n",
              "      <td>female</td>\n",
              "      <td>33.440</td>\n",
              "      <td>1</td>\n",
              "      <td>no</td>\n",
              "      <td>southeast</td>\n",
              "      <td>8240.58960</td>\n",
              "    </tr>\n",
              "    <tr>\n",
              "      <th>7</th>\n",
              "      <td>37</td>\n",
              "      <td>female</td>\n",
              "      <td>27.740</td>\n",
              "      <td>3</td>\n",
              "      <td>no</td>\n",
              "      <td>northwest</td>\n",
              "      <td>7281.50560</td>\n",
              "    </tr>\n",
              "    <tr>\n",
              "      <th>8</th>\n",
              "      <td>37</td>\n",
              "      <td>male</td>\n",
              "      <td>29.830</td>\n",
              "      <td>2</td>\n",
              "      <td>no</td>\n",
              "      <td>northeast</td>\n",
              "      <td>6406.41070</td>\n",
              "    </tr>\n",
              "    <tr>\n",
              "      <th>9</th>\n",
              "      <td>60</td>\n",
              "      <td>female</td>\n",
              "      <td>25.840</td>\n",
              "      <td>0</td>\n",
              "      <td>no</td>\n",
              "      <td>northwest</td>\n",
              "      <td>28923.13692</td>\n",
              "    </tr>\n",
              "  </tbody>\n",
              "</table>\n",
              "</div>\n",
              "    <div class=\"colab-df-buttons\">\n",
              "\n",
              "  <div class=\"colab-df-container\">\n",
              "    <button class=\"colab-df-convert\" onclick=\"convertToInteractive('df-0ae139e0-acf9-4221-96c4-b40b8f3e9b14')\"\n",
              "            title=\"Convert this dataframe to an interactive table.\"\n",
              "            style=\"display:none;\">\n",
              "\n",
              "  <svg xmlns=\"http://www.w3.org/2000/svg\" height=\"24px\" viewBox=\"0 -960 960 960\">\n",
              "    <path d=\"M120-120v-720h720v720H120Zm60-500h600v-160H180v160Zm220 220h160v-160H400v160Zm0 220h160v-160H400v160ZM180-400h160v-160H180v160Zm440 0h160v-160H620v160ZM180-180h160v-160H180v160Zm440 0h160v-160H620v160Z\"/>\n",
              "  </svg>\n",
              "    </button>\n",
              "\n",
              "  <style>\n",
              "    .colab-df-container {\n",
              "      display:flex;\n",
              "      gap: 12px;\n",
              "    }\n",
              "\n",
              "    .colab-df-convert {\n",
              "      background-color: #E8F0FE;\n",
              "      border: none;\n",
              "      border-radius: 50%;\n",
              "      cursor: pointer;\n",
              "      display: none;\n",
              "      fill: #1967D2;\n",
              "      height: 32px;\n",
              "      padding: 0 0 0 0;\n",
              "      width: 32px;\n",
              "    }\n",
              "\n",
              "    .colab-df-convert:hover {\n",
              "      background-color: #E2EBFA;\n",
              "      box-shadow: 0px 1px 2px rgba(60, 64, 67, 0.3), 0px 1px 3px 1px rgba(60, 64, 67, 0.15);\n",
              "      fill: #174EA6;\n",
              "    }\n",
              "\n",
              "    .colab-df-buttons div {\n",
              "      margin-bottom: 4px;\n",
              "    }\n",
              "\n",
              "    [theme=dark] .colab-df-convert {\n",
              "      background-color: #3B4455;\n",
              "      fill: #D2E3FC;\n",
              "    }\n",
              "\n",
              "    [theme=dark] .colab-df-convert:hover {\n",
              "      background-color: #434B5C;\n",
              "      box-shadow: 0px 1px 3px 1px rgba(0, 0, 0, 0.15);\n",
              "      filter: drop-shadow(0px 1px 2px rgba(0, 0, 0, 0.3));\n",
              "      fill: #FFFFFF;\n",
              "    }\n",
              "  </style>\n",
              "\n",
              "    <script>\n",
              "      const buttonEl =\n",
              "        document.querySelector('#df-0ae139e0-acf9-4221-96c4-b40b8f3e9b14 button.colab-df-convert');\n",
              "      buttonEl.style.display =\n",
              "        google.colab.kernel.accessAllowed ? 'block' : 'none';\n",
              "\n",
              "      async function convertToInteractive(key) {\n",
              "        const element = document.querySelector('#df-0ae139e0-acf9-4221-96c4-b40b8f3e9b14');\n",
              "        const dataTable =\n",
              "          await google.colab.kernel.invokeFunction('convertToInteractive',\n",
              "                                                    [key], {});\n",
              "        if (!dataTable) return;\n",
              "\n",
              "        const docLinkHtml = 'Like what you see? Visit the ' +\n",
              "          '<a target=\"_blank\" href=https://colab.research.google.com/notebooks/data_table.ipynb>data table notebook</a>'\n",
              "          + ' to learn more about interactive tables.';\n",
              "        element.innerHTML = '';\n",
              "        dataTable['output_type'] = 'display_data';\n",
              "        await google.colab.output.renderOutput(dataTable, element);\n",
              "        const docLink = document.createElement('div');\n",
              "        docLink.innerHTML = docLinkHtml;\n",
              "        element.appendChild(docLink);\n",
              "      }\n",
              "    </script>\n",
              "  </div>\n",
              "\n",
              "\n",
              "<div id=\"df-f92f5290-f93b-4cea-8cb7-6c2cf50508ca\">\n",
              "  <button class=\"colab-df-quickchart\" onclick=\"quickchart('df-f92f5290-f93b-4cea-8cb7-6c2cf50508ca')\"\n",
              "            title=\"Suggest charts.\"\n",
              "            style=\"display:none;\">\n",
              "\n",
              "<svg xmlns=\"http://www.w3.org/2000/svg\" height=\"24px\"viewBox=\"0 0 24 24\"\n",
              "     width=\"24px\">\n",
              "    <g>\n",
              "        <path d=\"M19 3H5c-1.1 0-2 .9-2 2v14c0 1.1.9 2 2 2h14c1.1 0 2-.9 2-2V5c0-1.1-.9-2-2-2zM9 17H7v-7h2v7zm4 0h-2V7h2v10zm4 0h-2v-4h2v4z\"/>\n",
              "    </g>\n",
              "</svg>\n",
              "  </button>\n",
              "\n",
              "<style>\n",
              "  .colab-df-quickchart {\n",
              "      --bg-color: #E8F0FE;\n",
              "      --fill-color: #1967D2;\n",
              "      --hover-bg-color: #E2EBFA;\n",
              "      --hover-fill-color: #174EA6;\n",
              "      --disabled-fill-color: #AAA;\n",
              "      --disabled-bg-color: #DDD;\n",
              "  }\n",
              "\n",
              "  [theme=dark] .colab-df-quickchart {\n",
              "      --bg-color: #3B4455;\n",
              "      --fill-color: #D2E3FC;\n",
              "      --hover-bg-color: #434B5C;\n",
              "      --hover-fill-color: #FFFFFF;\n",
              "      --disabled-bg-color: #3B4455;\n",
              "      --disabled-fill-color: #666;\n",
              "  }\n",
              "\n",
              "  .colab-df-quickchart {\n",
              "    background-color: var(--bg-color);\n",
              "    border: none;\n",
              "    border-radius: 50%;\n",
              "    cursor: pointer;\n",
              "    display: none;\n",
              "    fill: var(--fill-color);\n",
              "    height: 32px;\n",
              "    padding: 0;\n",
              "    width: 32px;\n",
              "  }\n",
              "\n",
              "  .colab-df-quickchart:hover {\n",
              "    background-color: var(--hover-bg-color);\n",
              "    box-shadow: 0 1px 2px rgba(60, 64, 67, 0.3), 0 1px 3px 1px rgba(60, 64, 67, 0.15);\n",
              "    fill: var(--button-hover-fill-color);\n",
              "  }\n",
              "\n",
              "  .colab-df-quickchart-complete:disabled,\n",
              "  .colab-df-quickchart-complete:disabled:hover {\n",
              "    background-color: var(--disabled-bg-color);\n",
              "    fill: var(--disabled-fill-color);\n",
              "    box-shadow: none;\n",
              "  }\n",
              "\n",
              "  .colab-df-spinner {\n",
              "    border: 2px solid var(--fill-color);\n",
              "    border-color: transparent;\n",
              "    border-bottom-color: var(--fill-color);\n",
              "    animation:\n",
              "      spin 1s steps(1) infinite;\n",
              "  }\n",
              "\n",
              "  @keyframes spin {\n",
              "    0% {\n",
              "      border-color: transparent;\n",
              "      border-bottom-color: var(--fill-color);\n",
              "      border-left-color: var(--fill-color);\n",
              "    }\n",
              "    20% {\n",
              "      border-color: transparent;\n",
              "      border-left-color: var(--fill-color);\n",
              "      border-top-color: var(--fill-color);\n",
              "    }\n",
              "    30% {\n",
              "      border-color: transparent;\n",
              "      border-left-color: var(--fill-color);\n",
              "      border-top-color: var(--fill-color);\n",
              "      border-right-color: var(--fill-color);\n",
              "    }\n",
              "    40% {\n",
              "      border-color: transparent;\n",
              "      border-right-color: var(--fill-color);\n",
              "      border-top-color: var(--fill-color);\n",
              "    }\n",
              "    60% {\n",
              "      border-color: transparent;\n",
              "      border-right-color: var(--fill-color);\n",
              "    }\n",
              "    80% {\n",
              "      border-color: transparent;\n",
              "      border-right-color: var(--fill-color);\n",
              "      border-bottom-color: var(--fill-color);\n",
              "    }\n",
              "    90% {\n",
              "      border-color: transparent;\n",
              "      border-bottom-color: var(--fill-color);\n",
              "    }\n",
              "  }\n",
              "</style>\n",
              "\n",
              "  <script>\n",
              "    async function quickchart(key) {\n",
              "      const quickchartButtonEl =\n",
              "        document.querySelector('#' + key + ' button');\n",
              "      quickchartButtonEl.disabled = true;  // To prevent multiple clicks.\n",
              "      quickchartButtonEl.classList.add('colab-df-spinner');\n",
              "      try {\n",
              "        const charts = await google.colab.kernel.invokeFunction(\n",
              "            'suggestCharts', [key], {});\n",
              "      } catch (error) {\n",
              "        console.error('Error during call to suggestCharts:', error);\n",
              "      }\n",
              "      quickchartButtonEl.classList.remove('colab-df-spinner');\n",
              "      quickchartButtonEl.classList.add('colab-df-quickchart-complete');\n",
              "    }\n",
              "    (() => {\n",
              "      let quickchartButtonEl =\n",
              "        document.querySelector('#df-f92f5290-f93b-4cea-8cb7-6c2cf50508ca button');\n",
              "      quickchartButtonEl.style.display =\n",
              "        google.colab.kernel.accessAllowed ? 'block' : 'none';\n",
              "    })();\n",
              "  </script>\n",
              "</div>\n",
              "    </div>\n",
              "  </div>\n"
            ]
          },
          "metadata": {},
          "execution_count": 47
        }
      ]
    },
    {
      "cell_type": "markdown",
      "source": [
        "## Splitting and Preprocessing Data"
      ],
      "metadata": {
        "id": "knd9n4Zp7I9M"
      }
    },
    {
      "cell_type": "code",
      "source": [
        "# split data in x and y\n",
        "X = insurance.drop([\"charges\"], axis=1)\n",
        "y = insurance[\"charges\"]\n",
        "\n",
        "# create column transformer\n",
        "ct = make_column_transformer(\n",
        "    (MinMaxScaler(), [\"age\", \"bmi\", \"children\"]),# turn all values between 0 and 1\n",
        "    (OneHotEncoder(handle_unknown=\"ignore\"), [\"sex\", \"smoker\", \"region\"])\n",
        ")\n",
        "\n",
        "# spliting to training and test\n",
        "X_train , X_test, y_train, y_test = train_test_split(X,y, test_size = 0.2, random_state=42)\n",
        "\n",
        "# fit the column transformer to training data\n",
        "ct.fit(X_train)\n",
        "\n",
        "# transform training and test data with normaliztion(MinMaxScaler) and OneHotEncoder\n",
        "X_train_normal = ct.transform(X_train)\n",
        "X_test_normal = ct.transform(X_test)\n"
      ],
      "metadata": {
        "id": "gHP_fz617Ve7"
      },
      "execution_count": 48,
      "outputs": []
    },
    {
      "cell_type": "code",
      "source": [
        "X_train_normal, X_test_normal"
      ],
      "metadata": {
        "colab": {
          "base_uri": "https://localhost:8080/"
        },
        "id": "l2CxSlAL73lb",
        "outputId": "d7b23a5a-b169-42ef-e857-5f620c5cb281"
      },
      "execution_count": 49,
      "outputs": [
        {
          "output_type": "execute_result",
          "data": {
            "text/plain": [
              "(array([[0.60869565, 0.10734463, 0.4       , ..., 1.        , 0.        ,\n",
              "         0.        ],\n",
              "        [0.63043478, 0.22491256, 0.        , ..., 0.        , 0.        ,\n",
              "         0.        ],\n",
              "        [0.73913043, 0.23944041, 0.        , ..., 0.        , 1.        ,\n",
              "         0.        ],\n",
              "        ...,\n",
              "        [0.86956522, 0.24791499, 0.        , ..., 0.        , 0.        ,\n",
              "         0.        ],\n",
              "        [0.41304348, 0.85122411, 0.4       , ..., 0.        , 0.        ,\n",
              "         1.        ],\n",
              "        [0.80434783, 0.37503363, 0.        , ..., 0.        , 0.        ,\n",
              "         1.        ]]),\n",
              " array([[0.58695652, 0.24791499, 0.4       , ..., 0.        , 0.        ,\n",
              "         0.        ],\n",
              "        [0.39130435, 0.37826204, 0.        , ..., 1.        , 0.        ,\n",
              "         0.        ],\n",
              "        [1.        , 0.29391983, 0.        , ..., 1.        , 0.        ,\n",
              "         0.        ],\n",
              "        ...,\n",
              "        [0.43478261, 0.32458972, 0.2       , ..., 0.        , 0.        ,\n",
              "         0.        ],\n",
              "        [0.7826087 , 0.84611246, 0.        , ..., 0.        , 1.        ,\n",
              "         0.        ],\n",
              "        [0.7173913 , 0.49071832, 0.2       , ..., 0.        , 0.        ,\n",
              "         1.        ]]))"
            ]
          },
          "metadata": {},
          "execution_count": 49
        }
      ]
    },
    {
      "cell_type": "markdown",
      "source": [
        "## Creating Model"
      ],
      "metadata": {
        "id": "1Zs1nvfJGqwW"
      }
    },
    {
      "cell_type": "code",
      "source": [
        "# random seed\n",
        "tf.random.set_seed(42)\n",
        "\n",
        "# creating model\n",
        "insurance_model = tf.keras.Sequential([\n",
        "    tf.keras.layers.Dense(100),\n",
        "    tf.keras.layers.Dense(10),\n",
        "    tf.keras.layers.Dense(1)\n",
        "],name= \"insurance_model\")\n",
        "\n",
        "# compile the  model\n",
        "insurance_model.compile(\n",
        "    loss=\"mae\",\n",
        "    optimizer=tf.keras.optimizers.legacy.Adam(learning_rate=0.1),\n",
        "    metrics=[\"mae\"]\n",
        ")\n",
        "\n",
        "# stoppping early\n",
        "# early_stopping = tf.keras.callbacks.EarlyStopping(monitor=\"loss\" , patience=3)\n",
        "\n",
        "# fit the model\n",
        "history = insurance_model.fit(X_train_normal, y_train, epochs=100 )"
      ],
      "metadata": {
        "id": "XAnqwMHSG2Vz",
        "colab": {
          "base_uri": "https://localhost:8080/"
        },
        "outputId": "2e415259-5194-46a2-f833-06606f4ef2d5"
      },
      "execution_count": 50,
      "outputs": [
        {
          "output_type": "stream",
          "name": "stdout",
          "text": [
            "Epoch 1/100\n",
            "34/34 [==============================] - 0s 3ms/step - loss: 9239.5869 - mae: 9239.5869\n",
            "Epoch 2/100\n",
            "34/34 [==============================] - 0s 3ms/step - loss: 4650.6880 - mae: 4650.6880\n",
            "Epoch 3/100\n",
            "34/34 [==============================] - 0s 3ms/step - loss: 3698.7185 - mae: 3698.7185\n",
            "Epoch 4/100\n",
            "34/34 [==============================] - 0s 3ms/step - loss: 3642.9551 - mae: 3642.9551\n",
            "Epoch 5/100\n",
            "34/34 [==============================] - 0s 3ms/step - loss: 3672.3918 - mae: 3672.3918\n",
            "Epoch 6/100\n",
            "34/34 [==============================] - 0s 3ms/step - loss: 3707.6265 - mae: 3707.6265\n",
            "Epoch 7/100\n",
            "34/34 [==============================] - 0s 2ms/step - loss: 3703.9355 - mae: 3703.9355\n",
            "Epoch 8/100\n",
            "34/34 [==============================] - 0s 3ms/step - loss: 3618.9045 - mae: 3618.9045\n",
            "Epoch 9/100\n",
            "34/34 [==============================] - 0s 3ms/step - loss: 3642.3621 - mae: 3642.3621\n",
            "Epoch 10/100\n",
            "34/34 [==============================] - 0s 3ms/step - loss: 3642.1147 - mae: 3642.1147\n",
            "Epoch 11/100\n",
            "34/34 [==============================] - 0s 3ms/step - loss: 3639.6721 - mae: 3639.6721\n",
            "Epoch 12/100\n",
            "34/34 [==============================] - 0s 3ms/step - loss: 3583.1802 - mae: 3583.1802\n",
            "Epoch 13/100\n",
            "34/34 [==============================] - 0s 3ms/step - loss: 3600.4231 - mae: 3600.4231\n",
            "Epoch 14/100\n",
            "34/34 [==============================] - 0s 3ms/step - loss: 3603.3997 - mae: 3603.3997\n",
            "Epoch 15/100\n",
            "34/34 [==============================] - 0s 2ms/step - loss: 3686.3887 - mae: 3686.3887\n",
            "Epoch 16/100\n",
            "34/34 [==============================] - 0s 3ms/step - loss: 3634.2458 - mae: 3634.2458\n",
            "Epoch 17/100\n",
            "34/34 [==============================] - 0s 2ms/step - loss: 3572.3203 - mae: 3572.3203\n",
            "Epoch 18/100\n",
            "34/34 [==============================] - 0s 3ms/step - loss: 3609.7041 - mae: 3609.7041\n",
            "Epoch 19/100\n",
            "34/34 [==============================] - 0s 3ms/step - loss: 3567.3091 - mae: 3567.3091\n",
            "Epoch 20/100\n",
            "34/34 [==============================] - 0s 3ms/step - loss: 3634.5933 - mae: 3634.5933\n",
            "Epoch 21/100\n",
            "34/34 [==============================] - 0s 3ms/step - loss: 3602.9666 - mae: 3602.9666\n",
            "Epoch 22/100\n",
            "34/34 [==============================] - 0s 3ms/step - loss: 3543.0154 - mae: 3543.0154\n",
            "Epoch 23/100\n",
            "34/34 [==============================] - 0s 3ms/step - loss: 3663.4875 - mae: 3663.4875\n",
            "Epoch 24/100\n",
            "34/34 [==============================] - 0s 3ms/step - loss: 3791.3013 - mae: 3791.3013\n",
            "Epoch 25/100\n",
            "34/34 [==============================] - 0s 3ms/step - loss: 3676.7439 - mae: 3676.7439\n",
            "Epoch 26/100\n",
            "34/34 [==============================] - 0s 3ms/step - loss: 3663.3779 - mae: 3663.3779\n",
            "Epoch 27/100\n",
            "34/34 [==============================] - 0s 3ms/step - loss: 3772.7100 - mae: 3772.7100\n",
            "Epoch 28/100\n",
            "34/34 [==============================] - 0s 3ms/step - loss: 3851.4790 - mae: 3851.4790\n",
            "Epoch 29/100\n",
            "34/34 [==============================] - 0s 3ms/step - loss: 3607.0427 - mae: 3607.0427\n",
            "Epoch 30/100\n",
            "34/34 [==============================] - 0s 3ms/step - loss: 3581.5627 - mae: 3581.5627\n",
            "Epoch 31/100\n",
            "34/34 [==============================] - 0s 3ms/step - loss: 3598.3630 - mae: 3598.3630\n",
            "Epoch 32/100\n",
            "34/34 [==============================] - 0s 3ms/step - loss: 3645.3083 - mae: 3645.3083\n",
            "Epoch 33/100\n",
            "34/34 [==============================] - 0s 3ms/step - loss: 3685.8293 - mae: 3685.8293\n",
            "Epoch 34/100\n",
            "34/34 [==============================] - 0s 3ms/step - loss: 3811.4036 - mae: 3811.4036\n",
            "Epoch 35/100\n",
            "34/34 [==============================] - 0s 2ms/step - loss: 3711.6194 - mae: 3711.6194\n",
            "Epoch 36/100\n",
            "34/34 [==============================] - 0s 3ms/step - loss: 3531.8030 - mae: 3531.8030\n",
            "Epoch 37/100\n",
            "34/34 [==============================] - 0s 3ms/step - loss: 3597.6946 - mae: 3597.6946\n",
            "Epoch 38/100\n",
            "34/34 [==============================] - 0s 3ms/step - loss: 3586.2690 - mae: 3586.2690\n",
            "Epoch 39/100\n",
            "34/34 [==============================] - 0s 2ms/step - loss: 3606.3528 - mae: 3606.3528\n",
            "Epoch 40/100\n",
            "34/34 [==============================] - 0s 3ms/step - loss: 3717.9253 - mae: 3717.9253\n",
            "Epoch 41/100\n",
            "34/34 [==============================] - 0s 3ms/step - loss: 3807.6582 - mae: 3807.6582\n",
            "Epoch 42/100\n",
            "34/34 [==============================] - 0s 2ms/step - loss: 3759.6504 - mae: 3759.6504\n",
            "Epoch 43/100\n",
            "34/34 [==============================] - 0s 3ms/step - loss: 3604.2891 - mae: 3604.2891\n",
            "Epoch 44/100\n",
            "34/34 [==============================] - 0s 3ms/step - loss: 3640.4895 - mae: 3640.4895\n",
            "Epoch 45/100\n",
            "34/34 [==============================] - 0s 3ms/step - loss: 3575.6846 - mae: 3575.6846\n",
            "Epoch 46/100\n",
            "34/34 [==============================] - 0s 3ms/step - loss: 3637.0081 - mae: 3637.0081\n",
            "Epoch 47/100\n",
            "34/34 [==============================] - 0s 3ms/step - loss: 3645.2019 - mae: 3645.2019\n",
            "Epoch 48/100\n",
            "34/34 [==============================] - 0s 3ms/step - loss: 3598.3267 - mae: 3598.3267\n",
            "Epoch 49/100\n",
            "34/34 [==============================] - 0s 3ms/step - loss: 3577.9360 - mae: 3577.9360\n",
            "Epoch 50/100\n",
            "34/34 [==============================] - 0s 3ms/step - loss: 3654.9839 - mae: 3654.9839\n",
            "Epoch 51/100\n",
            "34/34 [==============================] - 0s 3ms/step - loss: 3554.2908 - mae: 3554.2908\n",
            "Epoch 52/100\n",
            "34/34 [==============================] - 0s 2ms/step - loss: 3570.9709 - mae: 3570.9709\n",
            "Epoch 53/100\n",
            "34/34 [==============================] - 0s 3ms/step - loss: 3670.4170 - mae: 3670.4170\n",
            "Epoch 54/100\n",
            "34/34 [==============================] - 0s 3ms/step - loss: 3677.3699 - mae: 3677.3699\n",
            "Epoch 55/100\n",
            "34/34 [==============================] - 0s 3ms/step - loss: 3716.2498 - mae: 3716.2498\n",
            "Epoch 56/100\n",
            "34/34 [==============================] - 0s 3ms/step - loss: 3621.4119 - mae: 3621.4119\n",
            "Epoch 57/100\n",
            "34/34 [==============================] - 0s 3ms/step - loss: 3604.5303 - mae: 3604.5303\n",
            "Epoch 58/100\n",
            "34/34 [==============================] - 0s 3ms/step - loss: 3568.3823 - mae: 3568.3823\n",
            "Epoch 59/100\n",
            "34/34 [==============================] - 0s 3ms/step - loss: 3511.6069 - mae: 3511.6069\n",
            "Epoch 60/100\n",
            "34/34 [==============================] - 0s 3ms/step - loss: 3608.8416 - mae: 3608.8416\n",
            "Epoch 61/100\n",
            "34/34 [==============================] - 0s 3ms/step - loss: 3579.4346 - mae: 3579.4346\n",
            "Epoch 62/100\n",
            "34/34 [==============================] - 0s 3ms/step - loss: 3600.0356 - mae: 3600.0356\n",
            "Epoch 63/100\n",
            "34/34 [==============================] - 0s 2ms/step - loss: 3651.0649 - mae: 3651.0649\n",
            "Epoch 64/100\n",
            "34/34 [==============================] - 0s 3ms/step - loss: 3554.3760 - mae: 3554.3760\n",
            "Epoch 65/100\n",
            "34/34 [==============================] - 0s 3ms/step - loss: 3664.0850 - mae: 3664.0850\n",
            "Epoch 66/100\n",
            "34/34 [==============================] - 0s 3ms/step - loss: 3635.1003 - mae: 3635.1003\n",
            "Epoch 67/100\n",
            "34/34 [==============================] - 0s 4ms/step - loss: 3558.4822 - mae: 3558.4822\n",
            "Epoch 68/100\n",
            "34/34 [==============================] - 0s 4ms/step - loss: 3564.6702 - mae: 3564.6702\n",
            "Epoch 69/100\n",
            "34/34 [==============================] - 0s 4ms/step - loss: 3563.8711 - mae: 3563.8711\n",
            "Epoch 70/100\n",
            "34/34 [==============================] - 0s 4ms/step - loss: 3579.3506 - mae: 3579.3506\n",
            "Epoch 71/100\n",
            "34/34 [==============================] - 0s 4ms/step - loss: 3563.2520 - mae: 3563.2520\n",
            "Epoch 72/100\n",
            "34/34 [==============================] - 0s 4ms/step - loss: 3550.1943 - mae: 3550.1943\n",
            "Epoch 73/100\n",
            "34/34 [==============================] - 0s 4ms/step - loss: 3599.4543 - mae: 3599.4543\n",
            "Epoch 74/100\n",
            "34/34 [==============================] - 0s 4ms/step - loss: 3587.5217 - mae: 3587.5217\n",
            "Epoch 75/100\n",
            "34/34 [==============================] - 0s 4ms/step - loss: 3647.0190 - mae: 3647.0190\n",
            "Epoch 76/100\n",
            "34/34 [==============================] - 0s 4ms/step - loss: 3631.7876 - mae: 3631.7876\n",
            "Epoch 77/100\n",
            "34/34 [==============================] - 0s 4ms/step - loss: 3674.1890 - mae: 3674.1890\n",
            "Epoch 78/100\n",
            "34/34 [==============================] - 0s 3ms/step - loss: 3579.9062 - mae: 3579.9062\n",
            "Epoch 79/100\n",
            "34/34 [==============================] - 0s 3ms/step - loss: 3687.4465 - mae: 3687.4465\n",
            "Epoch 80/100\n",
            "34/34 [==============================] - 0s 3ms/step - loss: 3687.7278 - mae: 3687.7278\n",
            "Epoch 81/100\n",
            "34/34 [==============================] - 0s 3ms/step - loss: 3656.5840 - mae: 3656.5840\n",
            "Epoch 82/100\n",
            "34/34 [==============================] - 0s 3ms/step - loss: 3648.9961 - mae: 3648.9961\n",
            "Epoch 83/100\n",
            "34/34 [==============================] - 0s 3ms/step - loss: 3695.7634 - mae: 3695.7634\n",
            "Epoch 84/100\n",
            "34/34 [==============================] - 0s 3ms/step - loss: 3634.4404 - mae: 3634.4404\n",
            "Epoch 85/100\n",
            "34/34 [==============================] - 0s 3ms/step - loss: 3593.0205 - mae: 3593.0205\n",
            "Epoch 86/100\n",
            "34/34 [==============================] - 0s 3ms/step - loss: 3772.5144 - mae: 3772.5144\n",
            "Epoch 87/100\n",
            "34/34 [==============================] - 0s 3ms/step - loss: 3792.5259 - mae: 3792.5259\n",
            "Epoch 88/100\n",
            "34/34 [==============================] - 0s 3ms/step - loss: 3592.1316 - mae: 3592.1316\n",
            "Epoch 89/100\n",
            "34/34 [==============================] - 0s 3ms/step - loss: 3542.3677 - mae: 3542.3677\n",
            "Epoch 90/100\n",
            "34/34 [==============================] - 0s 3ms/step - loss: 3625.0576 - mae: 3625.0576\n",
            "Epoch 91/100\n",
            "34/34 [==============================] - 0s 3ms/step - loss: 3597.9355 - mae: 3597.9355\n",
            "Epoch 92/100\n",
            "34/34 [==============================] - 0s 2ms/step - loss: 3820.2217 - mae: 3820.2217\n",
            "Epoch 93/100\n",
            "34/34 [==============================] - 0s 3ms/step - loss: 3773.4937 - mae: 3773.4937\n",
            "Epoch 94/100\n",
            "34/34 [==============================] - 0s 3ms/step - loss: 3588.7739 - mae: 3588.7739\n",
            "Epoch 95/100\n",
            "34/34 [==============================] - 0s 3ms/step - loss: 3595.0769 - mae: 3595.0769\n",
            "Epoch 96/100\n",
            "34/34 [==============================] - 0s 3ms/step - loss: 3635.8616 - mae: 3635.8616\n",
            "Epoch 97/100\n",
            "34/34 [==============================] - 0s 3ms/step - loss: 3655.7087 - mae: 3655.7087\n",
            "Epoch 98/100\n",
            "34/34 [==============================] - 0s 3ms/step - loss: 3681.6565 - mae: 3681.6565\n",
            "Epoch 99/100\n",
            "34/34 [==============================] - 0s 3ms/step - loss: 3601.8445 - mae: 3601.8445\n",
            "Epoch 100/100\n",
            "34/34 [==============================] - 0s 3ms/step - loss: 3549.9258 - mae: 3549.9258\n"
          ]
        }
      ]
    },
    {
      "cell_type": "code",
      "source": [
        "pd.DataFrame(history.history).plot()\n",
        "plt.xlabel(\"epochs\")\n",
        "plt.ylabel(\"loss\")"
      ],
      "metadata": {
        "colab": {
          "base_uri": "https://localhost:8080/",
          "height": 467
        },
        "id": "sFJUzEwOzT-b",
        "outputId": "aa2e52b4-db11-4960-eeb8-d63df8245326"
      },
      "execution_count": 51,
      "outputs": [
        {
          "output_type": "execute_result",
          "data": {
            "text/plain": [
              "Text(0, 0.5, 'loss')"
            ]
          },
          "metadata": {},
          "execution_count": 51
        },
        {
          "output_type": "display_data",
          "data": {
            "text/plain": [
              "<Figure size 640x480 with 1 Axes>"
            ],
            "image/png": "[encoded data removed]"
          },
          "metadata": {}
        }
      ]
    }
  ]
}