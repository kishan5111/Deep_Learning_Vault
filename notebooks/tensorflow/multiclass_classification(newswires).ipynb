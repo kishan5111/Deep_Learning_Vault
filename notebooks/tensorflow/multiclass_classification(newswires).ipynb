{
  "nbformat": 4,
  "nbformat_minor": 0,
  "metadata": {
    "colab": {
      "provenance": []
    },
    "kernelspec": {
      "name": "python3",
      "display_name": "Python 3"
    },
    "language_info": {
      "name": "python"
    }
  },
  "cells": [
    {
      "cell_type": "markdown",
      "source": [
        "# Classifying newswires: a multiclass classification\n",
        "\n",
        "Building Neural network to classify Reuters newswires into 46 mutually exclusive topics. This problem is instance of multi-class classification\n",
        "because each data-point should be classified into only one category, more specifically single-label, multiclass classification.\n",
        "\n",
        "Reuters dataset is a set of short newswires and their topics, published by reuters in 1986. There are 46 different topics, some topics are more represented than others, but each topic has at least 10 examples in the training set."
      ],
      "metadata": {
        "id": "lkcBGrU0dIwW"
      }
    },
    {
      "cell_type": "markdown",
      "source": [
        "Plan of attack\n",
        "* Loading the Reuters dataset\n",
        "* Preparing the data\n",
        "* Building anf fitting model\n",
        "* Evaluating and visualizing model\n",
        "* Repeat till state-of-art model"
      ],
      "metadata": {
        "id": "cWdC4D30icrI"
      }
    },
    {
      "cell_type": "markdown",
      "source": [
        "## Loading the Reuters dataset\n"
      ],
      "metadata": {
        "id": "xxRZiN6SBgbg"
      }
    },
    {
      "cell_type": "code",
      "source": [
        "from keras.datasets import reuters\n",
        "\n",
        "(train_data, train_labels) , (test_data, test_labels) = reuters.load_data(num_words=10000)\n",
        "\n",
        "len(train_data), len(test_data)"
      ],
      "metadata": {
        "colab": {
          "base_uri": "https://localhost:8080/"
        },
        "id": "ikC5ixwOCNHP",
        "outputId": "324410ec-0911-4b8b-a99b-a0c76dc34801"
      },
      "execution_count": null,
      "outputs": [
        {
          "output_type": "stream",
          "name": "stdout",
          "text": [
            "Downloading data from https://storage.googleapis.com/tensorflow/tf-keras-datasets/reuters.npz\n",
            "2110848/2110848 [==============================] - 0s 0us/step\n"
          ]
        },
        {
          "output_type": "execute_result",
          "data": {
            "text/plain": [
              "(8982, 2246)"
            ]
          },
          "metadata": {},
          "execution_count": 1
        }
      ]
    },
    {
      "cell_type": "markdown",
      "source": [
        "The argument num_words=10000 restricts the data to the 10,000 most frequently occuring words found in the data. There 8,982 training and 2,246 test examples"
      ],
      "metadata": {
        "id": "JTX6c-5gCj1Y"
      }
    },
    {
      "cell_type": "code",
      "source": [
        "# view data\n",
        "train_data[1]"
      ],
      "metadata": {
        "colab": {
          "base_uri": "https://localhost:8080/"
        },
        "id": "rYHHpIYWDGOY",
        "outputId": "ceed297c-a4d8-4843-bd3b-f26b64b9f380"
      },
      "execution_count": null,
      "outputs": [
        {
          "output_type": "execute_result",
          "data": {
            "text/plain": [
              "[1,\n",
              " 3267,\n",
              " 699,\n",
              " 3434,\n",
              " 2295,\n",
              " 56,\n",
              " 2,\n",
              " 7511,\n",
              " 9,\n",
              " 56,\n",
              " 3906,\n",
              " 1073,\n",
              " 81,\n",
              " 5,\n",
              " 1198,\n",
              " 57,\n",
              " 366,\n",
              " 737,\n",
              " 132,\n",
              " 20,\n",
              " 4093,\n",
              " 7,\n",
              " 2,\n",
              " 49,\n",
              " 2295,\n",
              " 2,\n",
              " 1037,\n",
              " 3267,\n",
              " 699,\n",
              " 3434,\n",
              " 8,\n",
              " 7,\n",
              " 10,\n",
              " 241,\n",
              " 16,\n",
              " 855,\n",
              " 129,\n",
              " 231,\n",
              " 783,\n",
              " 5,\n",
              " 4,\n",
              " 587,\n",
              " 2295,\n",
              " 2,\n",
              " 2,\n",
              " 775,\n",
              " 7,\n",
              " 48,\n",
              " 34,\n",
              " 191,\n",
              " 44,\n",
              " 35,\n",
              " 1795,\n",
              " 505,\n",
              " 17,\n",
              " 12]"
            ]
          },
          "metadata": {},
          "execution_count": 2
        }
      ]
    },
    {
      "cell_type": "code",
      "source": [
        "# check shape , datatype, dimensions and size of training data\n",
        "train_data.shape, train_data.dtype, train_data.size, train_data.ndim"
      ],
      "metadata": {
        "colab": {
          "base_uri": "https://localhost:8080/"
        },
        "id": "-7UEgkTQDNW4",
        "outputId": "87b6d068-50f3-455f-f64e-da8bbcb887e0"
      },
      "execution_count": null,
      "outputs": [
        {
          "output_type": "execute_result",
          "data": {
            "text/plain": [
              "((8982,), dtype('O'), 8982, 1)"
            ]
          },
          "metadata": {},
          "execution_count": 3
        }
      ]
    },
    {
      "cell_type": "code",
      "source": [
        "# check shape, datatype , dimensions and size of training labels\n",
        "train_labels.shape, train_labels.dtype, train_labels.size, train_labels.ndim"
      ],
      "metadata": {
        "colab": {
          "base_uri": "https://localhost:8080/"
        },
        "id": "95ALH6PhDXZ4",
        "outputId": "e75c851b-8bd1-4335-c401-6787e01784dc"
      },
      "execution_count": null,
      "outputs": [
        {
          "output_type": "execute_result",
          "data": {
            "text/plain": [
              "((8982,), dtype('int64'), 8982, 1)"
            ]
          },
          "metadata": {},
          "execution_count": 4
        }
      ]
    },
    {
      "cell_type": "code",
      "source": [
        "train_labels[10]"
      ],
      "metadata": {
        "colab": {
          "base_uri": "https://localhost:8080/"
        },
        "id": "UCQf6rAWDgQv",
        "outputId": "a45b354e-17a4-430b-b082-ecfb1a02ae39"
      },
      "execution_count": null,
      "outputs": [
        {
          "output_type": "execute_result",
          "data": {
            "text/plain": [
              "3"
            ]
          },
          "metadata": {},
          "execution_count": 5
        }
      ]
    },
    {
      "cell_type": "code",
      "source": [
        "# check th size of random samples\n",
        "len(train_data[0]), len(train_data[10]), len(train_data[100])"
      ],
      "metadata": {
        "colab": {
          "base_uri": "https://localhost:8080/"
        },
        "id": "JC7paZyxENvn",
        "outputId": "0c7a652b-f1e0-4234-b424-661c6fc90d4e"
      },
      "execution_count": null,
      "outputs": [
        {
          "output_type": "execute_result",
          "data": {
            "text/plain": [
              "(87, 31, 409)"
            ]
          },
          "metadata": {},
          "execution_count": 6
        }
      ]
    },
    {
      "cell_type": "markdown",
      "source": [
        "### Creating a helper function: Decoding newswires to text"
      ],
      "metadata": {
        "id": "OEeHbDkWEyMy"
      }
    },
    {
      "cell_type": "code",
      "source": [
        "def decode_newswire(n, data):\n",
        "  \"\"\"\n",
        "  Decodes the newswire indices and returns english text\n",
        "  \"\"\"\n",
        "  word_index = reuters.get_word_index()\n",
        "  reverse_word_index = dict([(value, key) for (key, value) in word_index.items()])\n",
        "  decoded_newswire = ' '.join ([reverse_word_index.get(i-3, '?')for i in data[n]])\n",
        "  return decoded_newswire\n",
        "  # note:indices are offsets by 3 becoz 0,1,2 are reserved indices for padding,start of sequence and unknown"
      ],
      "metadata": {
        "id": "1svz_21OFHM_"
      },
      "execution_count": null,
      "outputs": []
    },
    {
      "cell_type": "code",
      "source": [
        "\n",
        "decode_newswire(n=100, data=train_data)"
      ],
      "metadata": {
        "colab": {
          "base_uri": "https://localhost:8080/",
          "height": 159
        },
        "id": "9sXyDvcaGw9X",
        "outputId": "0f3cfc0f-9616-4f87-915d-e13e3d15c8d9"
      },
      "execution_count": null,
      "outputs": [
        {
          "output_type": "stream",
          "name": "stdout",
          "text": [
            "Downloading data from https://storage.googleapis.com/tensorflow/tf-keras-datasets/reuters_word_index.json\n",
            "550378/550378 [==============================] - 0s 0us/step\n"
          ]
        },
        {
          "output_type": "execute_result",
          "data": {
            "text/plain": [
              "\"? opec believes world oil prices should be set around a fixed average price of 18 dlrs a barrel ? assistant general secretary ? al wattari said today in a speech to a european community ec ? opec seminar in luxembourg released here al wattari said opec believes the world energy trade should be kept without restrictions and should be built around a fixed average price of 18 dlrs but he warned that defense of the 18 dlr a barrel level had caused hardship for opec countries who had been forced to curtail production and he warned that such cutbacks by opec states could not be sustained in some cases for opec to stabilize the world oil price at what is now considered the optimal level of 18 dlrs a barrel its member countries have had to undergo severe hardship in ? production al wattari said such cutbacks cannot in certain cases be sustained al wattari said as well as financial and marketing pressures some states depended on associated gas output for domestic use and oil cutbacks had left insufficient gas supplies he added al wattari noted that total opec output was below the organization's agreed ceiling for all member countries in february although this had meant sacrifices the effect of these sacrifices meant that market stability though restored to a good level was still under pressure al wattari said a lasting stability in the world market requires a wider scope of international cooperation he added he said some non opec oil producing countries had shown a political willingness after 1986 to cooperate with opec but although cutbacks announced by these states were politically significant and welcomed by opec they were insufficient in terms of volume he added the overall majority of non opec producers have not responded sufficiently to opec's calls for supply regulation he said al wattari said an 18 dlr a barrel price was optimal as it allowed investment in the oil industry outside opec to continue while not generating excessive cash flow for otherwise ? high cost areas outside opec such a price would no longer encourage protectionist measures he added ? al chalabi opec deputy secretary general also addressing the seminar added that discipline was still needed to prevent ? fluctuations in the oil market cooperation between arab states and europe was advantageous for both sides al chalabi said adding he hoped cooperation would ultimately lead to full ? ? arab dialogue reuter 3\""
            ],
            "application/vnd.google.colaboratory.intrinsic+json": {
              "type": "string"
            }
          },
          "metadata": {},
          "execution_count": 8
        }
      ]
    },
    {
      "cell_type": "markdown",
      "source": [
        "## Preparing the data\n",
        "* Vectorize or one hot-encode data\n",
        "* Splitting training data for validation"
      ],
      "metadata": {
        "id": "MYQxMepdG2PP"
      }
    },
    {
      "cell_type": "code",
      "source": [
        "\n",
        "# Encoding the data\n",
        "import numpy as np\n",
        "\n",
        "def vectorize_sequences(sequences, dimension=10000):\n",
        "  \"\"\"\n",
        "  one-hot encode the data\n",
        "  \"\"\"\n",
        "  results = np.zeros((len(sequences), dimension))\n",
        "  for i, sequence in enumerate(sequences):\n",
        "    results[i, sequence] = 1\n",
        "  return results"
      ],
      "metadata": {
        "id": "4jJ0pGGMHomn"
      },
      "execution_count": null,
      "outputs": []
    },
    {
      "cell_type": "code",
      "source": [
        "X_train = vectorize_sequences(train_data) # Vectorize training data\n",
        "X_test = vectorize_sequences(test_data) # Vectorize the test data"
      ],
      "metadata": {
        "id": "EUsqz6TEI5sA"
      },
      "execution_count": null,
      "outputs": []
    },
    {
      "cell_type": "code",
      "source": [
        "# onehot encoding labels\n",
        "from keras.utils.np_utils import to_categorical\n",
        "\n",
        "one_hot_train_labels = to_categorical(train_labels)\n",
        "one_hot_test_labels = to_categorical(test_labels)"
      ],
      "metadata": {
        "id": "mHR4n3wPJWZo"
      },
      "execution_count": null,
      "outputs": []
    },
    {
      "cell_type": "code",
      "source": [
        "# Splitting the training data to train and validation data\n",
        "X_val = X_train[:1000]\n",
        "partial_x_train = X_train[1000:]\n",
        "\n",
        "y_val = one_hot_train_labels[:1000]\n",
        "partial_y_train = one_hot_train_labels[1000:]"
      ],
      "metadata": {
        "id": "twVEcwlgKkZQ"
      },
      "execution_count": null,
      "outputs": []
    },
    {
      "cell_type": "markdown",
      "source": [
        "## Building the neural network\n",
        "* Build the model\n",
        "* Compile the model\n",
        "* Fit the model"
      ],
      "metadata": {
        "id": "dFUu2dXFLGr2"
      }
    },
    {
      "cell_type": "code",
      "source": [
        "import tensorflow as tf\n",
        "\n",
        "model = tf.keras.Sequential([\n",
        "    tf.keras.layers.Dense(64, activation= \"relu\", input_shape=(10000,)),\n",
        "    tf.keras.layers.Dense(64, activation=\"relu\"),\n",
        "    tf.keras.layers.Dense(46, activation=\"softmax\")\n",
        "])\n",
        "\n",
        "model.compile(\n",
        "    loss= tf.keras.losses.categorical_crossentropy,\n",
        "    optimizer= tf.keras.optimizers.Adam(),\n",
        "    metrics= [\"accuracy\"]\n",
        ")\n",
        "\n",
        "history = model.fit(partial_x_train,\n",
        "                    partial_y_train,\n",
        "                    epochs=20,\n",
        "                    batch_size=512,\n",
        "                    validation_data=(X_val, y_val)\n",
        ")"
      ],
      "metadata": {
        "colab": {
          "base_uri": "https://localhost:8080/"
        },
        "id": "DkR2NoDqLraf",
        "outputId": "ad4f33cf-6097-49ed-ff2d-de954e500417"
      },
      "execution_count": null,
      "outputs": [
        {
          "output_type": "stream",
          "name": "stdout",
          "text": [
            "Epoch 1/20\n",
            "16/16 [==============================] - 2s 72ms/step - loss: 3.2801 - accuracy: 0.4456 - val_loss: 2.4958 - val_accuracy: 0.5590\n",
            "Epoch 2/20\n",
            "16/16 [==============================] - 1s 54ms/step - loss: 1.9833 - accuracy: 0.5995 - val_loss: 1.6203 - val_accuracy: 0.6460\n",
            "Epoch 3/20\n",
            "16/16 [==============================] - 1s 54ms/step - loss: 1.3603 - accuracy: 0.7103 - val_loss: 1.2937 - val_accuracy: 0.7110\n",
            "Epoch 4/20\n",
            "16/16 [==============================] - 1s 87ms/step - loss: 1.0443 - accuracy: 0.7770 - val_loss: 1.1466 - val_accuracy: 0.7540\n",
            "Epoch 5/20\n",
            "16/16 [==============================] - 2s 135ms/step - loss: 0.8174 - accuracy: 0.8290 - val_loss: 1.0291 - val_accuracy: 0.7880\n",
            "Epoch 6/20\n",
            "16/16 [==============================] - 1s 70ms/step - loss: 0.6376 - accuracy: 0.8673 - val_loss: 0.9530 - val_accuracy: 0.8060\n",
            "Epoch 7/20\n",
            "16/16 [==============================] - 1s 51ms/step - loss: 0.4964 - accuracy: 0.8960 - val_loss: 0.9034 - val_accuracy: 0.8100\n",
            "Epoch 8/20\n",
            "16/16 [==============================] - 1s 53ms/step - loss: 0.3894 - accuracy: 0.9198 - val_loss: 0.8862 - val_accuracy: 0.8110\n",
            "Epoch 9/20\n",
            "16/16 [==============================] - 1s 96ms/step - loss: 0.3090 - accuracy: 0.9345 - val_loss: 0.8703 - val_accuracy: 0.8170\n",
            "Epoch 10/20\n",
            "16/16 [==============================] - 1s 60ms/step - loss: 0.2505 - accuracy: 0.9454 - val_loss: 0.8729 - val_accuracy: 0.8130\n",
            "Epoch 11/20\n",
            "16/16 [==============================] - 1s 51ms/step - loss: 0.2081 - accuracy: 0.9495 - val_loss: 0.8839 - val_accuracy: 0.8120\n",
            "Epoch 12/20\n",
            "16/16 [==============================] - 1s 54ms/step - loss: 0.1778 - accuracy: 0.9530 - val_loss: 0.8942 - val_accuracy: 0.8060\n",
            "Epoch 13/20\n",
            "16/16 [==============================] - 1s 51ms/step - loss: 0.1590 - accuracy: 0.9536 - val_loss: 0.9205 - val_accuracy: 0.8000\n",
            "Epoch 14/20\n",
            "16/16 [==============================] - 1s 50ms/step - loss: 0.1473 - accuracy: 0.9579 - val_loss: 0.9211 - val_accuracy: 0.8040\n",
            "Epoch 15/20\n",
            "16/16 [==============================] - 1s 52ms/step - loss: 0.1306 - accuracy: 0.9587 - val_loss: 0.9431 - val_accuracy: 0.8040\n",
            "Epoch 16/20\n",
            "16/16 [==============================] - 1s 75ms/step - loss: 0.1240 - accuracy: 0.9590 - val_loss: 0.9384 - val_accuracy: 0.8130\n",
            "Epoch 17/20\n",
            "16/16 [==============================] - 1s 93ms/step - loss: 0.1167 - accuracy: 0.9610 - val_loss: 0.9755 - val_accuracy: 0.7990\n",
            "Epoch 18/20\n",
            "16/16 [==============================] - 1s 75ms/step - loss: 0.1091 - accuracy: 0.9599 - val_loss: 0.9700 - val_accuracy: 0.8070\n",
            "Epoch 19/20\n",
            "16/16 [==============================] - 1s 53ms/step - loss: 0.1052 - accuracy: 0.9598 - val_loss: 0.9806 - val_accuracy: 0.8050\n",
            "Epoch 20/20\n",
            "16/16 [==============================] - 1s 53ms/step - loss: 0.1039 - accuracy: 0.9619 - val_loss: 0.9835 - val_accuracy: 0.8060\n"
          ]
        }
      ]
    },
    {
      "cell_type": "markdown",
      "source": [
        "## Evaluate and visualize model"
      ],
      "metadata": {
        "id": "MlvKs8xxNERo"
      }
    },
    {
      "cell_type": "code",
      "source": [
        "# get summary of model\n",
        "model.summary()"
      ],
      "metadata": {
        "colab": {
          "base_uri": "https://localhost:8080/"
        },
        "id": "_sQiDQ-mPu53",
        "outputId": "23cc51d4-af1a-4833-ad1b-165151e9f4e9"
      },
      "execution_count": null,
      "outputs": [
        {
          "output_type": "stream",
          "name": "stdout",
          "text": [
            "Model: \"sequential\"\n",
            "_________________________________________________________________\n",
            " Layer (type)                Output Shape              Param #   \n",
            "=================================================================\n",
            " dense (Dense)               (None, 64)                640064    \n",
            "                                                                 \n",
            " dense_1 (Dense)             (None, 64)                4160      \n",
            "                                                                 \n",
            " dense_2 (Dense)             (None, 46)                2990      \n",
            "                                                                 \n",
            "=================================================================\n",
            "Total params: 647,214\n",
            "Trainable params: 647,214\n",
            "Non-trainable params: 0\n",
            "_________________________________________________________________\n"
          ]
        }
      ]
    },
    {
      "cell_type": "markdown",
      "source": [
        "### Helper function to plot curves"
      ],
      "metadata": {
        "id": "_qH9zxeAQYPZ"
      }
    },
    {
      "cell_type": "code",
      "source": [
        "import matplotlib.pyplot as plt\n",
        "\n",
        "def plot_curve(history):\n",
        "  \"\"\"\n",
        "  Returns accuracy and loss plot\n",
        "  \"\"\"\n",
        "  loss = history.history[\"loss\"]\n",
        "  val_loss = history.history[\"val_loss\"]\n",
        "  acc = history.history[\"accuracy\"]\n",
        "  val_acc = history.history[\"val_accuracy\"]\n",
        "  epochs = range(1, len(loss)+ 1)\n",
        "\n",
        "  # plot loss curve\n",
        "  plt.plot(epochs, loss, 'bo', label =\"Training loss\")\n",
        "  plt.plot(epochs, val_loss, 'r', label=\"validation loss\")\n",
        "  plt.title(\"Training and validation loss\")\n",
        "  plt.xlabel(\"epochs\")\n",
        "  plt.ylabel(\"loss\")\n",
        "  plt.legend()\n",
        "\n",
        "  # plot accuracy curve\n",
        "  plt.figure()\n",
        "  plt.clf() #clears the figure\n",
        "  plt.plot(epochs, acc, 'bo', label=\"Training accuracy\")\n",
        "  plt.plot(epochs, val_acc, 'r', label=\"validation accuracy\")\n",
        "  plt.title(\"Training and Validation accuracy\")\n",
        "  plt.xlabel(\"epochs\")\n",
        "  plt.ylabel(\"accuracy\")\n",
        "  plt.legend()\n",
        "  plt.show()"
      ],
      "metadata": {
        "id": "qvXgde9cQn-H"
      },
      "execution_count": null,
      "outputs": []
    },
    {
      "cell_type": "code",
      "source": [
        "plot_curve(history)"
      ],
      "metadata": {
        "colab": {
          "base_uri": "https://localhost:8080/",
          "height": 927
        },
        "id": "Y4HgmpgvT8E5",
        "outputId": "85daec57-71ba-404a-b73c-921515775cf9"
      },
      "execution_count": null,
      "outputs": [
        {
          "output_type": "display_data",
          "data": {
            "text/plain": [
              "<Figure size 640x480 with 1 Axes>"
            ],
            "image/png": "[encoded data removed]"
          },
          "metadata": {}
        },
        {
          "output_type": "display_data",
          "data": {
            "text/plain": [
              "<Figure size 640x480 with 1 Axes>"
            ],
            "image/png": "[encoded data removed]"
          },
          "metadata": {}
        }
      ]
    },
    {
      "cell_type": "code",
      "source": [
        "evaluate = model.evaluate(X_test, one_hot_test_labels)\n",
        "evaluate"
      ],
      "metadata": {
        "colab": {
          "base_uri": "https://localhost:8080/"
        },
        "id": "FcRVpOVICivN",
        "outputId": "e5cc93b1-2f5c-4e8a-d677-b893c2f66948"
      },
      "execution_count": null,
      "outputs": [
        {
          "output_type": "stream",
          "name": "stdout",
          "text": [
            "71/71 [==============================] - 0s 6ms/step - loss: 1.1174 - accuracy: 0.7867\n"
          ]
        },
        {
          "output_type": "execute_result",
          "data": {
            "text/plain": [
              "[1.1174100637435913, 0.7867319583892822]"
            ]
          },
          "metadata": {},
          "execution_count": 22
        }
      ]
    },
    {
      "cell_type": "markdown",
      "source": [
        "## Repeat until satisified\n",
        "It seems the model starts to overfit after 9 epochs"
      ],
      "metadata": {
        "id": "M9j2c5bMUYSh"
      }
    },
    {
      "cell_type": "code",
      "source": [
        "model_1 = tf.keras.models.clone_model(model)\n",
        "\n",
        "model_1.compile(\n",
        "    loss=tf.keras.losses.categorical_crossentropy,\n",
        "    optimizer=\"Adam\"\n",
        "    ,metrics=[\"accuracy\"]\n",
        ")\n"
      ],
      "metadata": {
        "id": "XnWv0bRYVFY_"
      },
      "execution_count": null,
      "outputs": []
    },
    {
      "cell_type": "code",
      "source": [
        "history1= model_1.fit(\n",
        "    partial_x_train,\n",
        "    partial_y_train,\n",
        "    epochs=9,\n",
        "    validation_data=(X_val, y_val),\n",
        "    batch_size=512,\n",
        "    verbose=0)"
      ],
      "metadata": {
        "id": "A_cSlctsE8d4"
      },
      "execution_count": null,
      "outputs": []
    },
    {
      "cell_type": "code",
      "source": [
        "evaluate_1 = model_1.evaluate(X_test, one_hot_test_labels)\n",
        "evaluate_1"
      ],
      "metadata": {
        "colab": {
          "base_uri": "https://localhost:8080/"
        },
        "id": "BcoKYMbyGcJE",
        "outputId": "f097494c-5918-4750-ed0b-e6786368c034"
      },
      "execution_count": null,
      "outputs": [
        {
          "output_type": "stream",
          "name": "stdout",
          "text": [
            "71/71 [==============================] - 0s 3ms/step - loss: 1.0356 - accuracy: 0.7947\n"
          ]
        },
        {
          "output_type": "execute_result",
          "data": {
            "text/plain": [
              "[1.0356037616729736, 0.7947462201118469]"
            ]
          },
          "metadata": {},
          "execution_count": 23
        }
      ]
    },
    {
      "cell_type": "code",
      "source": [
        "model_2 = tf.keras.Sequential([\n",
        "    tf.keras.layers.Dense(128, activation= \"relu\", input_shape=(10000,)),\n",
        "    tf.keras.layers.Dense(64, activation=\"relu\"),\n",
        "    tf.keras.layers.Dense(46, activation=\"softmax\")\n",
        "])\n",
        "\n",
        "model_2.compile(\n",
        "    loss= tf.keras.losses.categorical_crossentropy,\n",
        "    optimizer= tf.keras.optimizers.Adam(),\n",
        "    metrics= [\"accuracy\"]\n",
        ")\n",
        "\n",
        "history_2 = model.fit(partial_x_train,\n",
        "                    partial_y_train,\n",
        "                    epochs=20,\n",
        "                    batch_size=32,\n",
        "                    validation_data=(X_val, y_val),\n",
        "                    verbose=0)"
      ],
      "metadata": {
        "id": "q6Inu41vGj3Z"
      },
      "execution_count": null,
      "outputs": []
    },
    {
      "cell_type": "code",
      "source": [
        "plot_curve(history_2)"
      ],
      "metadata": {
        "colab": {
          "base_uri": "https://localhost:8080/",
          "height": 927
        },
        "id": "R5fbxd1CLS63",
        "outputId": "acfb7ff2-c85a-48a0-8280-2d499282943a"
      },
      "execution_count": null,
      "outputs": [
        {
          "output_type": "display_data",
          "data": {
            "text/plain": [
              "<Figure size 640x480 with 1 Axes>"
            ],
            "image/png": "[encoded data removed]"
          },
          "metadata": {}
        },
        {
          "output_type": "display_data",
          "data": {
            "text/plain": [
              "<Figure size 640x480 with 1 Axes>"
            ],
            "image/png": "[encoded data removed]"
          },
          "metadata": {}
        }
      ]
    },
    {
      "cell_type": "code",
      "source": [
        "evaluate_2 = model_2.evaluate(X_test, one_hot_test_labels)"
      ],
      "metadata": {
        "id": "3blwaCqiL6kf",
        "colab": {
          "base_uri": "https://localhost:8080/"
        },
        "outputId": "fecfda47-e68d-488d-9918-3e94c5bc27bb"
      },
      "execution_count": null,
      "outputs": [
        {
          "output_type": "stream",
          "name": "stdout",
          "text": [
            "71/71 [==============================] - 1s 8ms/step - loss: 3.8465 - accuracy: 0.0080\n"
          ]
        }
      ]
    },
    {
      "cell_type": "markdown",
      "source": [
        "Let's create a pandas dataframe to check out the loss and accuracy on test data"
      ],
      "metadata": {
        "id": "tbEPxxkHAFKg"
      }
    },
    {
      "cell_type": "code",
      "source": [
        "import pandas as pd\n",
        "\n",
        "df = pd.DataFrame(columns=[\"model\", \"accuracy\", \"loss\"])\n",
        "df[\"model\"] = [\"model_0\", \"model_1\", \"model_2\"]\n",
        "df[\"accuracy\"] = [evaluate[1], evaluate_1[1], evaluate_2[1]]\n",
        "df[\"loss\"] = [evaluate[0], evaluate_1[0], evaluate_2[0]]\n",
        "df"
      ],
      "metadata": {
        "colab": {
          "base_uri": "https://localhost:8080/",
          "height": 143
        },
        "id": "RtIKbKja9Eat",
        "outputId": "7f76c803-8793-423f-a3bf-a65c10b32ef0"
      },
      "execution_count": null,
      "outputs": [
        {
          "output_type": "execute_result",
          "data": {
            "text/plain": [
              "     model  accuracy      loss\n",
              "0  model_0  0.786732  1.117410\n",
              "1  model_1  0.794746  1.035604\n",
              "2  model_2  0.008014  3.846473"
            ],
            "text/html": [
              "\n",
              "  <div id=\"df-e9dbc0c6-6c47-431f-ae46-d72918b9f477\">\n",
              "    <div class=\"colab-df-container\">\n",
              "      <div>\n",
              "<style scoped>\n",
              "    .dataframe tbody tr th:only-of-type {\n",
              "        vertical-align: middle;\n",
              "    }\n",
              "\n",
              "    .dataframe tbody tr th {\n",
              "        vertical-align: top;\n",
              "    }\n",
              "\n",
              "    .dataframe thead th {\n",
              "        text-align: right;\n",
              "    }\n",
              "</style>\n",
              "<table border=\"1\" class=\"dataframe\">\n",
              "  <thead>\n",
              "    <tr style=\"text-align: right;\">\n",
              "      <th></th>\n",
              "      <th>model</th>\n",
              "      <th>accuracy</th>\n",
              "      <th>loss</th>\n",
              "    </tr>\n",
              "  </thead>\n",
              "  <tbody>\n",
              "    <tr>\n",
              "      <th>0</th>\n",
              "      <td>model_0</td>\n",
              "      <td>0.786732</td>\n",
              "      <td>1.117410</td>\n",
              "    </tr>\n",
              "    <tr>\n",
              "      <th>1</th>\n",
              "      <td>model_1</td>\n",
              "      <td>0.794746</td>\n",
              "      <td>1.035604</td>\n",
              "    </tr>\n",
              "    <tr>\n",
              "      <th>2</th>\n",
              "      <td>model_2</td>\n",
              "      <td>0.008014</td>\n",
              "      <td>3.846473</td>\n",
              "    </tr>\n",
              "  </tbody>\n",
              "</table>\n",
              "</div>\n",
              "      <button class=\"colab-df-convert\" onclick=\"convertToInteractive('df-e9dbc0c6-6c47-431f-ae46-d72918b9f477')\"\n",
              "              title=\"Convert this dataframe to an interactive table.\"\n",
              "              style=\"display:none;\">\n",
              "        \n",
              "  <svg xmlns=\"http://www.w3.org/2000/svg\" height=\"24px\"viewBox=\"0 0 24 24\"\n",
              "       width=\"24px\">\n",
              "    <path d=\"M0 0h24v24H0V0z\" fill=\"none\"/>\n",
              "    <path d=\"M18.56 5.44l.94 2.06.94-2.06 2.06-.94-2.06-.94-.94-2.06-.94 2.06-2.06.94zm-11 1L8.5 8.5l.94-2.06 2.06-.94-2.06-.94L8.5 2.5l-.94 2.06-2.06.94zm10 10l.94 2.06.94-2.06 2.06-.94-2.06-.94-.94-2.06-.94 2.06-2.06.94z\"/><path d=\"M17.41 7.96l-1.37-1.37c-.4-.4-.92-.59-1.43-.59-.52 0-1.04.2-1.43.59L10.3 9.45l-7.72 7.72c-.78.78-.78 2.05 0 2.83L4 21.41c.39.39.9.59 1.41.59.51 0 1.02-.2 1.41-.59l7.78-7.78 2.81-2.81c.8-.78.8-2.07 0-2.86zM5.41 20L4 18.59l7.72-7.72 1.47 1.35L5.41 20z\"/>\n",
              "  </svg>\n",
              "      </button>\n",
              "      \n",
              "  <style>\n",
              "    .colab-df-container {\n",
              "      display:flex;\n",
              "      flex-wrap:wrap;\n",
              "      gap: 12px;\n",
              "    }\n",
              "\n",
              "    .colab-df-convert {\n",
              "      background-color: #E8F0FE;\n",
              "      border: none;\n",
              "      border-radius: 50%;\n",
              "      cursor: pointer;\n",
              "      display: none;\n",
              "      fill: #1967D2;\n",
              "      height: 32px;\n",
              "      padding: 0 0 0 0;\n",
              "      width: 32px;\n",
              "    }\n",
              "\n",
              "    .colab-df-convert:hover {\n",
              "      background-color: #E2EBFA;\n",
              "      box-shadow: 0px 1px 2px rgba(60, 64, 67, 0.3), 0px 1px 3px 1px rgba(60, 64, 67, 0.15);\n",
              "      fill: #174EA6;\n",
              "    }\n",
              "\n",
              "    [theme=dark] .colab-df-convert {\n",
              "      background-color: #3B4455;\n",
              "      fill: #D2E3FC;\n",
              "    }\n",
              "\n",
              "    [theme=dark] .colab-df-convert:hover {\n",
              "      background-color: #434B5C;\n",
              "      box-shadow: 0px 1px 3px 1px rgba(0, 0, 0, 0.15);\n",
              "      filter: drop-shadow(0px 1px 2px rgba(0, 0, 0, 0.3));\n",
              "      fill: #FFFFFF;\n",
              "    }\n",
              "  </style>\n",
              "\n",
              "      <script>\n",
              "        const buttonEl =\n",
              "          document.querySelector('#df-e9dbc0c6-6c47-431f-ae46-d72918b9f477 button.colab-df-convert');\n",
              "        buttonEl.style.display =\n",
              "          google.colab.kernel.accessAllowed ? 'block' : 'none';\n",
              "\n",
              "        async function convertToInteractive(key) {\n",
              "          const element = document.querySelector('#df-e9dbc0c6-6c47-431f-ae46-d72918b9f477');\n",
              "          const dataTable =\n",
              "            await google.colab.kernel.invokeFunction('convertToInteractive',\n",
              "                                                     [key], {});\n",
              "          if (!dataTable) return;\n",
              "\n",
              "          const docLinkHtml = 'Like what you see? Visit the ' +\n",
              "            '<a target=\"_blank\" href=https://colab.research.google.com/notebooks/data_table.ipynb>data table notebook</a>'\n",
              "            + ' to learn more about interactive tables.';\n",
              "          element.innerHTML = '';\n",
              "          dataTable['output_type'] = 'display_data';\n",
              "          await google.colab.output.renderOutput(dataTable, element);\n",
              "          const docLink = document.createElement('div');\n",
              "          docLink.innerHTML = docLinkHtml;\n",
              "          element.appendChild(docLink);\n",
              "        }\n",
              "      </script>\n",
              "    </div>\n",
              "  </div>\n",
              "  "
            ]
          },
          "metadata": {},
          "execution_count": 33
        }
      ]
    },
    {
      "cell_type": "markdown",
      "source": [
        "It seems `model_1`performs well.. So, let's save it"
      ],
      "metadata": {
        "id": "Nvab16R3_w6W"
      }
    },
    {
      "cell_type": "code",
      "source": [
        "# loading model_1\n",
        "model_1.save(\"save_model_1\")"
      ],
      "metadata": {
        "colab": {
          "base_uri": "https://localhost:8080/"
        },
        "id": "muoVCUT3AgEn",
        "outputId": "e93cda1a-2298-4cda-bf27-1a7c8b381c3e"
      },
      "execution_count": null,
      "outputs": [
        {
          "output_type": "stream",
          "name": "stderr",
          "text": [
            "WARNING:absl:Found untraced functions such as _update_step_xla while saving (showing 1 of 1). These functions will not be directly callable after loading.\n"
          ]
        }
      ]
    },
    {
      "cell_type": "code",
      "source": [],
      "metadata": {
        "id": "PiO6j5LQArjZ"
      },
      "execution_count": null,
      "outputs": []
    }
  ]
}