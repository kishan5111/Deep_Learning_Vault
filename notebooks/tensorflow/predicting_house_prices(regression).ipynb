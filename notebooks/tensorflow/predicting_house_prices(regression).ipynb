{
  "nbformat": 4,
  "nbformat_minor": 0,
  "metadata": {
    "colab": {
      "provenance": [],
      "gpuType": "T4"
    },
    "kernelspec": {
      "name": "python3",
      "display_name": "Python 3"
    },
    "language_info": {
      "name": "python"
    },
    "accelerator": "GPU"
  },
  "cells": [
    {
      "cell_type": "markdown",
      "source": [
        "# Predicting Boston housing price\n",
        "> This example is from Deep learning with python book.  \n"
      ],
      "metadata": {
        "id": "dPQLy5srhRUw"
      }
    },
    {
      "cell_type": "markdown",
      "source": [
        "Regression is machine-learning problem which consist of predicting a continous value instead of a discreate label.   \n",
        "Steps to solve regression problem:   \n",
        "1. Load the data\n",
        "2. Become one with data\n",
        "3. Preprocess the data\n",
        "4. Build the model\n",
        "5. Evaluate and visualize the model\n",
        "6. Repeat untill state-of-art model\n",
        "7. Save the model  \n"
      ],
      "metadata": {
        "id": "EnWh_kVxpPb-"
      }
    },
    {
      "cell_type": "markdown",
      "source": [
        "## 1. Load the data\n",
        "Attempting to predict the median price of homes in given Boston suburb in mid 1970's, from given data points. This a toy-dataset which comes with keras.   "
      ],
      "metadata": {
        "id": "Jad2dEubj3Rq"
      }
    },
    {
      "cell_type": "code",
      "source": [
        "import tensorflow as tf\n",
        "from keras.datasets import boston_housing\n",
        "\n",
        "(train_data, train_targets), (test_data, test_targets) =  boston_housing.load_data()"
      ],
      "metadata": {
        "id": "Qb5uXC6hk8ZO",
        "colab": {
          "base_uri": "https://localhost:8080/"
        },
        "outputId": "7e00c14f-e219-468d-a214-6ae436301ada"
      },
      "execution_count": 2,
      "outputs": [
        {
          "output_type": "stream",
          "name": "stdout",
          "text": [
            "Downloading data from https://storage.googleapis.com/tensorflow/tf-keras-datasets/boston_housing.npz\n",
            "57026/57026 [==============================] - 0s 0us/step\n"
          ]
        }
      ]
    },
    {
      "cell_type": "markdown",
      "source": [
        "## 2. Become one with data\n",
        "let's look the data"
      ],
      "metadata": {
        "id": "TdZsv6sFlhEF"
      }
    },
    {
      "cell_type": "code",
      "source": [
        "# check labels\n",
        "train_targets[0]"
      ],
      "metadata": {
        "colab": {
          "base_uri": "https://localhost:8080/"
        },
        "id": "miZ-RMKSnS0e",
        "outputId": "6d28267d-1ef0-4f92-cb16-8f815ec4ec8b"
      },
      "execution_count": 3,
      "outputs": [
        {
          "output_type": "execute_result",
          "data": {
            "text/plain": [
              "15.2"
            ]
          },
          "metadata": {},
          "execution_count": 3
        }
      ]
    },
    {
      "cell_type": "code",
      "source": [
        "print(f\"Training data: {train_data.shape}\")\n",
        "print(f\"Testing data: {test_data.shape}\")\n",
        "print(f\"Training sample: {train_data[10]}\")\n",
        "print(f\"Training target sample: {train_targets[10]}\")\n"
      ],
      "metadata": {
        "colab": {
          "base_uri": "https://localhost:8080/"
        },
        "id": "oE8kBsGrnpfN",
        "outputId": "dff432d3-5581-4dc4-d93b-14ecee5c25a6"
      },
      "execution_count": 4,
      "outputs": [
        {
          "output_type": "stream",
          "name": "stdout",
          "text": [
            "Training data: (404, 13)\n",
            "Testing data: (102, 13)\n",
            "Training sample: [  9.59571   0.       18.1       0.        0.693     6.404   100.\n",
            "   1.639    24.      666.       20.2     376.11     20.31   ]\n",
            "Training target sample: 12.1\n"
          ]
        }
      ]
    },
    {
      "cell_type": "code",
      "source": [
        "train_data.dtype, train_targets.dtype"
      ],
      "metadata": {
        "colab": {
          "base_uri": "https://localhost:8080/"
        },
        "id": "8duxs5AppYcs",
        "outputId": "fc5eb9ae-d09a-4fef-9131-7abcf3632898"
      },
      "execution_count": 5,
      "outputs": [
        {
          "output_type": "execute_result",
          "data": {
            "text/plain": [
              "(dtype('float64'), dtype('float64'))"
            ]
          },
          "metadata": {},
          "execution_count": 5
        }
      ]
    },
    {
      "cell_type": "code",
      "source": [
        "test_targets"
      ],
      "metadata": {
        "colab": {
          "base_uri": "https://localhost:8080/"
        },
        "id": "QOSsFB6MqQbC",
        "outputId": "f8aa5b53-1f94-408a-d209-d317b7d08ccc"
      },
      "execution_count": 6,
      "outputs": [
        {
          "output_type": "execute_result",
          "data": {
            "text/plain": [
              "array([ 7.2, 18.8, 19. , 27. , 22.2, 24.5, 31.2, 22.9, 20.5, 23.2, 18.6,\n",
              "       14.5, 17.8, 50. , 20.8, 24.3, 24.2, 19.8, 19.1, 22.7, 12. , 10.2,\n",
              "       20. , 18.5, 20.9, 23. , 27.5, 30.1,  9.5, 22. , 21.2, 14.1, 33.1,\n",
              "       23.4, 20.1,  7.4, 15.4, 23.8, 20.1, 24.5, 33. , 28.4, 14.1, 46.7,\n",
              "       32.5, 29.6, 28.4, 19.8, 20.2, 25. , 35.4, 20.3,  9.7, 14.5, 34.9,\n",
              "       26.6,  7.2, 50. , 32.4, 21.6, 29.8, 13.1, 27.5, 21.2, 23.1, 21.9,\n",
              "       13. , 23.2,  8.1,  5.6, 21.7, 29.6, 19.6,  7. , 26.4, 18.9, 20.9,\n",
              "       28.1, 35.4, 10.2, 24.3, 43.1, 17.6, 15.4, 16.2, 27.1, 21.4, 21.5,\n",
              "       22.4, 25. , 16.6, 18.6, 22. , 42.8, 35.1, 21.5, 36. , 21.9, 24.1,\n",
              "       50. , 26.7, 25. ])"
            ]
          },
          "metadata": {},
          "execution_count": 6
        }
      ]
    },
    {
      "cell_type": "markdown",
      "source": [
        "> We have 404 training samples and 102 test samples, each with 13 numerical features, such as per capita crime rate, average no. of rooms per dwelling, tax-rate, and so on.\n",
        " Targets are median values of owner occupied homes, in thousand dollars."
      ],
      "metadata": {
        "id": "4yjsDuRWpwO1"
      }
    },
    {
      "cell_type": "markdown",
      "source": [
        "## 3. Preprocess the data\n",
        "There is no categorical data so, we are going to feature-wise normalization: for each input in the data(column in input data matrix), you substract the mean of the feature and divide by standard deviation, so that feature is centered around 0 and has a unit standard deviation.  "
      ],
      "metadata": {
        "id": "Izicuf_hqvOY"
      }
    },
    {
      "cell_type": "code",
      "source": [
        "# normalizing(standardization) the data\n",
        "mean = train_data.mean(axis=0)\n",
        "train_data -= mean\n",
        "std = train_data.std(axis= 0)\n",
        "train_data /= std\n",
        "\n",
        "test_data -= mean\n",
        "test_data /= std"
      ],
      "metadata": {
        "id": "iplXvZ9Wqyrl"
      },
      "execution_count": 7,
      "outputs": []
    },
    {
      "cell_type": "markdown",
      "source": [
        "**Note:** Quantities used for normalizing the test data are computed using the training data. You should never use in workflow any quantity computed using the test data, even for something as simple as data normalization."
      ],
      "metadata": {
        "id": "_c9saVI2snHt"
      }
    },
    {
      "cell_type": "code",
      "source": [
        "# check sample\n",
        "train_data[0]"
      ],
      "metadata": {
        "colab": {
          "base_uri": "https://localhost:8080/"
        },
        "id": "iYhI8fYLtH32",
        "outputId": "5a24160d-12b6-47c1-c6c3-ea96c483a60c"
      },
      "execution_count": 8,
      "outputs": [
        {
          "output_type": "execute_result",
          "data": {
            "text/plain": [
              "array([-0.27224633, -0.48361547, -0.43576161, -0.25683275, -0.1652266 ,\n",
              "       -0.1764426 ,  0.81306188,  0.1166983 , -0.62624905, -0.59517003,\n",
              "        1.14850044,  0.44807713,  0.8252202 ])"
            ]
          },
          "metadata": {},
          "execution_count": 8
        }
      ]
    },
    {
      "cell_type": "markdown",
      "source": [
        "## 4. Building network\n",
        "* Build the model\n",
        "* Compile the model\n",
        "* Fit the model"
      ],
      "metadata": {
        "id": "wGVoXY-itWF0"
      }
    },
    {
      "cell_type": "markdown",
      "source": [
        "> Because we only have few samples, we'll use a very small network with two hidden layers, each with 64 units. In general, the less training data you have, the worse overfitting will be, and using a small network is one way to mitigate overfitting."
      ],
      "metadata": {
        "id": "Mk29dhCzt5Ju"
      }
    },
    {
      "cell_type": "code",
      "source": [
        "# Creating a function because we can instantiate the same model multiple times\n",
        "\n",
        "def build_model():\n",
        "  \"\"\"\n",
        "  Returns the simple model\n",
        "  \"\"\"\n",
        "  model = tf.keras.Sequential([\n",
        "      tf.keras.layers.Dense(64, activation=\"relu\",\n",
        "                            input_shape=(train_data.shape[1],)),\n",
        "      tf.keras.layers.Dense(64, activation=\"relu\"),\n",
        "      tf.keras.layers.Dense(1)])\n",
        "  model.compile(\n",
        "      loss = \"mse\",\n",
        "      optimizer=\"rmsprop\",\n",
        "      metrics=[\"mae\"])\n",
        "\n",
        "  return model"
      ],
      "metadata": {
        "id": "TizmV5Ckul3r"
      },
      "execution_count": 9,
      "outputs": []
    },
    {
      "cell_type": "markdown",
      "source": [
        "We have very few data points, so the validation set would end up being very small. As a consequence, the validation scores might change a lot depending on which data points we choose to use for validation and which we choose for training:the validation score might have a high variance with regard to validation split.This would prevent us from reliably evaluating the model.\n",
        "\n",
        "The best practice in such situations is to use `K-fold cross-validation`. It consists of splitting the available data on K partitions (typically K = 4 or 5), instantiating K identical models, and training each one on K-1 partitions while evaluating on the remaining partition. The validation score for the model used is the average of the K validation scores obtained.\n"
      ],
      "metadata": {
        "id": "uImO528PwIXf"
      }
    },
    {
      "cell_type": "markdown",
      "source": [
        "### **K-fold validation**"
      ],
      "metadata": {
        "id": "3KW3y4rv5Wmt"
      }
    },
    {
      "cell_type": "code",
      "source": [
        "import numpy as np\n",
        "\n",
        "k = 4\n",
        "num_val_samples = len(train_data) // k\n",
        "num_epochs = 100\n",
        "all_scores = []\n",
        "\n",
        "for i in range(k):\n",
        "    print('Processing fold #', i)\n",
        "    val_data = train_data[i * num_val_samples:(i + 1) * num_val_samples]  # prepares validation data: data from partition #k\n",
        "    val_targets = train_targets[i * num_val_samples:(i + 1) * num_val_samples]\n",
        "\n",
        "    partial_train_data = np.concatenate(\n",
        "        [train_data[:i * num_val_samples],\n",
        "         train_data[(i + 1) * num_val_samples:]], axis=0)  # prepares the training data from all other partitions\n",
        "\n",
        "    partial_train_targets = np.concatenate(\n",
        "        [train_targets[:i * num_val_samples],\n",
        "         train_targets[(i + 1) * num_val_samples:]], axis=0)\n",
        "\n",
        "    model = build_model()  # build the Keras model (already compiled)\n",
        "    model.fit(partial_train_data, partial_train_targets, epochs=num_epochs, batch_size=1, verbose=0)  # trains the model in silent mode\n",
        "    val_mse, val_mae = model.evaluate(val_data, val_targets, verbose=0)  # evaluates the model on the validation data\n",
        "    all_scores.append(val_mae)\n"
      ],
      "metadata": {
        "id": "SHjk4SwD8ClM",
        "colab": {
          "base_uri": "https://localhost:8080/"
        },
        "outputId": "86ddc7cf-0d57-498f-f6c1-c05d615ad034"
      },
      "execution_count": 10,
      "outputs": [
        {
          "output_type": "stream",
          "name": "stdout",
          "text": [
            "Processing fold # 0\n",
            "Processing fold # 1\n",
            "Processing fold # 2\n",
            "Processing fold # 3\n"
          ]
        }
      ]
    },
    {
      "cell_type": "code",
      "source": [
        "# check the validation scores\n",
        "all_scores"
      ],
      "metadata": {
        "colab": {
          "base_uri": "https://localhost:8080/"
        },
        "id": "g8qIK6hHGrCf",
        "outputId": "cc8a8056-7947-4b44-9812-78c493d1d05d"
      },
      "execution_count": 11,
      "outputs": [
        {
          "output_type": "execute_result",
          "data": {
            "text/plain": [
              "[2.087677240371704, 2.6425156593322754, 2.51343035697937, 2.4270153045654297]"
            ]
          },
          "metadata": {},
          "execution_count": 11
        }
      ]
    },
    {
      "cell_type": "code",
      "source": [
        "# check the mean\n",
        "np.mean(all_scores)"
      ],
      "metadata": {
        "colab": {
          "base_uri": "https://localhost:8080/"
        },
        "id": "eD-d3CWuHplx",
        "outputId": "e6fd754e-c3c3-418a-d80b-fcf59adc1681"
      },
      "execution_count": 12,
      "outputs": [
        {
          "output_type": "execute_result",
          "data": {
            "text/plain": [
              "2.417659640312195"
            ]
          },
          "metadata": {},
          "execution_count": 12
        }
      ]
    },
    {
      "cell_type": "markdown",
      "source": [
        "Difference ranges from 2.31 to 2.49.. The average(2.4) is much reliable metric than any single score. In this case we're off by  \\$2400 on average which is quite significant considering the price range viz. \\$10,000 to \\$50,000.  "
      ],
      "metadata": {
        "id": "T8RRW_D1Hthf"
      }
    },
    {
      "cell_type": "markdown",
      "source": [
        "> Let's train model for bit longer:500 epochs. To keep a record of how well teh model does at each epoch, we'll modify the training loop to save the per epoch validation score log"
      ],
      "metadata": {
        "id": "exzsvnPeJiOb"
      }
    },
    {
      "cell_type": "code",
      "source": [
        "k = 4\n",
        "num_val_samples = len(train_data) // k\n",
        "num_epochs = 500\n",
        "all_mae_histories = []\n",
        "\n",
        "for i in range(k):\n",
        "    print('Processing fold #',i )\n",
        "    val_data = train_data[i * num_val_samples:(i + 1 ) * num_val_samples]\n",
        "    val_targets = train_targets[i * num_val_samples: (i +1) * num_val_samples]  #prepares the validation data: data from partition #k\n",
        "\n",
        "    partial_train_data = np.concatenate(\n",
        "        [train_data[:i * num_val_samples],\n",
        "         train_data[(i+1) * num_val_samples:]], axis=0)\n",
        "    partial_train_targets = np.concatenate(\n",
        "        [train_targets[:i * num_val_samples],\n",
        "         train_targets[(i+1) * num_val_samples:]], axis=0)\n",
        "\n",
        "    model = build_model()\n",
        "    history = model.fit(partial_train_data, partial_train_targets, validation_data=(val_data, val_targets), epochs=num_epochs, batch_size=1, verbose=0)\n",
        "    mae_history = history.history['val_mae']\n",
        "    all_mae_histories.append(mae_history)"
      ],
      "metadata": {
        "colab": {
          "base_uri": "https://localhost:8080/"
        },
        "id": "Ww603BM1J_hF",
        "outputId": "92b1ff1e-07c7-42d1-b73d-2ded3791f512"
      },
      "execution_count": 13,
      "outputs": [
        {
          "output_type": "stream",
          "name": "stdout",
          "text": [
            "Processing fold # 0\n",
            "Processing fold # 1\n",
            "Processing fold # 2\n",
            "Processing fold # 3\n"
          ]
        }
      ]
    },
    {
      "cell_type": "markdown",
      "source": [
        "Building the history of successive mean k-fold validation scores"
      ],
      "metadata": {
        "id": "pF0Na07ILAV2"
      }
    },
    {
      "cell_type": "code",
      "source": [
        "average_mae_history = [np.mean([x[i] for x in all_mae_histories]) for i in range(num_epochs)]"
      ],
      "metadata": {
        "id": "7ErTb6f-cwxU"
      },
      "execution_count": 15,
      "outputs": []
    },
    {
      "cell_type": "markdown",
      "source": [
        "### Plotting validation scores"
      ],
      "metadata": {
        "id": "w75cfpCndFQj"
      }
    },
    {
      "cell_type": "code",
      "source": [
        "import matplotlib.pyplot as plt\n",
        "\n",
        "plt.plot(range(1, len(average_mae_history)+1), average_mae_history)\n",
        "plt.xlabel(\"Epochs\")\n",
        "plt.ylabel(\"Validation MAE\")\n",
        "plt.show()"
      ],
      "metadata": {
        "colab": {
          "base_uri": "https://localhost:8080/",
          "height": 449
        },
        "id": "gqH7NsIqdON7",
        "outputId": "99ab3ea4-9b07-4656-a580-c97118e4602a"
      },
      "execution_count": 16,
      "outputs": [
        {
          "output_type": "display_data",
          "data": {
            "text/plain": [
              "<Figure size 640x480 with 1 Axes>"
            ],
            "image/png": "[encoded data removed]"
          },
          "metadata": {}
        }
      ]
    },
    {
      "cell_type": "markdown",
      "source": [
        "It may be little difficult to see the plot, due to scaling issues and relatively high  variance. Let's do the following:\n",
        "* Omit the first 10 data points, which are on a different scale than the rest of the curve.\n",
        "* Replace each point with an exponential moving average of the previous points, to obtain a smooth curve"
      ],
      "metadata": {
        "id": "jw6rN40je_Bp"
      }
    },
    {
      "cell_type": "code",
      "source": [
        "def smooth_curve(points, factor=0.9):\n",
        "  smoothed_points = []\n",
        "  for point in points:\n",
        "    if smoothed_points:\n",
        "      previous = smoothed_points[-1]\n",
        "      smoothed_points.append(previous * factor + point * ( 1- factor))\n",
        "    else:\n",
        "      smoothed_points.append(point)\n",
        "  return smoothed_points\n",
        "\n",
        "\n",
        "smooth_mae_history = smooth_curve(average_mae_history[10:])\n",
        "\n",
        "plt.plot(range(1, len(smooth_mae_history)+1), smooth_mae_history)\n",
        "plt.xlabel(\"Epochs\")\n",
        "plt.ylabel(\"Validation MAE\")\n",
        "plt.show()"
      ],
      "metadata": {
        "colab": {
          "base_uri": "https://localhost:8080/",
          "height": 449
        },
        "id": "YElh4UNSdru6",
        "outputId": "6a35ccd2-5aee-4331-beac-25796f76fcfe"
      },
      "execution_count": 17,
      "outputs": [
        {
          "output_type": "display_data",
          "data": {
            "text/plain": [
              "<Figure size 640x480 with 1 Axes>"
            ],
            "image/png": "[encoded data removed]"
          },
          "metadata": {}
        }
      ]
    },
    {
      "cell_type": "markdown",
      "source": [
        "According to this plot, validation MAE stops improving significantly after 70 epochs. Past that it seems overfitting."
      ],
      "metadata": {
        "id": "9AKHv7tHeuJ-"
      }
    },
    {
      "cell_type": "markdown",
      "source": [
        "> Training final model"
      ],
      "metadata": {
        "id": "7uTPDnXMgRFl"
      }
    },
    {
      "cell_type": "code",
      "source": [
        "# Get a fresh compiled model\n",
        "model = build_model()\n",
        "\n",
        "# fit the model on fuel data\n",
        "model.fit(train_data, train_targets,\n",
        "          epochs=70, batch_size=16, verbose=0)\n",
        "tse_mse_score, test_mae_score = model.evaluate(test_data, test_targets)"
      ],
      "metadata": {
        "colab": {
          "base_uri": "https://localhost:8080/"
        },
        "id": "V863KxdQgWQs",
        "outputId": "898d4397-03db-4109-fb26-63509aced568"
      },
      "execution_count": 18,
      "outputs": [
        {
          "output_type": "stream",
          "name": "stdout",
          "text": [
            "4/4 [==============================] - 0s 4ms/step - loss: 18.7090 - mae: 2.7118\n"
          ]
        }
      ]
    },
    {
      "cell_type": "markdown",
      "source": [
        "### Final results"
      ],
      "metadata": {
        "id": "_6XwuT9WpLil"
      }
    },
    {
      "cell_type": "code",
      "source": [
        "test_mae_score"
      ],
      "metadata": {
        "colab": {
          "base_uri": "https://localhost:8080/"
        },
        "id": "RHib4AOnpaJF",
        "outputId": "c0d56f62-9159-45ce-d57d-aea83416ddf0"
      },
      "execution_count": 19,
      "outputs": [
        {
          "output_type": "execute_result",
          "data": {
            "text/plain": [
              "2.711793899536133"
            ]
          },
          "metadata": {},
          "execution_count": 19
        }
      ]
    },
    {
      "cell_type": "markdown",
      "source": [
        "We're still off by about \\$2,712."
      ],
      "metadata": {
        "id": "Tja71Ei9pe24"
      }
    },
    {
      "cell_type": "markdown",
      "source": [
        "**Key takeaways**:\n",
        " * When there is little data available, using K-fold validation is a great way to reliably evaluate a model\n",
        " * When little training data is avialable, it's preferable to use small network with few hidden layers(typically one or two), in order to avoid overfitting.  "
      ],
      "metadata": {
        "id": "r2uOW0Y_pq8V"
      }
    }
  ]
}