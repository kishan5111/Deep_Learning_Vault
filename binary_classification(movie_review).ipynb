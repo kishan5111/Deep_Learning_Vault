{
  "nbformat": 4,
  "nbformat_minor": 0,
  "metadata": {
    "colab": {
      "provenance": [],
      "gpuType": "T4"
    },
    "kernelspec": {
      "name": "python3",
      "display_name": "Python 3"
    },
    "language_info": {
      "name": "python"
    },
    "accelerator": "GPU"
  },
  "cells": [
    {
      "cell_type": "markdown",
      "source": [
        "# Classify(Sentiment analysis) movie review as positive or negative, based on text content of the reviews.\n",
        "* Loading IMDB data\n",
        "* Preparing, visualizing and encoding the data\n",
        "* Building Network\n",
        "* Evaluating the model\n"
      ],
      "metadata": {
        "id": "hvhShp1R46_g"
      }
    },
    {
      "cell_type": "markdown",
      "source": [
        "## Loading IMDB data\n",
        "Working with IMDB dataset(already preprocessed in keras):\n",
        "* Set of 50,000 highly polarized reviews data\n",
        "* Split into 25,000 reviews for training and 25,000 for testing\n",
        "* Each set consisting 50% Negative and 50% positive  \n",
        "* Each review is a list of word indices(encoding a sequence of words)\n",
        "* In labels 1 means positive review 0 means negative review"
      ],
      "metadata": {
        "id": "lNTrOqsX6NSd"
      }
    },
    {
      "cell_type": "code",
      "source": [
        "import tensorflow as tf\n",
        "import numpy as np\n",
        "from keras.datasets import imdb\n",
        "\n",
        "(train_data, train_labels), (test_data, test_labels) = imdb.load_data(num_words=10000)"
      ],
      "metadata": {
        "id": "v2vi8Rwv8O-h",
        "colab": {
          "base_uri": "https://localhost:8080/"
        },
        "outputId": "b641f143-9a18-465d-a85a-8a7258180544"
      },
      "execution_count": null,
      "outputs": [
        {
          "output_type": "stream",
          "name": "stdout",
          "text": [
            "Downloading data from https://storage.googleapis.com/tensorflow/tf-keras-datasets/imdb.npz\n",
            "17464789/17464789 [==============================] - 0s 0us/step\n"
          ]
        }
      ]
    },
    {
      "cell_type": "markdown",
      "source": [
        "## Preparing, exploring and splitting data"
      ],
      "metadata": {
        "id": "_DfjWvA__F5K"
      }
    },
    {
      "cell_type": "code",
      "source": [
        "# check size\n",
        "train_data.size, train_labels.size, test_data.size, test_labels.size"
      ],
      "metadata": {
        "colab": {
          "base_uri": "https://localhost:8080/"
        },
        "id": "BJAL7h_I_k-8",
        "outputId": "fea0d47a-10fe-4413-be6f-91086a420663"
      },
      "execution_count": null,
      "outputs": [
        {
          "output_type": "execute_result",
          "data": {
            "text/plain": [
              "(25000, 25000, 25000, 25000)"
            ]
          },
          "metadata": {},
          "execution_count": 2
        }
      ]
    },
    {
      "cell_type": "code",
      "source": [
        "# check no. of sample\n",
        "len(train_data), len(test_data)"
      ],
      "metadata": {
        "colab": {
          "base_uri": "https://localhost:8080/"
        },
        "id": "1QvE90mAZ90t",
        "outputId": "70b7e85a-6268-48be-d806-35ff5da3a6ae"
      },
      "execution_count": null,
      "outputs": [
        {
          "output_type": "execute_result",
          "data": {
            "text/plain": [
              "(25000, 25000)"
            ]
          },
          "metadata": {},
          "execution_count": 3
        }
      ]
    },
    {
      "cell_type": "code",
      "source": [
        "# check datatype\n",
        "train_data.dtype, train_labels.dtype"
      ],
      "metadata": {
        "colab": {
          "base_uri": "https://localhost:8080/"
        },
        "id": "OEhVtk9m_ogc",
        "outputId": "51924bd8-6bcb-4da0-8261-9d4bdb4886c1"
      },
      "execution_count": null,
      "outputs": [
        {
          "output_type": "execute_result",
          "data": {
            "text/plain": [
              "(dtype('O'), dtype('int64'))"
            ]
          },
          "metadata": {},
          "execution_count": 4
        }
      ]
    },
    {
      "cell_type": "code",
      "source": [
        "# check shape\n",
        "train_data.shape, train_labels.shape"
      ],
      "metadata": {
        "colab": {
          "base_uri": "https://localhost:8080/"
        },
        "id": "JwCFw8v0_9M9",
        "outputId": "d56936b4-49fc-4ebd-aa52-aa5329898a54"
      },
      "execution_count": null,
      "outputs": [
        {
          "output_type": "execute_result",
          "data": {
            "text/plain": [
              "((25000,), (25000,))"
            ]
          },
          "metadata": {},
          "execution_count": 5
        }
      ]
    },
    {
      "cell_type": "code",
      "source": [
        "len(train_data[0]), len(train_data[23])"
      ],
      "metadata": {
        "colab": {
          "base_uri": "https://localhost:8080/"
        },
        "id": "eoENTxmZCEG9",
        "outputId": "e13982b2-1ed2-4488-e0f5-d9282f403b7c"
      },
      "execution_count": null,
      "outputs": [
        {
          "output_type": "execute_result",
          "data": {
            "text/plain": [
              "(218, 888)"
            ]
          },
          "metadata": {},
          "execution_count": 5
        }
      ]
    },
    {
      "cell_type": "markdown",
      "source": [
        "For kick, Decoding the data...\n",
        "### Creating a helper function to decode the review"
      ],
      "metadata": {
        "id": "CDBWNZwoUlKk"
      }
    },
    {
      "cell_type": "code",
      "source": [
        "def decoded_review(n):\n",
        "  \"\"\"\n",
        "  Returns the review in English Text\n",
        "  \"\"\"\n",
        "  #word_index is a dictionary mapping words to an integer index\n",
        "  word_index = imdb.get_word_index()\n",
        "\n",
        "  #reverse it, mapping integer indices to words\n",
        "  reverse_word_index = dict(\n",
        "    [(value, key) for (key, value) in word_index.items()])\n",
        "  return ' '.join( [reverse_word_index.get(i-3,'?') for i in train_data[n]])\n",
        "  #note the indices are offset by 3 bcoz 0,1 and 2 arereserved indices for \"padding\", \"start of sequence\" and  \"unknown\".\n"
      ],
      "metadata": {
        "id": "ecM5j5eADTMP"
      },
      "execution_count": null,
      "outputs": []
    },
    {
      "cell_type": "code",
      "source": [
        "decoded_review(7)"
      ],
      "metadata": {
        "colab": {
          "base_uri": "https://localhost:8080/",
          "height": 159
        },
        "id": "CyFJ8aAqH2Be",
        "outputId": "73b2dedc-f1bc-4347-b7b2-e39d8f4fd9f0"
      },
      "execution_count": null,
      "outputs": [
        {
          "output_type": "stream",
          "name": "stdout",
          "text": [
            "Downloading data from https://storage.googleapis.com/tensorflow/tf-keras-datasets/imdb_word_index.json\n",
            "1641221/1641221 [==============================] - 0s 0us/step\n"
          ]
        },
        {
          "output_type": "execute_result",
          "data": {
            "text/plain": [
              "\"? the ? tells the story of the four hamilton siblings teenager francis ? ? twins ? joseph ? ? ? ? the ? david samuel who is now the surrogate parent in charge the ? move house a lot ? is unsure why is unhappy with the way things are the fact that his brother's sister kidnap ? murder people in the basement doesn't help relax or calm ? nerves either francis ? something just isn't right when he eventually finds out the truth things will never be the same again br br co written co produced directed by mitchell ? phil ? as the butcher brothers who's only other film director's credit so far is the april ? day 2008 remake enough said this was one of the ? to die ? at the 2006 after dark ? or whatever it's called in keeping with pretty much all the other's i've seen i thought the ? was complete total utter crap i found the character's really poor very unlikable the slow moving story failed to capture my imagination or sustain my interest over it's 85 a half minute too long ? minute duration the there's the awful twist at the end which had me laughing out loud there's this really big ? build up to what's inside a ? thing in the ? basement it's eventually revealed to be a little boy with a teddy is that really supposed to scare us is that really supposed to shock us is that really something that is supposed to have us talking about it as the end credits roll is a harmless looking young boy the best ? ending that the makers could come up with the boring plot ? along it's never made clear where the ? get all their money from to buy new houses since none of them seem to work except david in a ? i doubt that pays much or why they haven't been caught before now the script tries to mix in every day drama with potent horror it just does a terrible job of combining the two to the extent that neither aspect is memorable or effective a really bad film that i am struggling to say anything good about br br despite being written directed by the extreme sounding butcher brothers there's no gore here there's a bit of blood splatter a few scenes of girls ? up in a basement but nothing you couldn't do at home yourself with a bottle of ? ? a camcorder the film is neither scary since it's got a very middle class suburban setting there's zero atmosphere or mood there's a lesbian suggest incestuous kiss but the ? is low on the exploitation scale there's not much here for the horror crowd br br filmed in ? in california this has that modern low budget look about it it's not badly made but rather forgettable the acting by an unknown to me cast is nothing to write home about i can't say i ever felt anything for anyone br br the ? commits the ? sin of being both dull boring from which it never ? add to that an ultra thin story no gore a rubbish ending character's who you don't give a toss about you have a film that did not impress me at all\""
            ],
            "application/vnd.google.colaboratory.intrinsic+json": {
              "type": "string"
            }
          },
          "metadata": {},
          "execution_count": 7
        }
      ]
    },
    {
      "cell_type": "code",
      "source": [
        "train_data[1]"
      ],
      "metadata": {
        "colab": {
          "base_uri": "https://localhost:8080/"
        },
        "id": "V0atoK7hJA-G",
        "outputId": "325f91ca-cdf3-40a6-bcb3-f4f6d177ae6f"
      },
      "execution_count": null,
      "outputs": [
        {
          "output_type": "execute_result",
          "data": {
            "text/plain": [
              "[1,\n",
              " 194,\n",
              " 1153,\n",
              " 194,\n",
              " 8255,\n",
              " 78,\n",
              " 228,\n",
              " 5,\n",
              " 6,\n",
              " 1463,\n",
              " 4369,\n",
              " 5012,\n",
              " 134,\n",
              " 26,\n",
              " 4,\n",
              " 715,\n",
              " 8,\n",
              " 118,\n",
              " 1634,\n",
              " 14,\n",
              " 394,\n",
              " 20,\n",
              " 13,\n",
              " 119,\n",
              " 954,\n",
              " 189,\n",
              " 102,\n",
              " 5,\n",
              " 207,\n",
              " 110,\n",
              " 3103,\n",
              " 21,\n",
              " 14,\n",
              " 69,\n",
              " 188,\n",
              " 8,\n",
              " 30,\n",
              " 23,\n",
              " 7,\n",
              " 4,\n",
              " 249,\n",
              " 126,\n",
              " 93,\n",
              " 4,\n",
              " 114,\n",
              " 9,\n",
              " 2300,\n",
              " 1523,\n",
              " 5,\n",
              " 647,\n",
              " 4,\n",
              " 116,\n",
              " 9,\n",
              " 35,\n",
              " 8163,\n",
              " 4,\n",
              " 229,\n",
              " 9,\n",
              " 340,\n",
              " 1322,\n",
              " 4,\n",
              " 118,\n",
              " 9,\n",
              " 4,\n",
              " 130,\n",
              " 4901,\n",
              " 19,\n",
              " 4,\n",
              " 1002,\n",
              " 5,\n",
              " 89,\n",
              " 29,\n",
              " 952,\n",
              " 46,\n",
              " 37,\n",
              " 4,\n",
              " 455,\n",
              " 9,\n",
              " 45,\n",
              " 43,\n",
              " 38,\n",
              " 1543,\n",
              " 1905,\n",
              " 398,\n",
              " 4,\n",
              " 1649,\n",
              " 26,\n",
              " 6853,\n",
              " 5,\n",
              " 163,\n",
              " 11,\n",
              " 3215,\n",
              " 2,\n",
              " 4,\n",
              " 1153,\n",
              " 9,\n",
              " 194,\n",
              " 775,\n",
              " 7,\n",
              " 8255,\n",
              " 2,\n",
              " 349,\n",
              " 2637,\n",
              " 148,\n",
              " 605,\n",
              " 2,\n",
              " 8003,\n",
              " 15,\n",
              " 123,\n",
              " 125,\n",
              " 68,\n",
              " 2,\n",
              " 6853,\n",
              " 15,\n",
              " 349,\n",
              " 165,\n",
              " 4362,\n",
              " 98,\n",
              " 5,\n",
              " 4,\n",
              " 228,\n",
              " 9,\n",
              " 43,\n",
              " 2,\n",
              " 1157,\n",
              " 15,\n",
              " 299,\n",
              " 120,\n",
              " 5,\n",
              " 120,\n",
              " 174,\n",
              " 11,\n",
              " 220,\n",
              " 175,\n",
              " 136,\n",
              " 50,\n",
              " 9,\n",
              " 4373,\n",
              " 228,\n",
              " 8255,\n",
              " 5,\n",
              " 2,\n",
              " 656,\n",
              " 245,\n",
              " 2350,\n",
              " 5,\n",
              " 4,\n",
              " 9837,\n",
              " 131,\n",
              " 152,\n",
              " 491,\n",
              " 18,\n",
              " 2,\n",
              " 32,\n",
              " 7464,\n",
              " 1212,\n",
              " 14,\n",
              " 9,\n",
              " 6,\n",
              " 371,\n",
              " 78,\n",
              " 22,\n",
              " 625,\n",
              " 64,\n",
              " 1382,\n",
              " 9,\n",
              " 8,\n",
              " 168,\n",
              " 145,\n",
              " 23,\n",
              " 4,\n",
              " 1690,\n",
              " 15,\n",
              " 16,\n",
              " 4,\n",
              " 1355,\n",
              " 5,\n",
              " 28,\n",
              " 6,\n",
              " 52,\n",
              " 154,\n",
              " 462,\n",
              " 33,\n",
              " 89,\n",
              " 78,\n",
              " 285,\n",
              " 16,\n",
              " 145,\n",
              " 95]"
            ]
          },
          "metadata": {},
          "execution_count": 29
        }
      ]
    },
    {
      "cell_type": "code",
      "source": [
        "train_labels"
      ],
      "metadata": {
        "colab": {
          "base_uri": "https://localhost:8080/"
        },
        "id": "66KFW83YJ_Uu",
        "outputId": "0c3d1ff8-5534-4cbf-a8d4-1b9fc9b2b2b3"
      },
      "execution_count": null,
      "outputs": [
        {
          "output_type": "execute_result",
          "data": {
            "text/plain": [
              "array([1, 0, 0, ..., 0, 1, 0])"
            ]
          },
          "metadata": {},
          "execution_count": 35
        }
      ]
    },
    {
      "cell_type": "markdown",
      "source": [
        "### Encoding the integer Sequence into a binary matrix:\n",
        "One-hot encode list to turn them into 10,000 dimensional vectors of 0s and 1s"
      ],
      "metadata": {
        "id": "HN_iuwo9VG_C"
      }
    },
    {
      "cell_type": "code",
      "source": [
        "def vectorize_sequences(sequences, dimension=10000):\n",
        "  \"\"\"\n",
        "  One-hot encode the data\n",
        "  \"\"\"\n",
        "  results = np.zeros((len(sequences), dimension)) #creates an all-zero matrix of shape(len(sequence), dimension)\n",
        "  for i , sequence in enumerate(sequences):\n",
        "    results[i, sequence] = 1 # set specific indices of results[i] to 1s\n",
        "  return results"
      ],
      "metadata": {
        "id": "ONi2xsrWVYBz"
      },
      "execution_count": null,
      "outputs": []
    },
    {
      "cell_type": "markdown",
      "source": [
        "**Note**: Data can be one-hot encoded with these function or other inbuilt methods too"
      ],
      "metadata": {
        "id": "tqYIaDB2ZQAx"
      }
    },
    {
      "cell_type": "code",
      "source": [
        "X_train = vectorize_sequences(train_data) # vectorized training data\n",
        "X_test = vectorize_sequences(test_data) # vectorized test data"
      ],
      "metadata": {
        "id": "pkQVU3J7Zfor"
      },
      "execution_count": null,
      "outputs": []
    },
    {
      "cell_type": "code",
      "source": [
        "X_train[0]"
      ],
      "metadata": {
        "colab": {
          "base_uri": "https://localhost:8080/"
        },
        "id": "pyCEkxutZxRg",
        "outputId": "d04b4873-cc00-4dfa-d135-8ba17586209b"
      },
      "execution_count": null,
      "outputs": [
        {
          "output_type": "execute_result",
          "data": {
            "text/plain": [
              "array([0., 1., 1., ..., 0., 0., 0.])"
            ]
          },
          "metadata": {},
          "execution_count": 19
        }
      ]
    },
    {
      "cell_type": "code",
      "source": [
        "# Vectorizing the labels\n",
        "y_train = np.asarray(train_labels).astype('float32')\n",
        "y_test = np.asarray(test_labels).astype('float32')"
      ],
      "metadata": {
        "id": "blUdwlktauLQ"
      },
      "execution_count": null,
      "outputs": []
    },
    {
      "cell_type": "markdown",
      "source": [
        "### Creating validation set"
      ],
      "metadata": {
        "id": "cyK3ncWKeXCG"
      }
    },
    {
      "cell_type": "code",
      "source": [
        "x_val = X_train[:10000] # separating 10000 samples for validation set\n",
        "partial_x_train = X_train[10000:]\n",
        "\n",
        "y_val = y_train[:10000]\n",
        "partial_y_train = y_train[10000:]"
      ],
      "metadata": {
        "id": "jMlqeOvleaFB"
      },
      "execution_count": null,
      "outputs": []
    },
    {
      "cell_type": "markdown",
      "source": [
        "## Building the Model and Evaluating it"
      ],
      "metadata": {
        "id": "qnZOQYVSbFEP"
      }
    },
    {
      "cell_type": "markdown",
      "source": [
        "### Creating model, compiling and fitting"
      ],
      "metadata": {
        "id": "hKWsdYQfhEoR"
      }
    },
    {
      "cell_type": "code",
      "source": [
        "# Creating the model\n",
        "model_1 = tf.keras.Sequential([\n",
        "    tf.keras.layers.Dense(16, activation=\"relu\", input_shape=(10000,)),\n",
        "    tf.keras.layers.Dense(16, activation=\"relu\"),\n",
        "    tf.keras.layers.Dense(1, activation=\"sigmoid\")\n",
        "])"
      ],
      "metadata": {
        "id": "gHACtmGRbRpw"
      },
      "execution_count": null,
      "outputs": []
    },
    {
      "cell_type": "code",
      "source": [
        "# compiling the model\n",
        "model_1.compile(\n",
        "    loss = \"binary_crossentropy\",\n",
        "    optimizer = tf.keras.optimizers.RMSprop(),\n",
        "    metrics=[\"accuracy\"]\n",
        ")"
      ],
      "metadata": {
        "id": "ebvRRxzsdEC9"
      },
      "execution_count": null,
      "outputs": []
    },
    {
      "cell_type": "code",
      "source": [
        "# fitting the model\n",
        "history_1 = model_1.fit(partial_x_train,\n",
        "            partial_y_train,\n",
        "            epochs=20,\n",
        "            batch_size=512,\n",
        "            validation_data=(x_val, y_val))"
      ],
      "metadata": {
        "colab": {
          "base_uri": "https://localhost:8080/"
        },
        "id": "4LSUg5cEdmzB",
        "outputId": "68873c17-d1e1-49d6-8918-3727325a596c"
      },
      "execution_count": null,
      "outputs": [
        {
          "output_type": "stream",
          "name": "stdout",
          "text": [
            "Epoch 1/20\n",
            "30/30 [==============================] - 2s 71ms/step - loss: 2.3661e-05 - accuracy: 1.0000 - val_loss: 1.9987 - val_accuracy: 0.8652\n",
            "Epoch 2/20\n",
            "30/30 [==============================] - 2s 60ms/step - loss: 1.5048e-05 - accuracy: 1.0000 - val_loss: 2.0041 - val_accuracy: 0.8654\n",
            "Epoch 3/20\n",
            "30/30 [==============================] - 2s 54ms/step - loss: 1.3231e-05 - accuracy: 1.0000 - val_loss: 2.0046 - val_accuracy: 0.8651\n",
            "Epoch 4/20\n",
            "30/30 [==============================] - 2s 66ms/step - loss: 1.2326e-05 - accuracy: 1.0000 - val_loss: 2.0059 - val_accuracy: 0.8649\n",
            "Epoch 5/20\n",
            "30/30 [==============================] - 2s 65ms/step - loss: 1.1562e-05 - accuracy: 1.0000 - val_loss: 2.0092 - val_accuracy: 0.8653\n",
            "Epoch 6/20\n",
            "30/30 [==============================] - 2s 56ms/step - loss: 1.1003e-05 - accuracy: 1.0000 - val_loss: 2.0119 - val_accuracy: 0.8655\n",
            "Epoch 7/20\n",
            "30/30 [==============================] - 2s 54ms/step - loss: 1.0572e-05 - accuracy: 1.0000 - val_loss: 2.0150 - val_accuracy: 0.8655\n",
            "Epoch 8/20\n",
            "30/30 [==============================] - 1s 43ms/step - loss: 1.0170e-05 - accuracy: 1.0000 - val_loss: 2.0169 - val_accuracy: 0.8658\n",
            "Epoch 9/20\n",
            "30/30 [==============================] - 2s 59ms/step - loss: 9.8850e-06 - accuracy: 1.0000 - val_loss: 2.0210 - val_accuracy: 0.8657\n",
            "Epoch 10/20\n",
            "30/30 [==============================] - 2s 69ms/step - loss: 9.5975e-06 - accuracy: 1.0000 - val_loss: 2.0232 - val_accuracy: 0.8658\n",
            "Epoch 11/20\n",
            "30/30 [==============================] - 1s 49ms/step - loss: 9.3329e-06 - accuracy: 1.0000 - val_loss: 2.0252 - val_accuracy: 0.8661\n",
            "Epoch 12/20\n",
            "30/30 [==============================] - 1s 45ms/step - loss: 9.0953e-06 - accuracy: 1.0000 - val_loss: 2.0280 - val_accuracy: 0.8660\n",
            "Epoch 13/20\n",
            "30/30 [==============================] - 2s 56ms/step - loss: 8.8882e-06 - accuracy: 1.0000 - val_loss: 2.0301 - val_accuracy: 0.8661\n",
            "Epoch 14/20\n",
            "30/30 [==============================] - 1s 44ms/step - loss: 8.6861e-06 - accuracy: 1.0000 - val_loss: 2.0329 - val_accuracy: 0.8660\n",
            "Epoch 15/20\n",
            "30/30 [==============================] - 1s 38ms/step - loss: 8.5105e-06 - accuracy: 1.0000 - val_loss: 2.0346 - val_accuracy: 0.8663\n",
            "Epoch 16/20\n",
            "30/30 [==============================] - 2s 54ms/step - loss: 8.3163e-06 - accuracy: 1.0000 - val_loss: 2.0373 - val_accuracy: 0.8660\n",
            "Epoch 17/20\n",
            "30/30 [==============================] - 2s 56ms/step - loss: 8.1617e-06 - accuracy: 1.0000 - val_loss: 2.0392 - val_accuracy: 0.8662\n",
            "Epoch 18/20\n",
            "30/30 [==============================] - 2s 69ms/step - loss: 8.0073e-06 - accuracy: 1.0000 - val_loss: 2.0415 - val_accuracy: 0.8661\n",
            "Epoch 19/20\n",
            "30/30 [==============================] - 1s 45ms/step - loss: 7.8620e-06 - accuracy: 1.0000 - val_loss: 2.0439 - val_accuracy: 0.8661\n",
            "Epoch 20/20\n",
            "30/30 [==============================] - 2s 52ms/step - loss: 7.7209e-06 - accuracy: 1.0000 - val_loss: 2.0457 - val_accuracy: 0.8662\n"
          ]
        }
      ]
    },
    {
      "cell_type": "markdown",
      "source": [
        "Evaluate prediction"
      ],
      "metadata": {
        "id": "IjiFs2AZoxKR"
      }
    },
    {
      "cell_type": "code",
      "source": [
        "model_1.evaluate(X_test, y_test)"
      ],
      "metadata": {
        "colab": {
          "base_uri": "https://localhost:8080/"
        },
        "id": "xzO9ETtpo26x",
        "outputId": "41f1736c-af32-41f7-e8f4-848f079c8457"
      },
      "execution_count": null,
      "outputs": [
        {
          "output_type": "stream",
          "name": "stdout",
          "text": [
            "782/782 [==============================] - 3s 4ms/step - loss: 2.2104 - accuracy: 0.8521\n"
          ]
        },
        {
          "output_type": "execute_result",
          "data": {
            "text/plain": [
              "[2.2103803157806396, 0.8520799875259399]"
            ]
          },
          "metadata": {},
          "execution_count": 19
        }
      ]
    },
    {
      "cell_type": "markdown",
      "source": [
        "### Visualize the model performance"
      ],
      "metadata": {
        "id": "pIJgDUISgMZY"
      }
    },
    {
      "cell_type": "markdown",
      "source": [
        "Create a helper Function to plot loss and accuracy curve"
      ],
      "metadata": {
        "id": "nir8a8pshZ0_"
      }
    },
    {
      "cell_type": "code",
      "source": [
        "import matplotlib.pyplot as plt\n",
        "\n",
        "def plot_curve(history):\n",
        "    \"\"\"\n",
        "    Plots loss and validation metrics from history\n",
        "    \"\"\"\n",
        "    loss = history.history[\"loss\"]\n",
        "    val_loss = history.history[\"val_loss\"]\n",
        "\n",
        "    accuracy = history.history[\"accuracy\"]\n",
        "    val_accuracy = history.history[\"val_accuracy\"]\n",
        "\n",
        "    epochs = range(len(history.history[\"loss\"])) #no. of epochs\n",
        "\n",
        "    # create loss plot\n",
        "    plt.plot(epochs, loss, 'bo', label=\"Training loss\")\n",
        "    plt.plot(epochs, val_loss, 'r' , label=\"Validation loss\")\n",
        "    plt.title(\"Training and Validation loss\")\n",
        "    plt.xlabel(\"epochs\")\n",
        "    plt.ylabel(\"loss\")\n",
        "    plt.legend()\n",
        "\n",
        "    # creating accuracy plot\n",
        "    plt.figure()\n",
        "    plt.plot(epochs, accuracy, 'bo', label=\"Training accuracy\")\n",
        "    plt.plot(epochs, val_accuracy, 'r', label=\"Validation accuracy\")\n",
        "    plt.title(\"Training and Validation accuracy\")\n",
        "    plt.xlabel(\"epochs\")\n",
        "    plt.ylabel(\"accuracy\")\n",
        "    plt.legend()\n",
        "\n",
        "    # Adjust the spacing between subplots\n",
        "    plt.tight_layout()\n",
        "\n",
        "    # Show the plots\n",
        "    plt.show()\n"
      ],
      "metadata": {
        "id": "QZDTPR7Rnfec"
      },
      "execution_count": null,
      "outputs": []
    },
    {
      "cell_type": "code",
      "source": [
        "plot_curve(history_1)"
      ],
      "metadata": {
        "colab": {
          "base_uri": "https://localhost:8080/",
          "height": 942
        },
        "id": "dMw4ualkllot",
        "outputId": "3037e151-c447-48d6-8fdb-34852a685b84"
      },
      "execution_count": null,
      "outputs": [
        {
          "output_type": "display_data",
          "data": {
            "text/plain": [
              "<Figure size 640x480 with 1 Axes>"
            ],
            "image/png": "[encoded data removed]"
          },
          "metadata": {}
        },
        {
          "output_type": "display_data",
          "data": {
            "text/plain": [
              "<Figure size 640x480 with 1 Axes>"
            ],
            "image/png": "[encoded data removed]"
          },
          "metadata": {}
        }
      ]
    },
    {
      "cell_type": "markdown",
      "source": [
        "It seems the model is overfitting. So, let's use the same model and stop the model early"
      ],
      "metadata": {
        "id": "YIS1iLV-mmtp"
      }
    },
    {
      "cell_type": "code",
      "source": [
        "model_2 = tf.keras.models.clone_model(model_1)\n",
        "\n",
        "# compile the model\n",
        "model_2.compile(\n",
        "    loss = \"binary_crossentropy\",\n",
        "    optimizer = tf.keras.optimizers.Adam(),\n",
        "    metrics=[\"accuracy\"]\n",
        ")\n",
        "\n",
        "# fit the model\n",
        "history_2 = model_2.fit(partial_x_train,\n",
        "            partial_y_train,\n",
        "            epochs=4,\n",
        "            batch_size=512,\n",
        "            validation_data=(x_val, y_val))"
      ],
      "metadata": {
        "id": "4-FTlwwQotQc",
        "colab": {
          "base_uri": "https://localhost:8080/"
        },
        "outputId": "cbf3d066-f30d-4ab2-d775-360394f960c4"
      },
      "execution_count": null,
      "outputs": [
        {
          "output_type": "stream",
          "name": "stdout",
          "text": [
            "Epoch 1/4\n",
            "30/30 [==============================] - 3s 65ms/step - loss: 0.5542 - accuracy: 0.7747 - val_loss: 0.4066 - val_accuracy: 0.8561\n",
            "Epoch 2/4\n",
            "30/30 [==============================] - 1s 44ms/step - loss: 0.3105 - accuracy: 0.8951 - val_loss: 0.3037 - val_accuracy: 0.8840\n",
            "Epoch 3/4\n",
            "30/30 [==============================] - 1s 43ms/step - loss: 0.2141 - accuracy: 0.9270 - val_loss: 0.2801 - val_accuracy: 0.8889\n",
            "Epoch 4/4\n",
            "30/30 [==============================] - 1s 43ms/step - loss: 0.1608 - accuracy: 0.9482 - val_loss: 0.2815 - val_accuracy: 0.8894\n"
          ]
        }
      ]
    },
    {
      "cell_type": "code",
      "source": [
        "plot_curve(history_2)"
      ],
      "metadata": {
        "colab": {
          "base_uri": "https://localhost:8080/",
          "height": 942
        },
        "id": "BHeJoNe4ENsc",
        "outputId": "a91cdb55-751c-4203-fbff-bcb7b685d8d4"
      },
      "execution_count": null,
      "outputs": [
        {
          "output_type": "display_data",
          "data": {
            "text/plain": [
              "<Figure size 640x480 with 1 Axes>"
            ],
            "image/png": "[encoded data removed]"
          },
          "metadata": {}
        },
        {
          "output_type": "display_data",
          "data": {
            "text/plain": [
              "<Figure size 640x480 with 1 Axes>"
            ],
            "image/png": "[encoded data removed]"
          },
          "metadata": {}
        }
      ]
    },
    {
      "cell_type": "code",
      "source": [
        "model_2.evaluate(X_test, y_test)"
      ],
      "metadata": {
        "colab": {
          "base_uri": "https://localhost:8080/"
        },
        "id": "-Tp-6kjJF4rd",
        "outputId": "90011265-d345-457f-825a-7087ad37da9b"
      },
      "execution_count": null,
      "outputs": [
        {
          "output_type": "stream",
          "name": "stdout",
          "text": [
            "782/782 [==============================] - 2s 3ms/step - loss: 0.3020 - accuracy: 0.8770\n"
          ]
        },
        {
          "output_type": "execute_result",
          "data": {
            "text/plain": [
              "[0.301974892616272, 0.8769999742507935]"
            ]
          },
          "metadata": {},
          "execution_count": 25
        }
      ]
    },
    {
      "cell_type": "markdown",
      "source": [
        "we have increased the accuracy by some percent.. let's try and increase a layer and see"
      ],
      "metadata": {
        "id": "5RsPp7o3GF4U"
      }
    },
    {
      "cell_type": "code",
      "source": [
        "# Creating the model\n",
        "model_3 = tf.keras.Sequential([\n",
        "    tf.keras.layers.Dense(16, activation=\"relu\", input_shape=(10000,)),\n",
        "    tf.keras.layers.Dense(16, activation=\"relu\"),\n",
        "    tf.keras.layers.Dense(16, activation=\"relu\"),\n",
        "    tf.keras.layers.Dense(1, activation=\"sigmoid\")\n",
        "])\n",
        "\n",
        "model_3.compile(\n",
        "    loss= \"binary_crossentropy\",\n",
        "    optimizer=\"adam\",\n",
        "    metrics=[\"accuracy\"]\n",
        ")\n",
        "\n",
        "\n",
        "# fit the model\n",
        "history_3 = model_3.fit(partial_x_train,\n",
        "            partial_y_train,\n",
        "            epochs=4,\n",
        "            batch_size=512,\n",
        "            validation_data=(x_val, y_val))"
      ],
      "metadata": {
        "colab": {
          "base_uri": "https://localhost:8080/"
        },
        "id": "wn0RGhXfGfD0",
        "outputId": "9e8903f7-db2e-434b-fbf6-f7acaecb8790"
      },
      "execution_count": null,
      "outputs": [
        {
          "output_type": "stream",
          "name": "stdout",
          "text": [
            "Epoch 1/4\n",
            "30/30 [==============================] - 6s 118ms/step - loss: 0.5705 - accuracy: 0.7657 - val_loss: 0.4096 - val_accuracy: 0.8619\n",
            "Epoch 2/4\n",
            "30/30 [==============================] - 2s 75ms/step - loss: 0.2976 - accuracy: 0.9005 - val_loss: 0.2868 - val_accuracy: 0.8895\n",
            "Epoch 3/4\n",
            "30/30 [==============================] - 3s 117ms/step - loss: 0.1862 - accuracy: 0.9356 - val_loss: 0.2860 - val_accuracy: 0.8877\n",
            "Epoch 4/4\n",
            "30/30 [==============================] - 3s 86ms/step - loss: 0.1328 - accuracy: 0.9575 - val_loss: 0.2960 - val_accuracy: 0.8865\n"
          ]
        }
      ]
    },
    {
      "cell_type": "code",
      "source": [
        "model_3.evaluate(X_test, y_test)"
      ],
      "metadata": {
        "colab": {
          "base_uri": "https://localhost:8080/"
        },
        "id": "TuZCznTBHsPP",
        "outputId": "bcfc5021-7f29-481b-b5a7-3641d0778c8b"
      },
      "execution_count": null,
      "outputs": [
        {
          "output_type": "stream",
          "name": "stdout",
          "text": [
            "782/782 [==============================] - 3s 3ms/step - loss: 0.3143 - accuracy: 0.8761\n"
          ]
        },
        {
          "output_type": "execute_result",
          "data": {
            "text/plain": [
              "[0.3143464922904968, 0.8761199712753296]"
            ]
          },
          "metadata": {},
          "execution_count": 30
        }
      ]
    },
    {
      "cell_type": "markdown",
      "source": [
        "It seems increasing layer did not work out lets increase units in the layer and try"
      ],
      "metadata": {
        "id": "4NGEdeNUHDvs"
      }
    },
    {
      "cell_type": "code",
      "source": [
        "# Creating the model\n",
        "model_4 = tf.keras.Sequential([\n",
        "    tf.keras.layers.Dense(32, activation=\"relu\", input_shape=(10000,)),\n",
        "    tf.keras.layers.Dense(32, activation=\"relu\"),\n",
        "    tf.keras.layers.Dense(32, activation=\"relu\"),\n",
        "    tf.keras.layers.Dense(1, activation=\"sigmoid\")\n",
        "])\n",
        "\n",
        "model_4.compile(\n",
        "    loss= \"binary_crossentropy\",\n",
        "    optimizer=\"adam\",\n",
        "    metrics=[\"accuracy\"]\n",
        ")\n",
        "\n",
        "\n",
        "# fit the model\n",
        "history_4 = model_4.fit(partial_x_train,\n",
        "            partial_y_train,\n",
        "            epochs=4,\n",
        "            batch_size=32,\n",
        "            validation_data=(x_val, y_val))"
      ],
      "metadata": {
        "colab": {
          "base_uri": "https://localhost:8080/"
        },
        "id": "Rr9uUoZQHbh2",
        "outputId": "c40f7376-41ad-48b1-be43-45f3a0da04f0"
      },
      "execution_count": null,
      "outputs": [
        {
          "output_type": "stream",
          "name": "stdout",
          "text": [
            "Epoch 1/4\n",
            "469/469 [==============================] - 7s 12ms/step - loss: 0.3510 - accuracy: 0.8479 - val_loss: 0.2843 - val_accuracy: 0.8813\n",
            "Epoch 2/4\n",
            "469/469 [==============================] - 6s 13ms/step - loss: 0.1649 - accuracy: 0.9372 - val_loss: 0.3156 - val_accuracy: 0.8803\n",
            "Epoch 3/4\n",
            "469/469 [==============================] - 5s 10ms/step - loss: 0.0888 - accuracy: 0.9668 - val_loss: 0.4248 - val_accuracy: 0.8659\n",
            "Epoch 4/4\n",
            "469/469 [==============================] - 5s 11ms/step - loss: 0.0437 - accuracy: 0.9835 - val_loss: 0.5615 - val_accuracy: 0.8695\n"
          ]
        }
      ]
    },
    {
      "cell_type": "markdown",
      "source": [
        " it didn't workout too let's go with model 2 which has ~88% accuracy"
      ],
      "metadata": {
        "id": "oZ-n-OCZH6cc"
      }
    },
    {
      "cell_type": "markdown",
      "source": [
        "## Saving model and loading model"
      ],
      "metadata": {
        "id": "yFnyH8EpIlD-"
      }
    },
    {
      "cell_type": "code",
      "source": [
        "# saving the model\n",
        "model_2.save(\"trained_model_2\")"
      ],
      "metadata": {
        "colab": {
          "base_uri": "https://localhost:8080/"
        },
        "id": "12IGZtYEI0RP",
        "outputId": "4b89e8e0-012e-42e2-eb03-f315957fc0db"
      },
      "execution_count": null,
      "outputs": [
        {
          "output_type": "stream",
          "name": "stderr",
          "text": [
            "WARNING:absl:Found untraced functions such as _update_step_xla while saving (showing 1 of 1). These functions will not be directly callable after loading.\n"
          ]
        }
      ]
    },
    {
      "cell_type": "code",
      "source": [
        "# let's check out that by loading it\n",
        "load_model_2 = tf.keras.models.load_model(\"trained_model_2\")"
      ],
      "metadata": {
        "id": "uBbAAYdRI8QO"
      },
      "execution_count": null,
      "outputs": []
    },
    {
      "cell_type": "code",
      "source": [
        "# compare both\n",
        "model_2.evaluate(X_test, y_test), load_model_2.evaluate(X_test, y_test)"
      ],
      "metadata": {
        "colab": {
          "base_uri": "https://localhost:8080/"
        },
        "id": "j6qEJLhTJM5t",
        "outputId": "cf841150-f6f9-4543-dbf9-88fd25889ac5"
      },
      "execution_count": null,
      "outputs": [
        {
          "output_type": "stream",
          "name": "stdout",
          "text": [
            "782/782 [==============================] - 2s 3ms/step - loss: 0.3020 - accuracy: 0.8770\n",
            "782/782 [==============================] - 2s 2ms/step - loss: 0.3020 - accuracy: 0.8770\n"
          ]
        },
        {
          "output_type": "execute_result",
          "data": {
            "text/plain": [
              "([0.301974892616272, 0.8769999742507935],\n",
              " [0.301974892616272, 0.8769999742507935])"
            ]
          },
          "metadata": {},
          "execution_count": 37
        }
      ]
    },
    {
      "cell_type": "markdown",
      "source": [
        "Voila! it's same"
      ],
      "metadata": {
        "id": "YEZsEPooJZi9"
      }
    }
  ]
}